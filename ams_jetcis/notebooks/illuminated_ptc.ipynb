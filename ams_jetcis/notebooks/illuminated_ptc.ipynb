{
 "cells": [
  {
   "cell_type": "markdown",
   "id": "6a996954",
   "metadata": {},
   "source": [
    "imports"
   ]
  },
  {
   "cell_type": "code",
   "execution_count": 5,
   "id": "0bd26e2c",
   "metadata": {},
   "outputs": [],
   "source": [
    "import pandas as pd\n",
    "import numpy as np\n",
    "import pathlib\n",
    "import os\n",
    "from PIL import Image\n",
    "import matplotlib.pyplot as plt\n",
    "from characterization_ams.stats_engine import stats\n",
    "from characterization_ams.emva import emva\n",
    "from characterization_ams.standard_tests import ptc\n",
    "from IPython.display import display\n",
    "import plotly.express as px\n",
    "import plotly.graph_objects as go"
   ]
  },
  {
   "cell_type": "markdown",
   "id": "f8df422c",
   "metadata": {},
   "source": [
    "image location"
   ]
  },
  {
   "cell_type": "code",
   "execution_count": 6,
   "id": "2fa23f37",
   "metadata": {},
   "outputs": [],
   "source": [
    "illum_images = pathlib.Path(r'C:\\Users\\pbae.OFFICE\\Documents\\MEGAsync\\ams\\mira050illum_25_nolens')\n",
    "results_illum = illum_images/'results.csv'\n",
    "dark_images = pathlib.Path(r'C:\\Users\\pbae.OFFICE\\Documents\\MEGAsync\\ams\\mira050dark_25')\n",
    "results_dark = dark_images/'results.csv'"
   ]
  },
  {
   "cell_type": "code",
   "execution_count": 7,
   "id": "2b2b70c4",
   "metadata": {},
   "outputs": [
    {
     "data": {
      "text/html": [
       "<div>\n",
       "<style scoped>\n",
       "    .dataframe tbody tr th:only-of-type {\n",
       "        vertical-align: middle;\n",
       "    }\n",
       "\n",
       "    .dataframe tbody tr th {\n",
       "        vertical-align: top;\n",
       "    }\n",
       "\n",
       "    .dataframe thead th {\n",
       "        text-align: right;\n",
       "    }\n",
       "</style>\n",
       "<table border=\"1\" class=\"dataframe\">\n",
       "  <thead>\n",
       "    <tr style=\"text-align: right;\">\n",
       "      <th></th>\n",
       "      <th>bitmode</th>\n",
       "      <th>again</th>\n",
       "      <th>dgain</th>\n",
       "      <th>exp_us</th>\n",
       "      <th>filename</th>\n",
       "      <th>testcase</th>\n",
       "      <th>temperature</th>\n",
       "      <th>amount</th>\n",
       "    </tr>\n",
       "  </thead>\n",
       "  <tbody>\n",
       "    <tr>\n",
       "      <th>0</th>\n",
       "      <td>10bit</td>\n",
       "      <td>1</td>\n",
       "      <td>1</td>\n",
       "      <td>125</td>\n",
       "      <td>10bit_again_1_dgain_1_exp_...</td>\n",
       "      <td>dark_25</td>\n",
       "      <td>25</td>\n",
       "      <td>15</td>\n",
       "    </tr>\n",
       "  </tbody>\n",
       "</table>\n",
       "</div>"
      ],
      "text/plain": [
       "  bitmode  again  dgain  exp_us                       filename testcase  \\\n",
       "0   10bit      1      1     125  10bit_again_1_dgain_1_exp_...  dark_25   \n",
       "\n",
       "   temperature  amount  \n",
       "0           25      15  "
      ]
     },
     "metadata": {},
     "output_type": "display_data"
    },
    {
     "data": {
      "text/html": [
       "<div>\n",
       "<style scoped>\n",
       "    .dataframe tbody tr th:only-of-type {\n",
       "        vertical-align: middle;\n",
       "    }\n",
       "\n",
       "    .dataframe tbody tr th {\n",
       "        vertical-align: top;\n",
       "    }\n",
       "\n",
       "    .dataframe thead th {\n",
       "        text-align: right;\n",
       "    }\n",
       "</style>\n",
       "<table border=\"1\" class=\"dataframe\">\n",
       "  <thead>\n",
       "    <tr style=\"text-align: right;\">\n",
       "      <th></th>\n",
       "      <th>bitmode</th>\n",
       "      <th>again</th>\n",
       "      <th>dgain</th>\n",
       "      <th>exp_us</th>\n",
       "      <th>filename</th>\n",
       "      <th>testcase</th>\n",
       "      <th>temperature</th>\n",
       "      <th>amount</th>\n",
       "    </tr>\n",
       "  </thead>\n",
       "  <tbody>\n",
       "    <tr>\n",
       "      <th>0</th>\n",
       "      <td>10bit</td>\n",
       "      <td>1</td>\n",
       "      <td>1</td>\n",
       "      <td>100</td>\n",
       "      <td>10bit_again_1_dgain_1_exp_...</td>\n",
       "      <td>illum_25_nolens</td>\n",
       "      <td>25</td>\n",
       "      <td>5</td>\n",
       "    </tr>\n",
       "    <tr>\n",
       "      <th>1</th>\n",
       "      <td>10bit</td>\n",
       "      <td>1</td>\n",
       "      <td>1</td>\n",
       "      <td>150</td>\n",
       "      <td>10bit_again_1_dgain_1_exp_...</td>\n",
       "      <td>illum_25_nolens</td>\n",
       "      <td>25</td>\n",
       "      <td>5</td>\n",
       "    </tr>\n",
       "    <tr>\n",
       "      <th>...</th>\n",
       "      <td>...</td>\n",
       "      <td>...</td>\n",
       "      <td>...</td>\n",
       "      <td>...</td>\n",
       "      <td>...</td>\n",
       "      <td>...</td>\n",
       "      <td>...</td>\n",
       "      <td>...</td>\n",
       "    </tr>\n",
       "    <tr>\n",
       "      <th>26</th>\n",
       "      <td>10bit</td>\n",
       "      <td>1</td>\n",
       "      <td>1</td>\n",
       "      <td>17000</td>\n",
       "      <td>10bit_again_1_dgain_1_exp_...</td>\n",
       "      <td>illum_25_nolens</td>\n",
       "      <td>25</td>\n",
       "      <td>5</td>\n",
       "    </tr>\n",
       "    <tr>\n",
       "      <th>27</th>\n",
       "      <td>10bit</td>\n",
       "      <td>1</td>\n",
       "      <td>1</td>\n",
       "      <td>19000</td>\n",
       "      <td>10bit_again_1_dgain_1_exp_...</td>\n",
       "      <td>illum_25_nolens</td>\n",
       "      <td>25</td>\n",
       "      <td>5</td>\n",
       "    </tr>\n",
       "  </tbody>\n",
       "</table>\n",
       "<p>28 rows × 8 columns</p>\n",
       "</div>"
      ],
      "text/plain": [
       "   bitmode  again  dgain  exp_us                       filename  \\\n",
       "0    10bit      1      1     100  10bit_again_1_dgain_1_exp_...   \n",
       "1    10bit      1      1     150  10bit_again_1_dgain_1_exp_...   \n",
       "..     ...    ...    ...     ...                            ...   \n",
       "26   10bit      1      1   17000  10bit_again_1_dgain_1_exp_...   \n",
       "27   10bit      1      1   19000  10bit_again_1_dgain_1_exp_...   \n",
       "\n",
       "           testcase  temperature  amount  \n",
       "0   illum_25_nolens           25       5  \n",
       "1   illum_25_nolens           25       5  \n",
       "..              ...          ...     ...  \n",
       "26  illum_25_nolens           25       5  \n",
       "27  illum_25_nolens           25       5  \n",
       "\n",
       "[28 rows x 8 columns]"
      ]
     },
     "metadata": {},
     "output_type": "display_data"
    }
   ],
   "source": [
    "df_illum=pd.read_csv(results_illum)\n",
    "df_dark_all=pd.read_csv(results_dark)\n",
    "\n",
    "with pd.option_context('display.max_rows', 5,\n",
    "                       'display.max_columns', 8,\n",
    "                       'display.precision', 3,\n",
    "                       'display.max_colwidth', 30\n",
    "                       ):\n",
    "    df_dark=df_dark_all[(df_dark_all[\"again\"] == 1) & (df_dark_all[\"exp_us\"] == 125)]\n",
    "    display(df_dark)\n",
    "    display(df_illum)"
   ]
  },
  {
   "cell_type": "markdown",
   "id": "281c8076",
   "metadata": {},
   "source": [
    "merge both dataframes, so the first row is the dark img"
   ]
  },
  {
   "cell_type": "code",
   "execution_count": 8,
   "id": "7f4827af",
   "metadata": {
    "scrolled": true
   },
   "outputs": [
    {
     "data": {
      "text/html": [
       "<div>\n",
       "<style scoped>\n",
       "    .dataframe tbody tr th:only-of-type {\n",
       "        vertical-align: middle;\n",
       "    }\n",
       "\n",
       "    .dataframe tbody tr th {\n",
       "        vertical-align: top;\n",
       "    }\n",
       "\n",
       "    .dataframe thead th {\n",
       "        text-align: right;\n",
       "    }\n",
       "</style>\n",
       "<table border=\"1\" class=\"dataframe\">\n",
       "  <thead>\n",
       "    <tr style=\"text-align: right;\">\n",
       "      <th></th>\n",
       "      <th>bitmode</th>\n",
       "      <th>again</th>\n",
       "      <th>dgain</th>\n",
       "      <th>exp_us</th>\n",
       "      <th>filename</th>\n",
       "      <th>testcase</th>\n",
       "      <th>temperature</th>\n",
       "      <th>amount</th>\n",
       "    </tr>\n",
       "  </thead>\n",
       "  <tbody>\n",
       "    <tr>\n",
       "      <th>0</th>\n",
       "      <td>10bit</td>\n",
       "      <td>1</td>\n",
       "      <td>1</td>\n",
       "      <td>125</td>\n",
       "      <td>10bit_again_1_dgain_1_exp_us_ 125_dark_25__tem...</td>\n",
       "      <td>dark_25</td>\n",
       "      <td>25</td>\n",
       "      <td>15</td>\n",
       "    </tr>\n",
       "    <tr>\n",
       "      <th>1</th>\n",
       "      <td>10bit</td>\n",
       "      <td>1</td>\n",
       "      <td>1</td>\n",
       "      <td>100</td>\n",
       "      <td>10bit_again_1_dgain_1_exp_us_ 100_illum_25_nol...</td>\n",
       "      <td>illum_25_nolens</td>\n",
       "      <td>25</td>\n",
       "      <td>5</td>\n",
       "    </tr>\n",
       "    <tr>\n",
       "      <th>2</th>\n",
       "      <td>10bit</td>\n",
       "      <td>1</td>\n",
       "      <td>1</td>\n",
       "      <td>150</td>\n",
       "      <td>10bit_again_1_dgain_1_exp_us_ 150_illum_25_nol...</td>\n",
       "      <td>illum_25_nolens</td>\n",
       "      <td>25</td>\n",
       "      <td>5</td>\n",
       "    </tr>\n",
       "    <tr>\n",
       "      <th>3</th>\n",
       "      <td>10bit</td>\n",
       "      <td>1</td>\n",
       "      <td>1</td>\n",
       "      <td>200</td>\n",
       "      <td>10bit_again_1_dgain_1_exp_us_ 200_illum_25_nol...</td>\n",
       "      <td>illum_25_nolens</td>\n",
       "      <td>25</td>\n",
       "      <td>5</td>\n",
       "    </tr>\n",
       "    <tr>\n",
       "      <th>4</th>\n",
       "      <td>10bit</td>\n",
       "      <td>1</td>\n",
       "      <td>1</td>\n",
       "      <td>250</td>\n",
       "      <td>10bit_again_1_dgain_1_exp_us_ 250_illum_25_nol...</td>\n",
       "      <td>illum_25_nolens</td>\n",
       "      <td>25</td>\n",
       "      <td>5</td>\n",
       "    </tr>\n",
       "    <tr>\n",
       "      <th>5</th>\n",
       "      <td>10bit</td>\n",
       "      <td>1</td>\n",
       "      <td>1</td>\n",
       "      <td>300</td>\n",
       "      <td>10bit_again_1_dgain_1_exp_us_ 300_illum_25_nol...</td>\n",
       "      <td>illum_25_nolens</td>\n",
       "      <td>25</td>\n",
       "      <td>5</td>\n",
       "    </tr>\n",
       "    <tr>\n",
       "      <th>6</th>\n",
       "      <td>10bit</td>\n",
       "      <td>1</td>\n",
       "      <td>1</td>\n",
       "      <td>350</td>\n",
       "      <td>10bit_again_1_dgain_1_exp_us_ 350_illum_25_nol...</td>\n",
       "      <td>illum_25_nolens</td>\n",
       "      <td>25</td>\n",
       "      <td>5</td>\n",
       "    </tr>\n",
       "    <tr>\n",
       "      <th>7</th>\n",
       "      <td>10bit</td>\n",
       "      <td>1</td>\n",
       "      <td>1</td>\n",
       "      <td>400</td>\n",
       "      <td>10bit_again_1_dgain_1_exp_us_ 400_illum_25_nol...</td>\n",
       "      <td>illum_25_nolens</td>\n",
       "      <td>25</td>\n",
       "      <td>5</td>\n",
       "    </tr>\n",
       "    <tr>\n",
       "      <th>8</th>\n",
       "      <td>10bit</td>\n",
       "      <td>1</td>\n",
       "      <td>1</td>\n",
       "      <td>450</td>\n",
       "      <td>10bit_again_1_dgain_1_exp_us_ 450_illum_25_nol...</td>\n",
       "      <td>illum_25_nolens</td>\n",
       "      <td>25</td>\n",
       "      <td>5</td>\n",
       "    </tr>\n",
       "    <tr>\n",
       "      <th>9</th>\n",
       "      <td>10bit</td>\n",
       "      <td>1</td>\n",
       "      <td>1</td>\n",
       "      <td>500</td>\n",
       "      <td>10bit_again_1_dgain_1_exp_us_ 500_illum_25_nol...</td>\n",
       "      <td>illum_25_nolens</td>\n",
       "      <td>25</td>\n",
       "      <td>5</td>\n",
       "    </tr>\n",
       "    <tr>\n",
       "      <th>10</th>\n",
       "      <td>10bit</td>\n",
       "      <td>1</td>\n",
       "      <td>1</td>\n",
       "      <td>550</td>\n",
       "      <td>10bit_again_1_dgain_1_exp_us_ 550_illum_25_nol...</td>\n",
       "      <td>illum_25_nolens</td>\n",
       "      <td>25</td>\n",
       "      <td>5</td>\n",
       "    </tr>\n",
       "    <tr>\n",
       "      <th>11</th>\n",
       "      <td>10bit</td>\n",
       "      <td>1</td>\n",
       "      <td>1</td>\n",
       "      <td>600</td>\n",
       "      <td>10bit_again_1_dgain_1_exp_us_ 600_illum_25_nol...</td>\n",
       "      <td>illum_25_nolens</td>\n",
       "      <td>25</td>\n",
       "      <td>5</td>\n",
       "    </tr>\n",
       "    <tr>\n",
       "      <th>12</th>\n",
       "      <td>10bit</td>\n",
       "      <td>1</td>\n",
       "      <td>1</td>\n",
       "      <td>650</td>\n",
       "      <td>10bit_again_1_dgain_1_exp_us_ 650_illum_25_nol...</td>\n",
       "      <td>illum_25_nolens</td>\n",
       "      <td>25</td>\n",
       "      <td>5</td>\n",
       "    </tr>\n",
       "    <tr>\n",
       "      <th>13</th>\n",
       "      <td>10bit</td>\n",
       "      <td>1</td>\n",
       "      <td>1</td>\n",
       "      <td>700</td>\n",
       "      <td>10bit_again_1_dgain_1_exp_us_ 700_illum_25_nol...</td>\n",
       "      <td>illum_25_nolens</td>\n",
       "      <td>25</td>\n",
       "      <td>5</td>\n",
       "    </tr>\n",
       "    <tr>\n",
       "      <th>14</th>\n",
       "      <td>10bit</td>\n",
       "      <td>1</td>\n",
       "      <td>1</td>\n",
       "      <td>750</td>\n",
       "      <td>10bit_again_1_dgain_1_exp_us_ 750_illum_25_nol...</td>\n",
       "      <td>illum_25_nolens</td>\n",
       "      <td>25</td>\n",
       "      <td>5</td>\n",
       "    </tr>\n",
       "    <tr>\n",
       "      <th>15</th>\n",
       "      <td>10bit</td>\n",
       "      <td>1</td>\n",
       "      <td>1</td>\n",
       "      <td>800</td>\n",
       "      <td>10bit_again_1_dgain_1_exp_us_ 800_illum_25_nol...</td>\n",
       "      <td>illum_25_nolens</td>\n",
       "      <td>25</td>\n",
       "      <td>5</td>\n",
       "    </tr>\n",
       "    <tr>\n",
       "      <th>16</th>\n",
       "      <td>10bit</td>\n",
       "      <td>1</td>\n",
       "      <td>1</td>\n",
       "      <td>850</td>\n",
       "      <td>10bit_again_1_dgain_1_exp_us_ 850_illum_25_nol...</td>\n",
       "      <td>illum_25_nolens</td>\n",
       "      <td>25</td>\n",
       "      <td>5</td>\n",
       "    </tr>\n",
       "    <tr>\n",
       "      <th>17</th>\n",
       "      <td>10bit</td>\n",
       "      <td>1</td>\n",
       "      <td>1</td>\n",
       "      <td>900</td>\n",
       "      <td>10bit_again_1_dgain_1_exp_us_ 900_illum_25_nol...</td>\n",
       "      <td>illum_25_nolens</td>\n",
       "      <td>25</td>\n",
       "      <td>5</td>\n",
       "    </tr>\n",
       "    <tr>\n",
       "      <th>18</th>\n",
       "      <td>10bit</td>\n",
       "      <td>1</td>\n",
       "      <td>1</td>\n",
       "      <td>950</td>\n",
       "      <td>10bit_again_1_dgain_1_exp_us_ 950_illum_25_nol...</td>\n",
       "      <td>illum_25_nolens</td>\n",
       "      <td>25</td>\n",
       "      <td>5</td>\n",
       "    </tr>\n",
       "    <tr>\n",
       "      <th>19</th>\n",
       "      <td>10bit</td>\n",
       "      <td>1</td>\n",
       "      <td>1</td>\n",
       "      <td>1000</td>\n",
       "      <td>10bit_again_1_dgain_1_exp_us_1000_illum_25_nol...</td>\n",
       "      <td>illum_25_nolens</td>\n",
       "      <td>25</td>\n",
       "      <td>5</td>\n",
       "    </tr>\n",
       "    <tr>\n",
       "      <th>20</th>\n",
       "      <td>10bit</td>\n",
       "      <td>1</td>\n",
       "      <td>1</td>\n",
       "      <td>3000</td>\n",
       "      <td>10bit_again_1_dgain_1_exp_us_3000_illum_25_nol...</td>\n",
       "      <td>illum_25_nolens</td>\n",
       "      <td>25</td>\n",
       "      <td>5</td>\n",
       "    </tr>\n",
       "    <tr>\n",
       "      <th>21</th>\n",
       "      <td>10bit</td>\n",
       "      <td>1</td>\n",
       "      <td>1</td>\n",
       "      <td>5000</td>\n",
       "      <td>10bit_again_1_dgain_1_exp_us_5000_illum_25_nol...</td>\n",
       "      <td>illum_25_nolens</td>\n",
       "      <td>25</td>\n",
       "      <td>5</td>\n",
       "    </tr>\n",
       "    <tr>\n",
       "      <th>22</th>\n",
       "      <td>10bit</td>\n",
       "      <td>1</td>\n",
       "      <td>1</td>\n",
       "      <td>7000</td>\n",
       "      <td>10bit_again_1_dgain_1_exp_us_7000_illum_25_nol...</td>\n",
       "      <td>illum_25_nolens</td>\n",
       "      <td>25</td>\n",
       "      <td>5</td>\n",
       "    </tr>\n",
       "    <tr>\n",
       "      <th>23</th>\n",
       "      <td>10bit</td>\n",
       "      <td>1</td>\n",
       "      <td>1</td>\n",
       "      <td>9000</td>\n",
       "      <td>10bit_again_1_dgain_1_exp_us_9000_illum_25_nol...</td>\n",
       "      <td>illum_25_nolens</td>\n",
       "      <td>25</td>\n",
       "      <td>5</td>\n",
       "    </tr>\n",
       "    <tr>\n",
       "      <th>24</th>\n",
       "      <td>10bit</td>\n",
       "      <td>1</td>\n",
       "      <td>1</td>\n",
       "      <td>11000</td>\n",
       "      <td>10bit_again_1_dgain_1_exp_us_11000_illum_25_no...</td>\n",
       "      <td>illum_25_nolens</td>\n",
       "      <td>25</td>\n",
       "      <td>5</td>\n",
       "    </tr>\n",
       "    <tr>\n",
       "      <th>25</th>\n",
       "      <td>10bit</td>\n",
       "      <td>1</td>\n",
       "      <td>1</td>\n",
       "      <td>13000</td>\n",
       "      <td>10bit_again_1_dgain_1_exp_us_13000_illum_25_no...</td>\n",
       "      <td>illum_25_nolens</td>\n",
       "      <td>25</td>\n",
       "      <td>5</td>\n",
       "    </tr>\n",
       "    <tr>\n",
       "      <th>26</th>\n",
       "      <td>10bit</td>\n",
       "      <td>1</td>\n",
       "      <td>1</td>\n",
       "      <td>15000</td>\n",
       "      <td>10bit_again_1_dgain_1_exp_us_15000_illum_25_no...</td>\n",
       "      <td>illum_25_nolens</td>\n",
       "      <td>25</td>\n",
       "      <td>5</td>\n",
       "    </tr>\n",
       "    <tr>\n",
       "      <th>27</th>\n",
       "      <td>10bit</td>\n",
       "      <td>1</td>\n",
       "      <td>1</td>\n",
       "      <td>17000</td>\n",
       "      <td>10bit_again_1_dgain_1_exp_us_17000_illum_25_no...</td>\n",
       "      <td>illum_25_nolens</td>\n",
       "      <td>25</td>\n",
       "      <td>5</td>\n",
       "    </tr>\n",
       "    <tr>\n",
       "      <th>28</th>\n",
       "      <td>10bit</td>\n",
       "      <td>1</td>\n",
       "      <td>1</td>\n",
       "      <td>19000</td>\n",
       "      <td>10bit_again_1_dgain_1_exp_us_19000_illum_25_no...</td>\n",
       "      <td>illum_25_nolens</td>\n",
       "      <td>25</td>\n",
       "      <td>5</td>\n",
       "    </tr>\n",
       "  </tbody>\n",
       "</table>\n",
       "</div>"
      ],
      "text/plain": [
       "   bitmode  again  dgain  exp_us  \\\n",
       "0    10bit      1      1     125   \n",
       "1    10bit      1      1     100   \n",
       "2    10bit      1      1     150   \n",
       "3    10bit      1      1     200   \n",
       "4    10bit      1      1     250   \n",
       "5    10bit      1      1     300   \n",
       "6    10bit      1      1     350   \n",
       "7    10bit      1      1     400   \n",
       "8    10bit      1      1     450   \n",
       "9    10bit      1      1     500   \n",
       "10   10bit      1      1     550   \n",
       "11   10bit      1      1     600   \n",
       "12   10bit      1      1     650   \n",
       "13   10bit      1      1     700   \n",
       "14   10bit      1      1     750   \n",
       "15   10bit      1      1     800   \n",
       "16   10bit      1      1     850   \n",
       "17   10bit      1      1     900   \n",
       "18   10bit      1      1     950   \n",
       "19   10bit      1      1    1000   \n",
       "20   10bit      1      1    3000   \n",
       "21   10bit      1      1    5000   \n",
       "22   10bit      1      1    7000   \n",
       "23   10bit      1      1    9000   \n",
       "24   10bit      1      1   11000   \n",
       "25   10bit      1      1   13000   \n",
       "26   10bit      1      1   15000   \n",
       "27   10bit      1      1   17000   \n",
       "28   10bit      1      1   19000   \n",
       "\n",
       "                                             filename         testcase  \\\n",
       "0   10bit_again_1_dgain_1_exp_us_ 125_dark_25__tem...          dark_25   \n",
       "1   10bit_again_1_dgain_1_exp_us_ 100_illum_25_nol...  illum_25_nolens   \n",
       "2   10bit_again_1_dgain_1_exp_us_ 150_illum_25_nol...  illum_25_nolens   \n",
       "3   10bit_again_1_dgain_1_exp_us_ 200_illum_25_nol...  illum_25_nolens   \n",
       "4   10bit_again_1_dgain_1_exp_us_ 250_illum_25_nol...  illum_25_nolens   \n",
       "5   10bit_again_1_dgain_1_exp_us_ 300_illum_25_nol...  illum_25_nolens   \n",
       "6   10bit_again_1_dgain_1_exp_us_ 350_illum_25_nol...  illum_25_nolens   \n",
       "7   10bit_again_1_dgain_1_exp_us_ 400_illum_25_nol...  illum_25_nolens   \n",
       "8   10bit_again_1_dgain_1_exp_us_ 450_illum_25_nol...  illum_25_nolens   \n",
       "9   10bit_again_1_dgain_1_exp_us_ 500_illum_25_nol...  illum_25_nolens   \n",
       "10  10bit_again_1_dgain_1_exp_us_ 550_illum_25_nol...  illum_25_nolens   \n",
       "11  10bit_again_1_dgain_1_exp_us_ 600_illum_25_nol...  illum_25_nolens   \n",
       "12  10bit_again_1_dgain_1_exp_us_ 650_illum_25_nol...  illum_25_nolens   \n",
       "13  10bit_again_1_dgain_1_exp_us_ 700_illum_25_nol...  illum_25_nolens   \n",
       "14  10bit_again_1_dgain_1_exp_us_ 750_illum_25_nol...  illum_25_nolens   \n",
       "15  10bit_again_1_dgain_1_exp_us_ 800_illum_25_nol...  illum_25_nolens   \n",
       "16  10bit_again_1_dgain_1_exp_us_ 850_illum_25_nol...  illum_25_nolens   \n",
       "17  10bit_again_1_dgain_1_exp_us_ 900_illum_25_nol...  illum_25_nolens   \n",
       "18  10bit_again_1_dgain_1_exp_us_ 950_illum_25_nol...  illum_25_nolens   \n",
       "19  10bit_again_1_dgain_1_exp_us_1000_illum_25_nol...  illum_25_nolens   \n",
       "20  10bit_again_1_dgain_1_exp_us_3000_illum_25_nol...  illum_25_nolens   \n",
       "21  10bit_again_1_dgain_1_exp_us_5000_illum_25_nol...  illum_25_nolens   \n",
       "22  10bit_again_1_dgain_1_exp_us_7000_illum_25_nol...  illum_25_nolens   \n",
       "23  10bit_again_1_dgain_1_exp_us_9000_illum_25_nol...  illum_25_nolens   \n",
       "24  10bit_again_1_dgain_1_exp_us_11000_illum_25_no...  illum_25_nolens   \n",
       "25  10bit_again_1_dgain_1_exp_us_13000_illum_25_no...  illum_25_nolens   \n",
       "26  10bit_again_1_dgain_1_exp_us_15000_illum_25_no...  illum_25_nolens   \n",
       "27  10bit_again_1_dgain_1_exp_us_17000_illum_25_no...  illum_25_nolens   \n",
       "28  10bit_again_1_dgain_1_exp_us_19000_illum_25_no...  illum_25_nolens   \n",
       "\n",
       "    temperature  amount  \n",
       "0            25      15  \n",
       "1            25       5  \n",
       "2            25       5  \n",
       "3            25       5  \n",
       "4            25       5  \n",
       "5            25       5  \n",
       "6            25       5  \n",
       "7            25       5  \n",
       "8            25       5  \n",
       "9            25       5  \n",
       "10           25       5  \n",
       "11           25       5  \n",
       "12           25       5  \n",
       "13           25       5  \n",
       "14           25       5  \n",
       "15           25       5  \n",
       "16           25       5  \n",
       "17           25       5  \n",
       "18           25       5  \n",
       "19           25       5  \n",
       "20           25       5  \n",
       "21           25       5  \n",
       "22           25       5  \n",
       "23           25       5  \n",
       "24           25       5  \n",
       "25           25       5  \n",
       "26           25       5  \n",
       "27           25       5  \n",
       "28           25       5  "
      ]
     },
     "metadata": {},
     "output_type": "display_data"
    }
   ],
   "source": [
    "df_both=df_dark.append(df_illum, ignore_index = True)\n",
    "display(df_both)"
   ]
  },
  {
   "cell_type": "code",
   "execution_count": 21,
   "id": "29e73496",
   "metadata": {},
   "outputs": [
    {
     "name": "stdout",
     "output_type": "stream",
     "text": [
      "10\n"
     ]
    }
   ],
   "source": [
    "imnames_dark=df_dark['filename']\n",
    "imnames_illum=df_illum['filename']\n",
    "bitmode=df_illum['bitmode'][0]\n",
    "bpp=int(bitmode.split('bit')[0])\n",
    "print(bpp)\n"
   ]
  },
  {
   "cell_type": "code",
   "execution_count": 22,
   "id": "4312f5b0",
   "metadata": {},
   "outputs": [],
   "source": [
    "ptclist=[]\n",
    "for imname in imnames_dark:\n",
    "    images=[]\n",
    "    for imname2 in dark_images.glob(f'./{imname}*.tiff'):\n",
    "        im = Image.open(imname2)\n",
    "        images.append(np.array(im))\n",
    "    images=np.array(images)\n",
    "    images=images/(2**(16-bpp))\n",
    "    ptclist = [i for i in ptclist]\n",
    "    ptclist.append(images)\n",
    "\n",
    "for imname in imnames_illum:\n",
    "    images=[]\n",
    "    for imname2 in illum_images.glob(f'./{imname}*.tiff'):\n",
    "        im = Image.open(imname2)\n",
    "        images.append(np.array(im))\n",
    "    images=np.array(images)\n",
    "    images=images/(2**(16-bpp))\n",
    "    ptclist = [i for i in ptclist]\n",
    "    ptclist.append(images)\n"
   ]
  },
  {
   "cell_type": "code",
   "execution_count": 23,
   "id": "397f9e9b",
   "metadata": {},
   "outputs": [
    {
     "data": {
      "text/plain": [
       "29"
      ]
     },
     "execution_count": 23,
     "metadata": {},
     "output_type": "execute_result"
    }
   ],
   "source": [
    "len(ptclist)"
   ]
  },
  {
   "cell_type": "markdown",
   "id": "ddfcd521",
   "metadata": {},
   "source": [
    "check if first image is dark"
   ]
  },
  {
   "cell_type": "code",
   "execution_count": 24,
   "id": "7a0fd25e",
   "metadata": {},
   "outputs": [
    {
     "data": {
      "text/plain": [
       "37.279077083333334"
      ]
     },
     "metadata": {},
     "output_type": "display_data"
    }
   ],
   "source": [
    "display(np.mean(ptclist[0]))"
   ]
  },
  {
   "cell_type": "code",
   "execution_count": 25,
   "id": "37c5d5af",
   "metadata": {
    "scrolled": true
   },
   "outputs": [
    {
     "name": "stderr",
     "output_type": "stream",
     "text": [
      "c:\\teamforge\\characterization\\trunk\\characterization_ams\\stats_engine\\stats.py:85: RuntimeWarning:\n",
      "\n",
      "invalid value encountered in double_scalars\n",
      "\n",
      "c:\\teamforge\\characterization\\trunk\\characterization_ams\\stats_engine\\stats.py:88: RuntimeWarning:\n",
      "\n",
      "invalid value encountered in double_scalars\n",
      "\n",
      "c:\\teamforge\\characterization\\trunk\\characterization_ams\\stats_engine\\stats.py:91: RuntimeWarning:\n",
      "\n",
      "invalid value encountered in double_scalars\n",
      "\n",
      "c:\\teamforge\\characterization\\trunk\\characterization_ams\\stats_engine\\stats.py:94: RuntimeWarning:\n",
      "\n",
      "invalid value encountered in double_scalars\n",
      "\n",
      "c:\\teamforge\\characterization\\trunk\\characterization_ams\\stats_engine\\stats.py:107: RuntimeWarning:\n",
      "\n",
      "invalid value encountered in double_scalars\n",
      "\n",
      "c:\\teamforge\\characterization\\trunk\\characterization_ams\\stats_engine\\stats.py:110: RuntimeWarning:\n",
      "\n",
      "invalid value encountered in double_scalars\n",
      "\n",
      "c:\\teamforge\\characterization\\trunk\\characterization_ams\\emva\\emva.py:751: RuntimeWarning:\n",
      "\n",
      "divide by zero encountered in log10\n",
      "\n",
      "c:\\teamforge\\jetcis_svn\\jetcis\\software\\trunk\\sw\\env\\lib\\site-packages\\pandas\\core\\arraylike.py:364: RuntimeWarning:\n",
      "\n",
      "divide by zero encountered in log10\n",
      "\n",
      "c:\\teamforge\\characterization\\trunk\\characterization_ams\\emva\\emva.py:888: RuntimeWarning:\n",
      "\n",
      "divide by zero encountered in log10\n",
      "\n"
     ]
    },
    {
     "data": {
      "text/html": [
       "<div>\n",
       "<style scoped>\n",
       "    .dataframe tbody tr th:only-of-type {\n",
       "        vertical-align: middle;\n",
       "    }\n",
       "\n",
       "    .dataframe tbody tr th {\n",
       "        vertical-align: top;\n",
       "    }\n",
       "\n",
       "    .dataframe thead th {\n",
       "        text-align: right;\n",
       "    }\n",
       "</style>\n",
       "<table border=\"1\" class=\"dataframe\">\n",
       "  <thead>\n",
       "    <tr style=\"text-align: right;\">\n",
       "      <th></th>\n",
       "      <th>Tot Var [DN^2]</th>\n",
       "      <th>Col Var [DN^2]</th>\n",
       "      <th>Row Var [DN^2]</th>\n",
       "      <th>Pix Var [DN^2]</th>\n",
       "      <th>Tot Temp Var [DN^2]</th>\n",
       "      <th>Col Temp Var [DN^2]</th>\n",
       "      <th>Row Temp Var [DN^2]</th>\n",
       "      <th>Pix Temp Var [DN^2]</th>\n",
       "      <th>Mean Signal [DN]</th>\n",
       "      <th>CFPN Ratio</th>\n",
       "      <th>...</th>\n",
       "      <th>Linearity Fit [DN]</th>\n",
       "      <th>Linearity Error [%]</th>\n",
       "      <th>Linearity Error [DN]</th>\n",
       "      <th>Responsivity Fit [DN]</th>\n",
       "      <th>SNR [dB]</th>\n",
       "      <th>SNR [ratio]</th>\n",
       "      <th>SNR Ideal [dB]</th>\n",
       "      <th>SNR Ideal [ratio]</th>\n",
       "      <th>SNR Theoretical [dB]</th>\n",
       "      <th>SNR Theoretical[ratio]</th>\n",
       "    </tr>\n",
       "  </thead>\n",
       "  <tbody>\n",
       "    <tr>\n",
       "      <th>0</th>\n",
       "      <td>0.151107</td>\n",
       "      <td>7.955420e-03</td>\n",
       "      <td>1.237918e-02</td>\n",
       "      <td>0.130991</td>\n",
       "      <td>0.687196</td>\n",
       "      <td>6.738122e-03</td>\n",
       "      <td>1.570871e-01</td>\n",
       "      <td>0.524245</td>\n",
       "      <td>37.279077</td>\n",
       "      <td>9.294129</td>\n",
       "      <td>...</td>\n",
       "      <td>NaN</td>\n",
       "      <td>NaN</td>\n",
       "      <td>NaN</td>\n",
       "      <td>56.483851</td>\n",
       "      <td>NaN</td>\n",
       "      <td>NaN</td>\n",
       "      <td>NaN</td>\n",
       "      <td>NaN</td>\n",
       "      <td>NaN</td>\n",
       "      <td>NaN</td>\n",
       "    </tr>\n",
       "    <tr>\n",
       "      <th>1</th>\n",
       "      <td>14.097255</td>\n",
       "      <td>9.349036e+00</td>\n",
       "      <td>2.784470e+00</td>\n",
       "      <td>1.967031</td>\n",
       "      <td>6.999084</td>\n",
       "      <td>2.397205e-02</td>\n",
       "      <td>1.841061e-01</td>\n",
       "      <td>6.802357</td>\n",
       "      <td>95.265203</td>\n",
       "      <td>0.865241</td>\n",
       "      <td>...</td>\n",
       "      <td>57.684692</td>\n",
       "      <td>0.522554</td>\n",
       "      <td>0.301434</td>\n",
       "      <td>40.833869</td>\n",
       "      <td>26.572610</td>\n",
       "      <td>21.312310</td>\n",
       "      <td>26.896863</td>\n",
       "      <td>22.122955</td>\n",
       "      <td>26.787374</td>\n",
       "      <td>21.845839</td>\n",
       "    </tr>\n",
       "    <tr>\n",
       "      <th>2</th>\n",
       "      <td>30.914327</td>\n",
       "      <td>2.123857e+01</td>\n",
       "      <td>6.510060e+00</td>\n",
       "      <td>3.170989</td>\n",
       "      <td>10.215214</td>\n",
       "      <td>1.023962e-02</td>\n",
       "      <td>1.760436e-01</td>\n",
       "      <td>10.045694</td>\n",
       "      <td>124.031890</td>\n",
       "      <td>0.693523</td>\n",
       "      <td>...</td>\n",
       "      <td>86.742138</td>\n",
       "      <td>0.012306</td>\n",
       "      <td>0.010675</td>\n",
       "      <td>72.133833</td>\n",
       "      <td>28.301234</td>\n",
       "      <td>26.005289</td>\n",
       "      <td>28.646458</td>\n",
       "      <td>27.059694</td>\n",
       "      <td>28.572970</td>\n",
       "      <td>26.831719</td>\n",
       "    </tr>\n",
       "    <tr>\n",
       "      <th>3</th>\n",
       "      <td>55.160441</td>\n",
       "      <td>3.872851e+01</td>\n",
       "      <td>1.179482e+01</td>\n",
       "      <td>4.644856</td>\n",
       "      <td>13.605206</td>\n",
       "      <td>6.000023e-03</td>\n",
       "      <td>1.722973e-01</td>\n",
       "      <td>13.449352</td>\n",
       "      <td>152.797229</td>\n",
       "      <td>0.592703</td>\n",
       "      <td>...</td>\n",
       "      <td>115.799584</td>\n",
       "      <td>-0.243034</td>\n",
       "      <td>-0.281432</td>\n",
       "      <td>103.433796</td>\n",
       "      <td>29.497636</td>\n",
       "      <td>29.845703</td>\n",
       "      <td>29.890124</td>\n",
       "      <td>31.225271</td>\n",
       "      <td>29.834820</td>\n",
       "      <td>31.027086</td>\n",
       "    </tr>\n",
       "    <tr>\n",
       "      <th>4</th>\n",
       "      <td>86.690792</td>\n",
       "      <td>6.159064e+01</td>\n",
       "      <td>1.879244e+01</td>\n",
       "      <td>6.318255</td>\n",
       "      <td>17.098946</td>\n",
       "      <td>1.469664e-02</td>\n",
       "      <td>1.728296e-01</td>\n",
       "      <td>16.939688</td>\n",
       "      <td>181.800863</td>\n",
       "      <td>0.526899</td>\n",
       "      <td>...</td>\n",
       "      <td>144.857030</td>\n",
       "      <td>-0.231431</td>\n",
       "      <td>-0.335244</td>\n",
       "      <td>134.733760</td>\n",
       "      <td>30.412766</td>\n",
       "      <td>33.161814</td>\n",
       "      <td>30.862955</td>\n",
       "      <td>34.925912</td>\n",
       "      <td>30.818693</td>\n",
       "      <td>34.748388</td>\n",
       "    </tr>\n",
       "    <tr>\n",
       "      <th>5</th>\n",
       "      <td>124.869206</td>\n",
       "      <td>8.956661e+01</td>\n",
       "      <td>2.715943e+01</td>\n",
       "      <td>8.156775</td>\n",
       "      <td>20.616335</td>\n",
       "      <td>2.938000e-02</td>\n",
       "      <td>1.987581e-01</td>\n",
       "      <td>20.422276</td>\n",
       "      <td>210.406528</td>\n",
       "      <td>0.479770</td>\n",
       "      <td>...</td>\n",
       "      <td>173.914476</td>\n",
       "      <td>-0.452536</td>\n",
       "      <td>-0.787025</td>\n",
       "      <td>166.033724</td>\n",
       "      <td>31.135794</td>\n",
       "      <td>36.040409</td>\n",
       "      <td>31.647281</td>\n",
       "      <td>38.226459</td>\n",
       "      <td>31.610302</td>\n",
       "      <td>38.064058</td>\n",
       "    </tr>\n",
       "    <tr>\n",
       "      <th>6</th>\n",
       "      <td>170.644445</td>\n",
       "      <td>1.232863e+02</td>\n",
       "      <td>3.724003e+01</td>\n",
       "      <td>10.135036</td>\n",
       "      <td>24.075826</td>\n",
       "      <td>2.214178e-02</td>\n",
       "      <td>1.907239e-01</td>\n",
       "      <td>23.902848</td>\n",
       "      <td>239.340805</td>\n",
       "      <td>0.441909</td>\n",
       "      <td>...</td>\n",
       "      <td>202.971922</td>\n",
       "      <td>-0.448433</td>\n",
       "      <td>-0.910194</td>\n",
       "      <td>197.333687</td>\n",
       "      <td>31.742923</td>\n",
       "      <td>38.649704</td>\n",
       "      <td>32.318463</td>\n",
       "      <td>41.297440</td>\n",
       "      <td>32.286759</td>\n",
       "      <td>41.146979</td>\n",
       "    </tr>\n",
       "    <tr>\n",
       "      <th>7</th>\n",
       "      <td>223.532846</td>\n",
       "      <td>1.623894e+02</td>\n",
       "      <td>4.890543e+01</td>\n",
       "      <td>12.258457</td>\n",
       "      <td>27.587130</td>\n",
       "      <td>2.557631e-02</td>\n",
       "      <td>1.997343e-01</td>\n",
       "      <td>27.407556</td>\n",
       "      <td>268.282097</td>\n",
       "      <td>0.412168</td>\n",
       "      <td>...</td>\n",
       "      <td>232.029368</td>\n",
       "      <td>-0.442335</td>\n",
       "      <td>-1.026348</td>\n",
       "      <td>228.633651</td>\n",
       "      <td>32.259314</td>\n",
       "      <td>41.017170</td>\n",
       "      <td>32.899799</td>\n",
       "      <td>44.156021</td>\n",
       "      <td>32.872054</td>\n",
       "      <td>44.015204</td>\n",
       "    </tr>\n",
       "    <tr>\n",
       "      <th>8</th>\n",
       "      <td>282.901460</td>\n",
       "      <td>2.070418e+02</td>\n",
       "      <td>6.135943e+01</td>\n",
       "      <td>14.524485</td>\n",
       "      <td>31.031324</td>\n",
       "      <td>1.060929e-02</td>\n",
       "      <td>1.828583e-01</td>\n",
       "      <td>30.889403</td>\n",
       "      <td>297.433302</td>\n",
       "      <td>0.387143</td>\n",
       "      <td>...</td>\n",
       "      <td>261.086814</td>\n",
       "      <td>-0.357195</td>\n",
       "      <td>-0.932590</td>\n",
       "      <td>259.933615</td>\n",
       "      <td>32.709798</td>\n",
       "      <td>43.200610</td>\n",
       "      <td>33.415931</td>\n",
       "      <td>46.859380</td>\n",
       "      <td>33.391287</td>\n",
       "      <td>46.726616</td>\n",
       "    </tr>\n",
       "    <tr>\n",
       "      <th>9</th>\n",
       "      <td>349.751527</td>\n",
       "      <td>2.565860e+02</td>\n",
       "      <td>7.631529e+01</td>\n",
       "      <td>16.878439</td>\n",
       "      <td>34.484408</td>\n",
       "      <td>4.320781e-02</td>\n",
       "      <td>2.210442e-01</td>\n",
       "      <td>34.277357</td>\n",
       "      <td>326.353582</td>\n",
       "      <td>0.366602</td>\n",
       "      <td>...</td>\n",
       "      <td>290.144260</td>\n",
       "      <td>-0.368698</td>\n",
       "      <td>-1.069755</td>\n",
       "      <td>291.233579</td>\n",
       "      <td>33.102606</td>\n",
       "      <td>45.199152</td>\n",
       "      <td>33.873720</td>\n",
       "      <td>49.395342</td>\n",
       "      <td>33.851535</td>\n",
       "      <td>49.269340</td>\n",
       "    </tr>\n",
       "    <tr>\n",
       "      <th>10</th>\n",
       "      <td>424.277872</td>\n",
       "      <td>3.133994e+02</td>\n",
       "      <td>9.151119e+01</td>\n",
       "      <td>19.399698</td>\n",
       "      <td>38.021028</td>\n",
       "      <td>1.002457e-01</td>\n",
       "      <td>2.688202e-01</td>\n",
       "      <td>37.714899</td>\n",
       "      <td>356.101057</td>\n",
       "      <td>0.348308</td>\n",
       "      <td>...</td>\n",
       "      <td>319.201706</td>\n",
       "      <td>-0.118961</td>\n",
       "      <td>-0.379726</td>\n",
       "      <td>322.533542</td>\n",
       "      <td>33.461543</td>\n",
       "      <td>47.106099</td>\n",
       "      <td>34.299105</td>\n",
       "      <td>51.874655</td>\n",
       "      <td>34.278985</td>\n",
       "      <td>51.754633</td>\n",
       "    </tr>\n",
       "    <tr>\n",
       "      <th>11</th>\n",
       "      <td>505.502509</td>\n",
       "      <td>3.740151e+02</td>\n",
       "      <td>1.095321e+02</td>\n",
       "      <td>21.991967</td>\n",
       "      <td>41.537314</td>\n",
       "      <td>1.266689e-01</td>\n",
       "      <td>3.038798e-01</td>\n",
       "      <td>41.175477</td>\n",
       "      <td>385.411703</td>\n",
       "      <td>0.333253</td>\n",
       "      <td>...</td>\n",
       "      <td>348.259152</td>\n",
       "      <td>-0.036331</td>\n",
       "      <td>-0.126526</td>\n",
       "      <td>353.833506</td>\n",
       "      <td>33.778572</td>\n",
       "      <td>48.857203</td>\n",
       "      <td>34.681069</td>\n",
       "      <td>54.206761</td>\n",
       "      <td>34.662640</td>\n",
       "      <td>54.091869</td>\n",
       "    </tr>\n",
       "    <tr>\n",
       "      <th>12</th>\n",
       "      <td>591.823131</td>\n",
       "      <td>4.389922e+02</td>\n",
       "      <td>1.281880e+02</td>\n",
       "      <td>24.684128</td>\n",
       "      <td>44.800735</td>\n",
       "      <td>1.103743e-01</td>\n",
       "      <td>2.882691e-01</td>\n",
       "      <td>44.476312</td>\n",
       "      <td>414.379970</td>\n",
       "      <td>0.319458</td>\n",
       "      <td>...</td>\n",
       "      <td>377.316599</td>\n",
       "      <td>-0.057168</td>\n",
       "      <td>-0.215705</td>\n",
       "      <td>NaN</td>\n",
       "      <td>34.062137</td>\n",
       "      <td>50.478546</td>\n",
       "      <td>35.028198</td>\n",
       "      <td>56.416986</td>\n",
       "      <td>35.011181</td>\n",
       "      <td>56.306568</td>\n",
       "    </tr>\n",
       "    <tr>\n",
       "      <th>13</th>\n",
       "      <td>689.638180</td>\n",
       "      <td>5.131835e+02</td>\n",
       "      <td>1.487725e+02</td>\n",
       "      <td>27.728457</td>\n",
       "      <td>48.171068</td>\n",
       "      <td>4.518174e-02</td>\n",
       "      <td>2.249409e-01</td>\n",
       "      <td>47.981014</td>\n",
       "      <td>444.634611</td>\n",
       "      <td>0.306377</td>\n",
       "      <td>...</td>\n",
       "      <td>406.374045</td>\n",
       "      <td>0.241524</td>\n",
       "      <td>0.981489</td>\n",
       "      <td>NaN</td>\n",
       "      <td>34.331622</td>\n",
       "      <td>52.069225</td>\n",
       "      <td>35.363358</td>\n",
       "      <td>58.636482</td>\n",
       "      <td>35.347603</td>\n",
       "      <td>58.530221</td>\n",
       "    </tr>\n",
       "    <tr>\n",
       "      <th>14</th>\n",
       "      <td>788.293327</td>\n",
       "      <td>5.888113e+02</td>\n",
       "      <td>1.690274e+02</td>\n",
       "      <td>30.505530</td>\n",
       "      <td>51.539507</td>\n",
       "      <td>7.789273e-02</td>\n",
       "      <td>2.568136e-01</td>\n",
       "      <td>51.290392</td>\n",
       "      <td>473.722353</td>\n",
       "      <td>0.295857</td>\n",
       "      <td>...</td>\n",
       "      <td>435.431491</td>\n",
       "      <td>0.232364</td>\n",
       "      <td>1.011786</td>\n",
       "      <td>NaN</td>\n",
       "      <td>34.568743</td>\n",
       "      <td>53.510269</td>\n",
       "      <td>35.662900</td>\n",
       "      <td>60.693894</td>\n",
       "      <td>35.648193</td>\n",
       "      <td>60.591216</td>\n",
       "    </tr>\n",
       "    <tr>\n",
       "      <th>15</th>\n",
       "      <td>901.013456</td>\n",
       "      <td>6.745137e+02</td>\n",
       "      <td>1.927195e+02</td>\n",
       "      <td>33.836698</td>\n",
       "      <td>54.987204</td>\n",
       "      <td>8.240997e-02</td>\n",
       "      <td>2.704950e-01</td>\n",
       "      <td>54.725622</td>\n",
       "      <td>504.184516</td>\n",
       "      <td>0.285519</td>\n",
       "      <td>...</td>\n",
       "      <td>464.488937</td>\n",
       "      <td>0.520250</td>\n",
       "      <td>2.416502</td>\n",
       "      <td>NaN</td>\n",
       "      <td>34.797162</td>\n",
       "      <td>54.936132</td>\n",
       "      <td>35.955911</td>\n",
       "      <td>62.776278</td>\n",
       "      <td>35.942163</td>\n",
       "      <td>62.676990</td>\n",
       "    </tr>\n",
       "    <tr>\n",
       "      <th>16</th>\n",
       "      <td>1014.420810</td>\n",
       "      <td>7.598005e+02</td>\n",
       "      <td>2.177526e+02</td>\n",
       "      <td>36.929247</td>\n",
       "      <td>58.314086</td>\n",
       "      <td>1.768063e-01</td>\n",
       "      <td>3.629298e-01</td>\n",
       "      <td>57.870922</td>\n",
       "      <td>533.360171</td>\n",
       "      <td>0.277036</td>\n",
       "      <td>...</td>\n",
       "      <td>493.546383</td>\n",
       "      <td>0.513571</td>\n",
       "      <td>2.534711</td>\n",
       "      <td>NaN</td>\n",
       "      <td>34.999291</td>\n",
       "      <td>56.229541</td>\n",
       "      <td>36.219149</td>\n",
       "      <td>64.707919</td>\n",
       "      <td>36.206207</td>\n",
       "      <td>64.611581</td>\n",
       "    </tr>\n",
       "    <tr>\n",
       "      <th>17</th>\n",
       "      <td>1132.716785</td>\n",
       "      <td>8.501156e+02</td>\n",
       "      <td>2.423870e+02</td>\n",
       "      <td>40.281428</td>\n",
       "      <td>61.666256</td>\n",
       "      <td>1.254139e-01</td>\n",
       "      <td>3.140130e-01</td>\n",
       "      <td>61.329172</td>\n",
       "      <td>562.475177</td>\n",
       "      <td>0.269330</td>\n",
       "      <td>...</td>\n",
       "      <td>522.603829</td>\n",
       "      <td>0.496030</td>\n",
       "      <td>2.592271</td>\n",
       "      <td>NaN</td>\n",
       "      <td>35.186738</td>\n",
       "      <td>57.456201</td>\n",
       "      <td>36.466837</td>\n",
       "      <td>66.579702</td>\n",
       "      <td>36.454612</td>\n",
       "      <td>66.486060</td>\n",
       "    </tr>\n",
       "    <tr>\n",
       "      <th>18</th>\n",
       "      <td>1250.921281</td>\n",
       "      <td>9.384476e+02</td>\n",
       "      <td>2.692511e+02</td>\n",
       "      <td>43.294840</td>\n",
       "      <td>64.664487</td>\n",
       "      <td>7.910060e-02</td>\n",
       "      <td>2.506222e-01</td>\n",
       "      <td>64.442303</td>\n",
       "      <td>590.386204</td>\n",
       "      <td>0.262499</td>\n",
       "      <td>...</td>\n",
       "      <td>551.661275</td>\n",
       "      <td>0.262091</td>\n",
       "      <td>1.445852</td>\n",
       "      <td>NaN</td>\n",
       "      <td>35.354558</td>\n",
       "      <td>58.577103</td>\n",
       "      <td>36.691715</td>\n",
       "      <td>68.325957</td>\n",
       "      <td>36.680106</td>\n",
       "      <td>68.234700</td>\n",
       "    </tr>\n",
       "    <tr>\n",
       "      <th>19</th>\n",
       "      <td>1380.663910</td>\n",
       "      <td>1.036864e+03</td>\n",
       "      <td>2.972837e+02</td>\n",
       "      <td>46.594382</td>\n",
       "      <td>67.669459</td>\n",
       "      <td>7.825104e-02</td>\n",
       "      <td>2.682679e-01</td>\n",
       "      <td>67.435474</td>\n",
       "      <td>619.478367</td>\n",
       "      <td>0.255467</td>\n",
       "      <td>...</td>\n",
       "      <td>NaN</td>\n",
       "      <td>NaN</td>\n",
       "      <td>NaN</td>\n",
       "      <td>NaN</td>\n",
       "      <td>35.518425</td>\n",
       "      <td>59.692703</td>\n",
       "      <td>36.914339</td>\n",
       "      <td>70.099825</td>\n",
       "      <td>36.903309</td>\n",
       "      <td>70.010868</td>\n",
       "    </tr>\n",
       "    <tr>\n",
       "      <th>20</th>\n",
       "      <td>0.013703</td>\n",
       "      <td>-5.767221e-08</td>\n",
       "      <td>-5.769628e-08</td>\n",
       "      <td>0.013726</td>\n",
       "      <td>0.000374</td>\n",
       "      <td>-6.633327e-19</td>\n",
       "      <td>-1.137248e-18</td>\n",
       "      <td>0.000375</td>\n",
       "      <td>1022.999760</td>\n",
       "      <td>NaN</td>\n",
       "      <td>...</td>\n",
       "      <td>NaN</td>\n",
       "      <td>NaN</td>\n",
       "      <td>NaN</td>\n",
       "      <td>NaN</td>\n",
       "      <td>37.059560</td>\n",
       "      <td>71.281688</td>\n",
       "      <td>39.201161</td>\n",
       "      <td>91.213271</td>\n",
       "      <td>39.194643</td>\n",
       "      <td>91.144852</td>\n",
       "    </tr>\n",
       "    <tr>\n",
       "      <th>21</th>\n",
       "      <td>0.011260</td>\n",
       "      <td>-4.539034e-08</td>\n",
       "      <td>-4.540928e-08</td>\n",
       "      <td>0.011279</td>\n",
       "      <td>0.000465</td>\n",
       "      <td>-1.640703e-18</td>\n",
       "      <td>-1.414016e-18</td>\n",
       "      <td>0.000466</td>\n",
       "      <td>1022.999787</td>\n",
       "      <td>NaN</td>\n",
       "      <td>...</td>\n",
       "      <td>NaN</td>\n",
       "      <td>NaN</td>\n",
       "      <td>NaN</td>\n",
       "      <td>NaN</td>\n",
       "      <td>37.059560</td>\n",
       "      <td>71.281689</td>\n",
       "      <td>39.201161</td>\n",
       "      <td>91.213273</td>\n",
       "      <td>39.194643</td>\n",
       "      <td>91.144853</td>\n",
       "    </tr>\n",
       "    <tr>\n",
       "      <th>22</th>\n",
       "      <td>0.011485</td>\n",
       "      <td>-4.345719e-08</td>\n",
       "      <td>-4.347533e-08</td>\n",
       "      <td>0.011504</td>\n",
       "      <td>0.000106</td>\n",
       "      <td>2.434161e-19</td>\n",
       "      <td>-3.229048e-19</td>\n",
       "      <td>0.000107</td>\n",
       "      <td>1022.999792</td>\n",
       "      <td>NaN</td>\n",
       "      <td>...</td>\n",
       "      <td>NaN</td>\n",
       "      <td>NaN</td>\n",
       "      <td>NaN</td>\n",
       "      <td>NaN</td>\n",
       "      <td>37.059560</td>\n",
       "      <td>71.281689</td>\n",
       "      <td>39.201161</td>\n",
       "      <td>91.213273</td>\n",
       "      <td>39.194643</td>\n",
       "      <td>91.144854</td>\n",
       "    </tr>\n",
       "    <tr>\n",
       "      <th>23</th>\n",
       "      <td>0.011027</td>\n",
       "      <td>-4.311023e-08</td>\n",
       "      <td>-4.312822e-08</td>\n",
       "      <td>0.011046</td>\n",
       "      <td>0.000301</td>\n",
       "      <td>4.390278e-19</td>\n",
       "      <td>-9.146897e-19</td>\n",
       "      <td>0.000302</td>\n",
       "      <td>1022.999792</td>\n",
       "      <td>NaN</td>\n",
       "      <td>...</td>\n",
       "      <td>NaN</td>\n",
       "      <td>NaN</td>\n",
       "      <td>NaN</td>\n",
       "      <td>NaN</td>\n",
       "      <td>37.059560</td>\n",
       "      <td>71.281689</td>\n",
       "      <td>39.201161</td>\n",
       "      <td>91.213273</td>\n",
       "      <td>39.194643</td>\n",
       "      <td>91.144854</td>\n",
       "    </tr>\n",
       "    <tr>\n",
       "      <th>24</th>\n",
       "      <td>0.010883</td>\n",
       "      <td>-3.971709e-08</td>\n",
       "      <td>-3.973367e-08</td>\n",
       "      <td>0.010902</td>\n",
       "      <td>0.000150</td>\n",
       "      <td>-1.183411e-18</td>\n",
       "      <td>-4.569213e-19</td>\n",
       "      <td>0.000150</td>\n",
       "      <td>1022.999801</td>\n",
       "      <td>NaN</td>\n",
       "      <td>...</td>\n",
       "      <td>NaN</td>\n",
       "      <td>NaN</td>\n",
       "      <td>NaN</td>\n",
       "      <td>NaN</td>\n",
       "      <td>37.059560</td>\n",
       "      <td>71.281689</td>\n",
       "      <td>39.201161</td>\n",
       "      <td>91.213273</td>\n",
       "      <td>39.194643</td>\n",
       "      <td>91.144854</td>\n",
       "    </tr>\n",
       "    <tr>\n",
       "      <th>25</th>\n",
       "      <td>0.010150</td>\n",
       "      <td>-3.905515e-08</td>\n",
       "      <td>-3.907145e-08</td>\n",
       "      <td>0.010168</td>\n",
       "      <td>0.000274</td>\n",
       "      <td>-1.230368e-18</td>\n",
       "      <td>-8.352804e-19</td>\n",
       "      <td>0.000275</td>\n",
       "      <td>1022.999802</td>\n",
       "      <td>NaN</td>\n",
       "      <td>...</td>\n",
       "      <td>NaN</td>\n",
       "      <td>NaN</td>\n",
       "      <td>NaN</td>\n",
       "      <td>NaN</td>\n",
       "      <td>37.059560</td>\n",
       "      <td>71.281689</td>\n",
       "      <td>39.201161</td>\n",
       "      <td>91.213273</td>\n",
       "      <td>39.194643</td>\n",
       "      <td>91.144854</td>\n",
       "    </tr>\n",
       "    <tr>\n",
       "      <th>26</th>\n",
       "      <td>0.010046</td>\n",
       "      <td>-3.758612e-08</td>\n",
       "      <td>-3.760181e-08</td>\n",
       "      <td>0.010063</td>\n",
       "      <td>0.000200</td>\n",
       "      <td>-6.426862e-20</td>\n",
       "      <td>-6.068462e-19</td>\n",
       "      <td>0.000200</td>\n",
       "      <td>1022.999806</td>\n",
       "      <td>NaN</td>\n",
       "      <td>...</td>\n",
       "      <td>NaN</td>\n",
       "      <td>NaN</td>\n",
       "      <td>NaN</td>\n",
       "      <td>NaN</td>\n",
       "      <td>37.059560</td>\n",
       "      <td>71.281689</td>\n",
       "      <td>39.201161</td>\n",
       "      <td>91.213274</td>\n",
       "      <td>39.194643</td>\n",
       "      <td>91.144854</td>\n",
       "    </tr>\n",
       "    <tr>\n",
       "      <th>27</th>\n",
       "      <td>0.010010</td>\n",
       "      <td>-3.289275e-08</td>\n",
       "      <td>-3.290648e-08</td>\n",
       "      <td>0.010027</td>\n",
       "      <td>0.000213</td>\n",
       "      <td>-5.813293e-19</td>\n",
       "      <td>-6.488272e-19</td>\n",
       "      <td>0.000214</td>\n",
       "      <td>1022.999819</td>\n",
       "      <td>NaN</td>\n",
       "      <td>...</td>\n",
       "      <td>NaN</td>\n",
       "      <td>NaN</td>\n",
       "      <td>NaN</td>\n",
       "      <td>NaN</td>\n",
       "      <td>37.059560</td>\n",
       "      <td>71.281689</td>\n",
       "      <td>39.201161</td>\n",
       "      <td>91.213274</td>\n",
       "      <td>39.194643</td>\n",
       "      <td>91.144855</td>\n",
       "    </tr>\n",
       "    <tr>\n",
       "      <th>28</th>\n",
       "      <td>0.009810</td>\n",
       "      <td>-3.274169e-08</td>\n",
       "      <td>-3.275536e-08</td>\n",
       "      <td>0.009826</td>\n",
       "      <td>0.000223</td>\n",
       "      <td>7.238955e-19</td>\n",
       "      <td>-6.769381e-19</td>\n",
       "      <td>0.000224</td>\n",
       "      <td>1022.999819</td>\n",
       "      <td>NaN</td>\n",
       "      <td>...</td>\n",
       "      <td>NaN</td>\n",
       "      <td>NaN</td>\n",
       "      <td>NaN</td>\n",
       "      <td>NaN</td>\n",
       "      <td>37.059560</td>\n",
       "      <td>71.281689</td>\n",
       "      <td>39.201161</td>\n",
       "      <td>91.213274</td>\n",
       "      <td>39.194643</td>\n",
       "      <td>91.144855</td>\n",
       "    </tr>\n",
       "  </tbody>\n",
       "</table>\n",
       "<p>29 rows × 64 columns</p>\n",
       "</div>"
      ],
      "text/plain": [
       "    Tot Var [DN^2]  Col Var [DN^2]  Row Var [DN^2]  Pix Var [DN^2]  \\\n",
       "0         0.151107    7.955420e-03    1.237918e-02        0.130991   \n",
       "1        14.097255    9.349036e+00    2.784470e+00        1.967031   \n",
       "2        30.914327    2.123857e+01    6.510060e+00        3.170989   \n",
       "3        55.160441    3.872851e+01    1.179482e+01        4.644856   \n",
       "4        86.690792    6.159064e+01    1.879244e+01        6.318255   \n",
       "5       124.869206    8.956661e+01    2.715943e+01        8.156775   \n",
       "6       170.644445    1.232863e+02    3.724003e+01       10.135036   \n",
       "7       223.532846    1.623894e+02    4.890543e+01       12.258457   \n",
       "8       282.901460    2.070418e+02    6.135943e+01       14.524485   \n",
       "9       349.751527    2.565860e+02    7.631529e+01       16.878439   \n",
       "10      424.277872    3.133994e+02    9.151119e+01       19.399698   \n",
       "11      505.502509    3.740151e+02    1.095321e+02       21.991967   \n",
       "12      591.823131    4.389922e+02    1.281880e+02       24.684128   \n",
       "13      689.638180    5.131835e+02    1.487725e+02       27.728457   \n",
       "14      788.293327    5.888113e+02    1.690274e+02       30.505530   \n",
       "15      901.013456    6.745137e+02    1.927195e+02       33.836698   \n",
       "16     1014.420810    7.598005e+02    2.177526e+02       36.929247   \n",
       "17     1132.716785    8.501156e+02    2.423870e+02       40.281428   \n",
       "18     1250.921281    9.384476e+02    2.692511e+02       43.294840   \n",
       "19     1380.663910    1.036864e+03    2.972837e+02       46.594382   \n",
       "20        0.013703   -5.767221e-08   -5.769628e-08        0.013726   \n",
       "21        0.011260   -4.539034e-08   -4.540928e-08        0.011279   \n",
       "22        0.011485   -4.345719e-08   -4.347533e-08        0.011504   \n",
       "23        0.011027   -4.311023e-08   -4.312822e-08        0.011046   \n",
       "24        0.010883   -3.971709e-08   -3.973367e-08        0.010902   \n",
       "25        0.010150   -3.905515e-08   -3.907145e-08        0.010168   \n",
       "26        0.010046   -3.758612e-08   -3.760181e-08        0.010063   \n",
       "27        0.010010   -3.289275e-08   -3.290648e-08        0.010027   \n",
       "28        0.009810   -3.274169e-08   -3.275536e-08        0.009826   \n",
       "\n",
       "    Tot Temp Var [DN^2]  Col Temp Var [DN^2]  Row Temp Var [DN^2]  \\\n",
       "0              0.687196         6.738122e-03         1.570871e-01   \n",
       "1              6.999084         2.397205e-02         1.841061e-01   \n",
       "2             10.215214         1.023962e-02         1.760436e-01   \n",
       "3             13.605206         6.000023e-03         1.722973e-01   \n",
       "4             17.098946         1.469664e-02         1.728296e-01   \n",
       "5             20.616335         2.938000e-02         1.987581e-01   \n",
       "6             24.075826         2.214178e-02         1.907239e-01   \n",
       "7             27.587130         2.557631e-02         1.997343e-01   \n",
       "8             31.031324         1.060929e-02         1.828583e-01   \n",
       "9             34.484408         4.320781e-02         2.210442e-01   \n",
       "10            38.021028         1.002457e-01         2.688202e-01   \n",
       "11            41.537314         1.266689e-01         3.038798e-01   \n",
       "12            44.800735         1.103743e-01         2.882691e-01   \n",
       "13            48.171068         4.518174e-02         2.249409e-01   \n",
       "14            51.539507         7.789273e-02         2.568136e-01   \n",
       "15            54.987204         8.240997e-02         2.704950e-01   \n",
       "16            58.314086         1.768063e-01         3.629298e-01   \n",
       "17            61.666256         1.254139e-01         3.140130e-01   \n",
       "18            64.664487         7.910060e-02         2.506222e-01   \n",
       "19            67.669459         7.825104e-02         2.682679e-01   \n",
       "20             0.000374        -6.633327e-19        -1.137248e-18   \n",
       "21             0.000465        -1.640703e-18        -1.414016e-18   \n",
       "22             0.000106         2.434161e-19        -3.229048e-19   \n",
       "23             0.000301         4.390278e-19        -9.146897e-19   \n",
       "24             0.000150        -1.183411e-18        -4.569213e-19   \n",
       "25             0.000274        -1.230368e-18        -8.352804e-19   \n",
       "26             0.000200        -6.426862e-20        -6.068462e-19   \n",
       "27             0.000213        -5.813293e-19        -6.488272e-19   \n",
       "28             0.000223         7.238955e-19        -6.769381e-19   \n",
       "\n",
       "    Pix Temp Var [DN^2]  Mean Signal [DN]  CFPN Ratio  ...  \\\n",
       "0              0.524245         37.279077    9.294129  ...   \n",
       "1              6.802357         95.265203    0.865241  ...   \n",
       "2             10.045694        124.031890    0.693523  ...   \n",
       "3             13.449352        152.797229    0.592703  ...   \n",
       "4             16.939688        181.800863    0.526899  ...   \n",
       "5             20.422276        210.406528    0.479770  ...   \n",
       "6             23.902848        239.340805    0.441909  ...   \n",
       "7             27.407556        268.282097    0.412168  ...   \n",
       "8             30.889403        297.433302    0.387143  ...   \n",
       "9             34.277357        326.353582    0.366602  ...   \n",
       "10            37.714899        356.101057    0.348308  ...   \n",
       "11            41.175477        385.411703    0.333253  ...   \n",
       "12            44.476312        414.379970    0.319458  ...   \n",
       "13            47.981014        444.634611    0.306377  ...   \n",
       "14            51.290392        473.722353    0.295857  ...   \n",
       "15            54.725622        504.184516    0.285519  ...   \n",
       "16            57.870922        533.360171    0.277036  ...   \n",
       "17            61.329172        562.475177    0.269330  ...   \n",
       "18            64.442303        590.386204    0.262499  ...   \n",
       "19            67.435474        619.478367    0.255467  ...   \n",
       "20             0.000375       1022.999760         NaN  ...   \n",
       "21             0.000466       1022.999787         NaN  ...   \n",
       "22             0.000107       1022.999792         NaN  ...   \n",
       "23             0.000302       1022.999792         NaN  ...   \n",
       "24             0.000150       1022.999801         NaN  ...   \n",
       "25             0.000275       1022.999802         NaN  ...   \n",
       "26             0.000200       1022.999806         NaN  ...   \n",
       "27             0.000214       1022.999819         NaN  ...   \n",
       "28             0.000224       1022.999819         NaN  ...   \n",
       "\n",
       "    Linearity Fit [DN]  Linearity Error [%]  Linearity Error [DN]  \\\n",
       "0                  NaN                  NaN                   NaN   \n",
       "1            57.684692             0.522554              0.301434   \n",
       "2            86.742138             0.012306              0.010675   \n",
       "3           115.799584            -0.243034             -0.281432   \n",
       "4           144.857030            -0.231431             -0.335244   \n",
       "5           173.914476            -0.452536             -0.787025   \n",
       "6           202.971922            -0.448433             -0.910194   \n",
       "7           232.029368            -0.442335             -1.026348   \n",
       "8           261.086814            -0.357195             -0.932590   \n",
       "9           290.144260            -0.368698             -1.069755   \n",
       "10          319.201706            -0.118961             -0.379726   \n",
       "11          348.259152            -0.036331             -0.126526   \n",
       "12          377.316599            -0.057168             -0.215705   \n",
       "13          406.374045             0.241524              0.981489   \n",
       "14          435.431491             0.232364              1.011786   \n",
       "15          464.488937             0.520250              2.416502   \n",
       "16          493.546383             0.513571              2.534711   \n",
       "17          522.603829             0.496030              2.592271   \n",
       "18          551.661275             0.262091              1.445852   \n",
       "19                 NaN                  NaN                   NaN   \n",
       "20                 NaN                  NaN                   NaN   \n",
       "21                 NaN                  NaN                   NaN   \n",
       "22                 NaN                  NaN                   NaN   \n",
       "23                 NaN                  NaN                   NaN   \n",
       "24                 NaN                  NaN                   NaN   \n",
       "25                 NaN                  NaN                   NaN   \n",
       "26                 NaN                  NaN                   NaN   \n",
       "27                 NaN                  NaN                   NaN   \n",
       "28                 NaN                  NaN                   NaN   \n",
       "\n",
       "    Responsivity Fit [DN]   SNR [dB]  SNR [ratio]  SNR Ideal [dB]  \\\n",
       "0               56.483851        NaN          NaN             NaN   \n",
       "1               40.833869  26.572610    21.312310       26.896863   \n",
       "2               72.133833  28.301234    26.005289       28.646458   \n",
       "3              103.433796  29.497636    29.845703       29.890124   \n",
       "4              134.733760  30.412766    33.161814       30.862955   \n",
       "5              166.033724  31.135794    36.040409       31.647281   \n",
       "6              197.333687  31.742923    38.649704       32.318463   \n",
       "7              228.633651  32.259314    41.017170       32.899799   \n",
       "8              259.933615  32.709798    43.200610       33.415931   \n",
       "9              291.233579  33.102606    45.199152       33.873720   \n",
       "10             322.533542  33.461543    47.106099       34.299105   \n",
       "11             353.833506  33.778572    48.857203       34.681069   \n",
       "12                    NaN  34.062137    50.478546       35.028198   \n",
       "13                    NaN  34.331622    52.069225       35.363358   \n",
       "14                    NaN  34.568743    53.510269       35.662900   \n",
       "15                    NaN  34.797162    54.936132       35.955911   \n",
       "16                    NaN  34.999291    56.229541       36.219149   \n",
       "17                    NaN  35.186738    57.456201       36.466837   \n",
       "18                    NaN  35.354558    58.577103       36.691715   \n",
       "19                    NaN  35.518425    59.692703       36.914339   \n",
       "20                    NaN  37.059560    71.281688       39.201161   \n",
       "21                    NaN  37.059560    71.281689       39.201161   \n",
       "22                    NaN  37.059560    71.281689       39.201161   \n",
       "23                    NaN  37.059560    71.281689       39.201161   \n",
       "24                    NaN  37.059560    71.281689       39.201161   \n",
       "25                    NaN  37.059560    71.281689       39.201161   \n",
       "26                    NaN  37.059560    71.281689       39.201161   \n",
       "27                    NaN  37.059560    71.281689       39.201161   \n",
       "28                    NaN  37.059560    71.281689       39.201161   \n",
       "\n",
       "    SNR Ideal [ratio] SNR Theoretical [dB]  SNR Theoretical[ratio]  \n",
       "0                 NaN                  NaN                     NaN  \n",
       "1           22.122955            26.787374               21.845839  \n",
       "2           27.059694            28.572970               26.831719  \n",
       "3           31.225271            29.834820               31.027086  \n",
       "4           34.925912            30.818693               34.748388  \n",
       "5           38.226459            31.610302               38.064058  \n",
       "6           41.297440            32.286759               41.146979  \n",
       "7           44.156021            32.872054               44.015204  \n",
       "8           46.859380            33.391287               46.726616  \n",
       "9           49.395342            33.851535               49.269340  \n",
       "10          51.874655            34.278985               51.754633  \n",
       "11          54.206761            34.662640               54.091869  \n",
       "12          56.416986            35.011181               56.306568  \n",
       "13          58.636482            35.347603               58.530221  \n",
       "14          60.693894            35.648193               60.591216  \n",
       "15          62.776278            35.942163               62.676990  \n",
       "16          64.707919            36.206207               64.611581  \n",
       "17          66.579702            36.454612               66.486060  \n",
       "18          68.325957            36.680106               68.234700  \n",
       "19          70.099825            36.903309               70.010868  \n",
       "20          91.213271            39.194643               91.144852  \n",
       "21          91.213273            39.194643               91.144853  \n",
       "22          91.213273            39.194643               91.144854  \n",
       "23          91.213273            39.194643               91.144854  \n",
       "24          91.213273            39.194643               91.144854  \n",
       "25          91.213273            39.194643               91.144854  \n",
       "26          91.213274            39.194643               91.144854  \n",
       "27          91.213274            39.194643               91.144855  \n",
       "28          91.213274            39.194643               91.144855  \n",
       "\n",
       "[29 rows x 64 columns]"
      ]
     },
     "metadata": {},
     "output_type": "display_data"
    }
   ],
   "source": [
    "# df.rename(columns = {'mean':'meanold'}, inplace = True)\n",
    "#statistics=ptc.get_stats(ptclist, df=df)\n",
    "data, hist, summ=ptc.ptc(ptclist, df_both, exp_col='exp_us')\n",
    "display(data)"
   ]
  },
  {
   "cell_type": "code",
   "execution_count": 15,
   "id": "68f05c8c",
   "metadata": {
    "scrolled": true
   },
   "outputs": [
    {
     "data": {
      "text/html": [
       "<div>\n",
       "<style scoped>\n",
       "    .dataframe tbody tr th:only-of-type {\n",
       "        vertical-align: middle;\n",
       "    }\n",
       "\n",
       "    .dataframe tbody tr th {\n",
       "        vertical-align: top;\n",
       "    }\n",
       "\n",
       "    .dataframe thead th {\n",
       "        text-align: right;\n",
       "    }\n",
       "</style>\n",
       "<table border=\"1\" class=\"dataframe\">\n",
       "  <thead>\n",
       "    <tr style=\"text-align: right;\">\n",
       "      <th></th>\n",
       "      <th>PRNU1288 Number of Pixels/Bin</th>\n",
       "      <th>PRNU1288 Deviation from Mean [DN]</th>\n",
       "      <th>PRNU1288 Model</th>\n",
       "      <th>PRNU1288 Percentage of Pixels/Bin</th>\n",
       "      <th>PRNU1288 Accumulated Deviation from Mean [DN]</th>\n",
       "      <th>DSNU1288 Number of Pixels/Bin</th>\n",
       "      <th>DSNU1288 Deviation from Mean [DN]</th>\n",
       "      <th>DSNU1288 Model</th>\n",
       "      <th>DSNU1288 Percentage of Pixels/Bin</th>\n",
       "      <th>DSNU1288 Accumulated Deviation from Mean [DN]</th>\n",
       "      <th>...</th>\n",
       "      <th>PRNU1288 Max Vertical [DN]</th>\n",
       "      <th>PRNU1288 Min Vertical [DN]</th>\n",
       "      <th>DSNU1288 horizontal cycles [periods/pixel]</th>\n",
       "      <th>DSNU1288 horizontal power spectrum</th>\n",
       "      <th>DSNU1288 vertical cycles [periods/pixel]</th>\n",
       "      <th>DSNU1288 vertical power spectrum</th>\n",
       "      <th>PRNU1288 horizontal cycles [periods/pixel]</th>\n",
       "      <th>PRNU1288 horizontal power spectrum</th>\n",
       "      <th>PRNU1288 vertical cycles [periods/pixel]</th>\n",
       "      <th>PRNU1288 vertical power spectrum</th>\n",
       "    </tr>\n",
       "  </thead>\n",
       "  <tbody>\n",
       "    <tr>\n",
       "      <th>0</th>\n",
       "      <td>-48.00</td>\n",
       "      <td>1</td>\n",
       "      <td>4.495710e-21</td>\n",
       "      <td>0.0</td>\n",
       "      <td>100.000000</td>\n",
       "      <td>-1.828704</td>\n",
       "      <td>373.0</td>\n",
       "      <td>165.502343</td>\n",
       "      <td>0.0</td>\n",
       "      <td>100.000000</td>\n",
       "      <td>...</td>\n",
       "      <td>642.4</td>\n",
       "      <td>515.4</td>\n",
       "      <td>0.000000</td>\n",
       "      <td>2.708933</td>\n",
       "      <td>0.00000</td>\n",
       "      <td>2.548550</td>\n",
       "      <td>0.000000</td>\n",
       "      <td>54.061183</td>\n",
       "      <td>0.00000</td>\n",
       "      <td>157.436279</td>\n",
       "    </tr>\n",
       "    <tr>\n",
       "      <th>1</th>\n",
       "      <td>-47.72</td>\n",
       "      <td>0</td>\n",
       "      <td>8.646212e-21</td>\n",
       "      <td>0.2</td>\n",
       "      <td>96.452481</td>\n",
       "      <td>-0.828704</td>\n",
       "      <td>98819.0</td>\n",
       "      <td>76597.679004</td>\n",
       "      <td>1.0</td>\n",
       "      <td>79.412708</td>\n",
       "      <td>...</td>\n",
       "      <td>638.4</td>\n",
       "      <td>515.8</td>\n",
       "      <td>0.001667</td>\n",
       "      <td>0.813057</td>\n",
       "      <td>0.00125</td>\n",
       "      <td>0.887159</td>\n",
       "      <td>0.001667</td>\n",
       "      <td>79.365388</td>\n",
       "      <td>0.00125</td>\n",
       "      <td>46.466919</td>\n",
       "    </tr>\n",
       "    <tr>\n",
       "      <th>2</th>\n",
       "      <td>-47.44</td>\n",
       "      <td>0</td>\n",
       "      <td>1.656501e-20</td>\n",
       "      <td>0.4</td>\n",
       "      <td>92.957236</td>\n",
       "      <td>0.171296</td>\n",
       "      <td>363555.0</td>\n",
       "      <td>349626.074392</td>\n",
       "      <td>2.0</td>\n",
       "      <td>3.594375</td>\n",
       "      <td>...</td>\n",
       "      <td>638.6</td>\n",
       "      <td>515.8</td>\n",
       "      <td>0.003333</td>\n",
       "      <td>0.604475</td>\n",
       "      <td>0.00250</td>\n",
       "      <td>0.484218</td>\n",
       "      <td>0.003333</td>\n",
       "      <td>42.379744</td>\n",
       "      <td>0.00250</td>\n",
       "      <td>23.418963</td>\n",
       "    </tr>\n",
       "    <tr>\n",
       "      <th>3</th>\n",
       "      <td>-47.16</td>\n",
       "      <td>0</td>\n",
       "      <td>3.161518e-20</td>\n",
       "      <td>0.6</td>\n",
       "      <td>89.422153</td>\n",
       "      <td>1.171296</td>\n",
       "      <td>17204.0</td>\n",
       "      <td>15738.696420</td>\n",
       "      <td>3.0</td>\n",
       "      <td>0.010208</td>\n",
       "      <td>...</td>\n",
       "      <td>635.6</td>\n",
       "      <td>512.0</td>\n",
       "      <td>0.005000</td>\n",
       "      <td>0.461596</td>\n",
       "      <td>0.00375</td>\n",
       "      <td>0.471095</td>\n",
       "      <td>0.005000</td>\n",
       "      <td>26.232177</td>\n",
       "      <td>0.00375</td>\n",
       "      <td>18.653244</td>\n",
       "    </tr>\n",
       "    <tr>\n",
       "      <th>4</th>\n",
       "      <td>-46.88</td>\n",
       "      <td>0</td>\n",
       "      <td>6.010879e-20</td>\n",
       "      <td>0.8</td>\n",
       "      <td>85.848917</td>\n",
       "      <td>2.171296</td>\n",
       "      <td>31.0</td>\n",
       "      <td>6.987317</td>\n",
       "      <td>4.0</td>\n",
       "      <td>0.003750</td>\n",
       "      <td>...</td>\n",
       "      <td>632.0</td>\n",
       "      <td>515.4</td>\n",
       "      <td>0.006667</td>\n",
       "      <td>0.393985</td>\n",
       "      <td>0.00500</td>\n",
       "      <td>0.425473</td>\n",
       "      <td>0.006667</td>\n",
       "      <td>18.852714</td>\n",
       "      <td>0.00500</td>\n",
       "      <td>12.672660</td>\n",
       "    </tr>\n",
       "    <tr>\n",
       "      <th>...</th>\n",
       "      <td>...</td>\n",
       "      <td>...</td>\n",
       "      <td>...</td>\n",
       "      <td>...</td>\n",
       "      <td>...</td>\n",
       "      <td>...</td>\n",
       "      <td>...</td>\n",
       "      <td>...</td>\n",
       "      <td>...</td>\n",
       "      <td>...</td>\n",
       "      <td>...</td>\n",
       "      <td>...</td>\n",
       "      <td>...</td>\n",
       "      <td>...</td>\n",
       "      <td>...</td>\n",
       "      <td>...</td>\n",
       "      <td>...</td>\n",
       "      <td>...</td>\n",
       "      <td>...</td>\n",
       "      <td>...</td>\n",
       "      <td>...</td>\n",
       "    </tr>\n",
       "    <tr>\n",
       "      <th>240</th>\n",
       "      <td>19.20</td>\n",
       "      <td>1</td>\n",
       "      <td>1.447404e+00</td>\n",
       "      <td>48.0</td>\n",
       "      <td>0.000211</td>\n",
       "      <td>NaN</td>\n",
       "      <td>NaN</td>\n",
       "      <td>NaN</td>\n",
       "      <td>NaN</td>\n",
       "      <td>NaN</td>\n",
       "      <td>...</td>\n",
       "      <td>614.4</td>\n",
       "      <td>492.4</td>\n",
       "      <td>0.400000</td>\n",
       "      <td>0.361327</td>\n",
       "      <td>0.30000</td>\n",
       "      <td>0.354319</td>\n",
       "      <td>0.400000</td>\n",
       "      <td>1.010850</td>\n",
       "      <td>0.30000</td>\n",
       "      <td>0.935289</td>\n",
       "    </tr>\n",
       "    <tr>\n",
       "      <th>241</th>\n",
       "      <td>19.48</td>\n",
       "      <td>1</td>\n",
       "      <td>1.111217e+00</td>\n",
       "      <td>NaN</td>\n",
       "      <td>NaN</td>\n",
       "      <td>NaN</td>\n",
       "      <td>NaN</td>\n",
       "      <td>NaN</td>\n",
       "      <td>NaN</td>\n",
       "      <td>NaN</td>\n",
       "      <td>...</td>\n",
       "      <td>616.6</td>\n",
       "      <td>493.4</td>\n",
       "      <td>0.401667</td>\n",
       "      <td>0.372145</td>\n",
       "      <td>0.30125</td>\n",
       "      <td>0.385250</td>\n",
       "      <td>0.401667</td>\n",
       "      <td>0.984150</td>\n",
       "      <td>0.30125</td>\n",
       "      <td>0.930134</td>\n",
       "    </tr>\n",
       "    <tr>\n",
       "      <th>242</th>\n",
       "      <td>19.76</td>\n",
       "      <td>1</td>\n",
       "      <td>8.498574e-01</td>\n",
       "      <td>NaN</td>\n",
       "      <td>NaN</td>\n",
       "      <td>NaN</td>\n",
       "      <td>NaN</td>\n",
       "      <td>NaN</td>\n",
       "      <td>NaN</td>\n",
       "      <td>NaN</td>\n",
       "      <td>...</td>\n",
       "      <td>615.8</td>\n",
       "      <td>495.0</td>\n",
       "      <td>0.403333</td>\n",
       "      <td>0.355296</td>\n",
       "      <td>0.30250</td>\n",
       "      <td>0.388177</td>\n",
       "      <td>0.403333</td>\n",
       "      <td>0.959830</td>\n",
       "      <td>0.30250</td>\n",
       "      <td>0.923461</td>\n",
       "    </tr>\n",
       "    <tr>\n",
       "      <th>243</th>\n",
       "      <td>20.04</td>\n",
       "      <td>1</td>\n",
       "      <td>6.474878e-01</td>\n",
       "      <td>NaN</td>\n",
       "      <td>NaN</td>\n",
       "      <td>NaN</td>\n",
       "      <td>NaN</td>\n",
       "      <td>NaN</td>\n",
       "      <td>NaN</td>\n",
       "      <td>NaN</td>\n",
       "      <td>...</td>\n",
       "      <td>619.4</td>\n",
       "      <td>492.8</td>\n",
       "      <td>0.405000</td>\n",
       "      <td>0.360315</td>\n",
       "      <td>0.30375</td>\n",
       "      <td>0.362744</td>\n",
       "      <td>0.405000</td>\n",
       "      <td>1.072568</td>\n",
       "      <td>0.30375</td>\n",
       "      <td>0.956903</td>\n",
       "    </tr>\n",
       "    <tr>\n",
       "      <th>244</th>\n",
       "      <td>20.32</td>\n",
       "      <td>2</td>\n",
       "      <td>4.914228e-01</td>\n",
       "      <td>NaN</td>\n",
       "      <td>NaN</td>\n",
       "      <td>NaN</td>\n",
       "      <td>NaN</td>\n",
       "      <td>NaN</td>\n",
       "      <td>NaN</td>\n",
       "      <td>NaN</td>\n",
       "      <td>...</td>\n",
       "      <td>616.2</td>\n",
       "      <td>495.6</td>\n",
       "      <td>0.406667</td>\n",
       "      <td>0.350465</td>\n",
       "      <td>0.30500</td>\n",
       "      <td>0.381823</td>\n",
       "      <td>0.406667</td>\n",
       "      <td>0.960310</td>\n",
       "      <td>0.30500</td>\n",
       "      <td>0.962430</td>\n",
       "    </tr>\n",
       "  </tbody>\n",
       "</table>\n",
       "<p>245 rows × 38 columns</p>\n",
       "</div>"
      ],
      "text/plain": [
       "     PRNU1288 Number of Pixels/Bin  PRNU1288 Deviation from Mean [DN]  \\\n",
       "0                           -48.00                                  1   \n",
       "1                           -47.72                                  0   \n",
       "2                           -47.44                                  0   \n",
       "3                           -47.16                                  0   \n",
       "4                           -46.88                                  0   \n",
       "..                             ...                                ...   \n",
       "240                          19.20                                  1   \n",
       "241                          19.48                                  1   \n",
       "242                          19.76                                  1   \n",
       "243                          20.04                                  1   \n",
       "244                          20.32                                  2   \n",
       "\n",
       "     PRNU1288 Model  PRNU1288 Percentage of Pixels/Bin  \\\n",
       "0      4.495710e-21                                0.0   \n",
       "1      8.646212e-21                                0.2   \n",
       "2      1.656501e-20                                0.4   \n",
       "3      3.161518e-20                                0.6   \n",
       "4      6.010879e-20                                0.8   \n",
       "..              ...                                ...   \n",
       "240    1.447404e+00                               48.0   \n",
       "241    1.111217e+00                                NaN   \n",
       "242    8.498574e-01                                NaN   \n",
       "243    6.474878e-01                                NaN   \n",
       "244    4.914228e-01                                NaN   \n",
       "\n",
       "     PRNU1288 Accumulated Deviation from Mean [DN]  \\\n",
       "0                                       100.000000   \n",
       "1                                        96.452481   \n",
       "2                                        92.957236   \n",
       "3                                        89.422153   \n",
       "4                                        85.848917   \n",
       "..                                             ...   \n",
       "240                                       0.000211   \n",
       "241                                            NaN   \n",
       "242                                            NaN   \n",
       "243                                            NaN   \n",
       "244                                            NaN   \n",
       "\n",
       "     DSNU1288 Number of Pixels/Bin  DSNU1288 Deviation from Mean [DN]  \\\n",
       "0                        -1.828704                              373.0   \n",
       "1                        -0.828704                            98819.0   \n",
       "2                         0.171296                           363555.0   \n",
       "3                         1.171296                            17204.0   \n",
       "4                         2.171296                               31.0   \n",
       "..                             ...                                ...   \n",
       "240                            NaN                                NaN   \n",
       "241                            NaN                                NaN   \n",
       "242                            NaN                                NaN   \n",
       "243                            NaN                                NaN   \n",
       "244                            NaN                                NaN   \n",
       "\n",
       "     DSNU1288 Model  DSNU1288 Percentage of Pixels/Bin  \\\n",
       "0        165.502343                                0.0   \n",
       "1      76597.679004                                1.0   \n",
       "2     349626.074392                                2.0   \n",
       "3      15738.696420                                3.0   \n",
       "4          6.987317                                4.0   \n",
       "..              ...                                ...   \n",
       "240             NaN                                NaN   \n",
       "241             NaN                                NaN   \n",
       "242             NaN                                NaN   \n",
       "243             NaN                                NaN   \n",
       "244             NaN                                NaN   \n",
       "\n",
       "     DSNU1288 Accumulated Deviation from Mean [DN]  ...  \\\n",
       "0                                       100.000000  ...   \n",
       "1                                        79.412708  ...   \n",
       "2                                         3.594375  ...   \n",
       "3                                         0.010208  ...   \n",
       "4                                         0.003750  ...   \n",
       "..                                             ...  ...   \n",
       "240                                            NaN  ...   \n",
       "241                                            NaN  ...   \n",
       "242                                            NaN  ...   \n",
       "243                                            NaN  ...   \n",
       "244                                            NaN  ...   \n",
       "\n",
       "     PRNU1288 Max Vertical [DN]  PRNU1288 Min Vertical [DN]  \\\n",
       "0                         642.4                       515.4   \n",
       "1                         638.4                       515.8   \n",
       "2                         638.6                       515.8   \n",
       "3                         635.6                       512.0   \n",
       "4                         632.0                       515.4   \n",
       "..                          ...                         ...   \n",
       "240                       614.4                       492.4   \n",
       "241                       616.6                       493.4   \n",
       "242                       615.8                       495.0   \n",
       "243                       619.4                       492.8   \n",
       "244                       616.2                       495.6   \n",
       "\n",
       "     DSNU1288 horizontal cycles [periods/pixel]  \\\n",
       "0                                      0.000000   \n",
       "1                                      0.001667   \n",
       "2                                      0.003333   \n",
       "3                                      0.005000   \n",
       "4                                      0.006667   \n",
       "..                                          ...   \n",
       "240                                    0.400000   \n",
       "241                                    0.401667   \n",
       "242                                    0.403333   \n",
       "243                                    0.405000   \n",
       "244                                    0.406667   \n",
       "\n",
       "     DSNU1288 horizontal power spectrum  \\\n",
       "0                              2.708933   \n",
       "1                              0.813057   \n",
       "2                              0.604475   \n",
       "3                              0.461596   \n",
       "4                              0.393985   \n",
       "..                                  ...   \n",
       "240                            0.361327   \n",
       "241                            0.372145   \n",
       "242                            0.355296   \n",
       "243                            0.360315   \n",
       "244                            0.350465   \n",
       "\n",
       "     DSNU1288 vertical cycles [periods/pixel]  \\\n",
       "0                                     0.00000   \n",
       "1                                     0.00125   \n",
       "2                                     0.00250   \n",
       "3                                     0.00375   \n",
       "4                                     0.00500   \n",
       "..                                        ...   \n",
       "240                                   0.30000   \n",
       "241                                   0.30125   \n",
       "242                                   0.30250   \n",
       "243                                   0.30375   \n",
       "244                                   0.30500   \n",
       "\n",
       "     DSNU1288 vertical power spectrum  \\\n",
       "0                            2.548550   \n",
       "1                            0.887159   \n",
       "2                            0.484218   \n",
       "3                            0.471095   \n",
       "4                            0.425473   \n",
       "..                                ...   \n",
       "240                          0.354319   \n",
       "241                          0.385250   \n",
       "242                          0.388177   \n",
       "243                          0.362744   \n",
       "244                          0.381823   \n",
       "\n",
       "     PRNU1288 horizontal cycles [periods/pixel]  \\\n",
       "0                                      0.000000   \n",
       "1                                      0.001667   \n",
       "2                                      0.003333   \n",
       "3                                      0.005000   \n",
       "4                                      0.006667   \n",
       "..                                          ...   \n",
       "240                                    0.400000   \n",
       "241                                    0.401667   \n",
       "242                                    0.403333   \n",
       "243                                    0.405000   \n",
       "244                                    0.406667   \n",
       "\n",
       "     PRNU1288 horizontal power spectrum  \\\n",
       "0                             54.061183   \n",
       "1                             79.365388   \n",
       "2                             42.379744   \n",
       "3                             26.232177   \n",
       "4                             18.852714   \n",
       "..                                  ...   \n",
       "240                            1.010850   \n",
       "241                            0.984150   \n",
       "242                            0.959830   \n",
       "243                            1.072568   \n",
       "244                            0.960310   \n",
       "\n",
       "     PRNU1288 vertical cycles [periods/pixel]  \\\n",
       "0                                     0.00000   \n",
       "1                                     0.00125   \n",
       "2                                     0.00250   \n",
       "3                                     0.00375   \n",
       "4                                     0.00500   \n",
       "..                                        ...   \n",
       "240                                   0.30000   \n",
       "241                                   0.30125   \n",
       "242                                   0.30250   \n",
       "243                                   0.30375   \n",
       "244                                   0.30500   \n",
       "\n",
       "     PRNU1288 vertical power spectrum  \n",
       "0                          157.436279  \n",
       "1                           46.466919  \n",
       "2                           23.418963  \n",
       "3                           18.653244  \n",
       "4                           12.672660  \n",
       "..                                ...  \n",
       "240                          0.935289  \n",
       "241                          0.930134  \n",
       "242                          0.923461  \n",
       "243                          0.956903  \n",
       "244                          0.962430  \n",
       "\n",
       "[245 rows x 38 columns]"
      ]
     },
     "metadata": {},
     "output_type": "display_data"
    }
   ],
   "source": [
    "display(hist)"
   ]
  },
  {
   "cell_type": "code",
   "execution_count": 18,
   "id": "e645f5aa",
   "metadata": {
    "scrolled": false
   },
   "outputs": [
    {
     "data": {
      "text/html": [
       "<div>\n",
       "<style scoped>\n",
       "    .dataframe tbody tr th:only-of-type {\n",
       "        vertical-align: middle;\n",
       "    }\n",
       "\n",
       "    .dataframe tbody tr th {\n",
       "        vertical-align: top;\n",
       "    }\n",
       "\n",
       "    .dataframe thead th {\n",
       "        text-align: right;\n",
       "    }\n",
       "</style>\n",
       "<table border=\"1\" class=\"dataframe\">\n",
       "  <thead>\n",
       "    <tr style=\"text-align: right;\">\n",
       "      <th></th>\n",
       "      <th>0</th>\n",
       "    </tr>\n",
       "  </thead>\n",
       "  <tbody>\n",
       "    <tr>\n",
       "      <th>System Gain [DN/e]</th>\n",
       "      <td>0.118478</td>\n",
       "    </tr>\n",
       "    <tr>\n",
       "      <th>Conversion Factor [e/DN]</th>\n",
       "      <td>8.440384</td>\n",
       "    </tr>\n",
       "    <tr>\n",
       "      <th>Dark Noise [DN]</th>\n",
       "      <td>0.777086</td>\n",
       "    </tr>\n",
       "    <tr>\n",
       "      <th>Dark Noise [e]</th>\n",
       "      <td>6.558903</td>\n",
       "    </tr>\n",
       "    <tr>\n",
       "      <th>Col Temp Noise [e]</th>\n",
       "      <td>0.692838</td>\n",
       "    </tr>\n",
       "    <tr>\n",
       "      <th>Row Temp Noise [e]</th>\n",
       "      <td>3.345280</td>\n",
       "    </tr>\n",
       "    <tr>\n",
       "      <th>Pix Temp Noise [e]</th>\n",
       "      <td>6.111243</td>\n",
       "    </tr>\n",
       "    <tr>\n",
       "      <th>Total DSNU [DN]</th>\n",
       "      <td>0.317040</td>\n",
       "    </tr>\n",
       "    <tr>\n",
       "      <th>Row DSNU [DN]</th>\n",
       "      <td>0.092976</td>\n",
       "    </tr>\n",
       "    <tr>\n",
       "      <th>Col DSNU [DN]</th>\n",
       "      <td>0.048324</td>\n",
       "    </tr>\n",
       "    <tr>\n",
       "      <th>Pix DSNU [DN]</th>\n",
       "      <td>0.299475</td>\n",
       "    </tr>\n",
       "    <tr>\n",
       "      <th>Total DSNU [e]</th>\n",
       "      <td>2.675936</td>\n",
       "    </tr>\n",
       "    <tr>\n",
       "      <th>Row DSNU [e]</th>\n",
       "      <td>0.784753</td>\n",
       "    </tr>\n",
       "    <tr>\n",
       "      <th>Col DSNU [e]</th>\n",
       "      <td>0.407876</td>\n",
       "    </tr>\n",
       "    <tr>\n",
       "      <th>Pix DSNU [e]</th>\n",
       "      <td>2.527680</td>\n",
       "    </tr>\n",
       "    <tr>\n",
       "      <th>Linearity Error Max [%]</th>\n",
       "      <td>0.522554</td>\n",
       "    </tr>\n",
       "    <tr>\n",
       "      <th>Linearity Error Max [DN]</th>\n",
       "      <td>2.592271</td>\n",
       "    </tr>\n",
       "    <tr>\n",
       "      <th>Linearity Error Min [%]</th>\n",
       "      <td>-0.452536</td>\n",
       "    </tr>\n",
       "    <tr>\n",
       "      <th>Linearity Error Min [DN]</th>\n",
       "      <td>-1.069755</td>\n",
       "    </tr>\n",
       "    <tr>\n",
       "      <th>Total PRNU1288 [%]</th>\n",
       "      <td>0.873672</td>\n",
       "    </tr>\n",
       "    <tr>\n",
       "      <th>Row PRNU1288 [%]</th>\n",
       "      <td>0.031141</td>\n",
       "    </tr>\n",
       "    <tr>\n",
       "      <th>Col PRNU1288 [%]</th>\n",
       "      <td>0.135159</td>\n",
       "    </tr>\n",
       "    <tr>\n",
       "      <th>Pix PRNU1288 [%]</th>\n",
       "      <td>0.863318</td>\n",
       "    </tr>\n",
       "    <tr>\n",
       "      <th>Responsivity [DN/(['uW/cm^2'])]</th>\n",
       "      <td>0.625999</td>\n",
       "    </tr>\n",
       "    <tr>\n",
       "      <th>Saturation Capacity [e]</th>\n",
       "      <td>4668.436438</td>\n",
       "    </tr>\n",
       "    <tr>\n",
       "      <th>Saturation Capacity [DN]</th>\n",
       "      <td>553.107127</td>\n",
       "    </tr>\n",
       "    <tr>\n",
       "      <th>Sensitivity Threshold [e]</th>\n",
       "      <td>7.077934</td>\n",
       "    </tr>\n",
       "    <tr>\n",
       "      <th>Sensitivity Threshold [DN]</th>\n",
       "      <td>0.838580</td>\n",
       "    </tr>\n",
       "    <tr>\n",
       "      <th>Dynamic Range [ratio]</th>\n",
       "      <td>659.576173</td>\n",
       "    </tr>\n",
       "    <tr>\n",
       "      <th>Dynamic Range [dB]</th>\n",
       "      <td>56.385299</td>\n",
       "    </tr>\n",
       "  </tbody>\n",
       "</table>\n",
       "</div>"
      ],
      "text/plain": [
       "                                           0\n",
       "System Gain [DN/e]                  0.118478\n",
       "Conversion Factor [e/DN]            8.440384\n",
       "Dark Noise [DN]                     0.777086\n",
       "Dark Noise [e]                      6.558903\n",
       "Col Temp Noise [e]                  0.692838\n",
       "Row Temp Noise [e]                  3.345280\n",
       "Pix Temp Noise [e]                  6.111243\n",
       "Total DSNU [DN]                     0.317040\n",
       "Row DSNU [DN]                       0.092976\n",
       "Col DSNU [DN]                       0.048324\n",
       "Pix DSNU [DN]                       0.299475\n",
       "Total DSNU [e]                      2.675936\n",
       "Row DSNU [e]                        0.784753\n",
       "Col DSNU [e]                        0.407876\n",
       "Pix DSNU [e]                        2.527680\n",
       "Linearity Error Max [%]             0.522554\n",
       "Linearity Error Max [DN]            2.592271\n",
       "Linearity Error Min [%]            -0.452536\n",
       "Linearity Error Min [DN]           -1.069755\n",
       "Total PRNU1288 [%]                  0.873672\n",
       "Row PRNU1288 [%]                    0.031141\n",
       "Col PRNU1288 [%]                    0.135159\n",
       "Pix PRNU1288 [%]                    0.863318\n",
       "Responsivity [DN/(['uW/cm^2'])]     0.625999\n",
       "Saturation Capacity [e]          4668.436438\n",
       "Saturation Capacity [DN]          553.107127\n",
       "Sensitivity Threshold [e]           7.077934\n",
       "Sensitivity Threshold [DN]          0.838580\n",
       "Dynamic Range [ratio]             659.576173\n",
       "Dynamic Range [dB]                 56.385299"
      ]
     },
     "metadata": {},
     "output_type": "display_data"
    }
   ],
   "source": [
    "display(summ.T)"
   ]
  },
  {
   "cell_type": "code",
   "execution_count": 19,
   "id": "357590d9",
   "metadata": {},
   "outputs": [
    {
     "ename": "NameError",
     "evalue": "name 'df' is not defined",
     "output_type": "error",
     "traceback": [
      "\u001b[1;31m---------------------------------------------------------------------------\u001b[0m",
      "\u001b[1;31mNameError\u001b[0m                                 Traceback (most recent call last)",
      "\u001b[1;32m~\\AppData\\Local\\Temp\\ipykernel_21404\\1396537375.py\u001b[0m in \u001b[0;36m<module>\u001b[1;34m\u001b[0m\n\u001b[1;32m----> 1\u001b[1;33m \u001b[0mdf\u001b[0m\u001b[1;33m\u001b[0m\u001b[1;33m\u001b[0m\u001b[0m\n\u001b[0m",
      "\u001b[1;31mNameError\u001b[0m: name 'df' is not defined"
     ]
    }
   ],
   "source": [
    "df"
   ]
  },
  {
   "cell_type": "markdown",
   "id": "1c059e5a",
   "metadata": {},
   "source": [
    "plot PTC"
   ]
  },
  {
   "cell_type": "code",
   "execution_count": 41,
   "id": "5ed23ba2",
   "metadata": {},
   "outputs": [
    {
     "data": {
      "application/vnd.plotly.v1+json": {
       "config": {
        "plotlyServerURL": "https://plot.ly"
       },
       "data": [
        {
         "hovertemplate": "variable=Tot Temp Var - Tot Dark Temp Var [DN^2]<br>Signal - Dark [DN]=%{x}<br>value=%{y}<extra></extra>",
         "legendgroup": "Tot Temp Var - Tot Dark Temp Var [DN^2]",
         "line": {
          "color": "#636efa",
          "dash": "solid"
         },
         "marker": {
          "symbol": "circle"
         },
         "mode": "lines",
         "name": "Tot Temp Var - Tot Dark Temp Var [DN^2]",
         "orientation": "v",
         "showlegend": true,
         "type": "scatter",
         "x": [
          57.986125833333325,
          86.75281291666664,
          115.51815208333332,
          144.52178625,
          173.12745125,
          202.06172833333332,
          231.00302041666657,
          260.15422458333336,
          289.07450541666657,
          318.82198000000005,
          348.13262625,
          377.10089333333343,
          407.3555337500003,
          436.4432762500001,
          466.90543916666667,
          496.0810941666668,
          525.1960999999998,
          553.1071266666667,
          582.1992895833336,
          985.7206829166666
         ],
         "xaxis": "x",
         "y": [
          6.311887708333334,
          9.528017916666668,
          12.918009791666666,
          16.411750208333334,
          19.929138749999996,
          23.388629999999992,
          26.899934375000004,
          30.344128333333344,
          33.7972125,
          37.333831874999994,
          40.85011791666667,
          44.11353916666666,
          47.48387208333331,
          50.85231145833333,
          54.30000770833333,
          57.62688979166668,
          60.97906000000002,
          63.97729124999999,
          66.98226354166667,
          -0.6868216666666666
         ],
         "yaxis": "y"
        },
        {
         "hovertemplate": "variable=System Gain Fit [DN^2]<br>Signal - Dark [DN]=%{x}<br>value=%{y}<extra></extra>",
         "legendgroup": "System Gain Fit [DN^2]",
         "line": {
          "color": "#EF553B",
          "dash": "solid"
         },
         "marker": {
          "symbol": "circle"
         },
         "mode": "lines",
         "name": "System Gain Fit [DN^2]",
         "orientation": "v",
         "showlegend": true,
         "type": "scatter",
         "x": [
          57.986125833333325,
          86.75281291666664,
          115.51815208333332,
          144.52178625,
          173.12745125,
          202.06172833333332,
          231.00302041666657,
          260.15422458333336,
          289.07450541666657,
          318.82198000000005,
          348.13262625,
          377.10089333333343,
          407.3555337500003,
          436.4432762500001,
          466.90543916666667,
          496.0810941666668,
          525.1960999999998,
          553.1071266666667,
          582.1992895833336,
          985.7206829166666
         ],
         "xaxis": "x",
         "y": [
          6.357065322795009,
          9.765285579818679,
          13.173346138338493,
          16.609639417706376,
          19.99878209639595,
          23.42685808554546,
          26.855765198036828,
          30.309542279480088,
          33.73596002057919,
          37.26038204305651,
          40.733049507555144,
          null,
          null,
          null,
          null,
          null,
          null,
          null,
          null,
          null
         ],
         "yaxis": "y"
        }
       ],
       "layout": {
        "legend": {
         "title": {
          "text": "variable"
         },
         "tracegroupgap": 0
        },
        "template": {
         "data": {
          "bar": [
           {
            "error_x": {
             "color": "#2a3f5f"
            },
            "error_y": {
             "color": "#2a3f5f"
            },
            "marker": {
             "line": {
              "color": "#E5ECF6",
              "width": 0.5
             },
             "pattern": {
              "fillmode": "overlay",
              "size": 10,
              "solidity": 0.2
             }
            },
            "type": "bar"
           }
          ],
          "barpolar": [
           {
            "marker": {
             "line": {
              "color": "#E5ECF6",
              "width": 0.5
             },
             "pattern": {
              "fillmode": "overlay",
              "size": 10,
              "solidity": 0.2
             }
            },
            "type": "barpolar"
           }
          ],
          "carpet": [
           {
            "aaxis": {
             "endlinecolor": "#2a3f5f",
             "gridcolor": "white",
             "linecolor": "white",
             "minorgridcolor": "white",
             "startlinecolor": "#2a3f5f"
            },
            "baxis": {
             "endlinecolor": "#2a3f5f",
             "gridcolor": "white",
             "linecolor": "white",
             "minorgridcolor": "white",
             "startlinecolor": "#2a3f5f"
            },
            "type": "carpet"
           }
          ],
          "choropleth": [
           {
            "colorbar": {
             "outlinewidth": 0,
             "ticks": ""
            },
            "type": "choropleth"
           }
          ],
          "contour": [
           {
            "colorbar": {
             "outlinewidth": 0,
             "ticks": ""
            },
            "colorscale": [
             [
              0,
              "#0d0887"
             ],
             [
              0.1111111111111111,
              "#46039f"
             ],
             [
              0.2222222222222222,
              "#7201a8"
             ],
             [
              0.3333333333333333,
              "#9c179e"
             ],
             [
              0.4444444444444444,
              "#bd3786"
             ],
             [
              0.5555555555555556,
              "#d8576b"
             ],
             [
              0.6666666666666666,
              "#ed7953"
             ],
             [
              0.7777777777777778,
              "#fb9f3a"
             ],
             [
              0.8888888888888888,
              "#fdca26"
             ],
             [
              1,
              "#f0f921"
             ]
            ],
            "type": "contour"
           }
          ],
          "contourcarpet": [
           {
            "colorbar": {
             "outlinewidth": 0,
             "ticks": ""
            },
            "type": "contourcarpet"
           }
          ],
          "heatmap": [
           {
            "colorbar": {
             "outlinewidth": 0,
             "ticks": ""
            },
            "colorscale": [
             [
              0,
              "#0d0887"
             ],
             [
              0.1111111111111111,
              "#46039f"
             ],
             [
              0.2222222222222222,
              "#7201a8"
             ],
             [
              0.3333333333333333,
              "#9c179e"
             ],
             [
              0.4444444444444444,
              "#bd3786"
             ],
             [
              0.5555555555555556,
              "#d8576b"
             ],
             [
              0.6666666666666666,
              "#ed7953"
             ],
             [
              0.7777777777777778,
              "#fb9f3a"
             ],
             [
              0.8888888888888888,
              "#fdca26"
             ],
             [
              1,
              "#f0f921"
             ]
            ],
            "type": "heatmap"
           }
          ],
          "heatmapgl": [
           {
            "colorbar": {
             "outlinewidth": 0,
             "ticks": ""
            },
            "colorscale": [
             [
              0,
              "#0d0887"
             ],
             [
              0.1111111111111111,
              "#46039f"
             ],
             [
              0.2222222222222222,
              "#7201a8"
             ],
             [
              0.3333333333333333,
              "#9c179e"
             ],
             [
              0.4444444444444444,
              "#bd3786"
             ],
             [
              0.5555555555555556,
              "#d8576b"
             ],
             [
              0.6666666666666666,
              "#ed7953"
             ],
             [
              0.7777777777777778,
              "#fb9f3a"
             ],
             [
              0.8888888888888888,
              "#fdca26"
             ],
             [
              1,
              "#f0f921"
             ]
            ],
            "type": "heatmapgl"
           }
          ],
          "histogram": [
           {
            "marker": {
             "pattern": {
              "fillmode": "overlay",
              "size": 10,
              "solidity": 0.2
             }
            },
            "type": "histogram"
           }
          ],
          "histogram2d": [
           {
            "colorbar": {
             "outlinewidth": 0,
             "ticks": ""
            },
            "colorscale": [
             [
              0,
              "#0d0887"
             ],
             [
              0.1111111111111111,
              "#46039f"
             ],
             [
              0.2222222222222222,
              "#7201a8"
             ],
             [
              0.3333333333333333,
              "#9c179e"
             ],
             [
              0.4444444444444444,
              "#bd3786"
             ],
             [
              0.5555555555555556,
              "#d8576b"
             ],
             [
              0.6666666666666666,
              "#ed7953"
             ],
             [
              0.7777777777777778,
              "#fb9f3a"
             ],
             [
              0.8888888888888888,
              "#fdca26"
             ],
             [
              1,
              "#f0f921"
             ]
            ],
            "type": "histogram2d"
           }
          ],
          "histogram2dcontour": [
           {
            "colorbar": {
             "outlinewidth": 0,
             "ticks": ""
            },
            "colorscale": [
             [
              0,
              "#0d0887"
             ],
             [
              0.1111111111111111,
              "#46039f"
             ],
             [
              0.2222222222222222,
              "#7201a8"
             ],
             [
              0.3333333333333333,
              "#9c179e"
             ],
             [
              0.4444444444444444,
              "#bd3786"
             ],
             [
              0.5555555555555556,
              "#d8576b"
             ],
             [
              0.6666666666666666,
              "#ed7953"
             ],
             [
              0.7777777777777778,
              "#fb9f3a"
             ],
             [
              0.8888888888888888,
              "#fdca26"
             ],
             [
              1,
              "#f0f921"
             ]
            ],
            "type": "histogram2dcontour"
           }
          ],
          "mesh3d": [
           {
            "colorbar": {
             "outlinewidth": 0,
             "ticks": ""
            },
            "type": "mesh3d"
           }
          ],
          "parcoords": [
           {
            "line": {
             "colorbar": {
              "outlinewidth": 0,
              "ticks": ""
             }
            },
            "type": "parcoords"
           }
          ],
          "pie": [
           {
            "automargin": true,
            "type": "pie"
           }
          ],
          "scatter": [
           {
            "marker": {
             "colorbar": {
              "outlinewidth": 0,
              "ticks": ""
             }
            },
            "type": "scatter"
           }
          ],
          "scatter3d": [
           {
            "line": {
             "colorbar": {
              "outlinewidth": 0,
              "ticks": ""
             }
            },
            "marker": {
             "colorbar": {
              "outlinewidth": 0,
              "ticks": ""
             }
            },
            "type": "scatter3d"
           }
          ],
          "scattercarpet": [
           {
            "marker": {
             "colorbar": {
              "outlinewidth": 0,
              "ticks": ""
             }
            },
            "type": "scattercarpet"
           }
          ],
          "scattergeo": [
           {
            "marker": {
             "colorbar": {
              "outlinewidth": 0,
              "ticks": ""
             }
            },
            "type": "scattergeo"
           }
          ],
          "scattergl": [
           {
            "marker": {
             "colorbar": {
              "outlinewidth": 0,
              "ticks": ""
             }
            },
            "type": "scattergl"
           }
          ],
          "scattermapbox": [
           {
            "marker": {
             "colorbar": {
              "outlinewidth": 0,
              "ticks": ""
             }
            },
            "type": "scattermapbox"
           }
          ],
          "scatterpolar": [
           {
            "marker": {
             "colorbar": {
              "outlinewidth": 0,
              "ticks": ""
             }
            },
            "type": "scatterpolar"
           }
          ],
          "scatterpolargl": [
           {
            "marker": {
             "colorbar": {
              "outlinewidth": 0,
              "ticks": ""
             }
            },
            "type": "scatterpolargl"
           }
          ],
          "scatterternary": [
           {
            "marker": {
             "colorbar": {
              "outlinewidth": 0,
              "ticks": ""
             }
            },
            "type": "scatterternary"
           }
          ],
          "surface": [
           {
            "colorbar": {
             "outlinewidth": 0,
             "ticks": ""
            },
            "colorscale": [
             [
              0,
              "#0d0887"
             ],
             [
              0.1111111111111111,
              "#46039f"
             ],
             [
              0.2222222222222222,
              "#7201a8"
             ],
             [
              0.3333333333333333,
              "#9c179e"
             ],
             [
              0.4444444444444444,
              "#bd3786"
             ],
             [
              0.5555555555555556,
              "#d8576b"
             ],
             [
              0.6666666666666666,
              "#ed7953"
             ],
             [
              0.7777777777777778,
              "#fb9f3a"
             ],
             [
              0.8888888888888888,
              "#fdca26"
             ],
             [
              1,
              "#f0f921"
             ]
            ],
            "type": "surface"
           }
          ],
          "table": [
           {
            "cells": {
             "fill": {
              "color": "#EBF0F8"
             },
             "line": {
              "color": "white"
             }
            },
            "header": {
             "fill": {
              "color": "#C8D4E3"
             },
             "line": {
              "color": "white"
             }
            },
            "type": "table"
           }
          ]
         },
         "layout": {
          "annotationdefaults": {
           "arrowcolor": "#2a3f5f",
           "arrowhead": 0,
           "arrowwidth": 1
          },
          "autotypenumbers": "strict",
          "coloraxis": {
           "colorbar": {
            "outlinewidth": 0,
            "ticks": ""
           }
          },
          "colorscale": {
           "diverging": [
            [
             0,
             "#8e0152"
            ],
            [
             0.1,
             "#c51b7d"
            ],
            [
             0.2,
             "#de77ae"
            ],
            [
             0.3,
             "#f1b6da"
            ],
            [
             0.4,
             "#fde0ef"
            ],
            [
             0.5,
             "#f7f7f7"
            ],
            [
             0.6,
             "#e6f5d0"
            ],
            [
             0.7,
             "#b8e186"
            ],
            [
             0.8,
             "#7fbc41"
            ],
            [
             0.9,
             "#4d9221"
            ],
            [
             1,
             "#276419"
            ]
           ],
           "sequential": [
            [
             0,
             "#0d0887"
            ],
            [
             0.1111111111111111,
             "#46039f"
            ],
            [
             0.2222222222222222,
             "#7201a8"
            ],
            [
             0.3333333333333333,
             "#9c179e"
            ],
            [
             0.4444444444444444,
             "#bd3786"
            ],
            [
             0.5555555555555556,
             "#d8576b"
            ],
            [
             0.6666666666666666,
             "#ed7953"
            ],
            [
             0.7777777777777778,
             "#fb9f3a"
            ],
            [
             0.8888888888888888,
             "#fdca26"
            ],
            [
             1,
             "#f0f921"
            ]
           ],
           "sequentialminus": [
            [
             0,
             "#0d0887"
            ],
            [
             0.1111111111111111,
             "#46039f"
            ],
            [
             0.2222222222222222,
             "#7201a8"
            ],
            [
             0.3333333333333333,
             "#9c179e"
            ],
            [
             0.4444444444444444,
             "#bd3786"
            ],
            [
             0.5555555555555556,
             "#d8576b"
            ],
            [
             0.6666666666666666,
             "#ed7953"
            ],
            [
             0.7777777777777778,
             "#fb9f3a"
            ],
            [
             0.8888888888888888,
             "#fdca26"
            ],
            [
             1,
             "#f0f921"
            ]
           ]
          },
          "colorway": [
           "#636efa",
           "#EF553B",
           "#00cc96",
           "#ab63fa",
           "#FFA15A",
           "#19d3f3",
           "#FF6692",
           "#B6E880",
           "#FF97FF",
           "#FECB52"
          ],
          "font": {
           "color": "#2a3f5f"
          },
          "geo": {
           "bgcolor": "white",
           "lakecolor": "white",
           "landcolor": "#E5ECF6",
           "showlakes": true,
           "showland": true,
           "subunitcolor": "white"
          },
          "hoverlabel": {
           "align": "left"
          },
          "hovermode": "closest",
          "mapbox": {
           "style": "light"
          },
          "paper_bgcolor": "white",
          "plot_bgcolor": "#E5ECF6",
          "polar": {
           "angularaxis": {
            "gridcolor": "white",
            "linecolor": "white",
            "ticks": ""
           },
           "bgcolor": "#E5ECF6",
           "radialaxis": {
            "gridcolor": "white",
            "linecolor": "white",
            "ticks": ""
           }
          },
          "scene": {
           "xaxis": {
            "backgroundcolor": "#E5ECF6",
            "gridcolor": "white",
            "gridwidth": 2,
            "linecolor": "white",
            "showbackground": true,
            "ticks": "",
            "zerolinecolor": "white"
           },
           "yaxis": {
            "backgroundcolor": "#E5ECF6",
            "gridcolor": "white",
            "gridwidth": 2,
            "linecolor": "white",
            "showbackground": true,
            "ticks": "",
            "zerolinecolor": "white"
           },
           "zaxis": {
            "backgroundcolor": "#E5ECF6",
            "gridcolor": "white",
            "gridwidth": 2,
            "linecolor": "white",
            "showbackground": true,
            "ticks": "",
            "zerolinecolor": "white"
           }
          },
          "shapedefaults": {
           "line": {
            "color": "#2a3f5f"
           }
          },
          "ternary": {
           "aaxis": {
            "gridcolor": "white",
            "linecolor": "white",
            "ticks": ""
           },
           "baxis": {
            "gridcolor": "white",
            "linecolor": "white",
            "ticks": ""
           },
           "bgcolor": "#E5ECF6",
           "caxis": {
            "gridcolor": "white",
            "linecolor": "white",
            "ticks": ""
           }
          },
          "title": {
           "x": 0.05
          },
          "xaxis": {
           "automargin": true,
           "gridcolor": "white",
           "linecolor": "white",
           "ticks": "",
           "title": {
            "standoff": 15
           },
           "zerolinecolor": "white",
           "zerolinewidth": 2
          },
          "yaxis": {
           "automargin": true,
           "gridcolor": "white",
           "linecolor": "white",
           "ticks": "",
           "title": {
            "standoff": 15
           },
           "zerolinecolor": "white",
           "zerolinewidth": 2
          }
         }
        },
        "title": {
         "text": "Photon transfer curve (PTC)"
        },
        "xaxis": {
         "anchor": "y",
         "domain": [
          0,
          1
         ],
         "rangemode": "nonnegative",
         "title": {
          "text": "Signal - Dark [DN]"
         }
        },
        "yaxis": {
         "anchor": "x",
         "domain": [
          0,
          1
         ],
         "rangemode": "nonnegative",
         "title": {
          "text": "value"
         }
        }
       }
      },
      "text/html": [
       "<div>                            <div id=\"ac8a71e6-ee77-4821-8dc8-19db773a190f\" class=\"plotly-graph-div\" style=\"height:525px; width:100%;\"></div>            <script type=\"text/javascript\">                require([\"plotly\"], function(Plotly) {                    window.PLOTLYENV=window.PLOTLYENV || {};                                    if (document.getElementById(\"ac8a71e6-ee77-4821-8dc8-19db773a190f\")) {                    Plotly.newPlot(                        \"ac8a71e6-ee77-4821-8dc8-19db773a190f\",                        [{\"hovertemplate\":\"variable=Tot Temp Var - Tot Dark Temp Var [DN^2]<br>Signal - Dark [DN]=%{x}<br>value=%{y}<extra></extra>\",\"legendgroup\":\"Tot Temp Var - Tot Dark Temp Var [DN^2]\",\"line\":{\"color\":\"#636efa\",\"dash\":\"solid\"},\"marker\":{\"symbol\":\"circle\"},\"mode\":\"lines\",\"name\":\"Tot Temp Var - Tot Dark Temp Var [DN^2]\",\"orientation\":\"v\",\"showlegend\":true,\"x\":[57.986125833333325,86.75281291666664,115.51815208333332,144.52178625,173.12745125,202.06172833333332,231.00302041666657,260.15422458333336,289.07450541666657,318.82198000000005,348.13262625,377.10089333333343,407.3555337500003,436.4432762500001,466.90543916666667,496.0810941666668,525.1960999999998,553.1071266666667,582.1992895833336,985.7206829166666],\"xaxis\":\"x\",\"y\":[6.311887708333334,9.528017916666668,12.918009791666666,16.411750208333334,19.929138749999996,23.388629999999992,26.899934375000004,30.344128333333344,33.7972125,37.333831874999994,40.85011791666667,44.11353916666666,47.48387208333331,50.85231145833333,54.30000770833333,57.62688979166668,60.97906000000002,63.97729124999999,66.98226354166667,-0.6868216666666666],\"yaxis\":\"y\",\"type\":\"scatter\"},{\"hovertemplate\":\"variable=System Gain Fit [DN^2]<br>Signal - Dark [DN]=%{x}<br>value=%{y}<extra></extra>\",\"legendgroup\":\"System Gain Fit [DN^2]\",\"line\":{\"color\":\"#EF553B\",\"dash\":\"solid\"},\"marker\":{\"symbol\":\"circle\"},\"mode\":\"lines\",\"name\":\"System Gain Fit [DN^2]\",\"orientation\":\"v\",\"showlegend\":true,\"x\":[57.986125833333325,86.75281291666664,115.51815208333332,144.52178625,173.12745125,202.06172833333332,231.00302041666657,260.15422458333336,289.07450541666657,318.82198000000005,348.13262625,377.10089333333343,407.3555337500003,436.4432762500001,466.90543916666667,496.0810941666668,525.1960999999998,553.1071266666667,582.1992895833336,985.7206829166666],\"xaxis\":\"x\",\"y\":[6.357065322795009,9.765285579818679,13.173346138338493,16.609639417706376,19.99878209639595,23.42685808554546,26.855765198036828,30.309542279480088,33.73596002057919,37.26038204305651,40.733049507555144,null,null,null,null,null,null,null,null,null],\"yaxis\":\"y\",\"type\":\"scatter\"}],                        {\"template\":{\"data\":{\"bar\":[{\"error_x\":{\"color\":\"#2a3f5f\"},\"error_y\":{\"color\":\"#2a3f5f\"},\"marker\":{\"line\":{\"color\":\"#E5ECF6\",\"width\":0.5},\"pattern\":{\"fillmode\":\"overlay\",\"size\":10,\"solidity\":0.2}},\"type\":\"bar\"}],\"barpolar\":[{\"marker\":{\"line\":{\"color\":\"#E5ECF6\",\"width\":0.5},\"pattern\":{\"fillmode\":\"overlay\",\"size\":10,\"solidity\":0.2}},\"type\":\"barpolar\"}],\"carpet\":[{\"aaxis\":{\"endlinecolor\":\"#2a3f5f\",\"gridcolor\":\"white\",\"linecolor\":\"white\",\"minorgridcolor\":\"white\",\"startlinecolor\":\"#2a3f5f\"},\"baxis\":{\"endlinecolor\":\"#2a3f5f\",\"gridcolor\":\"white\",\"linecolor\":\"white\",\"minorgridcolor\":\"white\",\"startlinecolor\":\"#2a3f5f\"},\"type\":\"carpet\"}],\"choropleth\":[{\"colorbar\":{\"outlinewidth\":0,\"ticks\":\"\"},\"type\":\"choropleth\"}],\"contour\":[{\"colorbar\":{\"outlinewidth\":0,\"ticks\":\"\"},\"colorscale\":[[0.0,\"#0d0887\"],[0.1111111111111111,\"#46039f\"],[0.2222222222222222,\"#7201a8\"],[0.3333333333333333,\"#9c179e\"],[0.4444444444444444,\"#bd3786\"],[0.5555555555555556,\"#d8576b\"],[0.6666666666666666,\"#ed7953\"],[0.7777777777777778,\"#fb9f3a\"],[0.8888888888888888,\"#fdca26\"],[1.0,\"#f0f921\"]],\"type\":\"contour\"}],\"contourcarpet\":[{\"colorbar\":{\"outlinewidth\":0,\"ticks\":\"\"},\"type\":\"contourcarpet\"}],\"heatmap\":[{\"colorbar\":{\"outlinewidth\":0,\"ticks\":\"\"},\"colorscale\":[[0.0,\"#0d0887\"],[0.1111111111111111,\"#46039f\"],[0.2222222222222222,\"#7201a8\"],[0.3333333333333333,\"#9c179e\"],[0.4444444444444444,\"#bd3786\"],[0.5555555555555556,\"#d8576b\"],[0.6666666666666666,\"#ed7953\"],[0.7777777777777778,\"#fb9f3a\"],[0.8888888888888888,\"#fdca26\"],[1.0,\"#f0f921\"]],\"type\":\"heatmap\"}],\"heatmapgl\":[{\"colorbar\":{\"outlinewidth\":0,\"ticks\":\"\"},\"colorscale\":[[0.0,\"#0d0887\"],[0.1111111111111111,\"#46039f\"],[0.2222222222222222,\"#7201a8\"],[0.3333333333333333,\"#9c179e\"],[0.4444444444444444,\"#bd3786\"],[0.5555555555555556,\"#d8576b\"],[0.6666666666666666,\"#ed7953\"],[0.7777777777777778,\"#fb9f3a\"],[0.8888888888888888,\"#fdca26\"],[1.0,\"#f0f921\"]],\"type\":\"heatmapgl\"}],\"histogram\":[{\"marker\":{\"pattern\":{\"fillmode\":\"overlay\",\"size\":10,\"solidity\":0.2}},\"type\":\"histogram\"}],\"histogram2d\":[{\"colorbar\":{\"outlinewidth\":0,\"ticks\":\"\"},\"colorscale\":[[0.0,\"#0d0887\"],[0.1111111111111111,\"#46039f\"],[0.2222222222222222,\"#7201a8\"],[0.3333333333333333,\"#9c179e\"],[0.4444444444444444,\"#bd3786\"],[0.5555555555555556,\"#d8576b\"],[0.6666666666666666,\"#ed7953\"],[0.7777777777777778,\"#fb9f3a\"],[0.8888888888888888,\"#fdca26\"],[1.0,\"#f0f921\"]],\"type\":\"histogram2d\"}],\"histogram2dcontour\":[{\"colorbar\":{\"outlinewidth\":0,\"ticks\":\"\"},\"colorscale\":[[0.0,\"#0d0887\"],[0.1111111111111111,\"#46039f\"],[0.2222222222222222,\"#7201a8\"],[0.3333333333333333,\"#9c179e\"],[0.4444444444444444,\"#bd3786\"],[0.5555555555555556,\"#d8576b\"],[0.6666666666666666,\"#ed7953\"],[0.7777777777777778,\"#fb9f3a\"],[0.8888888888888888,\"#fdca26\"],[1.0,\"#f0f921\"]],\"type\":\"histogram2dcontour\"}],\"mesh3d\":[{\"colorbar\":{\"outlinewidth\":0,\"ticks\":\"\"},\"type\":\"mesh3d\"}],\"parcoords\":[{\"line\":{\"colorbar\":{\"outlinewidth\":0,\"ticks\":\"\"}},\"type\":\"parcoords\"}],\"pie\":[{\"automargin\":true,\"type\":\"pie\"}],\"scatter\":[{\"marker\":{\"colorbar\":{\"outlinewidth\":0,\"ticks\":\"\"}},\"type\":\"scatter\"}],\"scatter3d\":[{\"line\":{\"colorbar\":{\"outlinewidth\":0,\"ticks\":\"\"}},\"marker\":{\"colorbar\":{\"outlinewidth\":0,\"ticks\":\"\"}},\"type\":\"scatter3d\"}],\"scattercarpet\":[{\"marker\":{\"colorbar\":{\"outlinewidth\":0,\"ticks\":\"\"}},\"type\":\"scattercarpet\"}],\"scattergeo\":[{\"marker\":{\"colorbar\":{\"outlinewidth\":0,\"ticks\":\"\"}},\"type\":\"scattergeo\"}],\"scattergl\":[{\"marker\":{\"colorbar\":{\"outlinewidth\":0,\"ticks\":\"\"}},\"type\":\"scattergl\"}],\"scattermapbox\":[{\"marker\":{\"colorbar\":{\"outlinewidth\":0,\"ticks\":\"\"}},\"type\":\"scattermapbox\"}],\"scatterpolar\":[{\"marker\":{\"colorbar\":{\"outlinewidth\":0,\"ticks\":\"\"}},\"type\":\"scatterpolar\"}],\"scatterpolargl\":[{\"marker\":{\"colorbar\":{\"outlinewidth\":0,\"ticks\":\"\"}},\"type\":\"scatterpolargl\"}],\"scatterternary\":[{\"marker\":{\"colorbar\":{\"outlinewidth\":0,\"ticks\":\"\"}},\"type\":\"scatterternary\"}],\"surface\":[{\"colorbar\":{\"outlinewidth\":0,\"ticks\":\"\"},\"colorscale\":[[0.0,\"#0d0887\"],[0.1111111111111111,\"#46039f\"],[0.2222222222222222,\"#7201a8\"],[0.3333333333333333,\"#9c179e\"],[0.4444444444444444,\"#bd3786\"],[0.5555555555555556,\"#d8576b\"],[0.6666666666666666,\"#ed7953\"],[0.7777777777777778,\"#fb9f3a\"],[0.8888888888888888,\"#fdca26\"],[1.0,\"#f0f921\"]],\"type\":\"surface\"}],\"table\":[{\"cells\":{\"fill\":{\"color\":\"#EBF0F8\"},\"line\":{\"color\":\"white\"}},\"header\":{\"fill\":{\"color\":\"#C8D4E3\"},\"line\":{\"color\":\"white\"}},\"type\":\"table\"}]},\"layout\":{\"annotationdefaults\":{\"arrowcolor\":\"#2a3f5f\",\"arrowhead\":0,\"arrowwidth\":1},\"autotypenumbers\":\"strict\",\"coloraxis\":{\"colorbar\":{\"outlinewidth\":0,\"ticks\":\"\"}},\"colorscale\":{\"diverging\":[[0,\"#8e0152\"],[0.1,\"#c51b7d\"],[0.2,\"#de77ae\"],[0.3,\"#f1b6da\"],[0.4,\"#fde0ef\"],[0.5,\"#f7f7f7\"],[0.6,\"#e6f5d0\"],[0.7,\"#b8e186\"],[0.8,\"#7fbc41\"],[0.9,\"#4d9221\"],[1,\"#276419\"]],\"sequential\":[[0.0,\"#0d0887\"],[0.1111111111111111,\"#46039f\"],[0.2222222222222222,\"#7201a8\"],[0.3333333333333333,\"#9c179e\"],[0.4444444444444444,\"#bd3786\"],[0.5555555555555556,\"#d8576b\"],[0.6666666666666666,\"#ed7953\"],[0.7777777777777778,\"#fb9f3a\"],[0.8888888888888888,\"#fdca26\"],[1.0,\"#f0f921\"]],\"sequentialminus\":[[0.0,\"#0d0887\"],[0.1111111111111111,\"#46039f\"],[0.2222222222222222,\"#7201a8\"],[0.3333333333333333,\"#9c179e\"],[0.4444444444444444,\"#bd3786\"],[0.5555555555555556,\"#d8576b\"],[0.6666666666666666,\"#ed7953\"],[0.7777777777777778,\"#fb9f3a\"],[0.8888888888888888,\"#fdca26\"],[1.0,\"#f0f921\"]]},\"colorway\":[\"#636efa\",\"#EF553B\",\"#00cc96\",\"#ab63fa\",\"#FFA15A\",\"#19d3f3\",\"#FF6692\",\"#B6E880\",\"#FF97FF\",\"#FECB52\"],\"font\":{\"color\":\"#2a3f5f\"},\"geo\":{\"bgcolor\":\"white\",\"lakecolor\":\"white\",\"landcolor\":\"#E5ECF6\",\"showlakes\":true,\"showland\":true,\"subunitcolor\":\"white\"},\"hoverlabel\":{\"align\":\"left\"},\"hovermode\":\"closest\",\"mapbox\":{\"style\":\"light\"},\"paper_bgcolor\":\"white\",\"plot_bgcolor\":\"#E5ECF6\",\"polar\":{\"angularaxis\":{\"gridcolor\":\"white\",\"linecolor\":\"white\",\"ticks\":\"\"},\"bgcolor\":\"#E5ECF6\",\"radialaxis\":{\"gridcolor\":\"white\",\"linecolor\":\"white\",\"ticks\":\"\"}},\"scene\":{\"xaxis\":{\"backgroundcolor\":\"#E5ECF6\",\"gridcolor\":\"white\",\"gridwidth\":2,\"linecolor\":\"white\",\"showbackground\":true,\"ticks\":\"\",\"zerolinecolor\":\"white\"},\"yaxis\":{\"backgroundcolor\":\"#E5ECF6\",\"gridcolor\":\"white\",\"gridwidth\":2,\"linecolor\":\"white\",\"showbackground\":true,\"ticks\":\"\",\"zerolinecolor\":\"white\"},\"zaxis\":{\"backgroundcolor\":\"#E5ECF6\",\"gridcolor\":\"white\",\"gridwidth\":2,\"linecolor\":\"white\",\"showbackground\":true,\"ticks\":\"\",\"zerolinecolor\":\"white\"}},\"shapedefaults\":{\"line\":{\"color\":\"#2a3f5f\"}},\"ternary\":{\"aaxis\":{\"gridcolor\":\"white\",\"linecolor\":\"white\",\"ticks\":\"\"},\"baxis\":{\"gridcolor\":\"white\",\"linecolor\":\"white\",\"ticks\":\"\"},\"bgcolor\":\"#E5ECF6\",\"caxis\":{\"gridcolor\":\"white\",\"linecolor\":\"white\",\"ticks\":\"\"}},\"title\":{\"x\":0.05},\"xaxis\":{\"automargin\":true,\"gridcolor\":\"white\",\"linecolor\":\"white\",\"ticks\":\"\",\"title\":{\"standoff\":15},\"zerolinecolor\":\"white\",\"zerolinewidth\":2},\"yaxis\":{\"automargin\":true,\"gridcolor\":\"white\",\"linecolor\":\"white\",\"ticks\":\"\",\"title\":{\"standoff\":15},\"zerolinecolor\":\"white\",\"zerolinewidth\":2}}},\"xaxis\":{\"anchor\":\"y\",\"domain\":[0.0,1.0],\"title\":{\"text\":\"Signal - Dark [DN]\"},\"rangemode\":\"nonnegative\"},\"yaxis\":{\"anchor\":\"x\",\"domain\":[0.0,1.0],\"title\":{\"text\":\"value\"},\"rangemode\":\"nonnegative\"},\"legend\":{\"title\":{\"text\":\"variable\"},\"tracegroupgap\":0},\"title\":{\"text\":\"Photon transfer curve (PTC)\"}},                        {\"responsive\": true}                    ).then(function(){\n",
       "                            \n",
       "var gd = document.getElementById('ac8a71e6-ee77-4821-8dc8-19db773a190f');\n",
       "var x = new MutationObserver(function (mutations, observer) {{\n",
       "        var display = window.getComputedStyle(gd).display;\n",
       "        if (!display || display === 'none') {{\n",
       "            console.log([gd, 'removed!']);\n",
       "            Plotly.purge(gd);\n",
       "            observer.disconnect();\n",
       "        }}\n",
       "}});\n",
       "\n",
       "// Listen for the removal of the full notebook cells\n",
       "var notebookContainer = gd.closest('#notebook-container');\n",
       "if (notebookContainer) {{\n",
       "    x.observe(notebookContainer, {childList: true});\n",
       "}}\n",
       "\n",
       "// Listen for the clearing of the current output cell\n",
       "var outputEl = gd.closest('.output');\n",
       "if (outputEl) {{\n",
       "    x.observe(outputEl, {childList: true});\n",
       "}}\n",
       "\n",
       "                        })                };                });            </script>        </div>"
      ]
     },
     "metadata": {},
     "output_type": "display_data"
    }
   ],
   "source": [
    "fig = px.line(data, x='Signal - Dark [DN]', y=['Tot Temp Var - Tot Dark Temp Var [DN^2]','System Gain Fit [DN^2]'], \n",
    "              title='Photon transfer curve (PTC)')\n",
    "fig.update_xaxes(rangemode=\"nonnegative\")\n",
    "fig.update_yaxes(rangemode=\"nonnegative\")\n",
    "fig.show()"
   ]
  },
  {
   "cell_type": "code",
   "execution_count": 38,
   "id": "5773e60d",
   "metadata": {},
   "outputs": [
    {
     "data": {
      "application/vnd.plotly.v1+json": {
       "config": {
        "plotlyServerURL": "https://plot.ly"
       },
       "data": [
        {
         "hovertemplate": "exp_us=%{x}<br>Linearity Error [%]=%{y}<extra></extra>",
         "legendgroup": "",
         "line": {
          "color": "#636efa",
          "dash": "solid"
         },
         "marker": {
          "symbol": "circle"
         },
         "mode": "lines",
         "name": "",
         "orientation": "v",
         "showlegend": false,
         "type": "scatter",
         "x": [
          100,
          150,
          200,
          250,
          300,
          350,
          400,
          450,
          500,
          550,
          600,
          650,
          700,
          750,
          800,
          850,
          900,
          950,
          1000,
          3000,
          7000
         ],
         "xaxis": "x",
         "y": [
          0.5225542010760982,
          0.012306383662518398,
          -0.24303373783710924,
          -0.23143090491154922,
          -0.45253563565323923,
          -0.4484334245260695,
          -0.44233534345207565,
          -0.35719528141859824,
          -0.36869762344768303,
          -0.1189612857336392,
          -0.03633106205233973,
          -0.05716822716315239,
          0.24152358519009665,
          0.23236390541822965,
          0.5202497407776407,
          0.5135710711340528,
          0.4960298968768392,
          0.26209051112970533,
          null,
          null,
          null
         ],
         "yaxis": "y"
        }
       ],
       "layout": {
        "legend": {
         "tracegroupgap": 0
        },
        "template": {
         "data": {
          "bar": [
           {
            "error_x": {
             "color": "#2a3f5f"
            },
            "error_y": {
             "color": "#2a3f5f"
            },
            "marker": {
             "line": {
              "color": "#E5ECF6",
              "width": 0.5
             },
             "pattern": {
              "fillmode": "overlay",
              "size": 10,
              "solidity": 0.2
             }
            },
            "type": "bar"
           }
          ],
          "barpolar": [
           {
            "marker": {
             "line": {
              "color": "#E5ECF6",
              "width": 0.5
             },
             "pattern": {
              "fillmode": "overlay",
              "size": 10,
              "solidity": 0.2
             }
            },
            "type": "barpolar"
           }
          ],
          "carpet": [
           {
            "aaxis": {
             "endlinecolor": "#2a3f5f",
             "gridcolor": "white",
             "linecolor": "white",
             "minorgridcolor": "white",
             "startlinecolor": "#2a3f5f"
            },
            "baxis": {
             "endlinecolor": "#2a3f5f",
             "gridcolor": "white",
             "linecolor": "white",
             "minorgridcolor": "white",
             "startlinecolor": "#2a3f5f"
            },
            "type": "carpet"
           }
          ],
          "choropleth": [
           {
            "colorbar": {
             "outlinewidth": 0,
             "ticks": ""
            },
            "type": "choropleth"
           }
          ],
          "contour": [
           {
            "colorbar": {
             "outlinewidth": 0,
             "ticks": ""
            },
            "colorscale": [
             [
              0,
              "#0d0887"
             ],
             [
              0.1111111111111111,
              "#46039f"
             ],
             [
              0.2222222222222222,
              "#7201a8"
             ],
             [
              0.3333333333333333,
              "#9c179e"
             ],
             [
              0.4444444444444444,
              "#bd3786"
             ],
             [
              0.5555555555555556,
              "#d8576b"
             ],
             [
              0.6666666666666666,
              "#ed7953"
             ],
             [
              0.7777777777777778,
              "#fb9f3a"
             ],
             [
              0.8888888888888888,
              "#fdca26"
             ],
             [
              1,
              "#f0f921"
             ]
            ],
            "type": "contour"
           }
          ],
          "contourcarpet": [
           {
            "colorbar": {
             "outlinewidth": 0,
             "ticks": ""
            },
            "type": "contourcarpet"
           }
          ],
          "heatmap": [
           {
            "colorbar": {
             "outlinewidth": 0,
             "ticks": ""
            },
            "colorscale": [
             [
              0,
              "#0d0887"
             ],
             [
              0.1111111111111111,
              "#46039f"
             ],
             [
              0.2222222222222222,
              "#7201a8"
             ],
             [
              0.3333333333333333,
              "#9c179e"
             ],
             [
              0.4444444444444444,
              "#bd3786"
             ],
             [
              0.5555555555555556,
              "#d8576b"
             ],
             [
              0.6666666666666666,
              "#ed7953"
             ],
             [
              0.7777777777777778,
              "#fb9f3a"
             ],
             [
              0.8888888888888888,
              "#fdca26"
             ],
             [
              1,
              "#f0f921"
             ]
            ],
            "type": "heatmap"
           }
          ],
          "heatmapgl": [
           {
            "colorbar": {
             "outlinewidth": 0,
             "ticks": ""
            },
            "colorscale": [
             [
              0,
              "#0d0887"
             ],
             [
              0.1111111111111111,
              "#46039f"
             ],
             [
              0.2222222222222222,
              "#7201a8"
             ],
             [
              0.3333333333333333,
              "#9c179e"
             ],
             [
              0.4444444444444444,
              "#bd3786"
             ],
             [
              0.5555555555555556,
              "#d8576b"
             ],
             [
              0.6666666666666666,
              "#ed7953"
             ],
             [
              0.7777777777777778,
              "#fb9f3a"
             ],
             [
              0.8888888888888888,
              "#fdca26"
             ],
             [
              1,
              "#f0f921"
             ]
            ],
            "type": "heatmapgl"
           }
          ],
          "histogram": [
           {
            "marker": {
             "pattern": {
              "fillmode": "overlay",
              "size": 10,
              "solidity": 0.2
             }
            },
            "type": "histogram"
           }
          ],
          "histogram2d": [
           {
            "colorbar": {
             "outlinewidth": 0,
             "ticks": ""
            },
            "colorscale": [
             [
              0,
              "#0d0887"
             ],
             [
              0.1111111111111111,
              "#46039f"
             ],
             [
              0.2222222222222222,
              "#7201a8"
             ],
             [
              0.3333333333333333,
              "#9c179e"
             ],
             [
              0.4444444444444444,
              "#bd3786"
             ],
             [
              0.5555555555555556,
              "#d8576b"
             ],
             [
              0.6666666666666666,
              "#ed7953"
             ],
             [
              0.7777777777777778,
              "#fb9f3a"
             ],
             [
              0.8888888888888888,
              "#fdca26"
             ],
             [
              1,
              "#f0f921"
             ]
            ],
            "type": "histogram2d"
           }
          ],
          "histogram2dcontour": [
           {
            "colorbar": {
             "outlinewidth": 0,
             "ticks": ""
            },
            "colorscale": [
             [
              0,
              "#0d0887"
             ],
             [
              0.1111111111111111,
              "#46039f"
             ],
             [
              0.2222222222222222,
              "#7201a8"
             ],
             [
              0.3333333333333333,
              "#9c179e"
             ],
             [
              0.4444444444444444,
              "#bd3786"
             ],
             [
              0.5555555555555556,
              "#d8576b"
             ],
             [
              0.6666666666666666,
              "#ed7953"
             ],
             [
              0.7777777777777778,
              "#fb9f3a"
             ],
             [
              0.8888888888888888,
              "#fdca26"
             ],
             [
              1,
              "#f0f921"
             ]
            ],
            "type": "histogram2dcontour"
           }
          ],
          "mesh3d": [
           {
            "colorbar": {
             "outlinewidth": 0,
             "ticks": ""
            },
            "type": "mesh3d"
           }
          ],
          "parcoords": [
           {
            "line": {
             "colorbar": {
              "outlinewidth": 0,
              "ticks": ""
             }
            },
            "type": "parcoords"
           }
          ],
          "pie": [
           {
            "automargin": true,
            "type": "pie"
           }
          ],
          "scatter": [
           {
            "marker": {
             "colorbar": {
              "outlinewidth": 0,
              "ticks": ""
             }
            },
            "type": "scatter"
           }
          ],
          "scatter3d": [
           {
            "line": {
             "colorbar": {
              "outlinewidth": 0,
              "ticks": ""
             }
            },
            "marker": {
             "colorbar": {
              "outlinewidth": 0,
              "ticks": ""
             }
            },
            "type": "scatter3d"
           }
          ],
          "scattercarpet": [
           {
            "marker": {
             "colorbar": {
              "outlinewidth": 0,
              "ticks": ""
             }
            },
            "type": "scattercarpet"
           }
          ],
          "scattergeo": [
           {
            "marker": {
             "colorbar": {
              "outlinewidth": 0,
              "ticks": ""
             }
            },
            "type": "scattergeo"
           }
          ],
          "scattergl": [
           {
            "marker": {
             "colorbar": {
              "outlinewidth": 0,
              "ticks": ""
             }
            },
            "type": "scattergl"
           }
          ],
          "scattermapbox": [
           {
            "marker": {
             "colorbar": {
              "outlinewidth": 0,
              "ticks": ""
             }
            },
            "type": "scattermapbox"
           }
          ],
          "scatterpolar": [
           {
            "marker": {
             "colorbar": {
              "outlinewidth": 0,
              "ticks": ""
             }
            },
            "type": "scatterpolar"
           }
          ],
          "scatterpolargl": [
           {
            "marker": {
             "colorbar": {
              "outlinewidth": 0,
              "ticks": ""
             }
            },
            "type": "scatterpolargl"
           }
          ],
          "scatterternary": [
           {
            "marker": {
             "colorbar": {
              "outlinewidth": 0,
              "ticks": ""
             }
            },
            "type": "scatterternary"
           }
          ],
          "surface": [
           {
            "colorbar": {
             "outlinewidth": 0,
             "ticks": ""
            },
            "colorscale": [
             [
              0,
              "#0d0887"
             ],
             [
              0.1111111111111111,
              "#46039f"
             ],
             [
              0.2222222222222222,
              "#7201a8"
             ],
             [
              0.3333333333333333,
              "#9c179e"
             ],
             [
              0.4444444444444444,
              "#bd3786"
             ],
             [
              0.5555555555555556,
              "#d8576b"
             ],
             [
              0.6666666666666666,
              "#ed7953"
             ],
             [
              0.7777777777777778,
              "#fb9f3a"
             ],
             [
              0.8888888888888888,
              "#fdca26"
             ],
             [
              1,
              "#f0f921"
             ]
            ],
            "type": "surface"
           }
          ],
          "table": [
           {
            "cells": {
             "fill": {
              "color": "#EBF0F8"
             },
             "line": {
              "color": "white"
             }
            },
            "header": {
             "fill": {
              "color": "#C8D4E3"
             },
             "line": {
              "color": "white"
             }
            },
            "type": "table"
           }
          ]
         },
         "layout": {
          "annotationdefaults": {
           "arrowcolor": "#2a3f5f",
           "arrowhead": 0,
           "arrowwidth": 1
          },
          "autotypenumbers": "strict",
          "coloraxis": {
           "colorbar": {
            "outlinewidth": 0,
            "ticks": ""
           }
          },
          "colorscale": {
           "diverging": [
            [
             0,
             "#8e0152"
            ],
            [
             0.1,
             "#c51b7d"
            ],
            [
             0.2,
             "#de77ae"
            ],
            [
             0.3,
             "#f1b6da"
            ],
            [
             0.4,
             "#fde0ef"
            ],
            [
             0.5,
             "#f7f7f7"
            ],
            [
             0.6,
             "#e6f5d0"
            ],
            [
             0.7,
             "#b8e186"
            ],
            [
             0.8,
             "#7fbc41"
            ],
            [
             0.9,
             "#4d9221"
            ],
            [
             1,
             "#276419"
            ]
           ],
           "sequential": [
            [
             0,
             "#0d0887"
            ],
            [
             0.1111111111111111,
             "#46039f"
            ],
            [
             0.2222222222222222,
             "#7201a8"
            ],
            [
             0.3333333333333333,
             "#9c179e"
            ],
            [
             0.4444444444444444,
             "#bd3786"
            ],
            [
             0.5555555555555556,
             "#d8576b"
            ],
            [
             0.6666666666666666,
             "#ed7953"
            ],
            [
             0.7777777777777778,
             "#fb9f3a"
            ],
            [
             0.8888888888888888,
             "#fdca26"
            ],
            [
             1,
             "#f0f921"
            ]
           ],
           "sequentialminus": [
            [
             0,
             "#0d0887"
            ],
            [
             0.1111111111111111,
             "#46039f"
            ],
            [
             0.2222222222222222,
             "#7201a8"
            ],
            [
             0.3333333333333333,
             "#9c179e"
            ],
            [
             0.4444444444444444,
             "#bd3786"
            ],
            [
             0.5555555555555556,
             "#d8576b"
            ],
            [
             0.6666666666666666,
             "#ed7953"
            ],
            [
             0.7777777777777778,
             "#fb9f3a"
            ],
            [
             0.8888888888888888,
             "#fdca26"
            ],
            [
             1,
             "#f0f921"
            ]
           ]
          },
          "colorway": [
           "#636efa",
           "#EF553B",
           "#00cc96",
           "#ab63fa",
           "#FFA15A",
           "#19d3f3",
           "#FF6692",
           "#B6E880",
           "#FF97FF",
           "#FECB52"
          ],
          "font": {
           "color": "#2a3f5f"
          },
          "geo": {
           "bgcolor": "white",
           "lakecolor": "white",
           "landcolor": "#E5ECF6",
           "showlakes": true,
           "showland": true,
           "subunitcolor": "white"
          },
          "hoverlabel": {
           "align": "left"
          },
          "hovermode": "closest",
          "mapbox": {
           "style": "light"
          },
          "paper_bgcolor": "white",
          "plot_bgcolor": "#E5ECF6",
          "polar": {
           "angularaxis": {
            "gridcolor": "white",
            "linecolor": "white",
            "ticks": ""
           },
           "bgcolor": "#E5ECF6",
           "radialaxis": {
            "gridcolor": "white",
            "linecolor": "white",
            "ticks": ""
           }
          },
          "scene": {
           "xaxis": {
            "backgroundcolor": "#E5ECF6",
            "gridcolor": "white",
            "gridwidth": 2,
            "linecolor": "white",
            "showbackground": true,
            "ticks": "",
            "zerolinecolor": "white"
           },
           "yaxis": {
            "backgroundcolor": "#E5ECF6",
            "gridcolor": "white",
            "gridwidth": 2,
            "linecolor": "white",
            "showbackground": true,
            "ticks": "",
            "zerolinecolor": "white"
           },
           "zaxis": {
            "backgroundcolor": "#E5ECF6",
            "gridcolor": "white",
            "gridwidth": 2,
            "linecolor": "white",
            "showbackground": true,
            "ticks": "",
            "zerolinecolor": "white"
           }
          },
          "shapedefaults": {
           "line": {
            "color": "#2a3f5f"
           }
          },
          "ternary": {
           "aaxis": {
            "gridcolor": "white",
            "linecolor": "white",
            "ticks": ""
           },
           "baxis": {
            "gridcolor": "white",
            "linecolor": "white",
            "ticks": ""
           },
           "bgcolor": "#E5ECF6",
           "caxis": {
            "gridcolor": "white",
            "linecolor": "white",
            "ticks": ""
           }
          },
          "title": {
           "x": 0.05
          },
          "xaxis": {
           "automargin": true,
           "gridcolor": "white",
           "linecolor": "white",
           "ticks": "",
           "title": {
            "standoff": 15
           },
           "zerolinecolor": "white",
           "zerolinewidth": 2
          },
          "yaxis": {
           "automargin": true,
           "gridcolor": "white",
           "linecolor": "white",
           "ticks": "",
           "title": {
            "standoff": 15
           },
           "zerolinecolor": "white",
           "zerolinewidth": 2
          }
         }
        },
        "title": {
         "text": "Linearity error"
        },
        "xaxis": {
         "anchor": "y",
         "domain": [
          0,
          1
         ],
         "title": {
          "text": "exp_us"
         }
        },
        "yaxis": {
         "anchor": "x",
         "domain": [
          0,
          1
         ],
         "title": {
          "text": "Linearity Error [%]"
         }
        }
       }
      },
      "text/html": [
       "<div>                            <div id=\"565616e4-7a71-4282-907b-1df06a08fc50\" class=\"plotly-graph-div\" style=\"height:525px; width:100%;\"></div>            <script type=\"text/javascript\">                require([\"plotly\"], function(Plotly) {                    window.PLOTLYENV=window.PLOTLYENV || {};                                    if (document.getElementById(\"565616e4-7a71-4282-907b-1df06a08fc50\")) {                    Plotly.newPlot(                        \"565616e4-7a71-4282-907b-1df06a08fc50\",                        [{\"hovertemplate\":\"exp_us=%{x}<br>Linearity Error [%]=%{y}<extra></extra>\",\"legendgroup\":\"\",\"line\":{\"color\":\"#636efa\",\"dash\":\"solid\"},\"marker\":{\"symbol\":\"circle\"},\"mode\":\"lines\",\"name\":\"\",\"orientation\":\"v\",\"showlegend\":false,\"x\":[100,150,200,250,300,350,400,450,500,550,600,650,700,750,800,850,900,950,1000,3000,7000],\"xaxis\":\"x\",\"y\":[0.5225542010760982,0.012306383662518398,-0.24303373783710924,-0.23143090491154922,-0.45253563565323923,-0.4484334245260695,-0.44233534345207565,-0.35719528141859824,-0.36869762344768303,-0.1189612857336392,-0.03633106205233973,-0.05716822716315239,0.24152358519009665,0.23236390541822965,0.5202497407776407,0.5135710711340528,0.4960298968768392,0.26209051112970533,null,null,null],\"yaxis\":\"y\",\"type\":\"scatter\"}],                        {\"template\":{\"data\":{\"bar\":[{\"error_x\":{\"color\":\"#2a3f5f\"},\"error_y\":{\"color\":\"#2a3f5f\"},\"marker\":{\"line\":{\"color\":\"#E5ECF6\",\"width\":0.5},\"pattern\":{\"fillmode\":\"overlay\",\"size\":10,\"solidity\":0.2}},\"type\":\"bar\"}],\"barpolar\":[{\"marker\":{\"line\":{\"color\":\"#E5ECF6\",\"width\":0.5},\"pattern\":{\"fillmode\":\"overlay\",\"size\":10,\"solidity\":0.2}},\"type\":\"barpolar\"}],\"carpet\":[{\"aaxis\":{\"endlinecolor\":\"#2a3f5f\",\"gridcolor\":\"white\",\"linecolor\":\"white\",\"minorgridcolor\":\"white\",\"startlinecolor\":\"#2a3f5f\"},\"baxis\":{\"endlinecolor\":\"#2a3f5f\",\"gridcolor\":\"white\",\"linecolor\":\"white\",\"minorgridcolor\":\"white\",\"startlinecolor\":\"#2a3f5f\"},\"type\":\"carpet\"}],\"choropleth\":[{\"colorbar\":{\"outlinewidth\":0,\"ticks\":\"\"},\"type\":\"choropleth\"}],\"contour\":[{\"colorbar\":{\"outlinewidth\":0,\"ticks\":\"\"},\"colorscale\":[[0.0,\"#0d0887\"],[0.1111111111111111,\"#46039f\"],[0.2222222222222222,\"#7201a8\"],[0.3333333333333333,\"#9c179e\"],[0.4444444444444444,\"#bd3786\"],[0.5555555555555556,\"#d8576b\"],[0.6666666666666666,\"#ed7953\"],[0.7777777777777778,\"#fb9f3a\"],[0.8888888888888888,\"#fdca26\"],[1.0,\"#f0f921\"]],\"type\":\"contour\"}],\"contourcarpet\":[{\"colorbar\":{\"outlinewidth\":0,\"ticks\":\"\"},\"type\":\"contourcarpet\"}],\"heatmap\":[{\"colorbar\":{\"outlinewidth\":0,\"ticks\":\"\"},\"colorscale\":[[0.0,\"#0d0887\"],[0.1111111111111111,\"#46039f\"],[0.2222222222222222,\"#7201a8\"],[0.3333333333333333,\"#9c179e\"],[0.4444444444444444,\"#bd3786\"],[0.5555555555555556,\"#d8576b\"],[0.6666666666666666,\"#ed7953\"],[0.7777777777777778,\"#fb9f3a\"],[0.8888888888888888,\"#fdca26\"],[1.0,\"#f0f921\"]],\"type\":\"heatmap\"}],\"heatmapgl\":[{\"colorbar\":{\"outlinewidth\":0,\"ticks\":\"\"},\"colorscale\":[[0.0,\"#0d0887\"],[0.1111111111111111,\"#46039f\"],[0.2222222222222222,\"#7201a8\"],[0.3333333333333333,\"#9c179e\"],[0.4444444444444444,\"#bd3786\"],[0.5555555555555556,\"#d8576b\"],[0.6666666666666666,\"#ed7953\"],[0.7777777777777778,\"#fb9f3a\"],[0.8888888888888888,\"#fdca26\"],[1.0,\"#f0f921\"]],\"type\":\"heatmapgl\"}],\"histogram\":[{\"marker\":{\"pattern\":{\"fillmode\":\"overlay\",\"size\":10,\"solidity\":0.2}},\"type\":\"histogram\"}],\"histogram2d\":[{\"colorbar\":{\"outlinewidth\":0,\"ticks\":\"\"},\"colorscale\":[[0.0,\"#0d0887\"],[0.1111111111111111,\"#46039f\"],[0.2222222222222222,\"#7201a8\"],[0.3333333333333333,\"#9c179e\"],[0.4444444444444444,\"#bd3786\"],[0.5555555555555556,\"#d8576b\"],[0.6666666666666666,\"#ed7953\"],[0.7777777777777778,\"#fb9f3a\"],[0.8888888888888888,\"#fdca26\"],[1.0,\"#f0f921\"]],\"type\":\"histogram2d\"}],\"histogram2dcontour\":[{\"colorbar\":{\"outlinewidth\":0,\"ticks\":\"\"},\"colorscale\":[[0.0,\"#0d0887\"],[0.1111111111111111,\"#46039f\"],[0.2222222222222222,\"#7201a8\"],[0.3333333333333333,\"#9c179e\"],[0.4444444444444444,\"#bd3786\"],[0.5555555555555556,\"#d8576b\"],[0.6666666666666666,\"#ed7953\"],[0.7777777777777778,\"#fb9f3a\"],[0.8888888888888888,\"#fdca26\"],[1.0,\"#f0f921\"]],\"type\":\"histogram2dcontour\"}],\"mesh3d\":[{\"colorbar\":{\"outlinewidth\":0,\"ticks\":\"\"},\"type\":\"mesh3d\"}],\"parcoords\":[{\"line\":{\"colorbar\":{\"outlinewidth\":0,\"ticks\":\"\"}},\"type\":\"parcoords\"}],\"pie\":[{\"automargin\":true,\"type\":\"pie\"}],\"scatter\":[{\"marker\":{\"colorbar\":{\"outlinewidth\":0,\"ticks\":\"\"}},\"type\":\"scatter\"}],\"scatter3d\":[{\"line\":{\"colorbar\":{\"outlinewidth\":0,\"ticks\":\"\"}},\"marker\":{\"colorbar\":{\"outlinewidth\":0,\"ticks\":\"\"}},\"type\":\"scatter3d\"}],\"scattercarpet\":[{\"marker\":{\"colorbar\":{\"outlinewidth\":0,\"ticks\":\"\"}},\"type\":\"scattercarpet\"}],\"scattergeo\":[{\"marker\":{\"colorbar\":{\"outlinewidth\":0,\"ticks\":\"\"}},\"type\":\"scattergeo\"}],\"scattergl\":[{\"marker\":{\"colorbar\":{\"outlinewidth\":0,\"ticks\":\"\"}},\"type\":\"scattergl\"}],\"scattermapbox\":[{\"marker\":{\"colorbar\":{\"outlinewidth\":0,\"ticks\":\"\"}},\"type\":\"scattermapbox\"}],\"scatterpolar\":[{\"marker\":{\"colorbar\":{\"outlinewidth\":0,\"ticks\":\"\"}},\"type\":\"scatterpolar\"}],\"scatterpolargl\":[{\"marker\":{\"colorbar\":{\"outlinewidth\":0,\"ticks\":\"\"}},\"type\":\"scatterpolargl\"}],\"scatterternary\":[{\"marker\":{\"colorbar\":{\"outlinewidth\":0,\"ticks\":\"\"}},\"type\":\"scatterternary\"}],\"surface\":[{\"colorbar\":{\"outlinewidth\":0,\"ticks\":\"\"},\"colorscale\":[[0.0,\"#0d0887\"],[0.1111111111111111,\"#46039f\"],[0.2222222222222222,\"#7201a8\"],[0.3333333333333333,\"#9c179e\"],[0.4444444444444444,\"#bd3786\"],[0.5555555555555556,\"#d8576b\"],[0.6666666666666666,\"#ed7953\"],[0.7777777777777778,\"#fb9f3a\"],[0.8888888888888888,\"#fdca26\"],[1.0,\"#f0f921\"]],\"type\":\"surface\"}],\"table\":[{\"cells\":{\"fill\":{\"color\":\"#EBF0F8\"},\"line\":{\"color\":\"white\"}},\"header\":{\"fill\":{\"color\":\"#C8D4E3\"},\"line\":{\"color\":\"white\"}},\"type\":\"table\"}]},\"layout\":{\"annotationdefaults\":{\"arrowcolor\":\"#2a3f5f\",\"arrowhead\":0,\"arrowwidth\":1},\"autotypenumbers\":\"strict\",\"coloraxis\":{\"colorbar\":{\"outlinewidth\":0,\"ticks\":\"\"}},\"colorscale\":{\"diverging\":[[0,\"#8e0152\"],[0.1,\"#c51b7d\"],[0.2,\"#de77ae\"],[0.3,\"#f1b6da\"],[0.4,\"#fde0ef\"],[0.5,\"#f7f7f7\"],[0.6,\"#e6f5d0\"],[0.7,\"#b8e186\"],[0.8,\"#7fbc41\"],[0.9,\"#4d9221\"],[1,\"#276419\"]],\"sequential\":[[0.0,\"#0d0887\"],[0.1111111111111111,\"#46039f\"],[0.2222222222222222,\"#7201a8\"],[0.3333333333333333,\"#9c179e\"],[0.4444444444444444,\"#bd3786\"],[0.5555555555555556,\"#d8576b\"],[0.6666666666666666,\"#ed7953\"],[0.7777777777777778,\"#fb9f3a\"],[0.8888888888888888,\"#fdca26\"],[1.0,\"#f0f921\"]],\"sequentialminus\":[[0.0,\"#0d0887\"],[0.1111111111111111,\"#46039f\"],[0.2222222222222222,\"#7201a8\"],[0.3333333333333333,\"#9c179e\"],[0.4444444444444444,\"#bd3786\"],[0.5555555555555556,\"#d8576b\"],[0.6666666666666666,\"#ed7953\"],[0.7777777777777778,\"#fb9f3a\"],[0.8888888888888888,\"#fdca26\"],[1.0,\"#f0f921\"]]},\"colorway\":[\"#636efa\",\"#EF553B\",\"#00cc96\",\"#ab63fa\",\"#FFA15A\",\"#19d3f3\",\"#FF6692\",\"#B6E880\",\"#FF97FF\",\"#FECB52\"],\"font\":{\"color\":\"#2a3f5f\"},\"geo\":{\"bgcolor\":\"white\",\"lakecolor\":\"white\",\"landcolor\":\"#E5ECF6\",\"showlakes\":true,\"showland\":true,\"subunitcolor\":\"white\"},\"hoverlabel\":{\"align\":\"left\"},\"hovermode\":\"closest\",\"mapbox\":{\"style\":\"light\"},\"paper_bgcolor\":\"white\",\"plot_bgcolor\":\"#E5ECF6\",\"polar\":{\"angularaxis\":{\"gridcolor\":\"white\",\"linecolor\":\"white\",\"ticks\":\"\"},\"bgcolor\":\"#E5ECF6\",\"radialaxis\":{\"gridcolor\":\"white\",\"linecolor\":\"white\",\"ticks\":\"\"}},\"scene\":{\"xaxis\":{\"backgroundcolor\":\"#E5ECF6\",\"gridcolor\":\"white\",\"gridwidth\":2,\"linecolor\":\"white\",\"showbackground\":true,\"ticks\":\"\",\"zerolinecolor\":\"white\"},\"yaxis\":{\"backgroundcolor\":\"#E5ECF6\",\"gridcolor\":\"white\",\"gridwidth\":2,\"linecolor\":\"white\",\"showbackground\":true,\"ticks\":\"\",\"zerolinecolor\":\"white\"},\"zaxis\":{\"backgroundcolor\":\"#E5ECF6\",\"gridcolor\":\"white\",\"gridwidth\":2,\"linecolor\":\"white\",\"showbackground\":true,\"ticks\":\"\",\"zerolinecolor\":\"white\"}},\"shapedefaults\":{\"line\":{\"color\":\"#2a3f5f\"}},\"ternary\":{\"aaxis\":{\"gridcolor\":\"white\",\"linecolor\":\"white\",\"ticks\":\"\"},\"baxis\":{\"gridcolor\":\"white\",\"linecolor\":\"white\",\"ticks\":\"\"},\"bgcolor\":\"#E5ECF6\",\"caxis\":{\"gridcolor\":\"white\",\"linecolor\":\"white\",\"ticks\":\"\"}},\"title\":{\"x\":0.05},\"xaxis\":{\"automargin\":true,\"gridcolor\":\"white\",\"linecolor\":\"white\",\"ticks\":\"\",\"title\":{\"standoff\":15},\"zerolinecolor\":\"white\",\"zerolinewidth\":2},\"yaxis\":{\"automargin\":true,\"gridcolor\":\"white\",\"linecolor\":\"white\",\"ticks\":\"\",\"title\":{\"standoff\":15},\"zerolinecolor\":\"white\",\"zerolinewidth\":2}}},\"xaxis\":{\"anchor\":\"y\",\"domain\":[0.0,1.0],\"title\":{\"text\":\"exp_us\"}},\"yaxis\":{\"anchor\":\"x\",\"domain\":[0.0,1.0],\"title\":{\"text\":\"Linearity Error [%]\"}},\"legend\":{\"tracegroupgap\":0},\"title\":{\"text\":\"Linearity error\"}},                        {\"responsive\": true}                    ).then(function(){\n",
       "                            \n",
       "var gd = document.getElementById('565616e4-7a71-4282-907b-1df06a08fc50');\n",
       "var x = new MutationObserver(function (mutations, observer) {{\n",
       "        var display = window.getComputedStyle(gd).display;\n",
       "        if (!display || display === 'none') {{\n",
       "            console.log([gd, 'removed!']);\n",
       "            Plotly.purge(gd);\n",
       "            observer.disconnect();\n",
       "        }}\n",
       "}});\n",
       "\n",
       "// Listen for the removal of the full notebook cells\n",
       "var notebookContainer = gd.closest('#notebook-container');\n",
       "if (notebookContainer) {{\n",
       "    x.observe(notebookContainer, {childList: true});\n",
       "}}\n",
       "\n",
       "// Listen for the clearing of the current output cell\n",
       "var outputEl = gd.closest('.output');\n",
       "if (outputEl) {{\n",
       "    x.observe(outputEl, {childList: true});\n",
       "}}\n",
       "\n",
       "                        })                };                });            </script>        </div>"
      ]
     },
     "metadata": {},
     "output_type": "display_data"
    }
   ],
   "source": [
    "fig = px.line(data.iloc[1: 22, :], x='exp_us', y='Linearity Error [%]', \n",
    "              title='Linearity error')\n",
    "fig.show()"
   ]
  },
  {
   "cell_type": "code",
   "execution_count": 37,
   "id": "74e06b7f",
   "metadata": {},
   "outputs": [
    {
     "data": {
      "application/vnd.plotly.v1+json": {
       "config": {
        "plotlyServerURL": "https://plot.ly"
       },
       "data": [
        {
         "hovertemplate": "variable=Signal - Dark [DN]<br>exp_us=%{x}<br>value=%{y}<extra></extra>",
         "legendgroup": "Signal - Dark [DN]",
         "line": {
          "color": "#636efa",
          "dash": "solid"
         },
         "marker": {
          "symbol": "circle"
         },
         "mode": "lines",
         "name": "Signal - Dark [DN]",
         "orientation": "v",
         "showlegend": true,
         "type": "scatter",
         "x": [
          100,
          150,
          200,
          250,
          300,
          350,
          400,
          450,
          500,
          550,
          600,
          650,
          700,
          750,
          800,
          850,
          900,
          950,
          1000,
          3000,
          7000
         ],
         "xaxis": "x",
         "y": [
          57.986125833333325,
          86.75281291666664,
          115.51815208333332,
          144.52178625,
          173.12745125,
          202.06172833333332,
          231.00302041666657,
          260.15422458333336,
          289.07450541666657,
          318.82198000000005,
          348.13262625,
          377.10089333333343,
          407.3555337500003,
          436.4432762500001,
          466.90543916666667,
          496.0810941666668,
          525.1960999999998,
          553.1071266666667,
          582.1992895833336,
          985.7206829166666,
          985.7207099999999
         ],
         "yaxis": "y"
        },
        {
         "hovertemplate": "variable=Linearity Fit [DN]<br>exp_us=%{x}<br>value=%{y}<extra></extra>",
         "legendgroup": "Linearity Fit [DN]",
         "line": {
          "color": "#EF553B",
          "dash": "solid"
         },
         "marker": {
          "symbol": "circle"
         },
         "mode": "lines",
         "name": "Linearity Fit [DN]",
         "orientation": "v",
         "showlegend": true,
         "type": "scatter",
         "x": [
          100,
          150,
          200,
          250,
          300,
          350,
          400,
          450,
          500,
          550,
          600,
          650,
          700,
          750,
          800,
          850,
          900,
          950,
          1000,
          3000,
          7000
         ],
         "xaxis": "x",
         "y": [
          57.68469205163967,
          86.74213809635543,
          115.7995841410712,
          144.85703018578695,
          173.91447623050271,
          202.97192227521847,
          232.02936831993424,
          261.08681436465,
          290.14426040936576,
          319.20170645408155,
          348.2591524987973,
          377.31659854351307,
          406.3740445882288,
          435.4314906329446,
          464.4889366776603,
          493.5463827223761,
          522.603828767092,
          551.6612748118077,
          null,
          null,
          null
         ],
         "yaxis": "y"
        },
        {
         "hovertemplate": "variable=Responsivity Fit [DN]<br>exp_us=%{x}<br>value=%{y}<extra></extra>",
         "legendgroup": "Responsivity Fit [DN]",
         "line": {
          "color": "#00cc96",
          "dash": "solid"
         },
         "marker": {
          "symbol": "circle"
         },
         "mode": "lines",
         "name": "Responsivity Fit [DN]",
         "orientation": "v",
         "showlegend": true,
         "type": "scatter",
         "x": [
          100,
          150,
          200,
          250,
          300,
          350,
          400,
          450,
          500,
          550,
          600,
          650,
          700,
          750,
          800,
          850,
          900,
          950,
          1000,
          3000,
          7000
         ],
         "xaxis": "x",
         "y": [
          40.8338690680873,
          72.13383275306543,
          103.43379643804356,
          134.73376012302168,
          166.03372380799982,
          197.33368749297793,
          228.63365117795607,
          259.9336148629342,
          291.2335785479123,
          322.53354223289045,
          353.8335059178686,
          null,
          null,
          null,
          null,
          null,
          null,
          null,
          null,
          null,
          null
         ],
         "yaxis": "y"
        }
       ],
       "layout": {
        "legend": {
         "title": {
          "text": "variable"
         },
         "tracegroupgap": 0
        },
        "template": {
         "data": {
          "bar": [
           {
            "error_x": {
             "color": "#2a3f5f"
            },
            "error_y": {
             "color": "#2a3f5f"
            },
            "marker": {
             "line": {
              "color": "#E5ECF6",
              "width": 0.5
             },
             "pattern": {
              "fillmode": "overlay",
              "size": 10,
              "solidity": 0.2
             }
            },
            "type": "bar"
           }
          ],
          "barpolar": [
           {
            "marker": {
             "line": {
              "color": "#E5ECF6",
              "width": 0.5
             },
             "pattern": {
              "fillmode": "overlay",
              "size": 10,
              "solidity": 0.2
             }
            },
            "type": "barpolar"
           }
          ],
          "carpet": [
           {
            "aaxis": {
             "endlinecolor": "#2a3f5f",
             "gridcolor": "white",
             "linecolor": "white",
             "minorgridcolor": "white",
             "startlinecolor": "#2a3f5f"
            },
            "baxis": {
             "endlinecolor": "#2a3f5f",
             "gridcolor": "white",
             "linecolor": "white",
             "minorgridcolor": "white",
             "startlinecolor": "#2a3f5f"
            },
            "type": "carpet"
           }
          ],
          "choropleth": [
           {
            "colorbar": {
             "outlinewidth": 0,
             "ticks": ""
            },
            "type": "choropleth"
           }
          ],
          "contour": [
           {
            "colorbar": {
             "outlinewidth": 0,
             "ticks": ""
            },
            "colorscale": [
             [
              0,
              "#0d0887"
             ],
             [
              0.1111111111111111,
              "#46039f"
             ],
             [
              0.2222222222222222,
              "#7201a8"
             ],
             [
              0.3333333333333333,
              "#9c179e"
             ],
             [
              0.4444444444444444,
              "#bd3786"
             ],
             [
              0.5555555555555556,
              "#d8576b"
             ],
             [
              0.6666666666666666,
              "#ed7953"
             ],
             [
              0.7777777777777778,
              "#fb9f3a"
             ],
             [
              0.8888888888888888,
              "#fdca26"
             ],
             [
              1,
              "#f0f921"
             ]
            ],
            "type": "contour"
           }
          ],
          "contourcarpet": [
           {
            "colorbar": {
             "outlinewidth": 0,
             "ticks": ""
            },
            "type": "contourcarpet"
           }
          ],
          "heatmap": [
           {
            "colorbar": {
             "outlinewidth": 0,
             "ticks": ""
            },
            "colorscale": [
             [
              0,
              "#0d0887"
             ],
             [
              0.1111111111111111,
              "#46039f"
             ],
             [
              0.2222222222222222,
              "#7201a8"
             ],
             [
              0.3333333333333333,
              "#9c179e"
             ],
             [
              0.4444444444444444,
              "#bd3786"
             ],
             [
              0.5555555555555556,
              "#d8576b"
             ],
             [
              0.6666666666666666,
              "#ed7953"
             ],
             [
              0.7777777777777778,
              "#fb9f3a"
             ],
             [
              0.8888888888888888,
              "#fdca26"
             ],
             [
              1,
              "#f0f921"
             ]
            ],
            "type": "heatmap"
           }
          ],
          "heatmapgl": [
           {
            "colorbar": {
             "outlinewidth": 0,
             "ticks": ""
            },
            "colorscale": [
             [
              0,
              "#0d0887"
             ],
             [
              0.1111111111111111,
              "#46039f"
             ],
             [
              0.2222222222222222,
              "#7201a8"
             ],
             [
              0.3333333333333333,
              "#9c179e"
             ],
             [
              0.4444444444444444,
              "#bd3786"
             ],
             [
              0.5555555555555556,
              "#d8576b"
             ],
             [
              0.6666666666666666,
              "#ed7953"
             ],
             [
              0.7777777777777778,
              "#fb9f3a"
             ],
             [
              0.8888888888888888,
              "#fdca26"
             ],
             [
              1,
              "#f0f921"
             ]
            ],
            "type": "heatmapgl"
           }
          ],
          "histogram": [
           {
            "marker": {
             "pattern": {
              "fillmode": "overlay",
              "size": 10,
              "solidity": 0.2
             }
            },
            "type": "histogram"
           }
          ],
          "histogram2d": [
           {
            "colorbar": {
             "outlinewidth": 0,
             "ticks": ""
            },
            "colorscale": [
             [
              0,
              "#0d0887"
             ],
             [
              0.1111111111111111,
              "#46039f"
             ],
             [
              0.2222222222222222,
              "#7201a8"
             ],
             [
              0.3333333333333333,
              "#9c179e"
             ],
             [
              0.4444444444444444,
              "#bd3786"
             ],
             [
              0.5555555555555556,
              "#d8576b"
             ],
             [
              0.6666666666666666,
              "#ed7953"
             ],
             [
              0.7777777777777778,
              "#fb9f3a"
             ],
             [
              0.8888888888888888,
              "#fdca26"
             ],
             [
              1,
              "#f0f921"
             ]
            ],
            "type": "histogram2d"
           }
          ],
          "histogram2dcontour": [
           {
            "colorbar": {
             "outlinewidth": 0,
             "ticks": ""
            },
            "colorscale": [
             [
              0,
              "#0d0887"
             ],
             [
              0.1111111111111111,
              "#46039f"
             ],
             [
              0.2222222222222222,
              "#7201a8"
             ],
             [
              0.3333333333333333,
              "#9c179e"
             ],
             [
              0.4444444444444444,
              "#bd3786"
             ],
             [
              0.5555555555555556,
              "#d8576b"
             ],
             [
              0.6666666666666666,
              "#ed7953"
             ],
             [
              0.7777777777777778,
              "#fb9f3a"
             ],
             [
              0.8888888888888888,
              "#fdca26"
             ],
             [
              1,
              "#f0f921"
             ]
            ],
            "type": "histogram2dcontour"
           }
          ],
          "mesh3d": [
           {
            "colorbar": {
             "outlinewidth": 0,
             "ticks": ""
            },
            "type": "mesh3d"
           }
          ],
          "parcoords": [
           {
            "line": {
             "colorbar": {
              "outlinewidth": 0,
              "ticks": ""
             }
            },
            "type": "parcoords"
           }
          ],
          "pie": [
           {
            "automargin": true,
            "type": "pie"
           }
          ],
          "scatter": [
           {
            "marker": {
             "colorbar": {
              "outlinewidth": 0,
              "ticks": ""
             }
            },
            "type": "scatter"
           }
          ],
          "scatter3d": [
           {
            "line": {
             "colorbar": {
              "outlinewidth": 0,
              "ticks": ""
             }
            },
            "marker": {
             "colorbar": {
              "outlinewidth": 0,
              "ticks": ""
             }
            },
            "type": "scatter3d"
           }
          ],
          "scattercarpet": [
           {
            "marker": {
             "colorbar": {
              "outlinewidth": 0,
              "ticks": ""
             }
            },
            "type": "scattercarpet"
           }
          ],
          "scattergeo": [
           {
            "marker": {
             "colorbar": {
              "outlinewidth": 0,
              "ticks": ""
             }
            },
            "type": "scattergeo"
           }
          ],
          "scattergl": [
           {
            "marker": {
             "colorbar": {
              "outlinewidth": 0,
              "ticks": ""
             }
            },
            "type": "scattergl"
           }
          ],
          "scattermapbox": [
           {
            "marker": {
             "colorbar": {
              "outlinewidth": 0,
              "ticks": ""
             }
            },
            "type": "scattermapbox"
           }
          ],
          "scatterpolar": [
           {
            "marker": {
             "colorbar": {
              "outlinewidth": 0,
              "ticks": ""
             }
            },
            "type": "scatterpolar"
           }
          ],
          "scatterpolargl": [
           {
            "marker": {
             "colorbar": {
              "outlinewidth": 0,
              "ticks": ""
             }
            },
            "type": "scatterpolargl"
           }
          ],
          "scatterternary": [
           {
            "marker": {
             "colorbar": {
              "outlinewidth": 0,
              "ticks": ""
             }
            },
            "type": "scatterternary"
           }
          ],
          "surface": [
           {
            "colorbar": {
             "outlinewidth": 0,
             "ticks": ""
            },
            "colorscale": [
             [
              0,
              "#0d0887"
             ],
             [
              0.1111111111111111,
              "#46039f"
             ],
             [
              0.2222222222222222,
              "#7201a8"
             ],
             [
              0.3333333333333333,
              "#9c179e"
             ],
             [
              0.4444444444444444,
              "#bd3786"
             ],
             [
              0.5555555555555556,
              "#d8576b"
             ],
             [
              0.6666666666666666,
              "#ed7953"
             ],
             [
              0.7777777777777778,
              "#fb9f3a"
             ],
             [
              0.8888888888888888,
              "#fdca26"
             ],
             [
              1,
              "#f0f921"
             ]
            ],
            "type": "surface"
           }
          ],
          "table": [
           {
            "cells": {
             "fill": {
              "color": "#EBF0F8"
             },
             "line": {
              "color": "white"
             }
            },
            "header": {
             "fill": {
              "color": "#C8D4E3"
             },
             "line": {
              "color": "white"
             }
            },
            "type": "table"
           }
          ]
         },
         "layout": {
          "annotationdefaults": {
           "arrowcolor": "#2a3f5f",
           "arrowhead": 0,
           "arrowwidth": 1
          },
          "autotypenumbers": "strict",
          "coloraxis": {
           "colorbar": {
            "outlinewidth": 0,
            "ticks": ""
           }
          },
          "colorscale": {
           "diverging": [
            [
             0,
             "#8e0152"
            ],
            [
             0.1,
             "#c51b7d"
            ],
            [
             0.2,
             "#de77ae"
            ],
            [
             0.3,
             "#f1b6da"
            ],
            [
             0.4,
             "#fde0ef"
            ],
            [
             0.5,
             "#f7f7f7"
            ],
            [
             0.6,
             "#e6f5d0"
            ],
            [
             0.7,
             "#b8e186"
            ],
            [
             0.8,
             "#7fbc41"
            ],
            [
             0.9,
             "#4d9221"
            ],
            [
             1,
             "#276419"
            ]
           ],
           "sequential": [
            [
             0,
             "#0d0887"
            ],
            [
             0.1111111111111111,
             "#46039f"
            ],
            [
             0.2222222222222222,
             "#7201a8"
            ],
            [
             0.3333333333333333,
             "#9c179e"
            ],
            [
             0.4444444444444444,
             "#bd3786"
            ],
            [
             0.5555555555555556,
             "#d8576b"
            ],
            [
             0.6666666666666666,
             "#ed7953"
            ],
            [
             0.7777777777777778,
             "#fb9f3a"
            ],
            [
             0.8888888888888888,
             "#fdca26"
            ],
            [
             1,
             "#f0f921"
            ]
           ],
           "sequentialminus": [
            [
             0,
             "#0d0887"
            ],
            [
             0.1111111111111111,
             "#46039f"
            ],
            [
             0.2222222222222222,
             "#7201a8"
            ],
            [
             0.3333333333333333,
             "#9c179e"
            ],
            [
             0.4444444444444444,
             "#bd3786"
            ],
            [
             0.5555555555555556,
             "#d8576b"
            ],
            [
             0.6666666666666666,
             "#ed7953"
            ],
            [
             0.7777777777777778,
             "#fb9f3a"
            ],
            [
             0.8888888888888888,
             "#fdca26"
            ],
            [
             1,
             "#f0f921"
            ]
           ]
          },
          "colorway": [
           "#636efa",
           "#EF553B",
           "#00cc96",
           "#ab63fa",
           "#FFA15A",
           "#19d3f3",
           "#FF6692",
           "#B6E880",
           "#FF97FF",
           "#FECB52"
          ],
          "font": {
           "color": "#2a3f5f"
          },
          "geo": {
           "bgcolor": "white",
           "lakecolor": "white",
           "landcolor": "#E5ECF6",
           "showlakes": true,
           "showland": true,
           "subunitcolor": "white"
          },
          "hoverlabel": {
           "align": "left"
          },
          "hovermode": "closest",
          "mapbox": {
           "style": "light"
          },
          "paper_bgcolor": "white",
          "plot_bgcolor": "#E5ECF6",
          "polar": {
           "angularaxis": {
            "gridcolor": "white",
            "linecolor": "white",
            "ticks": ""
           },
           "bgcolor": "#E5ECF6",
           "radialaxis": {
            "gridcolor": "white",
            "linecolor": "white",
            "ticks": ""
           }
          },
          "scene": {
           "xaxis": {
            "backgroundcolor": "#E5ECF6",
            "gridcolor": "white",
            "gridwidth": 2,
            "linecolor": "white",
            "showbackground": true,
            "ticks": "",
            "zerolinecolor": "white"
           },
           "yaxis": {
            "backgroundcolor": "#E5ECF6",
            "gridcolor": "white",
            "gridwidth": 2,
            "linecolor": "white",
            "showbackground": true,
            "ticks": "",
            "zerolinecolor": "white"
           },
           "zaxis": {
            "backgroundcolor": "#E5ECF6",
            "gridcolor": "white",
            "gridwidth": 2,
            "linecolor": "white",
            "showbackground": true,
            "ticks": "",
            "zerolinecolor": "white"
           }
          },
          "shapedefaults": {
           "line": {
            "color": "#2a3f5f"
           }
          },
          "ternary": {
           "aaxis": {
            "gridcolor": "white",
            "linecolor": "white",
            "ticks": ""
           },
           "baxis": {
            "gridcolor": "white",
            "linecolor": "white",
            "ticks": ""
           },
           "bgcolor": "#E5ECF6",
           "caxis": {
            "gridcolor": "white",
            "linecolor": "white",
            "ticks": ""
           }
          },
          "title": {
           "x": 0.05
          },
          "xaxis": {
           "automargin": true,
           "gridcolor": "white",
           "linecolor": "white",
           "ticks": "",
           "title": {
            "standoff": 15
           },
           "zerolinecolor": "white",
           "zerolinewidth": 2
          },
          "yaxis": {
           "automargin": true,
           "gridcolor": "white",
           "linecolor": "white",
           "ticks": "",
           "title": {
            "standoff": 15
           },
           "zerolinecolor": "white",
           "zerolinewidth": 2
          }
         }
        },
        "title": {
         "text": "Response curve"
        },
        "xaxis": {
         "anchor": "y",
         "domain": [
          0,
          1
         ],
         "rangemode": "nonnegative",
         "title": {
          "text": "exp_us"
         }
        },
        "yaxis": {
         "anchor": "x",
         "domain": [
          0,
          1
         ],
         "rangemode": "nonnegative",
         "title": {
          "text": "value"
         }
        }
       }
      },
      "text/html": [
       "<div>                            <div id=\"747660af-4823-44b4-ac77-cdb9a2756ceb\" class=\"plotly-graph-div\" style=\"height:525px; width:100%;\"></div>            <script type=\"text/javascript\">                require([\"plotly\"], function(Plotly) {                    window.PLOTLYENV=window.PLOTLYENV || {};                                    if (document.getElementById(\"747660af-4823-44b4-ac77-cdb9a2756ceb\")) {                    Plotly.newPlot(                        \"747660af-4823-44b4-ac77-cdb9a2756ceb\",                        [{\"hovertemplate\":\"variable=Signal - Dark [DN]<br>exp_us=%{x}<br>value=%{y}<extra></extra>\",\"legendgroup\":\"Signal - Dark [DN]\",\"line\":{\"color\":\"#636efa\",\"dash\":\"solid\"},\"marker\":{\"symbol\":\"circle\"},\"mode\":\"lines\",\"name\":\"Signal - Dark [DN]\",\"orientation\":\"v\",\"showlegend\":true,\"x\":[100,150,200,250,300,350,400,450,500,550,600,650,700,750,800,850,900,950,1000,3000,7000],\"xaxis\":\"x\",\"y\":[57.986125833333325,86.75281291666664,115.51815208333332,144.52178625,173.12745125,202.06172833333332,231.00302041666657,260.15422458333336,289.07450541666657,318.82198000000005,348.13262625,377.10089333333343,407.3555337500003,436.4432762500001,466.90543916666667,496.0810941666668,525.1960999999998,553.1071266666667,582.1992895833336,985.7206829166666,985.7207099999999],\"yaxis\":\"y\",\"type\":\"scatter\"},{\"hovertemplate\":\"variable=Linearity Fit [DN]<br>exp_us=%{x}<br>value=%{y}<extra></extra>\",\"legendgroup\":\"Linearity Fit [DN]\",\"line\":{\"color\":\"#EF553B\",\"dash\":\"solid\"},\"marker\":{\"symbol\":\"circle\"},\"mode\":\"lines\",\"name\":\"Linearity Fit [DN]\",\"orientation\":\"v\",\"showlegend\":true,\"x\":[100,150,200,250,300,350,400,450,500,550,600,650,700,750,800,850,900,950,1000,3000,7000],\"xaxis\":\"x\",\"y\":[57.68469205163967,86.74213809635543,115.7995841410712,144.85703018578695,173.91447623050271,202.97192227521847,232.02936831993424,261.08681436465,290.14426040936576,319.20170645408155,348.2591524987973,377.31659854351307,406.3740445882288,435.4314906329446,464.4889366776603,493.5463827223761,522.603828767092,551.6612748118077,null,null,null],\"yaxis\":\"y\",\"type\":\"scatter\"},{\"hovertemplate\":\"variable=Responsivity Fit [DN]<br>exp_us=%{x}<br>value=%{y}<extra></extra>\",\"legendgroup\":\"Responsivity Fit [DN]\",\"line\":{\"color\":\"#00cc96\",\"dash\":\"solid\"},\"marker\":{\"symbol\":\"circle\"},\"mode\":\"lines\",\"name\":\"Responsivity Fit [DN]\",\"orientation\":\"v\",\"showlegend\":true,\"x\":[100,150,200,250,300,350,400,450,500,550,600,650,700,750,800,850,900,950,1000,3000,7000],\"xaxis\":\"x\",\"y\":[40.8338690680873,72.13383275306543,103.43379643804356,134.73376012302168,166.03372380799982,197.33368749297793,228.63365117795607,259.9336148629342,291.2335785479123,322.53354223289045,353.8335059178686,null,null,null,null,null,null,null,null,null,null],\"yaxis\":\"y\",\"type\":\"scatter\"}],                        {\"template\":{\"data\":{\"bar\":[{\"error_x\":{\"color\":\"#2a3f5f\"},\"error_y\":{\"color\":\"#2a3f5f\"},\"marker\":{\"line\":{\"color\":\"#E5ECF6\",\"width\":0.5},\"pattern\":{\"fillmode\":\"overlay\",\"size\":10,\"solidity\":0.2}},\"type\":\"bar\"}],\"barpolar\":[{\"marker\":{\"line\":{\"color\":\"#E5ECF6\",\"width\":0.5},\"pattern\":{\"fillmode\":\"overlay\",\"size\":10,\"solidity\":0.2}},\"type\":\"barpolar\"}],\"carpet\":[{\"aaxis\":{\"endlinecolor\":\"#2a3f5f\",\"gridcolor\":\"white\",\"linecolor\":\"white\",\"minorgridcolor\":\"white\",\"startlinecolor\":\"#2a3f5f\"},\"baxis\":{\"endlinecolor\":\"#2a3f5f\",\"gridcolor\":\"white\",\"linecolor\":\"white\",\"minorgridcolor\":\"white\",\"startlinecolor\":\"#2a3f5f\"},\"type\":\"carpet\"}],\"choropleth\":[{\"colorbar\":{\"outlinewidth\":0,\"ticks\":\"\"},\"type\":\"choropleth\"}],\"contour\":[{\"colorbar\":{\"outlinewidth\":0,\"ticks\":\"\"},\"colorscale\":[[0.0,\"#0d0887\"],[0.1111111111111111,\"#46039f\"],[0.2222222222222222,\"#7201a8\"],[0.3333333333333333,\"#9c179e\"],[0.4444444444444444,\"#bd3786\"],[0.5555555555555556,\"#d8576b\"],[0.6666666666666666,\"#ed7953\"],[0.7777777777777778,\"#fb9f3a\"],[0.8888888888888888,\"#fdca26\"],[1.0,\"#f0f921\"]],\"type\":\"contour\"}],\"contourcarpet\":[{\"colorbar\":{\"outlinewidth\":0,\"ticks\":\"\"},\"type\":\"contourcarpet\"}],\"heatmap\":[{\"colorbar\":{\"outlinewidth\":0,\"ticks\":\"\"},\"colorscale\":[[0.0,\"#0d0887\"],[0.1111111111111111,\"#46039f\"],[0.2222222222222222,\"#7201a8\"],[0.3333333333333333,\"#9c179e\"],[0.4444444444444444,\"#bd3786\"],[0.5555555555555556,\"#d8576b\"],[0.6666666666666666,\"#ed7953\"],[0.7777777777777778,\"#fb9f3a\"],[0.8888888888888888,\"#fdca26\"],[1.0,\"#f0f921\"]],\"type\":\"heatmap\"}],\"heatmapgl\":[{\"colorbar\":{\"outlinewidth\":0,\"ticks\":\"\"},\"colorscale\":[[0.0,\"#0d0887\"],[0.1111111111111111,\"#46039f\"],[0.2222222222222222,\"#7201a8\"],[0.3333333333333333,\"#9c179e\"],[0.4444444444444444,\"#bd3786\"],[0.5555555555555556,\"#d8576b\"],[0.6666666666666666,\"#ed7953\"],[0.7777777777777778,\"#fb9f3a\"],[0.8888888888888888,\"#fdca26\"],[1.0,\"#f0f921\"]],\"type\":\"heatmapgl\"}],\"histogram\":[{\"marker\":{\"pattern\":{\"fillmode\":\"overlay\",\"size\":10,\"solidity\":0.2}},\"type\":\"histogram\"}],\"histogram2d\":[{\"colorbar\":{\"outlinewidth\":0,\"ticks\":\"\"},\"colorscale\":[[0.0,\"#0d0887\"],[0.1111111111111111,\"#46039f\"],[0.2222222222222222,\"#7201a8\"],[0.3333333333333333,\"#9c179e\"],[0.4444444444444444,\"#bd3786\"],[0.5555555555555556,\"#d8576b\"],[0.6666666666666666,\"#ed7953\"],[0.7777777777777778,\"#fb9f3a\"],[0.8888888888888888,\"#fdca26\"],[1.0,\"#f0f921\"]],\"type\":\"histogram2d\"}],\"histogram2dcontour\":[{\"colorbar\":{\"outlinewidth\":0,\"ticks\":\"\"},\"colorscale\":[[0.0,\"#0d0887\"],[0.1111111111111111,\"#46039f\"],[0.2222222222222222,\"#7201a8\"],[0.3333333333333333,\"#9c179e\"],[0.4444444444444444,\"#bd3786\"],[0.5555555555555556,\"#d8576b\"],[0.6666666666666666,\"#ed7953\"],[0.7777777777777778,\"#fb9f3a\"],[0.8888888888888888,\"#fdca26\"],[1.0,\"#f0f921\"]],\"type\":\"histogram2dcontour\"}],\"mesh3d\":[{\"colorbar\":{\"outlinewidth\":0,\"ticks\":\"\"},\"type\":\"mesh3d\"}],\"parcoords\":[{\"line\":{\"colorbar\":{\"outlinewidth\":0,\"ticks\":\"\"}},\"type\":\"parcoords\"}],\"pie\":[{\"automargin\":true,\"type\":\"pie\"}],\"scatter\":[{\"marker\":{\"colorbar\":{\"outlinewidth\":0,\"ticks\":\"\"}},\"type\":\"scatter\"}],\"scatter3d\":[{\"line\":{\"colorbar\":{\"outlinewidth\":0,\"ticks\":\"\"}},\"marker\":{\"colorbar\":{\"outlinewidth\":0,\"ticks\":\"\"}},\"type\":\"scatter3d\"}],\"scattercarpet\":[{\"marker\":{\"colorbar\":{\"outlinewidth\":0,\"ticks\":\"\"}},\"type\":\"scattercarpet\"}],\"scattergeo\":[{\"marker\":{\"colorbar\":{\"outlinewidth\":0,\"ticks\":\"\"}},\"type\":\"scattergeo\"}],\"scattergl\":[{\"marker\":{\"colorbar\":{\"outlinewidth\":0,\"ticks\":\"\"}},\"type\":\"scattergl\"}],\"scattermapbox\":[{\"marker\":{\"colorbar\":{\"outlinewidth\":0,\"ticks\":\"\"}},\"type\":\"scattermapbox\"}],\"scatterpolar\":[{\"marker\":{\"colorbar\":{\"outlinewidth\":0,\"ticks\":\"\"}},\"type\":\"scatterpolar\"}],\"scatterpolargl\":[{\"marker\":{\"colorbar\":{\"outlinewidth\":0,\"ticks\":\"\"}},\"type\":\"scatterpolargl\"}],\"scatterternary\":[{\"marker\":{\"colorbar\":{\"outlinewidth\":0,\"ticks\":\"\"}},\"type\":\"scatterternary\"}],\"surface\":[{\"colorbar\":{\"outlinewidth\":0,\"ticks\":\"\"},\"colorscale\":[[0.0,\"#0d0887\"],[0.1111111111111111,\"#46039f\"],[0.2222222222222222,\"#7201a8\"],[0.3333333333333333,\"#9c179e\"],[0.4444444444444444,\"#bd3786\"],[0.5555555555555556,\"#d8576b\"],[0.6666666666666666,\"#ed7953\"],[0.7777777777777778,\"#fb9f3a\"],[0.8888888888888888,\"#fdca26\"],[1.0,\"#f0f921\"]],\"type\":\"surface\"}],\"table\":[{\"cells\":{\"fill\":{\"color\":\"#EBF0F8\"},\"line\":{\"color\":\"white\"}},\"header\":{\"fill\":{\"color\":\"#C8D4E3\"},\"line\":{\"color\":\"white\"}},\"type\":\"table\"}]},\"layout\":{\"annotationdefaults\":{\"arrowcolor\":\"#2a3f5f\",\"arrowhead\":0,\"arrowwidth\":1},\"autotypenumbers\":\"strict\",\"coloraxis\":{\"colorbar\":{\"outlinewidth\":0,\"ticks\":\"\"}},\"colorscale\":{\"diverging\":[[0,\"#8e0152\"],[0.1,\"#c51b7d\"],[0.2,\"#de77ae\"],[0.3,\"#f1b6da\"],[0.4,\"#fde0ef\"],[0.5,\"#f7f7f7\"],[0.6,\"#e6f5d0\"],[0.7,\"#b8e186\"],[0.8,\"#7fbc41\"],[0.9,\"#4d9221\"],[1,\"#276419\"]],\"sequential\":[[0.0,\"#0d0887\"],[0.1111111111111111,\"#46039f\"],[0.2222222222222222,\"#7201a8\"],[0.3333333333333333,\"#9c179e\"],[0.4444444444444444,\"#bd3786\"],[0.5555555555555556,\"#d8576b\"],[0.6666666666666666,\"#ed7953\"],[0.7777777777777778,\"#fb9f3a\"],[0.8888888888888888,\"#fdca26\"],[1.0,\"#f0f921\"]],\"sequentialminus\":[[0.0,\"#0d0887\"],[0.1111111111111111,\"#46039f\"],[0.2222222222222222,\"#7201a8\"],[0.3333333333333333,\"#9c179e\"],[0.4444444444444444,\"#bd3786\"],[0.5555555555555556,\"#d8576b\"],[0.6666666666666666,\"#ed7953\"],[0.7777777777777778,\"#fb9f3a\"],[0.8888888888888888,\"#fdca26\"],[1.0,\"#f0f921\"]]},\"colorway\":[\"#636efa\",\"#EF553B\",\"#00cc96\",\"#ab63fa\",\"#FFA15A\",\"#19d3f3\",\"#FF6692\",\"#B6E880\",\"#FF97FF\",\"#FECB52\"],\"font\":{\"color\":\"#2a3f5f\"},\"geo\":{\"bgcolor\":\"white\",\"lakecolor\":\"white\",\"landcolor\":\"#E5ECF6\",\"showlakes\":true,\"showland\":true,\"subunitcolor\":\"white\"},\"hoverlabel\":{\"align\":\"left\"},\"hovermode\":\"closest\",\"mapbox\":{\"style\":\"light\"},\"paper_bgcolor\":\"white\",\"plot_bgcolor\":\"#E5ECF6\",\"polar\":{\"angularaxis\":{\"gridcolor\":\"white\",\"linecolor\":\"white\",\"ticks\":\"\"},\"bgcolor\":\"#E5ECF6\",\"radialaxis\":{\"gridcolor\":\"white\",\"linecolor\":\"white\",\"ticks\":\"\"}},\"scene\":{\"xaxis\":{\"backgroundcolor\":\"#E5ECF6\",\"gridcolor\":\"white\",\"gridwidth\":2,\"linecolor\":\"white\",\"showbackground\":true,\"ticks\":\"\",\"zerolinecolor\":\"white\"},\"yaxis\":{\"backgroundcolor\":\"#E5ECF6\",\"gridcolor\":\"white\",\"gridwidth\":2,\"linecolor\":\"white\",\"showbackground\":true,\"ticks\":\"\",\"zerolinecolor\":\"white\"},\"zaxis\":{\"backgroundcolor\":\"#E5ECF6\",\"gridcolor\":\"white\",\"gridwidth\":2,\"linecolor\":\"white\",\"showbackground\":true,\"ticks\":\"\",\"zerolinecolor\":\"white\"}},\"shapedefaults\":{\"line\":{\"color\":\"#2a3f5f\"}},\"ternary\":{\"aaxis\":{\"gridcolor\":\"white\",\"linecolor\":\"white\",\"ticks\":\"\"},\"baxis\":{\"gridcolor\":\"white\",\"linecolor\":\"white\",\"ticks\":\"\"},\"bgcolor\":\"#E5ECF6\",\"caxis\":{\"gridcolor\":\"white\",\"linecolor\":\"white\",\"ticks\":\"\"}},\"title\":{\"x\":0.05},\"xaxis\":{\"automargin\":true,\"gridcolor\":\"white\",\"linecolor\":\"white\",\"ticks\":\"\",\"title\":{\"standoff\":15},\"zerolinecolor\":\"white\",\"zerolinewidth\":2},\"yaxis\":{\"automargin\":true,\"gridcolor\":\"white\",\"linecolor\":\"white\",\"ticks\":\"\",\"title\":{\"standoff\":15},\"zerolinecolor\":\"white\",\"zerolinewidth\":2}}},\"xaxis\":{\"anchor\":\"y\",\"domain\":[0.0,1.0],\"title\":{\"text\":\"exp_us\"},\"rangemode\":\"nonnegative\"},\"yaxis\":{\"anchor\":\"x\",\"domain\":[0.0,1.0],\"title\":{\"text\":\"value\"},\"rangemode\":\"nonnegative\"},\"legend\":{\"title\":{\"text\":\"variable\"},\"tracegroupgap\":0},\"title\":{\"text\":\"Response curve\"}},                        {\"responsive\": true}                    ).then(function(){\n",
       "                            \n",
       "var gd = document.getElementById('747660af-4823-44b4-ac77-cdb9a2756ceb');\n",
       "var x = new MutationObserver(function (mutations, observer) {{\n",
       "        var display = window.getComputedStyle(gd).display;\n",
       "        if (!display || display === 'none') {{\n",
       "            console.log([gd, 'removed!']);\n",
       "            Plotly.purge(gd);\n",
       "            observer.disconnect();\n",
       "        }}\n",
       "}});\n",
       "\n",
       "// Listen for the removal of the full notebook cells\n",
       "var notebookContainer = gd.closest('#notebook-container');\n",
       "if (notebookContainer) {{\n",
       "    x.observe(notebookContainer, {childList: true});\n",
       "}}\n",
       "\n",
       "// Listen for the clearing of the current output cell\n",
       "var outputEl = gd.closest('.output');\n",
       "if (outputEl) {{\n",
       "    x.observe(outputEl, {childList: true});\n",
       "}}\n",
       "\n",
       "                        })                };                });            </script>        </div>"
      ]
     },
     "metadata": {},
     "output_type": "display_data"
    }
   ],
   "source": [
    "fig = px.line(data.iloc[1:22 , :], x='exp_us', y=['Signal - Dark [DN]', \n",
    "                                                            'Linearity Fit [DN]', \n",
    "                                                            'Responsivity Fit [DN]'], \n",
    "              title='Response curve')\n",
    "fig.update_xaxes(rangemode=\"nonnegative\")\n",
    "fig.update_yaxes(rangemode=\"nonnegative\")\n",
    "fig.show()"
   ]
  }
 ],
 "metadata": {
  "kernelspec": {
   "display_name": "Python 3 (ipykernel)",
   "language": "python",
   "name": "python3"
  },
  "language_info": {
   "codemirror_mode": {
    "name": "ipython",
    "version": 3
   },
   "file_extension": ".py",
   "mimetype": "text/x-python",
   "name": "python",
   "nbconvert_exporter": "python",
   "pygments_lexer": "ipython3",
   "version": "3.7.9"
  }
 },
 "nbformat": 4,
 "nbformat_minor": 5
}
