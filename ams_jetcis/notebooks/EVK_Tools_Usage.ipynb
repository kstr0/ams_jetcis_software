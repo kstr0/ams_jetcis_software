{
 "cells": [
  {
   "cell_type": "markdown",
   "id": "f876b21a",
   "metadata": {},
   "source": [
    "# <center> EVK Tools Usage\n",
    "# <center> Prepared by Denver Lloyd\n",
    "# <center> 10/27/2021"
   ]
  },
  {
   "cell_type": "markdown",
   "id": "ca4935a5",
   "metadata": {},
   "source": [
    "## Introduction"
   ]
  },
  {
   "cell_type": "markdown",
   "id": "23a8ea24",
   "metadata": {},
   "source": [
    "- The sever_app module requires `server_app_host` and `set_sensor` to be on the host machine and all other files to be on the receiver machine. A config is provided that sets the sensor state and requested frame count and exposure points. The flow is as follows:\n",
    "1. Run `server_app_host.py` from the receiver machine using ssh which initiates setting the sensor and the capture. A config path on the host machine is provided `config_path_host` and the location of server_app_host to be on ran on the host machine via keyword `capture_script`.\n",
    "    - Support is also included for creating a config on the receiver machine and providing the path to this local config via the keyword `config_path_rec`. If `config_path_rec` is provided then that config will be copied to the host and used for the capture.\n",
    "     - `server_app_host.py` sets the sensor state using `set_sensor.py` using the config params, iterates over exposure points from the config, captures, and saves off the images to a user defined directory (no need to change this directory).\n",
    "     - a csv is also created and saved on the host machine containing the sensor state information and the image path for each operating point.\n",
    "2. Images and the state csv file for each image is transferred to the receiver machine using ssh and a user defined directory via the keyword `rpath`.\n",
    "3. images are renamed if desired on the receiver pc and the csv state file is updated to reflect the new local path\n",
    "4. directory on host machine is cleared once all images and the state file are transferred and ready for another capture "
   ]
  },
  {
   "cell_type": "code",
   "execution_count": 14,
   "id": "20d24be4",
   "metadata": {},
   "outputs": [
    {
     "name": "stdout",
     "output_type": "stream",
     "text": [
      "The autoreload extension is already loaded. To reload it, use:\n",
      "  %reload_ext autoreload\n"
     ]
    }
   ],
   "source": [
    "%load_ext autoreload\n",
    "%autoreload 2\n",
    "import sys\n",
    "import os\n",
    "import numpy as np\n",
    "import time\n",
    "import pandas as pd\n",
    "import matplotlib.pyplot as plt\n",
    "from ams_jetcis.evk_tools import server_app\n",
    "import pdb\n",
    "plt.rcParams['figure.figsize'] = (12, 8)"
   ]
  },
  {
   "cell_type": "markdown",
   "id": "6e65bfa5",
   "metadata": {},
   "source": [
    "## Create Instance of Server_App"
   ]
  },
  {
   "cell_type": "markdown",
   "id": "613bf457",
   "metadata": {},
   "source": [
    "### params"
   ]
  },
  {
   "cell_type": "code",
   "execution_count": 18,
   "id": "92db5292",
   "metadata": {},
   "outputs": [],
   "source": [
    "# username of host machine\n",
    "username = 'jetcis'\n",
    "\n",
    "# password of host machine\n",
    "password = 'jetcis'\n",
    "\n",
    "# port of host machine for ssh\n",
    "port=22\n",
    "\n",
    "# hostname of host machine for ssh\n",
    "hostname = '192.168.1.35'\n",
    "\n",
    "# create host path\n",
    "hpath = r'/home/jetcis/staged_images'\n",
    "\n",
    "# receiver path\n",
    "rpath=r'C:\\data\\MIRA050\\Example'\n",
    "\n",
    "# sensor to run\n",
    "sensor_name = 'Mira050'\n",
    "\n",
    "# script that captures images and sends to socket\n",
    "capture_script = r'/home/jetcis/jetcis/software/trunk/sw/ams_jetcis/evk_tools/server_app_host.py'\n",
    "\n",
    "# config on host machine\n",
    "config_path_host = r'/home/jetcis/jetcis/software/trunk/sw/ams_jetcis/configs/Mira050.ini'\n",
    "\n",
    "config_path_rec = None"
   ]
  },
  {
   "cell_type": "markdown",
   "id": "9f3d6ab6",
   "metadata": {},
   "source": [
    "## Config Examples (.ini)"
   ]
  },
  {
   "cell_type": "markdown",
   "id": "5d98258f",
   "metadata": {},
   "source": [
    "### Single Exposure Point"
   ]
  },
  {
   "cell_type": "markdown",
   "id": "e20695e8",
   "metadata": {},
   "source": [
    "[Mira050]\n",
    "\n",
    "analog_gain=1\n",
    "\n",
    "digital_gain=4\n",
    "\n",
    "frame_count=20\n",
    "\n",
    "bit_mode=12\n",
    "\n",
    "exposure=10"
   ]
  },
  {
   "cell_type": "markdown",
   "id": "3fabea14",
   "metadata": {},
   "source": [
    "### Multiple Exposure Points"
   ]
  },
  {
   "cell_type": "markdown",
   "id": "d6b137a8",
   "metadata": {},
   "source": [
    "[Mira050]\n",
    "\n",
    "analog_gain=1\n",
    "\n",
    "digital_gain=4\n",
    "\n",
    "frame_count=20\n",
    "\n",
    "bit_mode=12\n",
    "\n",
    "exposure=[1, 10, 20, 50, 1000, 5000]"
   ]
  },
  {
   "cell_type": "markdown",
   "id": "3f230ac7",
   "metadata": {},
   "source": [
    "### Linear Sweep of Exposure Points"
   ]
  },
  {
   "cell_type": "markdown",
   "id": "fefc6161",
   "metadata": {},
   "source": [
    "- config syntax for exposure: `start point:end point:number of steps`"
   ]
  },
  {
   "cell_type": "markdown",
   "id": "7bbb461f",
   "metadata": {},
   "source": [
    "[Mira050]\n",
    "\n",
    "analog_gain=1\n",
    "\n",
    "digital_gain=4\n",
    "\n",
    "frame_count=20\n",
    "\n",
    "bit_mode=12\n",
    "\n",
    "exposure= 1:1000:100"
   ]
  },
  {
   "cell_type": "markdown",
   "id": "bfe6840b",
   "metadata": {},
   "source": [
    "## Case 1: Exposure Sweep"
   ]
  },
  {
   "cell_type": "markdown",
   "id": "282e24a2",
   "metadata": {},
   "source": [
    "- In this case we do not need to know any information that is not available on the evk, so we simply sweep exposure.\n",
    "    - an example of this would be a light source with a fixed irradiance"
   ]
  },
  {
   "cell_type": "markdown",
   "id": "8708b35c",
   "metadata": {},
   "source": [
    "### Config"
   ]
  },
  {
   "cell_type": "markdown",
   "id": "d9140092",
   "metadata": {},
   "source": [
    "- Here I am setting `config_path_rec` to a local config on my machine which will be written to the host and used for the capture. Below are the example params\n",
    "\n",
    "- I am sweeping exposure from 1 to 1000 in 10 steps\n",
    "    - `np.linspace(1,1000,10)`"
   ]
  },
  {
   "cell_type": "markdown",
   "id": "3fd2f19e",
   "metadata": {},
   "source": [
    "[Mira050]\n",
    "\n",
    "exposure = 1:1000:10\n",
    "\n",
    "analog_gain = 1\n",
    "\n",
    "digital_gain = 2\n",
    "\n",
    "frame_count = 20\n",
    "\n",
    "bit_mode = 12"
   ]
  },
  {
   "cell_type": "code",
   "execution_count": 186,
   "id": "88b27c3a",
   "metadata": {},
   "outputs": [
    {
     "name": "stdout",
     "output_type": "stream",
     "text": [
      "Connected to paramiko (ssh)\n"
     ]
    }
   ],
   "source": [
    "# create instance of Server_App\n",
    "sa = server_app.Server_App(username=username,\n",
    "                           password=password,\n",
    "                           port=port,\n",
    "                           hostname=hostname,\n",
    "                           hpath=hpath,\n",
    "                           rpath=r'C:\\data\\MIRA050\\Example',\n",
    "                           sensor_name=sensor_name,\n",
    "                           capture_script=capture_script,\n",
    "                           config_path_host=config_path_host,\n",
    "                           config_path_rec=r'C:\\workspace\\evk_tools\\source\\Mira050_Example.ini')"
   ]
  },
  {
   "cell_type": "code",
   "execution_count": 187,
   "id": "c59615fe",
   "metadata": {
    "scrolled": true
   },
   "outputs": [
    {
     "data": {
      "text/plain": [
       "[b'']"
      ]
     },
     "execution_count": 187,
     "metadata": {},
     "output_type": "execute_result"
    }
   ],
   "source": [
    "# get the images\n",
    "out = sa.get_images()\n",
    "\n",
    "\n",
    "#transfer to receiver\n",
    "sa.transfer()\n",
    "\n",
    "\n",
    "# rename images\n",
    "label = f'example_label'\n",
    "sa.rename_stack(label)\n",
    "\n",
    "# delete from host\n",
    "sa.delete_images()"
   ]
  },
  {
   "cell_type": "markdown",
   "id": "ebaea569",
   "metadata": {},
   "source": [
    "Note: the above sequence can be achieved by calling `sa.main()`"
   ]
  },
  {
   "cell_type": "markdown",
   "id": "089695f5",
   "metadata": {},
   "source": [
    "### Directory After Running"
   ]
  },
  {
   "cell_type": "code",
   "execution_count": 161,
   "id": "5aa23359",
   "metadata": {},
   "outputs": [
    {
     "data": {
      "image/png": "[encoded data removed]",
      "text/plain": [
       "<IPython.core.display.Image object>"
      ]
     },
     "execution_count": 161,
     "metadata": {},
     "output_type": "execute_result"
    }
   ],
   "source": [
    "from IPython.display import Image\n",
    "Image(filename='C:\\data\\evk_tools.png')"
   ]
  },
  {
   "cell_type": "markdown",
   "id": "54e2285e",
   "metadata": {},
   "source": [
    "### Example of state csv in directory"
   ]
  },
  {
   "cell_type": "code",
   "execution_count": 162,
   "id": "41164e95",
   "metadata": {},
   "outputs": [],
   "source": [
    "raw = pd.read_csv(r'C:\\data\\MIRA050\\Example\\RAW.csv')"
   ]
  },
  {
   "cell_type": "code",
   "execution_count": 163,
   "id": "63ed1c96",
   "metadata": {},
   "outputs": [
    {
     "data": {
      "text/html": [
       "<div>\n",
       "<style scoped>\n",
       "    .dataframe tbody tr th:only-of-type {\n",
       "        vertical-align: middle;\n",
       "    }\n",
       "\n",
       "    .dataframe tbody tr th {\n",
       "        vertical-align: top;\n",
       "    }\n",
       "\n",
       "    .dataframe thead th {\n",
       "        text-align: right;\n",
       "    }\n",
       "</style>\n",
       "<table border=\"1\" class=\"dataframe\">\n",
       "  <thead>\n",
       "    <tr style=\"text-align: right;\">\n",
       "      <th></th>\n",
       "      <th>analog_gain</th>\n",
       "      <th>bit_mode</th>\n",
       "      <th>digital_gain</th>\n",
       "      <th>exposure</th>\n",
       "      <th>frame_count</th>\n",
       "      <th>image_path</th>\n",
       "    </tr>\n",
       "  </thead>\n",
       "  <tbody>\n",
       "    <tr>\n",
       "      <th>0</th>\n",
       "      <td>1</td>\n",
       "      <td>12bit</td>\n",
       "      <td>4</td>\n",
       "      <td>1.0</td>\n",
       "      <td>20</td>\n",
       "      <td>C:\\data\\MIRA050\\Example\\example_label_fno0_exp...</td>\n",
       "    </tr>\n",
       "    <tr>\n",
       "      <th>1</th>\n",
       "      <td>1</td>\n",
       "      <td>12bit</td>\n",
       "      <td>4</td>\n",
       "      <td>1.0</td>\n",
       "      <td>20</td>\n",
       "      <td>C:\\data\\MIRA050\\Example\\example_label_fno1_exp...</td>\n",
       "    </tr>\n",
       "    <tr>\n",
       "      <th>2</th>\n",
       "      <td>1</td>\n",
       "      <td>12bit</td>\n",
       "      <td>4</td>\n",
       "      <td>1.0</td>\n",
       "      <td>20</td>\n",
       "      <td>C:\\data\\MIRA050\\Example\\example_label_fno2_exp...</td>\n",
       "    </tr>\n",
       "    <tr>\n",
       "      <th>3</th>\n",
       "      <td>1</td>\n",
       "      <td>12bit</td>\n",
       "      <td>4</td>\n",
       "      <td>1.0</td>\n",
       "      <td>20</td>\n",
       "      <td>C:\\data\\MIRA050\\Example\\example_label_fno3_exp...</td>\n",
       "    </tr>\n",
       "    <tr>\n",
       "      <th>4</th>\n",
       "      <td>1</td>\n",
       "      <td>12bit</td>\n",
       "      <td>4</td>\n",
       "      <td>1.0</td>\n",
       "      <td>20</td>\n",
       "      <td>C:\\data\\MIRA050\\Example\\example_label_fno4_exp...</td>\n",
       "    </tr>\n",
       "  </tbody>\n",
       "</table>\n",
       "</div>"
      ],
      "text/plain": [
       "   analog_gain bit_mode  digital_gain  exposure  frame_count  \\\n",
       "0            1    12bit             4       1.0           20   \n",
       "1            1    12bit             4       1.0           20   \n",
       "2            1    12bit             4       1.0           20   \n",
       "3            1    12bit             4       1.0           20   \n",
       "4            1    12bit             4       1.0           20   \n",
       "\n",
       "                                          image_path  \n",
       "0  C:\\data\\MIRA050\\Example\\example_label_fno0_exp...  \n",
       "1  C:\\data\\MIRA050\\Example\\example_label_fno1_exp...  \n",
       "2  C:\\data\\MIRA050\\Example\\example_label_fno2_exp...  \n",
       "3  C:\\data\\MIRA050\\Example\\example_label_fno3_exp...  \n",
       "4  C:\\data\\MIRA050\\Example\\example_label_fno4_exp...  "
      ]
     },
     "execution_count": 163,
     "metadata": {},
     "output_type": "execute_result"
    }
   ],
   "source": [
    "raw.head()"
   ]
  },
  {
   "cell_type": "markdown",
   "id": "fcba26a3",
   "metadata": {},
   "source": [
    "## Case 2: External Sweep"
   ]
  },
  {
   "cell_type": "markdown",
   "id": "f9d20c78",
   "metadata": {},
   "source": [
    "- In this case we are using an exteral system (like a light source) where we need to change the power after every capture.\n",
    "    - here a loop is required"
   ]
  },
  {
   "cell_type": "markdown",
   "id": "eac0ffb9",
   "metadata": {},
   "source": [
    "### Config"
   ]
  },
  {
   "cell_type": "markdown",
   "id": "1cf29b2b",
   "metadata": {},
   "source": [
    "- Here I am setting `config_path_rec` to a local config on my machine which will be written to the host and used for the capture. Below are the example params\n",
    "\n",
    "- I am using a fixed exposure and will loop through my 'light source values' and run the sequence over and over updating my image labels to reflect my params not captured by setting the sensor state"
   ]
  },
  {
   "cell_type": "markdown",
   "id": "65f6972b",
   "metadata": {},
   "source": [
    "[Mira050]\n",
    "\n",
    "exposure = 1000\n",
    "\n",
    "analog_gain = 1\n",
    "\n",
    "digital_gain = 2\n",
    "\n",
    "frame_count = 20\n",
    "\n",
    "bit_mode = 12"
   ]
  },
  {
   "cell_type": "code",
   "execution_count": 173,
   "id": "6fd356dc",
   "metadata": {},
   "outputs": [
    {
     "name": "stdout",
     "output_type": "stream",
     "text": [
      "Connected to paramiko (ssh)\n"
     ]
    }
   ],
   "source": [
    "# create instance of Server_App\n",
    "sa = server_app.Server_App(username=username,\n",
    "                           password=password,\n",
    "                           port=port,\n",
    "                           hostname=hostname,\n",
    "                           hpath=hpath,\n",
    "                           rpath=r'C:\\data\\MIRA050\\Example',\n",
    "                           sensor_name=sensor_name,\n",
    "                           capture_script=capture_script,\n",
    "                           config_path_host=config_path_host,\n",
    "                           config_path_rec=r'C:\\workspace\\evk_tools\\source\\Mira050_Example2.ini')"
   ]
  },
  {
   "cell_type": "code",
   "execution_count": 175,
   "id": "b49934aa",
   "metadata": {},
   "outputs": [],
   "source": [
    "raw_update = pd.DataFrame()\n",
    "\n",
    "# transfer the config\n",
    "sa.transfer_config()\n",
    "\n",
    "# connect to fake light source\n",
    "\n",
    "# define power sweep\n",
    "power = np.linspace(0,10,10)\n",
    "\n",
    "# iterate over power\n",
    "for pp in power:\n",
    "    \n",
    "    # set the light source\n",
    "    power_ = round(pp, 1)\n",
    "    \n",
    "    # capture images\n",
    "    out = sa.get_images()\n",
    "    \n",
    "    # transfer images\n",
    "    sa.transfer()\n",
    "    \n",
    "    # update the label\n",
    "    label = f'power_{power_}'\n",
    "    sa.rename_stack(label)\n",
    "    \n",
    "    # open raw file and add external instrument specific labels\n",
    "    raw = pd.read_csv(os.path.join(sa.rpath, 'RAW.csv'))\n",
    "    raw['Power'] = power_\n",
    "    \n",
    "    # concat to master frame each loop (will be saved after sweep is complete)\n",
    "    raw_update = pd.concat([raw_update, raw]).reset_index(drop=True)\n",
    "    \n",
    "    # delete the images from host\n",
    "    sa.delete_images()\n",
    "\n",
    "raw_update.to_csv(os.path.join(sa.rpath, 'RAW.csv'), index=False)"
   ]
  },
  {
   "cell_type": "markdown",
   "id": "7a909fb1",
   "metadata": {},
   "source": [
    "### Directory After Running"
   ]
  },
  {
   "cell_type": "code",
   "execution_count": 176,
   "id": "1cf89eb7",
   "metadata": {},
   "outputs": [
    {
     "data": {
      "image/png": "[encoded data removed]",
      "text/plain": [
       "<IPython.core.display.Image object>"
      ]
     },
     "execution_count": 176,
     "metadata": {},
     "output_type": "execute_result"
    }
   ],
   "source": [
    "from IPython.display import Image\n",
    "Image(filename='C:\\data\\evk_tools2.png')"
   ]
  },
  {
   "cell_type": "markdown",
   "id": "90447cb7",
   "metadata": {},
   "source": [
    "### Example of state csv in directory"
   ]
  },
  {
   "cell_type": "code",
   "execution_count": 177,
   "id": "99e76f94",
   "metadata": {},
   "outputs": [],
   "source": [
    "raw = pd.read_csv(r'C:\\data\\MIRA050\\Example\\RAW.csv')"
   ]
  },
  {
   "cell_type": "code",
   "execution_count": 178,
   "id": "b9eb3dd2",
   "metadata": {},
   "outputs": [
    {
     "data": {
      "text/html": [
       "<div>\n",
       "<style scoped>\n",
       "    .dataframe tbody tr th:only-of-type {\n",
       "        vertical-align: middle;\n",
       "    }\n",
       "\n",
       "    .dataframe tbody tr th {\n",
       "        vertical-align: top;\n",
       "    }\n",
       "\n",
       "    .dataframe thead th {\n",
       "        text-align: right;\n",
       "    }\n",
       "</style>\n",
       "<table border=\"1\" class=\"dataframe\">\n",
       "  <thead>\n",
       "    <tr style=\"text-align: right;\">\n",
       "      <th></th>\n",
       "      <th>analog_gain</th>\n",
       "      <th>bit_mode</th>\n",
       "      <th>digital_gain</th>\n",
       "      <th>exposure</th>\n",
       "      <th>frame_count</th>\n",
       "      <th>image_path</th>\n",
       "      <th>Power</th>\n",
       "    </tr>\n",
       "  </thead>\n",
       "  <tbody>\n",
       "    <tr>\n",
       "      <th>0</th>\n",
       "      <td>1</td>\n",
       "      <td>12bit</td>\n",
       "      <td>2</td>\n",
       "      <td>1000.0</td>\n",
       "      <td>20</td>\n",
       "      <td>C:\\data\\MIRA050\\Example\\power_0.0_fno0_exp_100...</td>\n",
       "      <td>0.0</td>\n",
       "    </tr>\n",
       "    <tr>\n",
       "      <th>1</th>\n",
       "      <td>1</td>\n",
       "      <td>12bit</td>\n",
       "      <td>2</td>\n",
       "      <td>1000.0</td>\n",
       "      <td>20</td>\n",
       "      <td>C:\\data\\MIRA050\\Example\\power_0.0_fno1_exp_100...</td>\n",
       "      <td>0.0</td>\n",
       "    </tr>\n",
       "    <tr>\n",
       "      <th>2</th>\n",
       "      <td>1</td>\n",
       "      <td>12bit</td>\n",
       "      <td>2</td>\n",
       "      <td>1000.0</td>\n",
       "      <td>20</td>\n",
       "      <td>C:\\data\\MIRA050\\Example\\power_0.0_fno2_exp_100...</td>\n",
       "      <td>0.0</td>\n",
       "    </tr>\n",
       "    <tr>\n",
       "      <th>3</th>\n",
       "      <td>1</td>\n",
       "      <td>12bit</td>\n",
       "      <td>2</td>\n",
       "      <td>1000.0</td>\n",
       "      <td>20</td>\n",
       "      <td>C:\\data\\MIRA050\\Example\\power_0.0_fno3_exp_100...</td>\n",
       "      <td>0.0</td>\n",
       "    </tr>\n",
       "    <tr>\n",
       "      <th>4</th>\n",
       "      <td>1</td>\n",
       "      <td>12bit</td>\n",
       "      <td>2</td>\n",
       "      <td>1000.0</td>\n",
       "      <td>20</td>\n",
       "      <td>C:\\data\\MIRA050\\Example\\power_0.0_fno4_exp_100...</td>\n",
       "      <td>0.0</td>\n",
       "    </tr>\n",
       "  </tbody>\n",
       "</table>\n",
       "</div>"
      ],
      "text/plain": [
       "   analog_gain bit_mode  digital_gain  exposure  frame_count  \\\n",
       "0            1    12bit             2    1000.0           20   \n",
       "1            1    12bit             2    1000.0           20   \n",
       "2            1    12bit             2    1000.0           20   \n",
       "3            1    12bit             2    1000.0           20   \n",
       "4            1    12bit             2    1000.0           20   \n",
       "\n",
       "                                          image_path  Power  \n",
       "0  C:\\data\\MIRA050\\Example\\power_0.0_fno0_exp_100...    0.0  \n",
       "1  C:\\data\\MIRA050\\Example\\power_0.0_fno1_exp_100...    0.0  \n",
       "2  C:\\data\\MIRA050\\Example\\power_0.0_fno2_exp_100...    0.0  \n",
       "3  C:\\data\\MIRA050\\Example\\power_0.0_fno3_exp_100...    0.0  \n",
       "4  C:\\data\\MIRA050\\Example\\power_0.0_fno4_exp_100...    0.0  "
      ]
     },
     "execution_count": 178,
     "metadata": {},
     "output_type": "execute_result"
    }
   ],
   "source": [
    "raw.head()"
   ]
  },
  {
   "cell_type": "code",
   "execution_count": null,
   "id": "c0dcc79e",
   "metadata": {},
   "outputs": [],
   "source": []
  }
 ],
 "metadata": {
  "kernelspec": {
   "display_name": "Python 3",
   "language": "python",
   "name": "python3"
  },
  "language_info": {
   "codemirror_mode": {
    "name": "ipython",
    "version": 3
   },
   "file_extension": ".py",
   "mimetype": "text/x-python",
   "name": "python",
   "nbconvert_exporter": "python",
   "pygments_lexer": "ipython3",
   "version": "3.8.8"
  },
  "toc": {
   "base_numbering": 1,
   "nav_menu": {},
   "number_sections": true,
   "sideBar": true,
   "skip_h1_title": true,
   "title_cell": "Table of Contents",
   "title_sidebar": "Contents",
   "toc_cell": false,
   "toc_position": {},
   "toc_section_display": true,
   "toc_window_display": true
  },
  "varInspector": {
   "cols": {
    "lenName": 16,
    "lenType": 16,
    "lenVar": 40
   },
   "kernels_config": {
    "python": {
     "delete_cmd_postfix": "",
     "delete_cmd_prefix": "del ",
     "library": "var_list.py",
     "varRefreshCmd": "print(var_dic_list())"
    },
    "r": {
     "delete_cmd_postfix": ") ",
     "delete_cmd_prefix": "rm(",
     "library": "var_list.r",
     "varRefreshCmd": "cat(var_dic_list()) "
    }
   },
   "types_to_exclude": [
    "module",
    "function",
    "builtin_function_or_method",
    "instance",
    "_Feature"
   ],
   "window_display": false
  }
 },
 "nbformat": 4,
 "nbformat_minor": 5
}
