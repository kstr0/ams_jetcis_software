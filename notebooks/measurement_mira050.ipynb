{
 "cells": [
  {
   "cell_type": "code",
   "execution_count": 1,
   "id": "1b7c2951",
   "metadata": {},
   "outputs": [],
   "source": [
    "import numpy as np\n",
    "import pandas as pd\n",
    "import matplotlib.pyplot as plt\n",
    "%matplotlib inline\n",
    "import time\n",
    "import os\n",
    "import sys"
   ]
  },
  {
   "cell_type": "code",
   "execution_count": 2,
   "id": "461a24c4",
   "metadata": {},
   "outputs": [],
   "source": [
    "sys.path.append(os.path.dirname(os.path.dirname(os.getcwd())))\n",
    "from ams_jetcis.scripts import sensor_script_example as scripts\n",
    "import ams_jetcis.characterization.stats_engine.stats as stats"
   ]
  },
  {
   "cell_type": "code",
   "execution_count": 3,
   "id": "37d8d73a",
   "metadata": {},
   "outputs": [],
   "source": [
    "sensor_name = 'Mira050'"
   ]
  },
  {
   "cell_type": "code",
   "execution_count": 4,
   "id": "0a1cdba4",
   "metadata": {},
   "outputs": [
    {
     "name": "stdout",
     "output_type": "stream",
     "text": [
      "Open card:\n",
      "Current sensor loaded: mira220\n",
      "Current jetpack loaded: 4.6\n",
      "Current kernel loaded: Linux-4.9.253-tegra-aarch64-with-Ubuntu-18.04-bionic\n",
      "Correct sensor driver loaded\n",
      "Reset sensor low\n",
      "Reset sensor high \n",
      "Mira220 detected with ID 01:0C:2D:05:0B:04:E5:07\n",
      "(20, 1400, 1600)\n"
     ]
    },
    {
     "data": {
      "image/png": "[encoded data removed]",
      "text/plain": [
       "<matplotlib.figure.Figure at 0x7f593f6cc0>"
      ]
     },
     "metadata": {
      "needs_background": "light"
     },
     "output_type": "display_data"
    },
    {
     "name": "stdout",
     "output_type": "stream",
     "text": [
      "mean [DN]: 208.735\n",
      "FPN [DN]: 2.364\n",
      "row FPN [DN]: 0.839\n",
      "col FPN [DN]: 0.480\n",
      "Noise [DN]: 2.315\n",
      "Row noise [DN]: 0.383\n"
     ]
    }
   ],
   "source": [
    "for port in scripts.get_port():\n",
    "    sensor = scripts.select_sensor(sensor_name, port)\n",
    "    sensor.cold_start()\n",
    "    sensor.init_sensor()\n",
    "    sensor.set_exposure_us(10)\n",
    "    \n",
    "    imgs = sensor.imager.grab_images(50)\n",
    "    print(imgs.shape)\n",
    "    plt.imshow(imgs[0], cmap=plt.get_cmap('gray'), vmin = 0, vmax = (1 << sensor.bpp) - 1)          \n",
    "    plt.show()\n",
    "    \n",
    "    df = stats.agg_results(imgs)"
   ]
  },
  {
   "cell_type": "code",
   "execution_count": 7,
   "id": "e8d7465c",
   "metadata": {},
   "outputs": [
    {
     "data": {
      "text/html": [
       "<div>\n",
       "<style scoped>\n",
       "    .dataframe tbody tr th:only-of-type {\n",
       "        vertical-align: middle;\n",
       "    }\n",
       "\n",
       "    .dataframe tbody tr th {\n",
       "        vertical-align: top;\n",
       "    }\n",
       "\n",
       "    .dataframe thead th {\n",
       "        text-align: right;\n",
       "    }\n",
       "</style>\n",
       "<table border=\"1\" class=\"dataframe\">\n",
       "  <thead>\n",
       "    <tr style=\"text-align: right;\">\n",
       "      <th></th>\n",
       "      <th>Mean [DN]</th>\n",
       "      <th>Total FPN [DN]</th>\n",
       "      <th>Pix FPN [DN]</th>\n",
       "      <th>Col FPN [DN]</th>\n",
       "      <th>Row FPN [DN]</th>\n",
       "      <th>Total Temp Noise [DN]</th>\n",
       "      <th>Pix Temp Noise [DN]</th>\n",
       "      <th>Col Temp Noise [DN]</th>\n",
       "      <th>Row Temp Noise [DN]</th>\n",
       "    </tr>\n",
       "  </thead>\n",
       "  <tbody>\n",
       "    <tr>\n",
       "      <th>0</th>\n",
       "      <td>208.735</td>\n",
       "      <td>2.304</td>\n",
       "      <td>2.094</td>\n",
       "      <td>0.476</td>\n",
       "      <td>0.837</td>\n",
       "      <td>2.422</td>\n",
       "      <td>2.109</td>\n",
       "      <td>0.635</td>\n",
       "      <td>1.01</td>\n",
       "    </tr>\n",
       "  </tbody>\n",
       "</table>\n",
       "</div>"
      ],
      "text/plain": [
       "   Mean [DN]  Total FPN [DN]  Pix FPN [DN]  Col FPN [DN]  Row FPN [DN]  \\\n",
       "0    208.735           2.304         2.094         0.476         0.837   \n",
       "\n",
       "   Total Temp Noise [DN]  Pix Temp Noise [DN]  Col Temp Noise [DN]  \\\n",
       "0                  2.422                2.109                0.635   \n",
       "\n",
       "   Row Temp Noise [DN]  \n",
       "0                 1.01  "
      ]
     },
     "execution_count": 7,
     "metadata": {},
     "output_type": "execute_result"
    }
   ],
   "source": [
    "df"
   ]
  }
 ],
 "metadata": {
  "kernelspec": {
   "display_name": "Python 3",
   "language": "python",
   "name": "python3"
  },
  "language_info": {
   "codemirror_mode": {
    "name": "ipython",
    "version": 3
   },
   "file_extension": ".py",
   "mimetype": "text/x-python",
   "name": "python",
   "nbconvert_exporter": "python",
   "pygments_lexer": "ipython3",
   "version": "3.6.9"
  }
 },
 "nbformat": 4,
 "nbformat_minor": 5
}
