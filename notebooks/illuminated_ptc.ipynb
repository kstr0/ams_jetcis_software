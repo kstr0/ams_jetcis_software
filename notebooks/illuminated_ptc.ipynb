{
 "cells": [
  {
   "cell_type": "markdown",
   "id": "6a996954",
   "metadata": {},
   "source": [
    "imports"
   ]
  },
  {
   "cell_type": "code",
   "execution_count": 16,
   "id": "0bd26e2c",
   "metadata": {},
   "outputs": [
    {
     "name": "stdout",
     "output_type": "stream",
     "text": [
      "The autoreload extension is already loaded. To reload it, use:\n",
      "  %reload_ext autoreload\n"
     ]
    }
   ],
   "source": [
    "import pandas as pd\n",
    "import numpy as np\n",
    "import pathlib\n",
    "import os\n",
    "from PIL import Image\n",
    "import matplotlib.pyplot as plt\n",
    "from characterization_ams.stats_engine import stats\n",
    "from characterization_ams.emva import emva\n",
    "from characterization_ams.standard_tests import ptc\n",
    "from IPython.display import display\n",
    "import plotly.express as px\n",
    "import plotly.graph_objects as go\n",
    "%load_ext autoreload\n",
    "%autoreload 2"
   ]
  },
  {
   "cell_type": "code",
   "execution_count": 17,
   "id": "31f48737",
   "metadata": {},
   "outputs": [
    {
     "data": {
      "text/plain": [
       "'1.20.3'"
      ]
     },
     "execution_count": 17,
     "metadata": {},
     "output_type": "execute_result"
    }
   ],
   "source": [
    "np.__version__\n"
   ]
  },
  {
   "cell_type": "markdown",
   "id": "f8df422c",
   "metadata": {},
   "source": [
    "image location"
   ]
  },
  {
   "cell_type": "code",
   "execution_count": 18,
   "id": "2fa23f37",
   "metadata": {},
   "outputs": [],
   "source": [
    "illum_images = pathlib.Path(r'C:\\Users\\pbae.OFFICE\\Documents\\MEGAsync\\ams\\mira050illum_25_x16_nolens')\n",
    "results_illum = illum_images/'results.csv'\n",
    "dark_images = pathlib.Path(r'C:\\Users\\pbae.OFFICE\\Documents\\MEGAsync\\ams\\mira050dark_25')\n",
    "results_dark = dark_images/'results.csv'"
   ]
  },
  {
   "cell_type": "code",
   "execution_count": 19,
   "id": "2b2b70c4",
   "metadata": {},
   "outputs": [
    {
     "data": {
      "text/html": [
       "<div>\n",
       "<style scoped>\n",
       "    .dataframe tbody tr th:only-of-type {\n",
       "        vertical-align: middle;\n",
       "    }\n",
       "\n",
       "    .dataframe tbody tr th {\n",
       "        vertical-align: top;\n",
       "    }\n",
       "\n",
       "    .dataframe thead th {\n",
       "        text-align: right;\n",
       "    }\n",
       "</style>\n",
       "<table border=\"1\" class=\"dataframe\">\n",
       "  <thead>\n",
       "    <tr style=\"text-align: right;\">\n",
       "      <th></th>\n",
       "      <th>bitmode</th>\n",
       "      <th>again</th>\n",
       "      <th>dgain</th>\n",
       "      <th>exp_us</th>\n",
       "      <th>filename</th>\n",
       "      <th>testcase</th>\n",
       "      <th>temperature</th>\n",
       "      <th>amount</th>\n",
       "    </tr>\n",
       "  </thead>\n",
       "  <tbody>\n",
       "    <tr>\n",
       "      <th>8</th>\n",
       "      <td>10bit</td>\n",
       "      <td>16</td>\n",
       "      <td>1</td>\n",
       "      <td>125</td>\n",
       "      <td>10bit_again_16_dgain_1_exp...</td>\n",
       "      <td>dark_25</td>\n",
       "      <td>25</td>\n",
       "      <td>15</td>\n",
       "    </tr>\n",
       "  </tbody>\n",
       "</table>\n",
       "</div>"
      ],
      "text/plain": [
       "  bitmode  again  dgain  exp_us                       filename testcase  \\\n",
       "8   10bit     16      1     125  10bit_again_16_dgain_1_exp...  dark_25   \n",
       "\n",
       "   temperature  amount  \n",
       "8           25      15  "
      ]
     },
     "metadata": {},
     "output_type": "display_data"
    },
    {
     "data": {
      "text/html": [
       "<div>\n",
       "<style scoped>\n",
       "    .dataframe tbody tr th:only-of-type {\n",
       "        vertical-align: middle;\n",
       "    }\n",
       "\n",
       "    .dataframe tbody tr th {\n",
       "        vertical-align: top;\n",
       "    }\n",
       "\n",
       "    .dataframe thead th {\n",
       "        text-align: right;\n",
       "    }\n",
       "</style>\n",
       "<table border=\"1\" class=\"dataframe\">\n",
       "  <thead>\n",
       "    <tr style=\"text-align: right;\">\n",
       "      <th></th>\n",
       "      <th>bitmode</th>\n",
       "      <th>again</th>\n",
       "      <th>dgain</th>\n",
       "      <th>exp_us</th>\n",
       "      <th>filename</th>\n",
       "      <th>testcase</th>\n",
       "      <th>temperature</th>\n",
       "      <th>amount</th>\n",
       "    </tr>\n",
       "  </thead>\n",
       "  <tbody>\n",
       "    <tr>\n",
       "      <th>0</th>\n",
       "      <td>10bit</td>\n",
       "      <td>16</td>\n",
       "      <td>1</td>\n",
       "      <td>100</td>\n",
       "      <td>10bit_again_16_dgain_1_exp...</td>\n",
       "      <td>illum_25_x16_nolens</td>\n",
       "      <td>25</td>\n",
       "      <td>5</td>\n",
       "    </tr>\n",
       "    <tr>\n",
       "      <th>1</th>\n",
       "      <td>10bit</td>\n",
       "      <td>16</td>\n",
       "      <td>1</td>\n",
       "      <td>120</td>\n",
       "      <td>10bit_again_16_dgain_1_exp...</td>\n",
       "      <td>illum_25_x16_nolens</td>\n",
       "      <td>25</td>\n",
       "      <td>5</td>\n",
       "    </tr>\n",
       "    <tr>\n",
       "      <th>...</th>\n",
       "      <td>...</td>\n",
       "      <td>...</td>\n",
       "      <td>...</td>\n",
       "      <td>...</td>\n",
       "      <td>...</td>\n",
       "      <td>...</td>\n",
       "      <td>...</td>\n",
       "      <td>...</td>\n",
       "    </tr>\n",
       "    <tr>\n",
       "      <th>68</th>\n",
       "      <td>10bit</td>\n",
       "      <td>16</td>\n",
       "      <td>1</td>\n",
       "      <td>760</td>\n",
       "      <td>10bit_again_16_dgain_1_exp...</td>\n",
       "      <td>illum_25_x16_nolens</td>\n",
       "      <td>25</td>\n",
       "      <td>5</td>\n",
       "    </tr>\n",
       "    <tr>\n",
       "      <th>69</th>\n",
       "      <td>10bit</td>\n",
       "      <td>16</td>\n",
       "      <td>1</td>\n",
       "      <td>780</td>\n",
       "      <td>10bit_again_16_dgain_1_exp...</td>\n",
       "      <td>illum_25_x16_nolens</td>\n",
       "      <td>25</td>\n",
       "      <td>5</td>\n",
       "    </tr>\n",
       "  </tbody>\n",
       "</table>\n",
       "<p>70 rows × 8 columns</p>\n",
       "</div>"
      ],
      "text/plain": [
       "   bitmode  again  dgain  exp_us                       filename  \\\n",
       "0    10bit     16      1     100  10bit_again_16_dgain_1_exp...   \n",
       "1    10bit     16      1     120  10bit_again_16_dgain_1_exp...   \n",
       "..     ...    ...    ...     ...                            ...   \n",
       "68   10bit     16      1     760  10bit_again_16_dgain_1_exp...   \n",
       "69   10bit     16      1     780  10bit_again_16_dgain_1_exp...   \n",
       "\n",
       "               testcase  temperature  amount  \n",
       "0   illum_25_x16_nolens           25       5  \n",
       "1   illum_25_x16_nolens           25       5  \n",
       "..                  ...          ...     ...  \n",
       "68  illum_25_x16_nolens           25       5  \n",
       "69  illum_25_x16_nolens           25       5  \n",
       "\n",
       "[70 rows x 8 columns]"
      ]
     },
     "metadata": {},
     "output_type": "display_data"
    }
   ],
   "source": [
    "df_illum=pd.read_csv(results_illum)\n",
    "df_dark_all=pd.read_csv(results_dark)\n",
    "\n",
    "with pd.option_context('display.max_rows', 5,\n",
    "                       'display.max_columns', 8,\n",
    "                       'display.precision', 3,\n",
    "                       'display.max_colwidth', 30\n",
    "                       ):\n",
    "    df_dark=df_dark_all[(df_dark_all[\"again\"] == 16) & (df_dark_all[\"exp_us\"] == 125)]\n",
    "    display(df_dark)\n",
    "    display(df_illum)"
   ]
  },
  {
   "cell_type": "markdown",
   "id": "281c8076",
   "metadata": {},
   "source": [
    "merge both dataframes, so the first row is the dark img"
   ]
  },
  {
   "cell_type": "code",
   "execution_count": 20,
   "id": "7f4827af",
   "metadata": {
    "scrolled": true
   },
   "outputs": [
    {
     "data": {
      "text/html": [
       "<div>\n",
       "<style scoped>\n",
       "    .dataframe tbody tr th:only-of-type {\n",
       "        vertical-align: middle;\n",
       "    }\n",
       "\n",
       "    .dataframe tbody tr th {\n",
       "        vertical-align: top;\n",
       "    }\n",
       "\n",
       "    .dataframe thead th {\n",
       "        text-align: right;\n",
       "    }\n",
       "</style>\n",
       "<table border=\"1\" class=\"dataframe\">\n",
       "  <thead>\n",
       "    <tr style=\"text-align: right;\">\n",
       "      <th></th>\n",
       "      <th>bitmode</th>\n",
       "      <th>again</th>\n",
       "      <th>dgain</th>\n",
       "      <th>exp_us</th>\n",
       "      <th>filename</th>\n",
       "      <th>testcase</th>\n",
       "      <th>temperature</th>\n",
       "      <th>amount</th>\n",
       "    </tr>\n",
       "  </thead>\n",
       "  <tbody>\n",
       "    <tr>\n",
       "      <th>0</th>\n",
       "      <td>10bit</td>\n",
       "      <td>16</td>\n",
       "      <td>1</td>\n",
       "      <td>125</td>\n",
       "      <td>10bit_again_16_dgain_1_exp_us_ 125_dark_25__te...</td>\n",
       "      <td>dark_25</td>\n",
       "      <td>25</td>\n",
       "      <td>15</td>\n",
       "    </tr>\n",
       "    <tr>\n",
       "      <th>1</th>\n",
       "      <td>10bit</td>\n",
       "      <td>16</td>\n",
       "      <td>1</td>\n",
       "      <td>100</td>\n",
       "      <td>10bit_again_16_dgain_1_exp_us_ 100_illum_25_x1...</td>\n",
       "      <td>illum_25_x16_nolens</td>\n",
       "      <td>25</td>\n",
       "      <td>5</td>\n",
       "    </tr>\n",
       "    <tr>\n",
       "      <th>2</th>\n",
       "      <td>10bit</td>\n",
       "      <td>16</td>\n",
       "      <td>1</td>\n",
       "      <td>120</td>\n",
       "      <td>10bit_again_16_dgain_1_exp_us_ 120_illum_25_x1...</td>\n",
       "      <td>illum_25_x16_nolens</td>\n",
       "      <td>25</td>\n",
       "      <td>5</td>\n",
       "    </tr>\n",
       "    <tr>\n",
       "      <th>3</th>\n",
       "      <td>10bit</td>\n",
       "      <td>16</td>\n",
       "      <td>1</td>\n",
       "      <td>140</td>\n",
       "      <td>10bit_again_16_dgain_1_exp_us_ 140_illum_25_x1...</td>\n",
       "      <td>illum_25_x16_nolens</td>\n",
       "      <td>25</td>\n",
       "      <td>5</td>\n",
       "    </tr>\n",
       "    <tr>\n",
       "      <th>4</th>\n",
       "      <td>10bit</td>\n",
       "      <td>16</td>\n",
       "      <td>1</td>\n",
       "      <td>160</td>\n",
       "      <td>10bit_again_16_dgain_1_exp_us_ 160_illum_25_x1...</td>\n",
       "      <td>illum_25_x16_nolens</td>\n",
       "      <td>25</td>\n",
       "      <td>5</td>\n",
       "    </tr>\n",
       "    <tr>\n",
       "      <th>...</th>\n",
       "      <td>...</td>\n",
       "      <td>...</td>\n",
       "      <td>...</td>\n",
       "      <td>...</td>\n",
       "      <td>...</td>\n",
       "      <td>...</td>\n",
       "      <td>...</td>\n",
       "      <td>...</td>\n",
       "    </tr>\n",
       "    <tr>\n",
       "      <th>66</th>\n",
       "      <td>10bit</td>\n",
       "      <td>16</td>\n",
       "      <td>1</td>\n",
       "      <td>700</td>\n",
       "      <td>10bit_again_16_dgain_1_exp_us_ 700_illum_25_x1...</td>\n",
       "      <td>illum_25_x16_nolens</td>\n",
       "      <td>25</td>\n",
       "      <td>5</td>\n",
       "    </tr>\n",
       "    <tr>\n",
       "      <th>67</th>\n",
       "      <td>10bit</td>\n",
       "      <td>16</td>\n",
       "      <td>1</td>\n",
       "      <td>720</td>\n",
       "      <td>10bit_again_16_dgain_1_exp_us_ 720_illum_25_x1...</td>\n",
       "      <td>illum_25_x16_nolens</td>\n",
       "      <td>25</td>\n",
       "      <td>5</td>\n",
       "    </tr>\n",
       "    <tr>\n",
       "      <th>68</th>\n",
       "      <td>10bit</td>\n",
       "      <td>16</td>\n",
       "      <td>1</td>\n",
       "      <td>740</td>\n",
       "      <td>10bit_again_16_dgain_1_exp_us_ 740_illum_25_x1...</td>\n",
       "      <td>illum_25_x16_nolens</td>\n",
       "      <td>25</td>\n",
       "      <td>5</td>\n",
       "    </tr>\n",
       "    <tr>\n",
       "      <th>69</th>\n",
       "      <td>10bit</td>\n",
       "      <td>16</td>\n",
       "      <td>1</td>\n",
       "      <td>760</td>\n",
       "      <td>10bit_again_16_dgain_1_exp_us_ 760_illum_25_x1...</td>\n",
       "      <td>illum_25_x16_nolens</td>\n",
       "      <td>25</td>\n",
       "      <td>5</td>\n",
       "    </tr>\n",
       "    <tr>\n",
       "      <th>70</th>\n",
       "      <td>10bit</td>\n",
       "      <td>16</td>\n",
       "      <td>1</td>\n",
       "      <td>780</td>\n",
       "      <td>10bit_again_16_dgain_1_exp_us_ 780_illum_25_x1...</td>\n",
       "      <td>illum_25_x16_nolens</td>\n",
       "      <td>25</td>\n",
       "      <td>5</td>\n",
       "    </tr>\n",
       "  </tbody>\n",
       "</table>\n",
       "<p>71 rows × 8 columns</p>\n",
       "</div>"
      ],
      "text/plain": [
       "   bitmode  again  dgain  exp_us  \\\n",
       "0    10bit     16      1     125   \n",
       "1    10bit     16      1     100   \n",
       "2    10bit     16      1     120   \n",
       "3    10bit     16      1     140   \n",
       "4    10bit     16      1     160   \n",
       "..     ...    ...    ...     ...   \n",
       "66   10bit     16      1     700   \n",
       "67   10bit     16      1     720   \n",
       "68   10bit     16      1     740   \n",
       "69   10bit     16      1     760   \n",
       "70   10bit     16      1     780   \n",
       "\n",
       "                                             filename             testcase  \\\n",
       "0   10bit_again_16_dgain_1_exp_us_ 125_dark_25__te...              dark_25   \n",
       "1   10bit_again_16_dgain_1_exp_us_ 100_illum_25_x1...  illum_25_x16_nolens   \n",
       "2   10bit_again_16_dgain_1_exp_us_ 120_illum_25_x1...  illum_25_x16_nolens   \n",
       "3   10bit_again_16_dgain_1_exp_us_ 140_illum_25_x1...  illum_25_x16_nolens   \n",
       "4   10bit_again_16_dgain_1_exp_us_ 160_illum_25_x1...  illum_25_x16_nolens   \n",
       "..                                                ...                  ...   \n",
       "66  10bit_again_16_dgain_1_exp_us_ 700_illum_25_x1...  illum_25_x16_nolens   \n",
       "67  10bit_again_16_dgain_1_exp_us_ 720_illum_25_x1...  illum_25_x16_nolens   \n",
       "68  10bit_again_16_dgain_1_exp_us_ 740_illum_25_x1...  illum_25_x16_nolens   \n",
       "69  10bit_again_16_dgain_1_exp_us_ 760_illum_25_x1...  illum_25_x16_nolens   \n",
       "70  10bit_again_16_dgain_1_exp_us_ 780_illum_25_x1...  illum_25_x16_nolens   \n",
       "\n",
       "    temperature  amount  \n",
       "0            25      15  \n",
       "1            25       5  \n",
       "2            25       5  \n",
       "3            25       5  \n",
       "4            25       5  \n",
       "..          ...     ...  \n",
       "66           25       5  \n",
       "67           25       5  \n",
       "68           25       5  \n",
       "69           25       5  \n",
       "70           25       5  \n",
       "\n",
       "[71 rows x 8 columns]"
      ]
     },
     "metadata": {},
     "output_type": "display_data"
    }
   ],
   "source": [
    "df_both=df_dark.append(df_illum, ignore_index = True)\n",
    "display(df_both)"
   ]
  },
  {
   "cell_type": "code",
   "execution_count": 21,
   "id": "29e73496",
   "metadata": {},
   "outputs": [
    {
     "name": "stdout",
     "output_type": "stream",
     "text": [
      "10\n"
     ]
    }
   ],
   "source": [
    "imnames_dark=df_dark['filename']\n",
    "imnames_illum=df_illum['filename']\n",
    "bitmode=df_illum['bitmode'][0]\n",
    "bpp=int(bitmode.split('bit')[0])\n",
    "print(bpp)\n"
   ]
  },
  {
   "cell_type": "code",
   "execution_count": 22,
   "id": "4312f5b0",
   "metadata": {},
   "outputs": [],
   "source": [
    "ptclist=[]\n",
    "for imname in imnames_dark:\n",
    "    images=[]\n",
    "    for imname2 in dark_images.glob(f'./{imname}*.tiff'):\n",
    "        im = Image.open(imname2)\n",
    "        images.append(np.array(im))\n",
    "    images=np.array(images)\n",
    "    images=images/(2**(16-bpp))\n",
    "    ptclist = [i for i in ptclist]\n",
    "    ptclist.append(images)\n",
    "\n",
    "for imname in imnames_illum:\n",
    "    images=[]\n",
    "    for imname2 in illum_images.glob(f'./{imname}*.tiff'):\n",
    "        im = Image.open(imname2)\n",
    "        images.append(np.array(im))\n",
    "    images=np.array(images)\n",
    "    images=images/(2**(16-bpp))\n",
    "    ptclist = [i for i in ptclist]\n",
    "    ptclist.append(images)\n"
   ]
  },
  {
   "cell_type": "code",
   "execution_count": 23,
   "id": "397f9e9b",
   "metadata": {},
   "outputs": [
    {
     "data": {
      "text/plain": [
       "71"
      ]
     },
     "execution_count": 23,
     "metadata": {},
     "output_type": "execute_result"
    }
   ],
   "source": [
    "len(ptclist)\n"
   ]
  },
  {
   "cell_type": "markdown",
   "id": "ddfcd521",
   "metadata": {},
   "source": [
    "check if first image is dark"
   ]
  },
  {
   "cell_type": "code",
   "execution_count": 24,
   "id": "7a0fd25e",
   "metadata": {},
   "outputs": [
    {
     "data": {
      "text/plain": [
       "82.21148402777777"
      ]
     },
     "metadata": {},
     "output_type": "display_data"
    }
   ],
   "source": [
    "display(np.mean(ptclist[0]))"
   ]
  },
  {
   "cell_type": "code",
   "execution_count": 25,
   "id": "37c5d5af",
   "metadata": {
    "scrolled": true
   },
   "outputs": [
    {
     "name": "stderr",
     "output_type": "stream",
     "text": [
      "c:\\teamforge\\characterization\\trunk\\characterization_ams\\stats_engine\\stats.py:86: RuntimeWarning:\n",
      "\n",
      "invalid value encountered in double_scalars\n",
      "\n",
      "c:\\teamforge\\characterization\\trunk\\characterization_ams\\stats_engine\\stats.py:89: RuntimeWarning:\n",
      "\n",
      "invalid value encountered in double_scalars\n",
      "\n",
      "c:\\teamforge\\characterization\\trunk\\characterization_ams\\stats_engine\\stats.py:92: RuntimeWarning:\n",
      "\n",
      "invalid value encountered in double_scalars\n",
      "\n",
      "c:\\teamforge\\characterization\\trunk\\characterization_ams\\stats_engine\\stats.py:95: RuntimeWarning:\n",
      "\n",
      "invalid value encountered in double_scalars\n",
      "\n",
      "c:\\teamforge\\characterization\\trunk\\characterization_ams\\stats_engine\\stats.py:108: RuntimeWarning:\n",
      "\n",
      "invalid value encountered in double_scalars\n",
      "\n",
      "c:\\teamforge\\characterization\\trunk\\characterization_ams\\stats_engine\\stats.py:111: RuntimeWarning:\n",
      "\n",
      "invalid value encountered in double_scalars\n",
      "\n",
      "c:\\teamforge\\characterization\\trunk\\characterization_ams\\stats_engine\\stats.py:98: RuntimeWarning:\n",
      "\n",
      "invalid value encountered in double_scalars\n",
      "\n",
      "c:\\teamforge\\characterization\\trunk\\characterization_ams\\emva\\emva.py:751: RuntimeWarning:\n",
      "\n",
      "divide by zero encountered in log10\n",
      "\n",
      "c:\\teamforge\\jetcis_svn\\jetcis\\software\\trunk\\sw\\env\\lib\\site-packages\\pandas\\core\\arraylike.py:364: RuntimeWarning:\n",
      "\n",
      "divide by zero encountered in log10\n",
      "\n",
      "c:\\teamforge\\characterization\\trunk\\characterization_ams\\emva\\emva.py:888: RuntimeWarning:\n",
      "\n",
      "divide by zero encountered in log10\n",
      "\n"
     ]
    },
    {
     "data": {
      "text/html": [
       "<div>\n",
       "<style scoped>\n",
       "    .dataframe tbody tr th:only-of-type {\n",
       "        vertical-align: middle;\n",
       "    }\n",
       "\n",
       "    .dataframe tbody tr th {\n",
       "        vertical-align: top;\n",
       "    }\n",
       "\n",
       "    .dataframe thead th {\n",
       "        text-align: right;\n",
       "    }\n",
       "</style>\n",
       "<table border=\"1\" class=\"dataframe\">\n",
       "  <thead>\n",
       "    <tr style=\"text-align: right;\">\n",
       "      <th></th>\n",
       "      <th>Tot Var [DN^2]</th>\n",
       "      <th>Col Var [DN^2]</th>\n",
       "      <th>Row Var [DN^2]</th>\n",
       "      <th>Pix Var [DN^2]</th>\n",
       "      <th>Tot Temp Var [DN^2]</th>\n",
       "      <th>Col Temp Var [DN^2]</th>\n",
       "      <th>Row Temp Var [DN^2]</th>\n",
       "      <th>Pix Temp Var [DN^2]</th>\n",
       "      <th>Mean Signal [DN]</th>\n",
       "      <th>CFPN Ratio</th>\n",
       "      <th>...</th>\n",
       "      <th>Linearity Fit [DN]</th>\n",
       "      <th>Linearity Error [%]</th>\n",
       "      <th>Linearity Error [DN]</th>\n",
       "      <th>Responsivity Fit [DN]</th>\n",
       "      <th>SNR [dB]</th>\n",
       "      <th>SNR [ratio]</th>\n",
       "      <th>SNR Ideal [dB]</th>\n",
       "      <th>SNR Ideal [ratio]</th>\n",
       "      <th>SNR Theoretical [dB]</th>\n",
       "      <th>SNR Theoretical[ratio]</th>\n",
       "    </tr>\n",
       "  </thead>\n",
       "  <tbody>\n",
       "    <tr>\n",
       "      <th>0</th>\n",
       "      <td>35.389875</td>\n",
       "      <td>4.871056</td>\n",
       "      <td>3.603741</td>\n",
       "      <td>26.960068</td>\n",
       "      <td>119.107657</td>\n",
       "      <td>2.807358</td>\n",
       "      <td>43.385939</td>\n",
       "      <td>73.036240</td>\n",
       "      <td>82.211484</td>\n",
       "      <td>4.944909</td>\n",
       "      <td>...</td>\n",
       "      <td>NaN</td>\n",
       "      <td>NaN</td>\n",
       "      <td>NaN</td>\n",
       "      <td>290.840589</td>\n",
       "      <td>NaN</td>\n",
       "      <td>NaN</td>\n",
       "      <td>NaN</td>\n",
       "      <td>NaN</td>\n",
       "      <td>NaN</td>\n",
       "      <td>NaN</td>\n",
       "    </tr>\n",
       "    <tr>\n",
       "      <th>1</th>\n",
       "      <td>173.729583</td>\n",
       "      <td>11.618606</td>\n",
       "      <td>13.716142</td>\n",
       "      <td>148.642883</td>\n",
       "      <td>605.799526</td>\n",
       "      <td>2.415980</td>\n",
       "      <td>47.770427</td>\n",
       "      <td>556.541850</td>\n",
       "      <td>345.413494</td>\n",
       "      <td>7.220835</td>\n",
       "      <td>...</td>\n",
       "      <td>262.731527</td>\n",
       "      <td>0.179074</td>\n",
       "      <td>0.470483</td>\n",
       "      <td>212.018598</td>\n",
       "      <td>20.844935</td>\n",
       "      <td>11.021653</td>\n",
       "      <td>21.495020</td>\n",
       "      <td>11.878210</td>\n",
       "      <td>21.317926</td>\n",
       "      <td>11.638481</td>\n",
       "    </tr>\n",
       "    <tr>\n",
       "      <th>2</th>\n",
       "      <td>173.729583</td>\n",
       "      <td>11.618606</td>\n",
       "      <td>13.716142</td>\n",
       "      <td>148.642883</td>\n",
       "      <td>605.799526</td>\n",
       "      <td>2.415980</td>\n",
       "      <td>47.770427</td>\n",
       "      <td>556.541850</td>\n",
       "      <td>345.413494</td>\n",
       "      <td>7.220835</td>\n",
       "      <td>...</td>\n",
       "      <td>262.731527</td>\n",
       "      <td>0.179074</td>\n",
       "      <td>0.470483</td>\n",
       "      <td>212.018598</td>\n",
       "      <td>20.844935</td>\n",
       "      <td>11.021653</td>\n",
       "      <td>21.495020</td>\n",
       "      <td>11.878210</td>\n",
       "      <td>21.317926</td>\n",
       "      <td>11.638481</td>\n",
       "    </tr>\n",
       "    <tr>\n",
       "      <th>3</th>\n",
       "      <td>205.406543</td>\n",
       "      <td>16.436692</td>\n",
       "      <td>17.160335</td>\n",
       "      <td>172.096703</td>\n",
       "      <td>708.802230</td>\n",
       "      <td>2.210537</td>\n",
       "      <td>52.912058</td>\n",
       "      <td>654.772288</td>\n",
       "      <td>397.261868</td>\n",
       "      <td>6.566823</td>\n",
       "      <td>...</td>\n",
       "      <td>315.116211</td>\n",
       "      <td>-0.020890</td>\n",
       "      <td>-0.065827</td>\n",
       "      <td>275.076191</td>\n",
       "      <td>21.624143</td>\n",
       "      <td>12.056109</td>\n",
       "      <td>22.275928</td>\n",
       "      <td>12.995602</td>\n",
       "      <td>22.127487</td>\n",
       "      <td>12.775396</td>\n",
       "    </tr>\n",
       "    <tr>\n",
       "      <th>4</th>\n",
       "      <td>205.406543</td>\n",
       "      <td>16.436692</td>\n",
       "      <td>17.160335</td>\n",
       "      <td>172.096703</td>\n",
       "      <td>708.802230</td>\n",
       "      <td>2.210537</td>\n",
       "      <td>52.912058</td>\n",
       "      <td>654.772288</td>\n",
       "      <td>397.261868</td>\n",
       "      <td>6.566823</td>\n",
       "      <td>...</td>\n",
       "      <td>315.116211</td>\n",
       "      <td>-0.020890</td>\n",
       "      <td>-0.065827</td>\n",
       "      <td>275.076191</td>\n",
       "      <td>21.624143</td>\n",
       "      <td>12.056109</td>\n",
       "      <td>22.275928</td>\n",
       "      <td>12.995602</td>\n",
       "      <td>22.127487</td>\n",
       "      <td>12.775396</td>\n",
       "    </tr>\n",
       "    <tr>\n",
       "      <th>...</th>\n",
       "      <td>...</td>\n",
       "      <td>...</td>\n",
       "      <td>...</td>\n",
       "      <td>...</td>\n",
       "      <td>...</td>\n",
       "      <td>...</td>\n",
       "      <td>...</td>\n",
       "      <td>...</td>\n",
       "      <td>...</td>\n",
       "      <td>...</td>\n",
       "      <td>...</td>\n",
       "      <td>...</td>\n",
       "      <td>...</td>\n",
       "      <td>...</td>\n",
       "      <td>...</td>\n",
       "      <td>...</td>\n",
       "      <td>...</td>\n",
       "      <td>...</td>\n",
       "      <td>...</td>\n",
       "      <td>...</td>\n",
       "      <td>...</td>\n",
       "    </tr>\n",
       "    <tr>\n",
       "      <th>66</th>\n",
       "      <td>0.000000</td>\n",
       "      <td>0.000000</td>\n",
       "      <td>0.000000</td>\n",
       "      <td>0.000000</td>\n",
       "      <td>0.000000</td>\n",
       "      <td>0.000000</td>\n",
       "      <td>0.000000</td>\n",
       "      <td>0.000000</td>\n",
       "      <td>1023.000000</td>\n",
       "      <td>NaN</td>\n",
       "      <td>...</td>\n",
       "      <td>NaN</td>\n",
       "      <td>NaN</td>\n",
       "      <td>NaN</td>\n",
       "      <td>NaN</td>\n",
       "      <td>25.916235</td>\n",
       "      <td>19.761129</td>\n",
       "      <td>27.027048</td>\n",
       "      <td>22.457034</td>\n",
       "      <td>26.976771</td>\n",
       "      <td>22.327421</td>\n",
       "    </tr>\n",
       "    <tr>\n",
       "      <th>67</th>\n",
       "      <td>0.000000</td>\n",
       "      <td>0.000000</td>\n",
       "      <td>0.000000</td>\n",
       "      <td>0.000000</td>\n",
       "      <td>0.000000</td>\n",
       "      <td>0.000000</td>\n",
       "      <td>0.000000</td>\n",
       "      <td>0.000000</td>\n",
       "      <td>1023.000000</td>\n",
       "      <td>NaN</td>\n",
       "      <td>...</td>\n",
       "      <td>NaN</td>\n",
       "      <td>NaN</td>\n",
       "      <td>NaN</td>\n",
       "      <td>NaN</td>\n",
       "      <td>25.916235</td>\n",
       "      <td>19.761129</td>\n",
       "      <td>27.027048</td>\n",
       "      <td>22.457034</td>\n",
       "      <td>26.976771</td>\n",
       "      <td>22.327421</td>\n",
       "    </tr>\n",
       "    <tr>\n",
       "      <th>68</th>\n",
       "      <td>0.000000</td>\n",
       "      <td>0.000000</td>\n",
       "      <td>0.000000</td>\n",
       "      <td>0.000000</td>\n",
       "      <td>0.000000</td>\n",
       "      <td>0.000000</td>\n",
       "      <td>0.000000</td>\n",
       "      <td>0.000000</td>\n",
       "      <td>1023.000000</td>\n",
       "      <td>NaN</td>\n",
       "      <td>...</td>\n",
       "      <td>NaN</td>\n",
       "      <td>NaN</td>\n",
       "      <td>NaN</td>\n",
       "      <td>NaN</td>\n",
       "      <td>25.916235</td>\n",
       "      <td>19.761129</td>\n",
       "      <td>27.027048</td>\n",
       "      <td>22.457034</td>\n",
       "      <td>26.976771</td>\n",
       "      <td>22.327421</td>\n",
       "    </tr>\n",
       "    <tr>\n",
       "      <th>69</th>\n",
       "      <td>0.000000</td>\n",
       "      <td>0.000000</td>\n",
       "      <td>0.000000</td>\n",
       "      <td>0.000000</td>\n",
       "      <td>0.000000</td>\n",
       "      <td>0.000000</td>\n",
       "      <td>0.000000</td>\n",
       "      <td>0.000000</td>\n",
       "      <td>1023.000000</td>\n",
       "      <td>NaN</td>\n",
       "      <td>...</td>\n",
       "      <td>NaN</td>\n",
       "      <td>NaN</td>\n",
       "      <td>NaN</td>\n",
       "      <td>NaN</td>\n",
       "      <td>25.916235</td>\n",
       "      <td>19.761129</td>\n",
       "      <td>27.027048</td>\n",
       "      <td>22.457034</td>\n",
       "      <td>26.976771</td>\n",
       "      <td>22.327421</td>\n",
       "    </tr>\n",
       "    <tr>\n",
       "      <th>70</th>\n",
       "      <td>0.000000</td>\n",
       "      <td>0.000000</td>\n",
       "      <td>0.000000</td>\n",
       "      <td>0.000000</td>\n",
       "      <td>0.000000</td>\n",
       "      <td>0.000000</td>\n",
       "      <td>0.000000</td>\n",
       "      <td>0.000000</td>\n",
       "      <td>1023.000000</td>\n",
       "      <td>NaN</td>\n",
       "      <td>...</td>\n",
       "      <td>NaN</td>\n",
       "      <td>NaN</td>\n",
       "      <td>NaN</td>\n",
       "      <td>NaN</td>\n",
       "      <td>25.916235</td>\n",
       "      <td>19.761129</td>\n",
       "      <td>27.027048</td>\n",
       "      <td>22.457034</td>\n",
       "      <td>26.976771</td>\n",
       "      <td>22.327421</td>\n",
       "    </tr>\n",
       "  </tbody>\n",
       "</table>\n",
       "<p>71 rows × 64 columns</p>\n",
       "</div>"
      ],
      "text/plain": [
       "    Tot Var [DN^2]  Col Var [DN^2]  Row Var [DN^2]  Pix Var [DN^2]  \\\n",
       "0        35.389875        4.871056        3.603741       26.960068   \n",
       "1       173.729583       11.618606       13.716142      148.642883   \n",
       "2       173.729583       11.618606       13.716142      148.642883   \n",
       "3       205.406543       16.436692       17.160335      172.096703   \n",
       "4       205.406543       16.436692       17.160335      172.096703   \n",
       "..             ...             ...             ...             ...   \n",
       "66        0.000000        0.000000        0.000000        0.000000   \n",
       "67        0.000000        0.000000        0.000000        0.000000   \n",
       "68        0.000000        0.000000        0.000000        0.000000   \n",
       "69        0.000000        0.000000        0.000000        0.000000   \n",
       "70        0.000000        0.000000        0.000000        0.000000   \n",
       "\n",
       "    Tot Temp Var [DN^2]  Col Temp Var [DN^2]  Row Temp Var [DN^2]  \\\n",
       "0            119.107657             2.807358            43.385939   \n",
       "1            605.799526             2.415980            47.770427   \n",
       "2            605.799526             2.415980            47.770427   \n",
       "3            708.802230             2.210537            52.912058   \n",
       "4            708.802230             2.210537            52.912058   \n",
       "..                  ...                  ...                  ...   \n",
       "66             0.000000             0.000000             0.000000   \n",
       "67             0.000000             0.000000             0.000000   \n",
       "68             0.000000             0.000000             0.000000   \n",
       "69             0.000000             0.000000             0.000000   \n",
       "70             0.000000             0.000000             0.000000   \n",
       "\n",
       "    Pix Temp Var [DN^2]  Mean Signal [DN]  CFPN Ratio  ...  \\\n",
       "0             73.036240         82.211484    4.944909  ...   \n",
       "1            556.541850        345.413494    7.220835  ...   \n",
       "2            556.541850        345.413494    7.220835  ...   \n",
       "3            654.772288        397.261868    6.566823  ...   \n",
       "4            654.772288        397.261868    6.566823  ...   \n",
       "..                  ...               ...         ...  ...   \n",
       "66             0.000000       1023.000000         NaN  ...   \n",
       "67             0.000000       1023.000000         NaN  ...   \n",
       "68             0.000000       1023.000000         NaN  ...   \n",
       "69             0.000000       1023.000000         NaN  ...   \n",
       "70             0.000000       1023.000000         NaN  ...   \n",
       "\n",
       "    Linearity Fit [DN]  Linearity Error [%]  Linearity Error [DN]  \\\n",
       "0                  NaN                  NaN                   NaN   \n",
       "1           262.731527             0.179074              0.470483   \n",
       "2           262.731527             0.179074              0.470483   \n",
       "3           315.116211            -0.020890             -0.065827   \n",
       "4           315.116211            -0.020890             -0.065827   \n",
       "..                 ...                  ...                   ...   \n",
       "66                 NaN                  NaN                   NaN   \n",
       "67                 NaN                  NaN                   NaN   \n",
       "68                 NaN                  NaN                   NaN   \n",
       "69                 NaN                  NaN                   NaN   \n",
       "70                 NaN                  NaN                   NaN   \n",
       "\n",
       "    Responsivity Fit [DN]   SNR [dB]  SNR [ratio]  SNR Ideal [dB]  \\\n",
       "0              290.840589        NaN          NaN             NaN   \n",
       "1              212.018598  20.844935    11.021653       21.495020   \n",
       "2              212.018598  20.844935    11.021653       21.495020   \n",
       "3              275.076191  21.624143    12.056109       22.275928   \n",
       "4              275.076191  21.624143    12.056109       22.275928   \n",
       "..                    ...        ...          ...             ...   \n",
       "66                    NaN  25.916235    19.761129       27.027048   \n",
       "67                    NaN  25.916235    19.761129       27.027048   \n",
       "68                    NaN  25.916235    19.761129       27.027048   \n",
       "69                    NaN  25.916235    19.761129       27.027048   \n",
       "70                    NaN  25.916235    19.761129       27.027048   \n",
       "\n",
       "    SNR Ideal [ratio] SNR Theoretical [dB]  SNR Theoretical[ratio]  \n",
       "0                 NaN                  NaN                     NaN  \n",
       "1           11.878210            21.317926               11.638481  \n",
       "2           11.878210            21.317926               11.638481  \n",
       "3           12.995602            22.127487               12.775396  \n",
       "4           12.995602            22.127487               12.775396  \n",
       "..                ...                  ...                     ...  \n",
       "66          22.457034            26.976771               22.327421  \n",
       "67          22.457034            26.976771               22.327421  \n",
       "68          22.457034            26.976771               22.327421  \n",
       "69          22.457034            26.976771               22.327421  \n",
       "70          22.457034            26.976771               22.327421  \n",
       "\n",
       "[71 rows x 64 columns]"
      ]
     },
     "metadata": {},
     "output_type": "display_data"
    }
   ],
   "source": [
    "# df.rename(columns = {'mean':'meanold'}, inplace = True)\n",
    "#statistics=ptc.get_stats(ptclist, df=df)\n",
    "data, hist, summ=ptc.ptc(ptclist, df_both, exp_col='exp_us')\n",
    "display(data)"
   ]
  },
  {
   "cell_type": "code",
   "execution_count": 26,
   "id": "68f05c8c",
   "metadata": {
    "scrolled": true
   },
   "outputs": [
    {
     "data": {
      "text/html": [
       "<div>\n",
       "<style scoped>\n",
       "    .dataframe tbody tr th:only-of-type {\n",
       "        vertical-align: middle;\n",
       "    }\n",
       "\n",
       "    .dataframe tbody tr th {\n",
       "        vertical-align: top;\n",
       "    }\n",
       "\n",
       "    .dataframe thead th {\n",
       "        text-align: right;\n",
       "    }\n",
       "</style>\n",
       "<table border=\"1\" class=\"dataframe\">\n",
       "  <thead>\n",
       "    <tr style=\"text-align: right;\">\n",
       "      <th></th>\n",
       "      <th>PRNU1288 Number of Pixels/Bin</th>\n",
       "      <th>PRNU1288 Deviation from Mean [DN]</th>\n",
       "      <th>PRNU1288 Model</th>\n",
       "      <th>PRNU1288 Percentage of Pixels/Bin</th>\n",
       "      <th>PRNU1288 Accumulated Deviation from Mean [DN]</th>\n",
       "      <th>DSNU1288 Number of Pixels/Bin</th>\n",
       "      <th>DSNU1288 Deviation from Mean [DN]</th>\n",
       "      <th>DSNU1288 Model</th>\n",
       "      <th>DSNU1288 Percentage of Pixels/Bin</th>\n",
       "      <th>DSNU1288 Accumulated Deviation from Mean [DN]</th>\n",
       "      <th>...</th>\n",
       "      <th>PRNU1288 Max Vertical [DN]</th>\n",
       "      <th>PRNU1288 Min Vertical [DN]</th>\n",
       "      <th>DSNU1288 horizontal cycles [periods/pixel]</th>\n",
       "      <th>DSNU1288 horizontal power spectrum</th>\n",
       "      <th>DSNU1288 vertical cycles [periods/pixel]</th>\n",
       "      <th>DSNU1288 vertical power spectrum</th>\n",
       "      <th>PRNU1288 horizontal cycles [periods/pixel]</th>\n",
       "      <th>PRNU1288 horizontal power spectrum</th>\n",
       "      <th>PRNU1288 vertical cycles [periods/pixel]</th>\n",
       "      <th>PRNU1288 vertical power spectrum</th>\n",
       "    </tr>\n",
       "  </thead>\n",
       "  <tbody>\n",
       "    <tr>\n",
       "      <th>0</th>\n",
       "      <td>-85.72</td>\n",
       "      <td>2</td>\n",
       "      <td>1.089722e-01</td>\n",
       "      <td>0.00</td>\n",
       "      <td>100.000000</td>\n",
       "      <td>-32.745371</td>\n",
       "      <td>1.0</td>\n",
       "      <td>0.008651</td>\n",
       "      <td>0.0</td>\n",
       "      <td>100.000000</td>\n",
       "      <td>...</td>\n",
       "      <td>870.4</td>\n",
       "      <td>738.2</td>\n",
       "      <td>0.000000</td>\n",
       "      <td>44.205705</td>\n",
       "      <td>0.00000</td>\n",
       "      <td>62.639922</td>\n",
       "      <td>0.000000</td>\n",
       "      <td>22.958245</td>\n",
       "      <td>0.00000</td>\n",
       "      <td>36.276684</td>\n",
       "    </tr>\n",
       "    <tr>\n",
       "      <th>1</th>\n",
       "      <td>-84.40</td>\n",
       "      <td>0</td>\n",
       "      <td>1.561518e-01</td>\n",
       "      <td>0.96</td>\n",
       "      <td>95.656344</td>\n",
       "      <td>-31.745371</td>\n",
       "      <td>0.0</td>\n",
       "      <td>0.021471</td>\n",
       "      <td>1.0</td>\n",
       "      <td>93.373333</td>\n",
       "      <td>...</td>\n",
       "      <td>858.6</td>\n",
       "      <td>726.8</td>\n",
       "      <td>0.001667</td>\n",
       "      <td>20.184323</td>\n",
       "      <td>0.00125</td>\n",
       "      <td>16.285265</td>\n",
       "      <td>0.001667</td>\n",
       "      <td>18.046245</td>\n",
       "      <td>0.00125</td>\n",
       "      <td>13.726098</td>\n",
       "    </tr>\n",
       "    <tr>\n",
       "      <th>2</th>\n",
       "      <td>-83.08</td>\n",
       "      <td>0</td>\n",
       "      <td>2.225123e-01</td>\n",
       "      <td>1.92</td>\n",
       "      <td>91.308261</td>\n",
       "      <td>-30.745371</td>\n",
       "      <td>1.0</td>\n",
       "      <td>0.051807</td>\n",
       "      <td>2.0</td>\n",
       "      <td>80.373333</td>\n",
       "      <td>...</td>\n",
       "      <td>871.0</td>\n",
       "      <td>714.6</td>\n",
       "      <td>0.003333</td>\n",
       "      <td>11.086963</td>\n",
       "      <td>0.00250</td>\n",
       "      <td>7.568929</td>\n",
       "      <td>0.003333</td>\n",
       "      <td>10.334260</td>\n",
       "      <td>0.00250</td>\n",
       "      <td>7.246164</td>\n",
       "    </tr>\n",
       "    <tr>\n",
       "      <th>3</th>\n",
       "      <td>-81.76</td>\n",
       "      <td>1</td>\n",
       "      <td>3.153091e-01</td>\n",
       "      <td>2.88</td>\n",
       "      <td>86.979992</td>\n",
       "      <td>-29.745371</td>\n",
       "      <td>0.0</td>\n",
       "      <td>0.121530</td>\n",
       "      <td>3.0</td>\n",
       "      <td>67.874375</td>\n",
       "      <td>...</td>\n",
       "      <td>858.4</td>\n",
       "      <td>729.4</td>\n",
       "      <td>0.005000</td>\n",
       "      <td>7.477592</td>\n",
       "      <td>0.00375</td>\n",
       "      <td>7.380920</td>\n",
       "      <td>0.005000</td>\n",
       "      <td>9.189929</td>\n",
       "      <td>0.00375</td>\n",
       "      <td>8.436309</td>\n",
       "    </tr>\n",
       "    <tr>\n",
       "      <th>4</th>\n",
       "      <td>-80.44</td>\n",
       "      <td>2</td>\n",
       "      <td>4.443186e-01</td>\n",
       "      <td>3.84</td>\n",
       "      <td>82.720861</td>\n",
       "      <td>-28.745371</td>\n",
       "      <td>3.0</td>\n",
       "      <td>0.277164</td>\n",
       "      <td>4.0</td>\n",
       "      <td>56.236875</td>\n",
       "      <td>...</td>\n",
       "      <td>849.8</td>\n",
       "      <td>731.2</td>\n",
       "      <td>0.006667</td>\n",
       "      <td>8.603443</td>\n",
       "      <td>0.00500</td>\n",
       "      <td>7.037904</td>\n",
       "      <td>0.006667</td>\n",
       "      <td>6.459612</td>\n",
       "      <td>0.00500</td>\n",
       "      <td>6.675259</td>\n",
       "    </tr>\n",
       "    <tr>\n",
       "      <th>...</th>\n",
       "      <td>...</td>\n",
       "      <td>...</td>\n",
       "      <td>...</td>\n",
       "      <td>...</td>\n",
       "      <td>...</td>\n",
       "      <td>...</td>\n",
       "      <td>...</td>\n",
       "      <td>...</td>\n",
       "      <td>...</td>\n",
       "      <td>...</td>\n",
       "      <td>...</td>\n",
       "      <td>...</td>\n",
       "      <td>...</td>\n",
       "      <td>...</td>\n",
       "      <td>...</td>\n",
       "      <td>...</td>\n",
       "      <td>...</td>\n",
       "      <td>...</td>\n",
       "      <td>...</td>\n",
       "      <td>...</td>\n",
       "      <td>...</td>\n",
       "    </tr>\n",
       "    <tr>\n",
       "      <th>246</th>\n",
       "      <td>239.00</td>\n",
       "      <td>0</td>\n",
       "      <td>2.556513e-36</td>\n",
       "      <td>236.16</td>\n",
       "      <td>0.000211</td>\n",
       "      <td>NaN</td>\n",
       "      <td>NaN</td>\n",
       "      <td>NaN</td>\n",
       "      <td>NaN</td>\n",
       "      <td>NaN</td>\n",
       "      <td>...</td>\n",
       "      <td>840.8</td>\n",
       "      <td>707.8</td>\n",
       "      <td>0.410000</td>\n",
       "      <td>4.958748</td>\n",
       "      <td>0.30750</td>\n",
       "      <td>5.144146</td>\n",
       "      <td>0.410000</td>\n",
       "      <td>2.644352</td>\n",
       "      <td>0.30750</td>\n",
       "      <td>2.662324</td>\n",
       "    </tr>\n",
       "    <tr>\n",
       "      <th>247</th>\n",
       "      <td>240.32</td>\n",
       "      <td>0</td>\n",
       "      <td>9.277907e-37</td>\n",
       "      <td>237.12</td>\n",
       "      <td>0.000211</td>\n",
       "      <td>NaN</td>\n",
       "      <td>NaN</td>\n",
       "      <td>NaN</td>\n",
       "      <td>NaN</td>\n",
       "      <td>NaN</td>\n",
       "      <td>...</td>\n",
       "      <td>835.4</td>\n",
       "      <td>708.0</td>\n",
       "      <td>0.411667</td>\n",
       "      <td>5.068447</td>\n",
       "      <td>0.30875</td>\n",
       "      <td>5.713363</td>\n",
       "      <td>0.411667</td>\n",
       "      <td>2.583669</td>\n",
       "      <td>0.30875</td>\n",
       "      <td>2.632307</td>\n",
       "    </tr>\n",
       "    <tr>\n",
       "      <th>248</th>\n",
       "      <td>241.64</td>\n",
       "      <td>0</td>\n",
       "      <td>3.348324e-37</td>\n",
       "      <td>238.08</td>\n",
       "      <td>0.000211</td>\n",
       "      <td>NaN</td>\n",
       "      <td>NaN</td>\n",
       "      <td>NaN</td>\n",
       "      <td>NaN</td>\n",
       "      <td>NaN</td>\n",
       "      <td>...</td>\n",
       "      <td>868.0</td>\n",
       "      <td>705.2</td>\n",
       "      <td>0.413333</td>\n",
       "      <td>5.079782</td>\n",
       "      <td>0.31000</td>\n",
       "      <td>5.089345</td>\n",
       "      <td>0.413333</td>\n",
       "      <td>2.667108</td>\n",
       "      <td>0.31000</td>\n",
       "      <td>2.670366</td>\n",
       "    </tr>\n",
       "    <tr>\n",
       "      <th>249</th>\n",
       "      <td>242.96</td>\n",
       "      <td>0</td>\n",
       "      <td>1.201657e-37</td>\n",
       "      <td>239.04</td>\n",
       "      <td>0.000211</td>\n",
       "      <td>NaN</td>\n",
       "      <td>NaN</td>\n",
       "      <td>NaN</td>\n",
       "      <td>NaN</td>\n",
       "      <td>NaN</td>\n",
       "      <td>...</td>\n",
       "      <td>847.0</td>\n",
       "      <td>708.6</td>\n",
       "      <td>0.415000</td>\n",
       "      <td>5.153331</td>\n",
       "      <td>0.31125</td>\n",
       "      <td>5.263109</td>\n",
       "      <td>0.415000</td>\n",
       "      <td>2.644110</td>\n",
       "      <td>0.31125</td>\n",
       "      <td>2.645017</td>\n",
       "    </tr>\n",
       "    <tr>\n",
       "      <th>250</th>\n",
       "      <td>244.28</td>\n",
       "      <td>1</td>\n",
       "      <td>4.288534e-38</td>\n",
       "      <td>240.00</td>\n",
       "      <td>0.000211</td>\n",
       "      <td>NaN</td>\n",
       "      <td>NaN</td>\n",
       "      <td>NaN</td>\n",
       "      <td>NaN</td>\n",
       "      <td>NaN</td>\n",
       "      <td>...</td>\n",
       "      <td>841.6</td>\n",
       "      <td>712.2</td>\n",
       "      <td>0.416667</td>\n",
       "      <td>4.777912</td>\n",
       "      <td>0.31250</td>\n",
       "      <td>5.393722</td>\n",
       "      <td>0.416667</td>\n",
       "      <td>2.671696</td>\n",
       "      <td>0.31250</td>\n",
       "      <td>2.763444</td>\n",
       "    </tr>\n",
       "  </tbody>\n",
       "</table>\n",
       "<p>251 rows × 38 columns</p>\n",
       "</div>"
      ],
      "text/plain": [
       "     PRNU1288 Number of Pixels/Bin  PRNU1288 Deviation from Mean [DN]  \\\n",
       "0                           -85.72                                  2   \n",
       "1                           -84.40                                  0   \n",
       "2                           -83.08                                  0   \n",
       "3                           -81.76                                  1   \n",
       "4                           -80.44                                  2   \n",
       "..                             ...                                ...   \n",
       "246                         239.00                                  0   \n",
       "247                         240.32                                  0   \n",
       "248                         241.64                                  0   \n",
       "249                         242.96                                  0   \n",
       "250                         244.28                                  1   \n",
       "\n",
       "     PRNU1288 Model  PRNU1288 Percentage of Pixels/Bin  \\\n",
       "0      1.089722e-01                               0.00   \n",
       "1      1.561518e-01                               0.96   \n",
       "2      2.225123e-01                               1.92   \n",
       "3      3.153091e-01                               2.88   \n",
       "4      4.443186e-01                               3.84   \n",
       "..              ...                                ...   \n",
       "246    2.556513e-36                             236.16   \n",
       "247    9.277907e-37                             237.12   \n",
       "248    3.348324e-37                             238.08   \n",
       "249    1.201657e-37                             239.04   \n",
       "250    4.288534e-38                             240.00   \n",
       "\n",
       "     PRNU1288 Accumulated Deviation from Mean [DN]  \\\n",
       "0                                       100.000000   \n",
       "1                                        95.656344   \n",
       "2                                        91.308261   \n",
       "3                                        86.979992   \n",
       "4                                        82.720861   \n",
       "..                                             ...   \n",
       "246                                       0.000211   \n",
       "247                                       0.000211   \n",
       "248                                       0.000211   \n",
       "249                                       0.000211   \n",
       "250                                       0.000211   \n",
       "\n",
       "     DSNU1288 Number of Pixels/Bin  DSNU1288 Deviation from Mean [DN]  \\\n",
       "0                       -32.745371                                1.0   \n",
       "1                       -31.745371                                0.0   \n",
       "2                       -30.745371                                1.0   \n",
       "3                       -29.745371                                0.0   \n",
       "4                       -28.745371                                3.0   \n",
       "..                             ...                                ...   \n",
       "246                            NaN                                NaN   \n",
       "247                            NaN                                NaN   \n",
       "248                            NaN                                NaN   \n",
       "249                            NaN                                NaN   \n",
       "250                            NaN                                NaN   \n",
       "\n",
       "     DSNU1288 Model  DSNU1288 Percentage of Pixels/Bin  \\\n",
       "0          0.008651                                0.0   \n",
       "1          0.021471                                1.0   \n",
       "2          0.051807                                2.0   \n",
       "3          0.121530                                3.0   \n",
       "4          0.277164                                4.0   \n",
       "..              ...                                ...   \n",
       "246             NaN                                NaN   \n",
       "247             NaN                                NaN   \n",
       "248             NaN                                NaN   \n",
       "249             NaN                                NaN   \n",
       "250             NaN                                NaN   \n",
       "\n",
       "     DSNU1288 Accumulated Deviation from Mean [DN]  ...  \\\n",
       "0                                       100.000000  ...   \n",
       "1                                        93.373333  ...   \n",
       "2                                        80.373333  ...   \n",
       "3                                        67.874375  ...   \n",
       "4                                        56.236875  ...   \n",
       "..                                             ...  ...   \n",
       "246                                            NaN  ...   \n",
       "247                                            NaN  ...   \n",
       "248                                            NaN  ...   \n",
       "249                                            NaN  ...   \n",
       "250                                            NaN  ...   \n",
       "\n",
       "     PRNU1288 Max Vertical [DN]  PRNU1288 Min Vertical [DN]  \\\n",
       "0                         870.4                       738.2   \n",
       "1                         858.6                       726.8   \n",
       "2                         871.0                       714.6   \n",
       "3                         858.4                       729.4   \n",
       "4                         849.8                       731.2   \n",
       "..                          ...                         ...   \n",
       "246                       840.8                       707.8   \n",
       "247                       835.4                       708.0   \n",
       "248                       868.0                       705.2   \n",
       "249                       847.0                       708.6   \n",
       "250                       841.6                       712.2   \n",
       "\n",
       "     DSNU1288 horizontal cycles [periods/pixel]  \\\n",
       "0                                      0.000000   \n",
       "1                                      0.001667   \n",
       "2                                      0.003333   \n",
       "3                                      0.005000   \n",
       "4                                      0.006667   \n",
       "..                                          ...   \n",
       "246                                    0.410000   \n",
       "247                                    0.411667   \n",
       "248                                    0.413333   \n",
       "249                                    0.415000   \n",
       "250                                    0.416667   \n",
       "\n",
       "     DSNU1288 horizontal power spectrum  \\\n",
       "0                             44.205705   \n",
       "1                             20.184323   \n",
       "2                             11.086963   \n",
       "3                              7.477592   \n",
       "4                              8.603443   \n",
       "..                                  ...   \n",
       "246                            4.958748   \n",
       "247                            5.068447   \n",
       "248                            5.079782   \n",
       "249                            5.153331   \n",
       "250                            4.777912   \n",
       "\n",
       "     DSNU1288 vertical cycles [periods/pixel]  \\\n",
       "0                                     0.00000   \n",
       "1                                     0.00125   \n",
       "2                                     0.00250   \n",
       "3                                     0.00375   \n",
       "4                                     0.00500   \n",
       "..                                        ...   \n",
       "246                                   0.30750   \n",
       "247                                   0.30875   \n",
       "248                                   0.31000   \n",
       "249                                   0.31125   \n",
       "250                                   0.31250   \n",
       "\n",
       "     DSNU1288 vertical power spectrum  \\\n",
       "0                           62.639922   \n",
       "1                           16.285265   \n",
       "2                            7.568929   \n",
       "3                            7.380920   \n",
       "4                            7.037904   \n",
       "..                                ...   \n",
       "246                          5.144146   \n",
       "247                          5.713363   \n",
       "248                          5.089345   \n",
       "249                          5.263109   \n",
       "250                          5.393722   \n",
       "\n",
       "     PRNU1288 horizontal cycles [periods/pixel]  \\\n",
       "0                                      0.000000   \n",
       "1                                      0.001667   \n",
       "2                                      0.003333   \n",
       "3                                      0.005000   \n",
       "4                                      0.006667   \n",
       "..                                          ...   \n",
       "246                                    0.410000   \n",
       "247                                    0.411667   \n",
       "248                                    0.413333   \n",
       "249                                    0.415000   \n",
       "250                                    0.416667   \n",
       "\n",
       "     PRNU1288 horizontal power spectrum  \\\n",
       "0                             22.958245   \n",
       "1                             18.046245   \n",
       "2                             10.334260   \n",
       "3                              9.189929   \n",
       "4                              6.459612   \n",
       "..                                  ...   \n",
       "246                            2.644352   \n",
       "247                            2.583669   \n",
       "248                            2.667108   \n",
       "249                            2.644110   \n",
       "250                            2.671696   \n",
       "\n",
       "     PRNU1288 vertical cycles [periods/pixel]  \\\n",
       "0                                     0.00000   \n",
       "1                                     0.00125   \n",
       "2                                     0.00250   \n",
       "3                                     0.00375   \n",
       "4                                     0.00500   \n",
       "..                                        ...   \n",
       "246                                   0.30750   \n",
       "247                                   0.30875   \n",
       "248                                   0.31000   \n",
       "249                                   0.31125   \n",
       "250                                   0.31250   \n",
       "\n",
       "     PRNU1288 vertical power spectrum  \n",
       "0                           36.276684  \n",
       "1                           13.726098  \n",
       "2                            7.246164  \n",
       "3                            8.436309  \n",
       "4                            6.675259  \n",
       "..                                ...  \n",
       "246                          2.662324  \n",
       "247                          2.632307  \n",
       "248                          2.670366  \n",
       "249                          2.645017  \n",
       "250                          2.763444  \n",
       "\n",
       "[251 rows x 38 columns]"
      ]
     },
     "metadata": {},
     "output_type": "display_data"
    }
   ],
   "source": [
    "display(hist)"
   ]
  },
  {
   "cell_type": "code",
   "execution_count": 27,
   "id": "e645f5aa",
   "metadata": {},
   "outputs": [
    {
     "data": {
      "text/html": [
       "<div>\n",
       "<style scoped>\n",
       "    .dataframe tbody tr th:only-of-type {\n",
       "        vertical-align: middle;\n",
       "    }\n",
       "\n",
       "    .dataframe tbody tr th {\n",
       "        vertical-align: top;\n",
       "    }\n",
       "\n",
       "    .dataframe thead th {\n",
       "        text-align: right;\n",
       "    }\n",
       "</style>\n",
       "<table border=\"1\" class=\"dataframe\">\n",
       "  <thead>\n",
       "    <tr style=\"text-align: right;\">\n",
       "      <th></th>\n",
       "      <th>0</th>\n",
       "    </tr>\n",
       "  </thead>\n",
       "  <tbody>\n",
       "    <tr>\n",
       "      <th>System Gain [DN/e]</th>\n",
       "      <td>1.865465</td>\n",
       "    </tr>\n",
       "    <tr>\n",
       "      <th>Conversion Factor [e/DN]</th>\n",
       "      <td>0.536059</td>\n",
       "    </tr>\n",
       "    <tr>\n",
       "      <th>Dark Noise [DN]</th>\n",
       "      <td>10.909827</td>\n",
       "    </tr>\n",
       "    <tr>\n",
       "      <th>Dark Noise [e]</th>\n",
       "      <td>5.848314</td>\n",
       "    </tr>\n",
       "    <tr>\n",
       "      <th>Col Temp Noise [e]</th>\n",
       "      <td>0.898176</td>\n",
       "    </tr>\n",
       "    <tr>\n",
       "      <th>Row Temp Noise [e]</th>\n",
       "      <td>3.530915</td>\n",
       "    </tr>\n",
       "    <tr>\n",
       "      <th>Pix Temp Noise [e]</th>\n",
       "      <td>4.581229</td>\n",
       "    </tr>\n",
       "    <tr>\n",
       "      <th>Total DSNU [DN]</th>\n",
       "      <td>4.705586</td>\n",
       "    </tr>\n",
       "    <tr>\n",
       "      <th>Row DSNU [DN]</th>\n",
       "      <td>1.565241</td>\n",
       "    </tr>\n",
       "    <tr>\n",
       "      <th>Col DSNU [DN]</th>\n",
       "      <td>0.556243</td>\n",
       "    </tr>\n",
       "    <tr>\n",
       "      <th>Pix DSNU [DN]</th>\n",
       "      <td>4.406333</td>\n",
       "    </tr>\n",
       "    <tr>\n",
       "      <th>Total DSNU [e]</th>\n",
       "      <td>2.522473</td>\n",
       "    </tr>\n",
       "    <tr>\n",
       "      <th>Row DSNU [e]</th>\n",
       "      <td>0.839062</td>\n",
       "    </tr>\n",
       "    <tr>\n",
       "      <th>Col DSNU [e]</th>\n",
       "      <td>0.298179</td>\n",
       "    </tr>\n",
       "    <tr>\n",
       "      <th>Pix DSNU [e]</th>\n",
       "      <td>2.362056</td>\n",
       "    </tr>\n",
       "    <tr>\n",
       "      <th>Linearity Error Max [%]</th>\n",
       "      <td>0.236734</td>\n",
       "    </tr>\n",
       "    <tr>\n",
       "      <th>Linearity Error Max [DN]</th>\n",
       "      <td>1.242038</td>\n",
       "    </tr>\n",
       "    <tr>\n",
       "      <th>Linearity Error Min [%]</th>\n",
       "      <td>-0.293419</td>\n",
       "    </tr>\n",
       "    <tr>\n",
       "      <th>Linearity Error Min [DN]</th>\n",
       "      <td>-1.400421</td>\n",
       "    </tr>\n",
       "    <tr>\n",
       "      <th>Total PRNU1288 [%]</th>\n",
       "      <td>2.301792</td>\n",
       "    </tr>\n",
       "    <tr>\n",
       "      <th>Row PRNU1288 [%]</th>\n",
       "      <td>0.364204</td>\n",
       "    </tr>\n",
       "    <tr>\n",
       "      <th>Col PRNU1288 [%]</th>\n",
       "      <td>0.185990</td>\n",
       "    </tr>\n",
       "    <tr>\n",
       "      <th>Pix PRNU1288 [%]</th>\n",
       "      <td>2.267078</td>\n",
       "    </tr>\n",
       "    <tr>\n",
       "      <th>Responsivity [DN/(['uW/cm^2'])]</th>\n",
       "      <td>3.152880</td>\n",
       "    </tr>\n",
       "    <tr>\n",
       "      <th>Saturation Capacity [e]</th>\n",
       "      <td>422.199498</td>\n",
       "    </tr>\n",
       "    <tr>\n",
       "      <th>Saturation Capacity [DN]</th>\n",
       "      <td>787.598574</td>\n",
       "    </tr>\n",
       "    <tr>\n",
       "      <th>Sensitivity Threshold [e]</th>\n",
       "      <td>6.369648</td>\n",
       "    </tr>\n",
       "    <tr>\n",
       "      <th>Sensitivity Threshold [DN]</th>\n",
       "      <td>11.882359</td>\n",
       "    </tr>\n",
       "    <tr>\n",
       "      <th>Dynamic Range [ratio]</th>\n",
       "      <td>66.283015</td>\n",
       "    </tr>\n",
       "    <tr>\n",
       "      <th>Dynamic Range [dB]</th>\n",
       "      <td>36.428045</td>\n",
       "    </tr>\n",
       "  </tbody>\n",
       "</table>\n",
       "</div>"
      ],
      "text/plain": [
       "                                          0\n",
       "System Gain [DN/e]                 1.865465\n",
       "Conversion Factor [e/DN]           0.536059\n",
       "Dark Noise [DN]                   10.909827\n",
       "Dark Noise [e]                     5.848314\n",
       "Col Temp Noise [e]                 0.898176\n",
       "Row Temp Noise [e]                 3.530915\n",
       "Pix Temp Noise [e]                 4.581229\n",
       "Total DSNU [DN]                    4.705586\n",
       "Row DSNU [DN]                      1.565241\n",
       "Col DSNU [DN]                      0.556243\n",
       "Pix DSNU [DN]                      4.406333\n",
       "Total DSNU [e]                     2.522473\n",
       "Row DSNU [e]                       0.839062\n",
       "Col DSNU [e]                       0.298179\n",
       "Pix DSNU [e]                       2.362056\n",
       "Linearity Error Max [%]            0.236734\n",
       "Linearity Error Max [DN]           1.242038\n",
       "Linearity Error Min [%]           -0.293419\n",
       "Linearity Error Min [DN]          -1.400421\n",
       "Total PRNU1288 [%]                 2.301792\n",
       "Row PRNU1288 [%]                   0.364204\n",
       "Col PRNU1288 [%]                   0.185990\n",
       "Pix PRNU1288 [%]                   2.267078\n",
       "Responsivity [DN/(['uW/cm^2'])]    3.152880\n",
       "Saturation Capacity [e]          422.199498\n",
       "Saturation Capacity [DN]         787.598574\n",
       "Sensitivity Threshold [e]          6.369648\n",
       "Sensitivity Threshold [DN]        11.882359\n",
       "Dynamic Range [ratio]             66.283015\n",
       "Dynamic Range [dB]                36.428045"
      ]
     },
     "metadata": {},
     "output_type": "display_data"
    }
   ],
   "source": [
    "display(summ.T)"
   ]
  },
  {
   "cell_type": "markdown",
   "id": "1c059e5a",
   "metadata": {},
   "source": [
    "plot PTC"
   ]
  },
  {
   "cell_type": "code",
   "execution_count": 28,
   "id": "5ed23ba2",
   "metadata": {},
   "outputs": [
    {
     "data": {
      "application/vnd.plotly.v1+json": {
       "config": {
        "plotlyServerURL": "https://plot.ly"
       },
       "data": [
        {
         "hovertemplate": "variable=Tot Temp Var - Tot Dark Temp Var [DN^2]<br>Signal - Dark [DN]=%{x}<br>value=%{y}<extra></extra>",
         "legendgroup": "Tot Temp Var - Tot Dark Temp Var [DN^2]",
         "line": {
          "color": "#636efa",
          "dash": "solid"
         },
         "marker": {
          "symbol": "circle"
         },
         "mode": "lines",
         "name": "Tot Temp Var - Tot Dark Temp Var [DN^2]",
         "orientation": "v",
         "showlegend": true,
         "type": "scatter",
         "x": [
          0,
          263.2020097222222,
          263.2020097222222,
          315.0503843055555,
          315.0503843055555,
          366.4225763888889,
          366.4225763888889,
          419.86337430555557,
          419.86337430555557,
          471.5508705555556,
          471.5508705555556,
          525.8969838888887,
          525.8969838888887,
          577.0130138888888,
          577.0130138888888,
          629.2015322222222,
          629.2015322222222,
          682.9185959722219,
          682.9185959722219,
          732.7932609722219,
          732.7932609722219,
          787.598573888889,
          787.598573888889,
          840.0989868055555,
          840.0989868055555,
          887.9992822222224,
          887.9992822222224,
          924.2829243055556,
          924.2829243055556,
          938.1039805555554,
          938.1039805555554,
          940.5864893055555,
          940.5864893055555,
          940.7820955555553,
          940.7820955555553,
          940.7884526388888,
          940.7884526388888,
          940.7885122222222,
          940.7885122222222,
          940.7885159722222,
          940.7885159722222,
          940.7885159722222,
          940.7885159722222,
          940.7885159722222,
          940.7885159722222,
          940.7885159722222,
          940.7885159722222,
          940.7885159722222,
          940.7885159722222,
          940.7885159722222,
          940.7885159722222,
          940.7885159722222,
          940.7885159722222,
          940.7885159722222,
          940.7885159722222,
          940.7885159722222,
          940.7885159722222,
          940.7885159722222,
          940.7885159722222,
          940.7885159722222,
          940.7885159722222,
          940.7885159722222,
          940.7885159722222,
          940.7885159722222,
          940.7885159722222,
          940.7885159722222,
          940.7885159722222,
          940.7885159722222,
          940.7885159722222,
          940.7885159722222,
          940.7885159722222
         ],
         "xaxis": "x",
         "y": [
          0,
          486.6918687003967,
          486.6918687003967,
          589.6945722420635,
          589.6945722420635,
          684.1734245337303,
          684.1734245337303,
          781.1384868253967,
          781.1384868253967,
          878.8904807837301,
          878.8904807837301,
          979.7686670337304,
          979.7686670337304,
          1080.0644470337302,
          1080.0644470337302,
          1184.0825374503966,
          1184.0825374503966,
          1271.0369630753967,
          1271.0369630753967,
          1371.40034390873,
          1371.40034390873,
          1472.617664742063,
          1472.617664742063,
          1525.8596228670629,
          1525.8596228670629,
          1272.558708075396,
          1272.558708075396,
          467.5167403670633,
          467.5167403670633,
          -24.540071716269864,
          -24.540071716269864,
          -113.23746129960321,
          -113.23746129960321,
          -118.95816484126988,
          -118.95816484126988,
          -119.10677650793654,
          -119.10677650793654,
          -119.10762359126987,
          -119.10762359126987,
          -119.10765734126987,
          -119.10765734126987,
          -119.10765734126987,
          -119.10765734126987,
          -119.10765734126987,
          -119.10765734126987,
          -119.10765734126987,
          -119.10765734126987,
          -119.10765734126987,
          -119.10765734126987,
          -119.10765734126987,
          -119.10765734126987,
          -119.10765734126987,
          -119.10765734126987,
          -119.10765734126987,
          -119.10765734126987,
          -119.10765734126987,
          -119.10765734126987,
          -119.10765734126987,
          -119.10765734126987,
          -119.10765734126987,
          -119.10765734126987,
          -119.10765734126987,
          -119.10765734126987,
          -119.10765734126987,
          -119.10765734126987,
          -119.10765734126987,
          -119.10765734126987,
          -119.10765734126987,
          -119.10765734126987,
          -119.10765734126987,
          -119.10765734126987
         ],
         "yaxis": "y"
        },
        {
         "hovertemplate": "variable=System Gain Fit [DN^2]<br>Signal - Dark [DN]=%{x}<br>value=%{y}<extra></extra>",
         "legendgroup": "System Gain Fit [DN^2]",
         "line": {
          "color": "#EF553B",
          "dash": "solid"
         },
         "marker": {
          "symbol": "circle"
         },
         "mode": "lines",
         "name": "System Gain Fit [DN^2]",
         "orientation": "v",
         "showlegend": true,
         "type": "scatter",
         "x": [
          0,
          263.2020097222222,
          263.2020097222222,
          315.0503843055555,
          315.0503843055555,
          366.4225763888889,
          366.4225763888889,
          419.86337430555557,
          419.86337430555557,
          471.5508705555556,
          471.5508705555556,
          525.8969838888887,
          525.8969838888887,
          577.0130138888888,
          577.0130138888888,
          629.2015322222222,
          629.2015322222222,
          682.9185959722219,
          682.9185959722219,
          732.7932609722219,
          732.7932609722219,
          787.598573888889,
          787.598573888889,
          840.0989868055555,
          840.0989868055555,
          887.9992822222224,
          887.9992822222224,
          924.2829243055556,
          924.2829243055556,
          938.1039805555554,
          938.1039805555554,
          940.5864893055555,
          940.5864893055555,
          940.7820955555553,
          940.7820955555553,
          940.7884526388888,
          940.7884526388888,
          940.7885122222222,
          940.7885122222222,
          940.7885159722222,
          940.7885159722222,
          940.7885159722222,
          940.7885159722222,
          940.7885159722222,
          940.7885159722222,
          940.7885159722222,
          940.7885159722222,
          940.7885159722222,
          940.7885159722222,
          940.7885159722222,
          940.7885159722222,
          940.7885159722222,
          940.7885159722222,
          940.7885159722222,
          940.7885159722222,
          940.7885159722222,
          940.7885159722222,
          940.7885159722222,
          940.7885159722222,
          940.7885159722222,
          940.7885159722222,
          940.7885159722222,
          940.7885159722222,
          940.7885159722222,
          940.7885159722222,
          940.7885159722222,
          940.7885159722222,
          940.7885159722222,
          940.7885159722222,
          940.7885159722222,
          940.7885159722222
         ],
         "xaxis": "x",
         "y": [
          -0.831300457459065,
          490.16295381467506,
          490.16295381467506,
          586.8843049952114,
          586.8843049952114,
          682.7173541763381,
          682.7173541763381,
          782.4093160595083,
          782.4093160595083,
          878.8305542683129,
          878.8305542683129,
          null,
          null,
          null,
          null,
          null,
          null,
          null,
          null,
          null,
          null,
          null,
          null,
          null,
          null,
          null,
          null,
          null,
          null,
          null,
          null,
          null,
          null,
          null,
          null,
          null,
          null,
          null,
          null,
          null,
          null,
          null,
          null,
          null,
          null,
          null,
          null,
          null,
          null,
          null,
          null,
          null,
          null,
          null,
          null,
          null,
          null,
          null,
          null,
          null,
          null,
          null,
          null,
          null,
          null,
          null,
          null,
          null,
          null,
          null,
          null
         ],
         "yaxis": "y"
        }
       ],
       "layout": {
        "legend": {
         "title": {
          "text": "variable"
         },
         "tracegroupgap": 0
        },
        "template": {
         "data": {
          "bar": [
           {
            "error_x": {
             "color": "#2a3f5f"
            },
            "error_y": {
             "color": "#2a3f5f"
            },
            "marker": {
             "line": {
              "color": "#E5ECF6",
              "width": 0.5
             },
             "pattern": {
              "fillmode": "overlay",
              "size": 10,
              "solidity": 0.2
             }
            },
            "type": "bar"
           }
          ],
          "barpolar": [
           {
            "marker": {
             "line": {
              "color": "#E5ECF6",
              "width": 0.5
             },
             "pattern": {
              "fillmode": "overlay",
              "size": 10,
              "solidity": 0.2
             }
            },
            "type": "barpolar"
           }
          ],
          "carpet": [
           {
            "aaxis": {
             "endlinecolor": "#2a3f5f",
             "gridcolor": "white",
             "linecolor": "white",
             "minorgridcolor": "white",
             "startlinecolor": "#2a3f5f"
            },
            "baxis": {
             "endlinecolor": "#2a3f5f",
             "gridcolor": "white",
             "linecolor": "white",
             "minorgridcolor": "white",
             "startlinecolor": "#2a3f5f"
            },
            "type": "carpet"
           }
          ],
          "choropleth": [
           {
            "colorbar": {
             "outlinewidth": 0,
             "ticks": ""
            },
            "type": "choropleth"
           }
          ],
          "contour": [
           {
            "colorbar": {
             "outlinewidth": 0,
             "ticks": ""
            },
            "colorscale": [
             [
              0,
              "#0d0887"
             ],
             [
              0.1111111111111111,
              "#46039f"
             ],
             [
              0.2222222222222222,
              "#7201a8"
             ],
             [
              0.3333333333333333,
              "#9c179e"
             ],
             [
              0.4444444444444444,
              "#bd3786"
             ],
             [
              0.5555555555555556,
              "#d8576b"
             ],
             [
              0.6666666666666666,
              "#ed7953"
             ],
             [
              0.7777777777777778,
              "#fb9f3a"
             ],
             [
              0.8888888888888888,
              "#fdca26"
             ],
             [
              1,
              "#f0f921"
             ]
            ],
            "type": "contour"
           }
          ],
          "contourcarpet": [
           {
            "colorbar": {
             "outlinewidth": 0,
             "ticks": ""
            },
            "type": "contourcarpet"
           }
          ],
          "heatmap": [
           {
            "colorbar": {
             "outlinewidth": 0,
             "ticks": ""
            },
            "colorscale": [
             [
              0,
              "#0d0887"
             ],
             [
              0.1111111111111111,
              "#46039f"
             ],
             [
              0.2222222222222222,
              "#7201a8"
             ],
             [
              0.3333333333333333,
              "#9c179e"
             ],
             [
              0.4444444444444444,
              "#bd3786"
             ],
             [
              0.5555555555555556,
              "#d8576b"
             ],
             [
              0.6666666666666666,
              "#ed7953"
             ],
             [
              0.7777777777777778,
              "#fb9f3a"
             ],
             [
              0.8888888888888888,
              "#fdca26"
             ],
             [
              1,
              "#f0f921"
             ]
            ],
            "type": "heatmap"
           }
          ],
          "heatmapgl": [
           {
            "colorbar": {
             "outlinewidth": 0,
             "ticks": ""
            },
            "colorscale": [
             [
              0,
              "#0d0887"
             ],
             [
              0.1111111111111111,
              "#46039f"
             ],
             [
              0.2222222222222222,
              "#7201a8"
             ],
             [
              0.3333333333333333,
              "#9c179e"
             ],
             [
              0.4444444444444444,
              "#bd3786"
             ],
             [
              0.5555555555555556,
              "#d8576b"
             ],
             [
              0.6666666666666666,
              "#ed7953"
             ],
             [
              0.7777777777777778,
              "#fb9f3a"
             ],
             [
              0.8888888888888888,
              "#fdca26"
             ],
             [
              1,
              "#f0f921"
             ]
            ],
            "type": "heatmapgl"
           }
          ],
          "histogram": [
           {
            "marker": {
             "pattern": {
              "fillmode": "overlay",
              "size": 10,
              "solidity": 0.2
             }
            },
            "type": "histogram"
           }
          ],
          "histogram2d": [
           {
            "colorbar": {
             "outlinewidth": 0,
             "ticks": ""
            },
            "colorscale": [
             [
              0,
              "#0d0887"
             ],
             [
              0.1111111111111111,
              "#46039f"
             ],
             [
              0.2222222222222222,
              "#7201a8"
             ],
             [
              0.3333333333333333,
              "#9c179e"
             ],
             [
              0.4444444444444444,
              "#bd3786"
             ],
             [
              0.5555555555555556,
              "#d8576b"
             ],
             [
              0.6666666666666666,
              "#ed7953"
             ],
             [
              0.7777777777777778,
              "#fb9f3a"
             ],
             [
              0.8888888888888888,
              "#fdca26"
             ],
             [
              1,
              "#f0f921"
             ]
            ],
            "type": "histogram2d"
           }
          ],
          "histogram2dcontour": [
           {
            "colorbar": {
             "outlinewidth": 0,
             "ticks": ""
            },
            "colorscale": [
             [
              0,
              "#0d0887"
             ],
             [
              0.1111111111111111,
              "#46039f"
             ],
             [
              0.2222222222222222,
              "#7201a8"
             ],
             [
              0.3333333333333333,
              "#9c179e"
             ],
             [
              0.4444444444444444,
              "#bd3786"
             ],
             [
              0.5555555555555556,
              "#d8576b"
             ],
             [
              0.6666666666666666,
              "#ed7953"
             ],
             [
              0.7777777777777778,
              "#fb9f3a"
             ],
             [
              0.8888888888888888,
              "#fdca26"
             ],
             [
              1,
              "#f0f921"
             ]
            ],
            "type": "histogram2dcontour"
           }
          ],
          "mesh3d": [
           {
            "colorbar": {
             "outlinewidth": 0,
             "ticks": ""
            },
            "type": "mesh3d"
           }
          ],
          "parcoords": [
           {
            "line": {
             "colorbar": {
              "outlinewidth": 0,
              "ticks": ""
             }
            },
            "type": "parcoords"
           }
          ],
          "pie": [
           {
            "automargin": true,
            "type": "pie"
           }
          ],
          "scatter": [
           {
            "marker": {
             "colorbar": {
              "outlinewidth": 0,
              "ticks": ""
             }
            },
            "type": "scatter"
           }
          ],
          "scatter3d": [
           {
            "line": {
             "colorbar": {
              "outlinewidth": 0,
              "ticks": ""
             }
            },
            "marker": {
             "colorbar": {
              "outlinewidth": 0,
              "ticks": ""
             }
            },
            "type": "scatter3d"
           }
          ],
          "scattercarpet": [
           {
            "marker": {
             "colorbar": {
              "outlinewidth": 0,
              "ticks": ""
             }
            },
            "type": "scattercarpet"
           }
          ],
          "scattergeo": [
           {
            "marker": {
             "colorbar": {
              "outlinewidth": 0,
              "ticks": ""
             }
            },
            "type": "scattergeo"
           }
          ],
          "scattergl": [
           {
            "marker": {
             "colorbar": {
              "outlinewidth": 0,
              "ticks": ""
             }
            },
            "type": "scattergl"
           }
          ],
          "scattermapbox": [
           {
            "marker": {
             "colorbar": {
              "outlinewidth": 0,
              "ticks": ""
             }
            },
            "type": "scattermapbox"
           }
          ],
          "scatterpolar": [
           {
            "marker": {
             "colorbar": {
              "outlinewidth": 0,
              "ticks": ""
             }
            },
            "type": "scatterpolar"
           }
          ],
          "scatterpolargl": [
           {
            "marker": {
             "colorbar": {
              "outlinewidth": 0,
              "ticks": ""
             }
            },
            "type": "scatterpolargl"
           }
          ],
          "scatterternary": [
           {
            "marker": {
             "colorbar": {
              "outlinewidth": 0,
              "ticks": ""
             }
            },
            "type": "scatterternary"
           }
          ],
          "surface": [
           {
            "colorbar": {
             "outlinewidth": 0,
             "ticks": ""
            },
            "colorscale": [
             [
              0,
              "#0d0887"
             ],
             [
              0.1111111111111111,
              "#46039f"
             ],
             [
              0.2222222222222222,
              "#7201a8"
             ],
             [
              0.3333333333333333,
              "#9c179e"
             ],
             [
              0.4444444444444444,
              "#bd3786"
             ],
             [
              0.5555555555555556,
              "#d8576b"
             ],
             [
              0.6666666666666666,
              "#ed7953"
             ],
             [
              0.7777777777777778,
              "#fb9f3a"
             ],
             [
              0.8888888888888888,
              "#fdca26"
             ],
             [
              1,
              "#f0f921"
             ]
            ],
            "type": "surface"
           }
          ],
          "table": [
           {
            "cells": {
             "fill": {
              "color": "#EBF0F8"
             },
             "line": {
              "color": "white"
             }
            },
            "header": {
             "fill": {
              "color": "#C8D4E3"
             },
             "line": {
              "color": "white"
             }
            },
            "type": "table"
           }
          ]
         },
         "layout": {
          "annotationdefaults": {
           "arrowcolor": "#2a3f5f",
           "arrowhead": 0,
           "arrowwidth": 1
          },
          "autotypenumbers": "strict",
          "coloraxis": {
           "colorbar": {
            "outlinewidth": 0,
            "ticks": ""
           }
          },
          "colorscale": {
           "diverging": [
            [
             0,
             "#8e0152"
            ],
            [
             0.1,
             "#c51b7d"
            ],
            [
             0.2,
             "#de77ae"
            ],
            [
             0.3,
             "#f1b6da"
            ],
            [
             0.4,
             "#fde0ef"
            ],
            [
             0.5,
             "#f7f7f7"
            ],
            [
             0.6,
             "#e6f5d0"
            ],
            [
             0.7,
             "#b8e186"
            ],
            [
             0.8,
             "#7fbc41"
            ],
            [
             0.9,
             "#4d9221"
            ],
            [
             1,
             "#276419"
            ]
           ],
           "sequential": [
            [
             0,
             "#0d0887"
            ],
            [
             0.1111111111111111,
             "#46039f"
            ],
            [
             0.2222222222222222,
             "#7201a8"
            ],
            [
             0.3333333333333333,
             "#9c179e"
            ],
            [
             0.4444444444444444,
             "#bd3786"
            ],
            [
             0.5555555555555556,
             "#d8576b"
            ],
            [
             0.6666666666666666,
             "#ed7953"
            ],
            [
             0.7777777777777778,
             "#fb9f3a"
            ],
            [
             0.8888888888888888,
             "#fdca26"
            ],
            [
             1,
             "#f0f921"
            ]
           ],
           "sequentialminus": [
            [
             0,
             "#0d0887"
            ],
            [
             0.1111111111111111,
             "#46039f"
            ],
            [
             0.2222222222222222,
             "#7201a8"
            ],
            [
             0.3333333333333333,
             "#9c179e"
            ],
            [
             0.4444444444444444,
             "#bd3786"
            ],
            [
             0.5555555555555556,
             "#d8576b"
            ],
            [
             0.6666666666666666,
             "#ed7953"
            ],
            [
             0.7777777777777778,
             "#fb9f3a"
            ],
            [
             0.8888888888888888,
             "#fdca26"
            ],
            [
             1,
             "#f0f921"
            ]
           ]
          },
          "colorway": [
           "#636efa",
           "#EF553B",
           "#00cc96",
           "#ab63fa",
           "#FFA15A",
           "#19d3f3",
           "#FF6692",
           "#B6E880",
           "#FF97FF",
           "#FECB52"
          ],
          "font": {
           "color": "#2a3f5f"
          },
          "geo": {
           "bgcolor": "white",
           "lakecolor": "white",
           "landcolor": "#E5ECF6",
           "showlakes": true,
           "showland": true,
           "subunitcolor": "white"
          },
          "hoverlabel": {
           "align": "left"
          },
          "hovermode": "closest",
          "mapbox": {
           "style": "light"
          },
          "paper_bgcolor": "white",
          "plot_bgcolor": "#E5ECF6",
          "polar": {
           "angularaxis": {
            "gridcolor": "white",
            "linecolor": "white",
            "ticks": ""
           },
           "bgcolor": "#E5ECF6",
           "radialaxis": {
            "gridcolor": "white",
            "linecolor": "white",
            "ticks": ""
           }
          },
          "scene": {
           "xaxis": {
            "backgroundcolor": "#E5ECF6",
            "gridcolor": "white",
            "gridwidth": 2,
            "linecolor": "white",
            "showbackground": true,
            "ticks": "",
            "zerolinecolor": "white"
           },
           "yaxis": {
            "backgroundcolor": "#E5ECF6",
            "gridcolor": "white",
            "gridwidth": 2,
            "linecolor": "white",
            "showbackground": true,
            "ticks": "",
            "zerolinecolor": "white"
           },
           "zaxis": {
            "backgroundcolor": "#E5ECF6",
            "gridcolor": "white",
            "gridwidth": 2,
            "linecolor": "white",
            "showbackground": true,
            "ticks": "",
            "zerolinecolor": "white"
           }
          },
          "shapedefaults": {
           "line": {
            "color": "#2a3f5f"
           }
          },
          "ternary": {
           "aaxis": {
            "gridcolor": "white",
            "linecolor": "white",
            "ticks": ""
           },
           "baxis": {
            "gridcolor": "white",
            "linecolor": "white",
            "ticks": ""
           },
           "bgcolor": "#E5ECF6",
           "caxis": {
            "gridcolor": "white",
            "linecolor": "white",
            "ticks": ""
           }
          },
          "title": {
           "x": 0.05
          },
          "xaxis": {
           "automargin": true,
           "gridcolor": "white",
           "linecolor": "white",
           "ticks": "",
           "title": {
            "standoff": 15
           },
           "zerolinecolor": "white",
           "zerolinewidth": 2
          },
          "yaxis": {
           "automargin": true,
           "gridcolor": "white",
           "linecolor": "white",
           "ticks": "",
           "title": {
            "standoff": 15
           },
           "zerolinecolor": "white",
           "zerolinewidth": 2
          }
         }
        },
        "title": {
         "text": "Photon transfer curve (PTC)"
        },
        "xaxis": {
         "anchor": "y",
         "domain": [
          0,
          1
         ],
         "rangemode": "nonnegative",
         "title": {
          "text": "Signal - Dark [DN]"
         }
        },
        "yaxis": {
         "anchor": "x",
         "domain": [
          0,
          1
         ],
         "rangemode": "nonnegative",
         "title": {
          "text": "value"
         }
        }
       }
      },
      "text/html": [
       "<div>                            <div id=\"2db063ac-76eb-480d-b59e-360953812e30\" class=\"plotly-graph-div\" style=\"height:525px; width:100%;\"></div>            <script type=\"text/javascript\">                require([\"plotly\"], function(Plotly) {                    window.PLOTLYENV=window.PLOTLYENV || {};                                    if (document.getElementById(\"2db063ac-76eb-480d-b59e-360953812e30\")) {                    Plotly.newPlot(                        \"2db063ac-76eb-480d-b59e-360953812e30\",                        [{\"hovertemplate\":\"variable=Tot Temp Var - Tot Dark Temp Var [DN^2]<br>Signal - Dark [DN]=%{x}<br>value=%{y}<extra></extra>\",\"legendgroup\":\"Tot Temp Var - Tot Dark Temp Var [DN^2]\",\"line\":{\"color\":\"#636efa\",\"dash\":\"solid\"},\"marker\":{\"symbol\":\"circle\"},\"mode\":\"lines\",\"name\":\"Tot Temp Var - Tot Dark Temp Var [DN^2]\",\"orientation\":\"v\",\"showlegend\":true,\"x\":[0.0,263.2020097222222,263.2020097222222,315.0503843055555,315.0503843055555,366.4225763888889,366.4225763888889,419.86337430555557,419.86337430555557,471.5508705555556,471.5508705555556,525.8969838888887,525.8969838888887,577.0130138888888,577.0130138888888,629.2015322222222,629.2015322222222,682.9185959722219,682.9185959722219,732.7932609722219,732.7932609722219,787.598573888889,787.598573888889,840.0989868055555,840.0989868055555,887.9992822222224,887.9992822222224,924.2829243055556,924.2829243055556,938.1039805555554,938.1039805555554,940.5864893055555,940.5864893055555,940.7820955555553,940.7820955555553,940.7884526388888,940.7884526388888,940.7885122222222,940.7885122222222,940.7885159722222,940.7885159722222,940.7885159722222,940.7885159722222,940.7885159722222,940.7885159722222,940.7885159722222,940.7885159722222,940.7885159722222,940.7885159722222,940.7885159722222,940.7885159722222,940.7885159722222,940.7885159722222,940.7885159722222,940.7885159722222,940.7885159722222,940.7885159722222,940.7885159722222,940.7885159722222,940.7885159722222,940.7885159722222,940.7885159722222,940.7885159722222,940.7885159722222,940.7885159722222,940.7885159722222,940.7885159722222,940.7885159722222,940.7885159722222,940.7885159722222,940.7885159722222],\"xaxis\":\"x\",\"y\":[0.0,486.6918687003967,486.6918687003967,589.6945722420635,589.6945722420635,684.1734245337303,684.1734245337303,781.1384868253967,781.1384868253967,878.8904807837301,878.8904807837301,979.7686670337304,979.7686670337304,1080.0644470337302,1080.0644470337302,1184.0825374503966,1184.0825374503966,1271.0369630753967,1271.0369630753967,1371.40034390873,1371.40034390873,1472.617664742063,1472.617664742063,1525.8596228670629,1525.8596228670629,1272.558708075396,1272.558708075396,467.5167403670633,467.5167403670633,-24.540071716269864,-24.540071716269864,-113.23746129960321,-113.23746129960321,-118.95816484126988,-118.95816484126988,-119.10677650793654,-119.10677650793654,-119.10762359126987,-119.10762359126987,-119.10765734126987,-119.10765734126987,-119.10765734126987,-119.10765734126987,-119.10765734126987,-119.10765734126987,-119.10765734126987,-119.10765734126987,-119.10765734126987,-119.10765734126987,-119.10765734126987,-119.10765734126987,-119.10765734126987,-119.10765734126987,-119.10765734126987,-119.10765734126987,-119.10765734126987,-119.10765734126987,-119.10765734126987,-119.10765734126987,-119.10765734126987,-119.10765734126987,-119.10765734126987,-119.10765734126987,-119.10765734126987,-119.10765734126987,-119.10765734126987,-119.10765734126987,-119.10765734126987,-119.10765734126987,-119.10765734126987,-119.10765734126987],\"yaxis\":\"y\",\"type\":\"scatter\"},{\"hovertemplate\":\"variable=System Gain Fit [DN^2]<br>Signal - Dark [DN]=%{x}<br>value=%{y}<extra></extra>\",\"legendgroup\":\"System Gain Fit [DN^2]\",\"line\":{\"color\":\"#EF553B\",\"dash\":\"solid\"},\"marker\":{\"symbol\":\"circle\"},\"mode\":\"lines\",\"name\":\"System Gain Fit [DN^2]\",\"orientation\":\"v\",\"showlegend\":true,\"x\":[0.0,263.2020097222222,263.2020097222222,315.0503843055555,315.0503843055555,366.4225763888889,366.4225763888889,419.86337430555557,419.86337430555557,471.5508705555556,471.5508705555556,525.8969838888887,525.8969838888887,577.0130138888888,577.0130138888888,629.2015322222222,629.2015322222222,682.9185959722219,682.9185959722219,732.7932609722219,732.7932609722219,787.598573888889,787.598573888889,840.0989868055555,840.0989868055555,887.9992822222224,887.9992822222224,924.2829243055556,924.2829243055556,938.1039805555554,938.1039805555554,940.5864893055555,940.5864893055555,940.7820955555553,940.7820955555553,940.7884526388888,940.7884526388888,940.7885122222222,940.7885122222222,940.7885159722222,940.7885159722222,940.7885159722222,940.7885159722222,940.7885159722222,940.7885159722222,940.7885159722222,940.7885159722222,940.7885159722222,940.7885159722222,940.7885159722222,940.7885159722222,940.7885159722222,940.7885159722222,940.7885159722222,940.7885159722222,940.7885159722222,940.7885159722222,940.7885159722222,940.7885159722222,940.7885159722222,940.7885159722222,940.7885159722222,940.7885159722222,940.7885159722222,940.7885159722222,940.7885159722222,940.7885159722222,940.7885159722222,940.7885159722222,940.7885159722222,940.7885159722222],\"xaxis\":\"x\",\"y\":[-0.831300457459065,490.16295381467506,490.16295381467506,586.8843049952114,586.8843049952114,682.7173541763381,682.7173541763381,782.4093160595083,782.4093160595083,878.8305542683129,878.8305542683129,null,null,null,null,null,null,null,null,null,null,null,null,null,null,null,null,null,null,null,null,null,null,null,null,null,null,null,null,null,null,null,null,null,null,null,null,null,null,null,null,null,null,null,null,null,null,null,null,null,null,null,null,null,null,null,null,null,null,null,null],\"yaxis\":\"y\",\"type\":\"scatter\"}],                        {\"template\":{\"data\":{\"bar\":[{\"error_x\":{\"color\":\"#2a3f5f\"},\"error_y\":{\"color\":\"#2a3f5f\"},\"marker\":{\"line\":{\"color\":\"#E5ECF6\",\"width\":0.5},\"pattern\":{\"fillmode\":\"overlay\",\"size\":10,\"solidity\":0.2}},\"type\":\"bar\"}],\"barpolar\":[{\"marker\":{\"line\":{\"color\":\"#E5ECF6\",\"width\":0.5},\"pattern\":{\"fillmode\":\"overlay\",\"size\":10,\"solidity\":0.2}},\"type\":\"barpolar\"}],\"carpet\":[{\"aaxis\":{\"endlinecolor\":\"#2a3f5f\",\"gridcolor\":\"white\",\"linecolor\":\"white\",\"minorgridcolor\":\"white\",\"startlinecolor\":\"#2a3f5f\"},\"baxis\":{\"endlinecolor\":\"#2a3f5f\",\"gridcolor\":\"white\",\"linecolor\":\"white\",\"minorgridcolor\":\"white\",\"startlinecolor\":\"#2a3f5f\"},\"type\":\"carpet\"}],\"choropleth\":[{\"colorbar\":{\"outlinewidth\":0,\"ticks\":\"\"},\"type\":\"choropleth\"}],\"contour\":[{\"colorbar\":{\"outlinewidth\":0,\"ticks\":\"\"},\"colorscale\":[[0.0,\"#0d0887\"],[0.1111111111111111,\"#46039f\"],[0.2222222222222222,\"#7201a8\"],[0.3333333333333333,\"#9c179e\"],[0.4444444444444444,\"#bd3786\"],[0.5555555555555556,\"#d8576b\"],[0.6666666666666666,\"#ed7953\"],[0.7777777777777778,\"#fb9f3a\"],[0.8888888888888888,\"#fdca26\"],[1.0,\"#f0f921\"]],\"type\":\"contour\"}],\"contourcarpet\":[{\"colorbar\":{\"outlinewidth\":0,\"ticks\":\"\"},\"type\":\"contourcarpet\"}],\"heatmap\":[{\"colorbar\":{\"outlinewidth\":0,\"ticks\":\"\"},\"colorscale\":[[0.0,\"#0d0887\"],[0.1111111111111111,\"#46039f\"],[0.2222222222222222,\"#7201a8\"],[0.3333333333333333,\"#9c179e\"],[0.4444444444444444,\"#bd3786\"],[0.5555555555555556,\"#d8576b\"],[0.6666666666666666,\"#ed7953\"],[0.7777777777777778,\"#fb9f3a\"],[0.8888888888888888,\"#fdca26\"],[1.0,\"#f0f921\"]],\"type\":\"heatmap\"}],\"heatmapgl\":[{\"colorbar\":{\"outlinewidth\":0,\"ticks\":\"\"},\"colorscale\":[[0.0,\"#0d0887\"],[0.1111111111111111,\"#46039f\"],[0.2222222222222222,\"#7201a8\"],[0.3333333333333333,\"#9c179e\"],[0.4444444444444444,\"#bd3786\"],[0.5555555555555556,\"#d8576b\"],[0.6666666666666666,\"#ed7953\"],[0.7777777777777778,\"#fb9f3a\"],[0.8888888888888888,\"#fdca26\"],[1.0,\"#f0f921\"]],\"type\":\"heatmapgl\"}],\"histogram\":[{\"marker\":{\"pattern\":{\"fillmode\":\"overlay\",\"size\":10,\"solidity\":0.2}},\"type\":\"histogram\"}],\"histogram2d\":[{\"colorbar\":{\"outlinewidth\":0,\"ticks\":\"\"},\"colorscale\":[[0.0,\"#0d0887\"],[0.1111111111111111,\"#46039f\"],[0.2222222222222222,\"#7201a8\"],[0.3333333333333333,\"#9c179e\"],[0.4444444444444444,\"#bd3786\"],[0.5555555555555556,\"#d8576b\"],[0.6666666666666666,\"#ed7953\"],[0.7777777777777778,\"#fb9f3a\"],[0.8888888888888888,\"#fdca26\"],[1.0,\"#f0f921\"]],\"type\":\"histogram2d\"}],\"histogram2dcontour\":[{\"colorbar\":{\"outlinewidth\":0,\"ticks\":\"\"},\"colorscale\":[[0.0,\"#0d0887\"],[0.1111111111111111,\"#46039f\"],[0.2222222222222222,\"#7201a8\"],[0.3333333333333333,\"#9c179e\"],[0.4444444444444444,\"#bd3786\"],[0.5555555555555556,\"#d8576b\"],[0.6666666666666666,\"#ed7953\"],[0.7777777777777778,\"#fb9f3a\"],[0.8888888888888888,\"#fdca26\"],[1.0,\"#f0f921\"]],\"type\":\"histogram2dcontour\"}],\"mesh3d\":[{\"colorbar\":{\"outlinewidth\":0,\"ticks\":\"\"},\"type\":\"mesh3d\"}],\"parcoords\":[{\"line\":{\"colorbar\":{\"outlinewidth\":0,\"ticks\":\"\"}},\"type\":\"parcoords\"}],\"pie\":[{\"automargin\":true,\"type\":\"pie\"}],\"scatter\":[{\"marker\":{\"colorbar\":{\"outlinewidth\":0,\"ticks\":\"\"}},\"type\":\"scatter\"}],\"scatter3d\":[{\"line\":{\"colorbar\":{\"outlinewidth\":0,\"ticks\":\"\"}},\"marker\":{\"colorbar\":{\"outlinewidth\":0,\"ticks\":\"\"}},\"type\":\"scatter3d\"}],\"scattercarpet\":[{\"marker\":{\"colorbar\":{\"outlinewidth\":0,\"ticks\":\"\"}},\"type\":\"scattercarpet\"}],\"scattergeo\":[{\"marker\":{\"colorbar\":{\"outlinewidth\":0,\"ticks\":\"\"}},\"type\":\"scattergeo\"}],\"scattergl\":[{\"marker\":{\"colorbar\":{\"outlinewidth\":0,\"ticks\":\"\"}},\"type\":\"scattergl\"}],\"scattermapbox\":[{\"marker\":{\"colorbar\":{\"outlinewidth\":0,\"ticks\":\"\"}},\"type\":\"scattermapbox\"}],\"scatterpolar\":[{\"marker\":{\"colorbar\":{\"outlinewidth\":0,\"ticks\":\"\"}},\"type\":\"scatterpolar\"}],\"scatterpolargl\":[{\"marker\":{\"colorbar\":{\"outlinewidth\":0,\"ticks\":\"\"}},\"type\":\"scatterpolargl\"}],\"scatterternary\":[{\"marker\":{\"colorbar\":{\"outlinewidth\":0,\"ticks\":\"\"}},\"type\":\"scatterternary\"}],\"surface\":[{\"colorbar\":{\"outlinewidth\":0,\"ticks\":\"\"},\"colorscale\":[[0.0,\"#0d0887\"],[0.1111111111111111,\"#46039f\"],[0.2222222222222222,\"#7201a8\"],[0.3333333333333333,\"#9c179e\"],[0.4444444444444444,\"#bd3786\"],[0.5555555555555556,\"#d8576b\"],[0.6666666666666666,\"#ed7953\"],[0.7777777777777778,\"#fb9f3a\"],[0.8888888888888888,\"#fdca26\"],[1.0,\"#f0f921\"]],\"type\":\"surface\"}],\"table\":[{\"cells\":{\"fill\":{\"color\":\"#EBF0F8\"},\"line\":{\"color\":\"white\"}},\"header\":{\"fill\":{\"color\":\"#C8D4E3\"},\"line\":{\"color\":\"white\"}},\"type\":\"table\"}]},\"layout\":{\"annotationdefaults\":{\"arrowcolor\":\"#2a3f5f\",\"arrowhead\":0,\"arrowwidth\":1},\"autotypenumbers\":\"strict\",\"coloraxis\":{\"colorbar\":{\"outlinewidth\":0,\"ticks\":\"\"}},\"colorscale\":{\"diverging\":[[0,\"#8e0152\"],[0.1,\"#c51b7d\"],[0.2,\"#de77ae\"],[0.3,\"#f1b6da\"],[0.4,\"#fde0ef\"],[0.5,\"#f7f7f7\"],[0.6,\"#e6f5d0\"],[0.7,\"#b8e186\"],[0.8,\"#7fbc41\"],[0.9,\"#4d9221\"],[1,\"#276419\"]],\"sequential\":[[0.0,\"#0d0887\"],[0.1111111111111111,\"#46039f\"],[0.2222222222222222,\"#7201a8\"],[0.3333333333333333,\"#9c179e\"],[0.4444444444444444,\"#bd3786\"],[0.5555555555555556,\"#d8576b\"],[0.6666666666666666,\"#ed7953\"],[0.7777777777777778,\"#fb9f3a\"],[0.8888888888888888,\"#fdca26\"],[1.0,\"#f0f921\"]],\"sequentialminus\":[[0.0,\"#0d0887\"],[0.1111111111111111,\"#46039f\"],[0.2222222222222222,\"#7201a8\"],[0.3333333333333333,\"#9c179e\"],[0.4444444444444444,\"#bd3786\"],[0.5555555555555556,\"#d8576b\"],[0.6666666666666666,\"#ed7953\"],[0.7777777777777778,\"#fb9f3a\"],[0.8888888888888888,\"#fdca26\"],[1.0,\"#f0f921\"]]},\"colorway\":[\"#636efa\",\"#EF553B\",\"#00cc96\",\"#ab63fa\",\"#FFA15A\",\"#19d3f3\",\"#FF6692\",\"#B6E880\",\"#FF97FF\",\"#FECB52\"],\"font\":{\"color\":\"#2a3f5f\"},\"geo\":{\"bgcolor\":\"white\",\"lakecolor\":\"white\",\"landcolor\":\"#E5ECF6\",\"showlakes\":true,\"showland\":true,\"subunitcolor\":\"white\"},\"hoverlabel\":{\"align\":\"left\"},\"hovermode\":\"closest\",\"mapbox\":{\"style\":\"light\"},\"paper_bgcolor\":\"white\",\"plot_bgcolor\":\"#E5ECF6\",\"polar\":{\"angularaxis\":{\"gridcolor\":\"white\",\"linecolor\":\"white\",\"ticks\":\"\"},\"bgcolor\":\"#E5ECF6\",\"radialaxis\":{\"gridcolor\":\"white\",\"linecolor\":\"white\",\"ticks\":\"\"}},\"scene\":{\"xaxis\":{\"backgroundcolor\":\"#E5ECF6\",\"gridcolor\":\"white\",\"gridwidth\":2,\"linecolor\":\"white\",\"showbackground\":true,\"ticks\":\"\",\"zerolinecolor\":\"white\"},\"yaxis\":{\"backgroundcolor\":\"#E5ECF6\",\"gridcolor\":\"white\",\"gridwidth\":2,\"linecolor\":\"white\",\"showbackground\":true,\"ticks\":\"\",\"zerolinecolor\":\"white\"},\"zaxis\":{\"backgroundcolor\":\"#E5ECF6\",\"gridcolor\":\"white\",\"gridwidth\":2,\"linecolor\":\"white\",\"showbackground\":true,\"ticks\":\"\",\"zerolinecolor\":\"white\"}},\"shapedefaults\":{\"line\":{\"color\":\"#2a3f5f\"}},\"ternary\":{\"aaxis\":{\"gridcolor\":\"white\",\"linecolor\":\"white\",\"ticks\":\"\"},\"baxis\":{\"gridcolor\":\"white\",\"linecolor\":\"white\",\"ticks\":\"\"},\"bgcolor\":\"#E5ECF6\",\"caxis\":{\"gridcolor\":\"white\",\"linecolor\":\"white\",\"ticks\":\"\"}},\"title\":{\"x\":0.05},\"xaxis\":{\"automargin\":true,\"gridcolor\":\"white\",\"linecolor\":\"white\",\"ticks\":\"\",\"title\":{\"standoff\":15},\"zerolinecolor\":\"white\",\"zerolinewidth\":2},\"yaxis\":{\"automargin\":true,\"gridcolor\":\"white\",\"linecolor\":\"white\",\"ticks\":\"\",\"title\":{\"standoff\":15},\"zerolinecolor\":\"white\",\"zerolinewidth\":2}}},\"xaxis\":{\"anchor\":\"y\",\"domain\":[0.0,1.0],\"title\":{\"text\":\"Signal - Dark [DN]\"},\"rangemode\":\"nonnegative\"},\"yaxis\":{\"anchor\":\"x\",\"domain\":[0.0,1.0],\"title\":{\"text\":\"value\"},\"rangemode\":\"nonnegative\"},\"legend\":{\"title\":{\"text\":\"variable\"},\"tracegroupgap\":0},\"title\":{\"text\":\"Photon transfer curve (PTC)\"}},                        {\"responsive\": true}                    ).then(function(){\n",
       "                            \n",
       "var gd = document.getElementById('2db063ac-76eb-480d-b59e-360953812e30');\n",
       "var x = new MutationObserver(function (mutations, observer) {{\n",
       "        var display = window.getComputedStyle(gd).display;\n",
       "        if (!display || display === 'none') {{\n",
       "            console.log([gd, 'removed!']);\n",
       "            Plotly.purge(gd);\n",
       "            observer.disconnect();\n",
       "        }}\n",
       "}});\n",
       "\n",
       "// Listen for the removal of the full notebook cells\n",
       "var notebookContainer = gd.closest('#notebook-container');\n",
       "if (notebookContainer) {{\n",
       "    x.observe(notebookContainer, {childList: true});\n",
       "}}\n",
       "\n",
       "// Listen for the clearing of the current output cell\n",
       "var outputEl = gd.closest('.output');\n",
       "if (outputEl) {{\n",
       "    x.observe(outputEl, {childList: true});\n",
       "}}\n",
       "\n",
       "                        })                };                });            </script>        </div>"
      ]
     },
     "metadata": {},
     "output_type": "display_data"
    }
   ],
   "source": [
    "fig = px.line(data, x='Signal - Dark [DN]', y=['Tot Temp Var - Tot Dark Temp Var [DN^2]','System Gain Fit [DN^2]'], \n",
    "              title='Photon transfer curve (PTC)')\n",
    "fig.update_xaxes(rangemode=\"nonnegative\")\n",
    "fig.update_yaxes(rangemode=\"nonnegative\")\n",
    "fig.show()"
   ]
  },
  {
   "cell_type": "code",
   "execution_count": 29,
   "id": "5773e60d",
   "metadata": {},
   "outputs": [
    {
     "data": {
      "application/vnd.plotly.v1+json": {
       "config": {
        "plotlyServerURL": "https://plot.ly"
       },
       "data": [
        {
         "hovertemplate": "exp_us=%{x}<br>Linearity Error [%]=%{y}<extra></extra>",
         "legendgroup": "",
         "line": {
          "color": "#636efa",
          "dash": "solid"
         },
         "marker": {
          "symbol": "circle"
         },
         "mode": "lines",
         "name": "",
         "orientation": "v",
         "showlegend": false,
         "type": "scatter",
         "x": [
          100,
          100,
          120,
          120,
          140,
          140,
          160,
          160,
          180,
          180,
          200,
          200,
          220,
          220,
          240,
          240,
          260,
          260,
          280,
          280,
          300
         ],
         "xaxis": "x",
         "y": [
          0.17907352912048843,
          0.17907352912048843,
          -0.020889638060431384,
          -0.020889638060431384,
          -0.2934192555419635,
          -0.2934192555419635,
          -0.005288181114122905,
          -0.005288181114122905,
          -0.15232631694837595,
          -0.15232631694837595,
          0.23673418278323008,
          0.23673418278323008,
          -0.004612549302906007,
          -0.004612549302906007,
          -0.03539452419110506,
          -0.03539452419110506,
          0.162743257355387,
          0.162743257355387,
          -0.19074267458715266,
          -0.19074267458715266,
          0.1297020690469093
         ],
         "yaxis": "y"
        }
       ],
       "layout": {
        "legend": {
         "tracegroupgap": 0
        },
        "template": {
         "data": {
          "bar": [
           {
            "error_x": {
             "color": "#2a3f5f"
            },
            "error_y": {
             "color": "#2a3f5f"
            },
            "marker": {
             "line": {
              "color": "#E5ECF6",
              "width": 0.5
             },
             "pattern": {
              "fillmode": "overlay",
              "size": 10,
              "solidity": 0.2
             }
            },
            "type": "bar"
           }
          ],
          "barpolar": [
           {
            "marker": {
             "line": {
              "color": "#E5ECF6",
              "width": 0.5
             },
             "pattern": {
              "fillmode": "overlay",
              "size": 10,
              "solidity": 0.2
             }
            },
            "type": "barpolar"
           }
          ],
          "carpet": [
           {
            "aaxis": {
             "endlinecolor": "#2a3f5f",
             "gridcolor": "white",
             "linecolor": "white",
             "minorgridcolor": "white",
             "startlinecolor": "#2a3f5f"
            },
            "baxis": {
             "endlinecolor": "#2a3f5f",
             "gridcolor": "white",
             "linecolor": "white",
             "minorgridcolor": "white",
             "startlinecolor": "#2a3f5f"
            },
            "type": "carpet"
           }
          ],
          "choropleth": [
           {
            "colorbar": {
             "outlinewidth": 0,
             "ticks": ""
            },
            "type": "choropleth"
           }
          ],
          "contour": [
           {
            "colorbar": {
             "outlinewidth": 0,
             "ticks": ""
            },
            "colorscale": [
             [
              0,
              "#0d0887"
             ],
             [
              0.1111111111111111,
              "#46039f"
             ],
             [
              0.2222222222222222,
              "#7201a8"
             ],
             [
              0.3333333333333333,
              "#9c179e"
             ],
             [
              0.4444444444444444,
              "#bd3786"
             ],
             [
              0.5555555555555556,
              "#d8576b"
             ],
             [
              0.6666666666666666,
              "#ed7953"
             ],
             [
              0.7777777777777778,
              "#fb9f3a"
             ],
             [
              0.8888888888888888,
              "#fdca26"
             ],
             [
              1,
              "#f0f921"
             ]
            ],
            "type": "contour"
           }
          ],
          "contourcarpet": [
           {
            "colorbar": {
             "outlinewidth": 0,
             "ticks": ""
            },
            "type": "contourcarpet"
           }
          ],
          "heatmap": [
           {
            "colorbar": {
             "outlinewidth": 0,
             "ticks": ""
            },
            "colorscale": [
             [
              0,
              "#0d0887"
             ],
             [
              0.1111111111111111,
              "#46039f"
             ],
             [
              0.2222222222222222,
              "#7201a8"
             ],
             [
              0.3333333333333333,
              "#9c179e"
             ],
             [
              0.4444444444444444,
              "#bd3786"
             ],
             [
              0.5555555555555556,
              "#d8576b"
             ],
             [
              0.6666666666666666,
              "#ed7953"
             ],
             [
              0.7777777777777778,
              "#fb9f3a"
             ],
             [
              0.8888888888888888,
              "#fdca26"
             ],
             [
              1,
              "#f0f921"
             ]
            ],
            "type": "heatmap"
           }
          ],
          "heatmapgl": [
           {
            "colorbar": {
             "outlinewidth": 0,
             "ticks": ""
            },
            "colorscale": [
             [
              0,
              "#0d0887"
             ],
             [
              0.1111111111111111,
              "#46039f"
             ],
             [
              0.2222222222222222,
              "#7201a8"
             ],
             [
              0.3333333333333333,
              "#9c179e"
             ],
             [
              0.4444444444444444,
              "#bd3786"
             ],
             [
              0.5555555555555556,
              "#d8576b"
             ],
             [
              0.6666666666666666,
              "#ed7953"
             ],
             [
              0.7777777777777778,
              "#fb9f3a"
             ],
             [
              0.8888888888888888,
              "#fdca26"
             ],
             [
              1,
              "#f0f921"
             ]
            ],
            "type": "heatmapgl"
           }
          ],
          "histogram": [
           {
            "marker": {
             "pattern": {
              "fillmode": "overlay",
              "size": 10,
              "solidity": 0.2
             }
            },
            "type": "histogram"
           }
          ],
          "histogram2d": [
           {
            "colorbar": {
             "outlinewidth": 0,
             "ticks": ""
            },
            "colorscale": [
             [
              0,
              "#0d0887"
             ],
             [
              0.1111111111111111,
              "#46039f"
             ],
             [
              0.2222222222222222,
              "#7201a8"
             ],
             [
              0.3333333333333333,
              "#9c179e"
             ],
             [
              0.4444444444444444,
              "#bd3786"
             ],
             [
              0.5555555555555556,
              "#d8576b"
             ],
             [
              0.6666666666666666,
              "#ed7953"
             ],
             [
              0.7777777777777778,
              "#fb9f3a"
             ],
             [
              0.8888888888888888,
              "#fdca26"
             ],
             [
              1,
              "#f0f921"
             ]
            ],
            "type": "histogram2d"
           }
          ],
          "histogram2dcontour": [
           {
            "colorbar": {
             "outlinewidth": 0,
             "ticks": ""
            },
            "colorscale": [
             [
              0,
              "#0d0887"
             ],
             [
              0.1111111111111111,
              "#46039f"
             ],
             [
              0.2222222222222222,
              "#7201a8"
             ],
             [
              0.3333333333333333,
              "#9c179e"
             ],
             [
              0.4444444444444444,
              "#bd3786"
             ],
             [
              0.5555555555555556,
              "#d8576b"
             ],
             [
              0.6666666666666666,
              "#ed7953"
             ],
             [
              0.7777777777777778,
              "#fb9f3a"
             ],
             [
              0.8888888888888888,
              "#fdca26"
             ],
             [
              1,
              "#f0f921"
             ]
            ],
            "type": "histogram2dcontour"
           }
          ],
          "mesh3d": [
           {
            "colorbar": {
             "outlinewidth": 0,
             "ticks": ""
            },
            "type": "mesh3d"
           }
          ],
          "parcoords": [
           {
            "line": {
             "colorbar": {
              "outlinewidth": 0,
              "ticks": ""
             }
            },
            "type": "parcoords"
           }
          ],
          "pie": [
           {
            "automargin": true,
            "type": "pie"
           }
          ],
          "scatter": [
           {
            "marker": {
             "colorbar": {
              "outlinewidth": 0,
              "ticks": ""
             }
            },
            "type": "scatter"
           }
          ],
          "scatter3d": [
           {
            "line": {
             "colorbar": {
              "outlinewidth": 0,
              "ticks": ""
             }
            },
            "marker": {
             "colorbar": {
              "outlinewidth": 0,
              "ticks": ""
             }
            },
            "type": "scatter3d"
           }
          ],
          "scattercarpet": [
           {
            "marker": {
             "colorbar": {
              "outlinewidth": 0,
              "ticks": ""
             }
            },
            "type": "scattercarpet"
           }
          ],
          "scattergeo": [
           {
            "marker": {
             "colorbar": {
              "outlinewidth": 0,
              "ticks": ""
             }
            },
            "type": "scattergeo"
           }
          ],
          "scattergl": [
           {
            "marker": {
             "colorbar": {
              "outlinewidth": 0,
              "ticks": ""
             }
            },
            "type": "scattergl"
           }
          ],
          "scattermapbox": [
           {
            "marker": {
             "colorbar": {
              "outlinewidth": 0,
              "ticks": ""
             }
            },
            "type": "scattermapbox"
           }
          ],
          "scatterpolar": [
           {
            "marker": {
             "colorbar": {
              "outlinewidth": 0,
              "ticks": ""
             }
            },
            "type": "scatterpolar"
           }
          ],
          "scatterpolargl": [
           {
            "marker": {
             "colorbar": {
              "outlinewidth": 0,
              "ticks": ""
             }
            },
            "type": "scatterpolargl"
           }
          ],
          "scatterternary": [
           {
            "marker": {
             "colorbar": {
              "outlinewidth": 0,
              "ticks": ""
             }
            },
            "type": "scatterternary"
           }
          ],
          "surface": [
           {
            "colorbar": {
             "outlinewidth": 0,
             "ticks": ""
            },
            "colorscale": [
             [
              0,
              "#0d0887"
             ],
             [
              0.1111111111111111,
              "#46039f"
             ],
             [
              0.2222222222222222,
              "#7201a8"
             ],
             [
              0.3333333333333333,
              "#9c179e"
             ],
             [
              0.4444444444444444,
              "#bd3786"
             ],
             [
              0.5555555555555556,
              "#d8576b"
             ],
             [
              0.6666666666666666,
              "#ed7953"
             ],
             [
              0.7777777777777778,
              "#fb9f3a"
             ],
             [
              0.8888888888888888,
              "#fdca26"
             ],
             [
              1,
              "#f0f921"
             ]
            ],
            "type": "surface"
           }
          ],
          "table": [
           {
            "cells": {
             "fill": {
              "color": "#EBF0F8"
             },
             "line": {
              "color": "white"
             }
            },
            "header": {
             "fill": {
              "color": "#C8D4E3"
             },
             "line": {
              "color": "white"
             }
            },
            "type": "table"
           }
          ]
         },
         "layout": {
          "annotationdefaults": {
           "arrowcolor": "#2a3f5f",
           "arrowhead": 0,
           "arrowwidth": 1
          },
          "autotypenumbers": "strict",
          "coloraxis": {
           "colorbar": {
            "outlinewidth": 0,
            "ticks": ""
           }
          },
          "colorscale": {
           "diverging": [
            [
             0,
             "#8e0152"
            ],
            [
             0.1,
             "#c51b7d"
            ],
            [
             0.2,
             "#de77ae"
            ],
            [
             0.3,
             "#f1b6da"
            ],
            [
             0.4,
             "#fde0ef"
            ],
            [
             0.5,
             "#f7f7f7"
            ],
            [
             0.6,
             "#e6f5d0"
            ],
            [
             0.7,
             "#b8e186"
            ],
            [
             0.8,
             "#7fbc41"
            ],
            [
             0.9,
             "#4d9221"
            ],
            [
             1,
             "#276419"
            ]
           ],
           "sequential": [
            [
             0,
             "#0d0887"
            ],
            [
             0.1111111111111111,
             "#46039f"
            ],
            [
             0.2222222222222222,
             "#7201a8"
            ],
            [
             0.3333333333333333,
             "#9c179e"
            ],
            [
             0.4444444444444444,
             "#bd3786"
            ],
            [
             0.5555555555555556,
             "#d8576b"
            ],
            [
             0.6666666666666666,
             "#ed7953"
            ],
            [
             0.7777777777777778,
             "#fb9f3a"
            ],
            [
             0.8888888888888888,
             "#fdca26"
            ],
            [
             1,
             "#f0f921"
            ]
           ],
           "sequentialminus": [
            [
             0,
             "#0d0887"
            ],
            [
             0.1111111111111111,
             "#46039f"
            ],
            [
             0.2222222222222222,
             "#7201a8"
            ],
            [
             0.3333333333333333,
             "#9c179e"
            ],
            [
             0.4444444444444444,
             "#bd3786"
            ],
            [
             0.5555555555555556,
             "#d8576b"
            ],
            [
             0.6666666666666666,
             "#ed7953"
            ],
            [
             0.7777777777777778,
             "#fb9f3a"
            ],
            [
             0.8888888888888888,
             "#fdca26"
            ],
            [
             1,
             "#f0f921"
            ]
           ]
          },
          "colorway": [
           "#636efa",
           "#EF553B",
           "#00cc96",
           "#ab63fa",
           "#FFA15A",
           "#19d3f3",
           "#FF6692",
           "#B6E880",
           "#FF97FF",
           "#FECB52"
          ],
          "font": {
           "color": "#2a3f5f"
          },
          "geo": {
           "bgcolor": "white",
           "lakecolor": "white",
           "landcolor": "#E5ECF6",
           "showlakes": true,
           "showland": true,
           "subunitcolor": "white"
          },
          "hoverlabel": {
           "align": "left"
          },
          "hovermode": "closest",
          "mapbox": {
           "style": "light"
          },
          "paper_bgcolor": "white",
          "plot_bgcolor": "#E5ECF6",
          "polar": {
           "angularaxis": {
            "gridcolor": "white",
            "linecolor": "white",
            "ticks": ""
           },
           "bgcolor": "#E5ECF6",
           "radialaxis": {
            "gridcolor": "white",
            "linecolor": "white",
            "ticks": ""
           }
          },
          "scene": {
           "xaxis": {
            "backgroundcolor": "#E5ECF6",
            "gridcolor": "white",
            "gridwidth": 2,
            "linecolor": "white",
            "showbackground": true,
            "ticks": "",
            "zerolinecolor": "white"
           },
           "yaxis": {
            "backgroundcolor": "#E5ECF6",
            "gridcolor": "white",
            "gridwidth": 2,
            "linecolor": "white",
            "showbackground": true,
            "ticks": "",
            "zerolinecolor": "white"
           },
           "zaxis": {
            "backgroundcolor": "#E5ECF6",
            "gridcolor": "white",
            "gridwidth": 2,
            "linecolor": "white",
            "showbackground": true,
            "ticks": "",
            "zerolinecolor": "white"
           }
          },
          "shapedefaults": {
           "line": {
            "color": "#2a3f5f"
           }
          },
          "ternary": {
           "aaxis": {
            "gridcolor": "white",
            "linecolor": "white",
            "ticks": ""
           },
           "baxis": {
            "gridcolor": "white",
            "linecolor": "white",
            "ticks": ""
           },
           "bgcolor": "#E5ECF6",
           "caxis": {
            "gridcolor": "white",
            "linecolor": "white",
            "ticks": ""
           }
          },
          "title": {
           "x": 0.05
          },
          "xaxis": {
           "automargin": true,
           "gridcolor": "white",
           "linecolor": "white",
           "ticks": "",
           "title": {
            "standoff": 15
           },
           "zerolinecolor": "white",
           "zerolinewidth": 2
          },
          "yaxis": {
           "automargin": true,
           "gridcolor": "white",
           "linecolor": "white",
           "ticks": "",
           "title": {
            "standoff": 15
           },
           "zerolinecolor": "white",
           "zerolinewidth": 2
          }
         }
        },
        "title": {
         "text": "Linearity error"
        },
        "xaxis": {
         "anchor": "y",
         "domain": [
          0,
          1
         ],
         "title": {
          "text": "exp_us"
         }
        },
        "yaxis": {
         "anchor": "x",
         "domain": [
          0,
          1
         ],
         "title": {
          "text": "Linearity Error [%]"
         }
        }
       }
      },
      "text/html": [
       "<div>                            <div id=\"6b561649-f06b-43c2-b018-c3f7aca601b1\" class=\"plotly-graph-div\" style=\"height:525px; width:100%;\"></div>            <script type=\"text/javascript\">                require([\"plotly\"], function(Plotly) {                    window.PLOTLYENV=window.PLOTLYENV || {};                                    if (document.getElementById(\"6b561649-f06b-43c2-b018-c3f7aca601b1\")) {                    Plotly.newPlot(                        \"6b561649-f06b-43c2-b018-c3f7aca601b1\",                        [{\"hovertemplate\":\"exp_us=%{x}<br>Linearity Error [%]=%{y}<extra></extra>\",\"legendgroup\":\"\",\"line\":{\"color\":\"#636efa\",\"dash\":\"solid\"},\"marker\":{\"symbol\":\"circle\"},\"mode\":\"lines\",\"name\":\"\",\"orientation\":\"v\",\"showlegend\":false,\"x\":[100,100,120,120,140,140,160,160,180,180,200,200,220,220,240,240,260,260,280,280,300],\"xaxis\":\"x\",\"y\":[0.17907352912048843,0.17907352912048843,-0.020889638060431384,-0.020889638060431384,-0.2934192555419635,-0.2934192555419635,-0.005288181114122905,-0.005288181114122905,-0.15232631694837595,-0.15232631694837595,0.23673418278323008,0.23673418278323008,-0.004612549302906007,-0.004612549302906007,-0.03539452419110506,-0.03539452419110506,0.162743257355387,0.162743257355387,-0.19074267458715266,-0.19074267458715266,0.1297020690469093],\"yaxis\":\"y\",\"type\":\"scatter\"}],                        {\"template\":{\"data\":{\"bar\":[{\"error_x\":{\"color\":\"#2a3f5f\"},\"error_y\":{\"color\":\"#2a3f5f\"},\"marker\":{\"line\":{\"color\":\"#E5ECF6\",\"width\":0.5},\"pattern\":{\"fillmode\":\"overlay\",\"size\":10,\"solidity\":0.2}},\"type\":\"bar\"}],\"barpolar\":[{\"marker\":{\"line\":{\"color\":\"#E5ECF6\",\"width\":0.5},\"pattern\":{\"fillmode\":\"overlay\",\"size\":10,\"solidity\":0.2}},\"type\":\"barpolar\"}],\"carpet\":[{\"aaxis\":{\"endlinecolor\":\"#2a3f5f\",\"gridcolor\":\"white\",\"linecolor\":\"white\",\"minorgridcolor\":\"white\",\"startlinecolor\":\"#2a3f5f\"},\"baxis\":{\"endlinecolor\":\"#2a3f5f\",\"gridcolor\":\"white\",\"linecolor\":\"white\",\"minorgridcolor\":\"white\",\"startlinecolor\":\"#2a3f5f\"},\"type\":\"carpet\"}],\"choropleth\":[{\"colorbar\":{\"outlinewidth\":0,\"ticks\":\"\"},\"type\":\"choropleth\"}],\"contour\":[{\"colorbar\":{\"outlinewidth\":0,\"ticks\":\"\"},\"colorscale\":[[0.0,\"#0d0887\"],[0.1111111111111111,\"#46039f\"],[0.2222222222222222,\"#7201a8\"],[0.3333333333333333,\"#9c179e\"],[0.4444444444444444,\"#bd3786\"],[0.5555555555555556,\"#d8576b\"],[0.6666666666666666,\"#ed7953\"],[0.7777777777777778,\"#fb9f3a\"],[0.8888888888888888,\"#fdca26\"],[1.0,\"#f0f921\"]],\"type\":\"contour\"}],\"contourcarpet\":[{\"colorbar\":{\"outlinewidth\":0,\"ticks\":\"\"},\"type\":\"contourcarpet\"}],\"heatmap\":[{\"colorbar\":{\"outlinewidth\":0,\"ticks\":\"\"},\"colorscale\":[[0.0,\"#0d0887\"],[0.1111111111111111,\"#46039f\"],[0.2222222222222222,\"#7201a8\"],[0.3333333333333333,\"#9c179e\"],[0.4444444444444444,\"#bd3786\"],[0.5555555555555556,\"#d8576b\"],[0.6666666666666666,\"#ed7953\"],[0.7777777777777778,\"#fb9f3a\"],[0.8888888888888888,\"#fdca26\"],[1.0,\"#f0f921\"]],\"type\":\"heatmap\"}],\"heatmapgl\":[{\"colorbar\":{\"outlinewidth\":0,\"ticks\":\"\"},\"colorscale\":[[0.0,\"#0d0887\"],[0.1111111111111111,\"#46039f\"],[0.2222222222222222,\"#7201a8\"],[0.3333333333333333,\"#9c179e\"],[0.4444444444444444,\"#bd3786\"],[0.5555555555555556,\"#d8576b\"],[0.6666666666666666,\"#ed7953\"],[0.7777777777777778,\"#fb9f3a\"],[0.8888888888888888,\"#fdca26\"],[1.0,\"#f0f921\"]],\"type\":\"heatmapgl\"}],\"histogram\":[{\"marker\":{\"pattern\":{\"fillmode\":\"overlay\",\"size\":10,\"solidity\":0.2}},\"type\":\"histogram\"}],\"histogram2d\":[{\"colorbar\":{\"outlinewidth\":0,\"ticks\":\"\"},\"colorscale\":[[0.0,\"#0d0887\"],[0.1111111111111111,\"#46039f\"],[0.2222222222222222,\"#7201a8\"],[0.3333333333333333,\"#9c179e\"],[0.4444444444444444,\"#bd3786\"],[0.5555555555555556,\"#d8576b\"],[0.6666666666666666,\"#ed7953\"],[0.7777777777777778,\"#fb9f3a\"],[0.8888888888888888,\"#fdca26\"],[1.0,\"#f0f921\"]],\"type\":\"histogram2d\"}],\"histogram2dcontour\":[{\"colorbar\":{\"outlinewidth\":0,\"ticks\":\"\"},\"colorscale\":[[0.0,\"#0d0887\"],[0.1111111111111111,\"#46039f\"],[0.2222222222222222,\"#7201a8\"],[0.3333333333333333,\"#9c179e\"],[0.4444444444444444,\"#bd3786\"],[0.5555555555555556,\"#d8576b\"],[0.6666666666666666,\"#ed7953\"],[0.7777777777777778,\"#fb9f3a\"],[0.8888888888888888,\"#fdca26\"],[1.0,\"#f0f921\"]],\"type\":\"histogram2dcontour\"}],\"mesh3d\":[{\"colorbar\":{\"outlinewidth\":0,\"ticks\":\"\"},\"type\":\"mesh3d\"}],\"parcoords\":[{\"line\":{\"colorbar\":{\"outlinewidth\":0,\"ticks\":\"\"}},\"type\":\"parcoords\"}],\"pie\":[{\"automargin\":true,\"type\":\"pie\"}],\"scatter\":[{\"marker\":{\"colorbar\":{\"outlinewidth\":0,\"ticks\":\"\"}},\"type\":\"scatter\"}],\"scatter3d\":[{\"line\":{\"colorbar\":{\"outlinewidth\":0,\"ticks\":\"\"}},\"marker\":{\"colorbar\":{\"outlinewidth\":0,\"ticks\":\"\"}},\"type\":\"scatter3d\"}],\"scattercarpet\":[{\"marker\":{\"colorbar\":{\"outlinewidth\":0,\"ticks\":\"\"}},\"type\":\"scattercarpet\"}],\"scattergeo\":[{\"marker\":{\"colorbar\":{\"outlinewidth\":0,\"ticks\":\"\"}},\"type\":\"scattergeo\"}],\"scattergl\":[{\"marker\":{\"colorbar\":{\"outlinewidth\":0,\"ticks\":\"\"}},\"type\":\"scattergl\"}],\"scattermapbox\":[{\"marker\":{\"colorbar\":{\"outlinewidth\":0,\"ticks\":\"\"}},\"type\":\"scattermapbox\"}],\"scatterpolar\":[{\"marker\":{\"colorbar\":{\"outlinewidth\":0,\"ticks\":\"\"}},\"type\":\"scatterpolar\"}],\"scatterpolargl\":[{\"marker\":{\"colorbar\":{\"outlinewidth\":0,\"ticks\":\"\"}},\"type\":\"scatterpolargl\"}],\"scatterternary\":[{\"marker\":{\"colorbar\":{\"outlinewidth\":0,\"ticks\":\"\"}},\"type\":\"scatterternary\"}],\"surface\":[{\"colorbar\":{\"outlinewidth\":0,\"ticks\":\"\"},\"colorscale\":[[0.0,\"#0d0887\"],[0.1111111111111111,\"#46039f\"],[0.2222222222222222,\"#7201a8\"],[0.3333333333333333,\"#9c179e\"],[0.4444444444444444,\"#bd3786\"],[0.5555555555555556,\"#d8576b\"],[0.6666666666666666,\"#ed7953\"],[0.7777777777777778,\"#fb9f3a\"],[0.8888888888888888,\"#fdca26\"],[1.0,\"#f0f921\"]],\"type\":\"surface\"}],\"table\":[{\"cells\":{\"fill\":{\"color\":\"#EBF0F8\"},\"line\":{\"color\":\"white\"}},\"header\":{\"fill\":{\"color\":\"#C8D4E3\"},\"line\":{\"color\":\"white\"}},\"type\":\"table\"}]},\"layout\":{\"annotationdefaults\":{\"arrowcolor\":\"#2a3f5f\",\"arrowhead\":0,\"arrowwidth\":1},\"autotypenumbers\":\"strict\",\"coloraxis\":{\"colorbar\":{\"outlinewidth\":0,\"ticks\":\"\"}},\"colorscale\":{\"diverging\":[[0,\"#8e0152\"],[0.1,\"#c51b7d\"],[0.2,\"#de77ae\"],[0.3,\"#f1b6da\"],[0.4,\"#fde0ef\"],[0.5,\"#f7f7f7\"],[0.6,\"#e6f5d0\"],[0.7,\"#b8e186\"],[0.8,\"#7fbc41\"],[0.9,\"#4d9221\"],[1,\"#276419\"]],\"sequential\":[[0.0,\"#0d0887\"],[0.1111111111111111,\"#46039f\"],[0.2222222222222222,\"#7201a8\"],[0.3333333333333333,\"#9c179e\"],[0.4444444444444444,\"#bd3786\"],[0.5555555555555556,\"#d8576b\"],[0.6666666666666666,\"#ed7953\"],[0.7777777777777778,\"#fb9f3a\"],[0.8888888888888888,\"#fdca26\"],[1.0,\"#f0f921\"]],\"sequentialminus\":[[0.0,\"#0d0887\"],[0.1111111111111111,\"#46039f\"],[0.2222222222222222,\"#7201a8\"],[0.3333333333333333,\"#9c179e\"],[0.4444444444444444,\"#bd3786\"],[0.5555555555555556,\"#d8576b\"],[0.6666666666666666,\"#ed7953\"],[0.7777777777777778,\"#fb9f3a\"],[0.8888888888888888,\"#fdca26\"],[1.0,\"#f0f921\"]]},\"colorway\":[\"#636efa\",\"#EF553B\",\"#00cc96\",\"#ab63fa\",\"#FFA15A\",\"#19d3f3\",\"#FF6692\",\"#B6E880\",\"#FF97FF\",\"#FECB52\"],\"font\":{\"color\":\"#2a3f5f\"},\"geo\":{\"bgcolor\":\"white\",\"lakecolor\":\"white\",\"landcolor\":\"#E5ECF6\",\"showlakes\":true,\"showland\":true,\"subunitcolor\":\"white\"},\"hoverlabel\":{\"align\":\"left\"},\"hovermode\":\"closest\",\"mapbox\":{\"style\":\"light\"},\"paper_bgcolor\":\"white\",\"plot_bgcolor\":\"#E5ECF6\",\"polar\":{\"angularaxis\":{\"gridcolor\":\"white\",\"linecolor\":\"white\",\"ticks\":\"\"},\"bgcolor\":\"#E5ECF6\",\"radialaxis\":{\"gridcolor\":\"white\",\"linecolor\":\"white\",\"ticks\":\"\"}},\"scene\":{\"xaxis\":{\"backgroundcolor\":\"#E5ECF6\",\"gridcolor\":\"white\",\"gridwidth\":2,\"linecolor\":\"white\",\"showbackground\":true,\"ticks\":\"\",\"zerolinecolor\":\"white\"},\"yaxis\":{\"backgroundcolor\":\"#E5ECF6\",\"gridcolor\":\"white\",\"gridwidth\":2,\"linecolor\":\"white\",\"showbackground\":true,\"ticks\":\"\",\"zerolinecolor\":\"white\"},\"zaxis\":{\"backgroundcolor\":\"#E5ECF6\",\"gridcolor\":\"white\",\"gridwidth\":2,\"linecolor\":\"white\",\"showbackground\":true,\"ticks\":\"\",\"zerolinecolor\":\"white\"}},\"shapedefaults\":{\"line\":{\"color\":\"#2a3f5f\"}},\"ternary\":{\"aaxis\":{\"gridcolor\":\"white\",\"linecolor\":\"white\",\"ticks\":\"\"},\"baxis\":{\"gridcolor\":\"white\",\"linecolor\":\"white\",\"ticks\":\"\"},\"bgcolor\":\"#E5ECF6\",\"caxis\":{\"gridcolor\":\"white\",\"linecolor\":\"white\",\"ticks\":\"\"}},\"title\":{\"x\":0.05},\"xaxis\":{\"automargin\":true,\"gridcolor\":\"white\",\"linecolor\":\"white\",\"ticks\":\"\",\"title\":{\"standoff\":15},\"zerolinecolor\":\"white\",\"zerolinewidth\":2},\"yaxis\":{\"automargin\":true,\"gridcolor\":\"white\",\"linecolor\":\"white\",\"ticks\":\"\",\"title\":{\"standoff\":15},\"zerolinecolor\":\"white\",\"zerolinewidth\":2}}},\"xaxis\":{\"anchor\":\"y\",\"domain\":[0.0,1.0],\"title\":{\"text\":\"exp_us\"}},\"yaxis\":{\"anchor\":\"x\",\"domain\":[0.0,1.0],\"title\":{\"text\":\"Linearity Error [%]\"}},\"legend\":{\"tracegroupgap\":0},\"title\":{\"text\":\"Linearity error\"}},                        {\"responsive\": true}                    ).then(function(){\n",
       "                            \n",
       "var gd = document.getElementById('6b561649-f06b-43c2-b018-c3f7aca601b1');\n",
       "var x = new MutationObserver(function (mutations, observer) {{\n",
       "        var display = window.getComputedStyle(gd).display;\n",
       "        if (!display || display === 'none') {{\n",
       "            console.log([gd, 'removed!']);\n",
       "            Plotly.purge(gd);\n",
       "            observer.disconnect();\n",
       "        }}\n",
       "}});\n",
       "\n",
       "// Listen for the removal of the full notebook cells\n",
       "var notebookContainer = gd.closest('#notebook-container');\n",
       "if (notebookContainer) {{\n",
       "    x.observe(notebookContainer, {childList: true});\n",
       "}}\n",
       "\n",
       "// Listen for the clearing of the current output cell\n",
       "var outputEl = gd.closest('.output');\n",
       "if (outputEl) {{\n",
       "    x.observe(outputEl, {childList: true});\n",
       "}}\n",
       "\n",
       "                        })                };                });            </script>        </div>"
      ]
     },
     "metadata": {},
     "output_type": "display_data"
    }
   ],
   "source": [
    "fig = px.line(data.iloc[1: 22, :], x='exp_us', y='Linearity Error [%]', \n",
    "              title='Linearity error')\n",
    "fig.show()"
   ]
  },
  {
   "cell_type": "code",
   "execution_count": null,
   "id": "74e06b7f",
   "metadata": {},
   "outputs": [],
   "source": [
    "fig = px.line(data.iloc[1: , :], x='exp_us', y=['Signal - Dark [DN]', \n",
    "                                                            'Linearity Fit [DN]', \n",
    "                                                            'Responsivity Fit [DN]'], \n",
    "              title='Response curve')\n",
    "fig.update_xaxes(rangemode=\"nonnegative\")\n",
    "fig.update_yaxes(rangemode=\"nonnegative\")\n",
    "fig.show()"
   ]
  },
  {
   "cell_type": "code",
   "execution_count": 17,
   "id": "f2eef056",
   "metadata": {},
   "outputs": [
    {
     "name": "stderr",
     "output_type": "stream",
     "text": [
      "c:\\teamforge\\characterization\\trunk\\characterization_ams\\stats_engine\\stats.py:86: RuntimeWarning: invalid value encountered in double_scalars\n",
      "  var_noise['col_var']**0.5)\n",
      "c:\\teamforge\\characterization\\trunk\\characterization_ams\\stats_engine\\stats.py:89: RuntimeWarning: invalid value encountered in double_scalars\n",
      "  var_noise['col_var_temp']**0.5\n",
      "c:\\teamforge\\characterization\\trunk\\characterization_ams\\stats_engine\\stats.py:92: RuntimeWarning: invalid value encountered in double_scalars\n",
      "  var_noise['row_var']**0.5\n",
      "c:\\teamforge\\characterization\\trunk\\characterization_ams\\stats_engine\\stats.py:95: RuntimeWarning: invalid value encountered in double_scalars\n",
      "  var_noise['col_var_temp']**0.5\n",
      "c:\\teamforge\\characterization\\trunk\\characterization_ams\\stats_engine\\stats.py:108: RuntimeWarning: invalid value encountered in double_scalars\n",
      "  var_noise['mean'] * 100\n",
      "c:\\teamforge\\characterization\\trunk\\characterization_ams\\stats_engine\\stats.py:111: RuntimeWarning: invalid value encountered in double_scalars\n",
      "  var_noise['mean'] * 100\n",
      "c:\\teamforge\\characterization\\trunk\\characterization_ams\\stats_engine\\stats.py:98: RuntimeWarning: invalid value encountered in double_scalars\n",
      "  var_noise['tot_var_temp']**0.5\n"
     ]
    }
   ],
   "source": [
    "stats_df = ptc.get_stats(images=ptclist,\n",
    "df=df_both)"
   ]
  },
  {
   "cell_type": "code",
   "execution_count": 19,
   "id": "75ed611b",
   "metadata": {},
   "outputs": [
    {
     "data": {
      "text/html": [
       "<div>\n",
       "<style scoped>\n",
       "    .dataframe tbody tr th:only-of-type {\n",
       "        vertical-align: middle;\n",
       "    }\n",
       "\n",
       "    .dataframe tbody tr th {\n",
       "        vertical-align: top;\n",
       "    }\n",
       "\n",
       "    .dataframe thead th {\n",
       "        text-align: right;\n",
       "    }\n",
       "</style>\n",
       "<table border=\"1\" class=\"dataframe\">\n",
       "  <thead>\n",
       "    <tr style=\"text-align: right;\">\n",
       "      <th></th>\n",
       "      <th>Tot Var [DN^2]</th>\n",
       "      <th>Col Var [DN^2]</th>\n",
       "      <th>Row Var [DN^2]</th>\n",
       "      <th>Pix Var [DN^2]</th>\n",
       "      <th>Tot Temp Var [DN^2]</th>\n",
       "      <th>Col Temp Var [DN^2]</th>\n",
       "      <th>Row Temp Var [DN^2]</th>\n",
       "      <th>Pix Temp Var [DN^2]</th>\n",
       "      <th>Mean Signal [DN]</th>\n",
       "      <th>CFPN Ratio</th>\n",
       "      <th>...</th>\n",
       "      <th>amount</th>\n",
       "      <th>Tot Var - Tot Dark Var [DN^2]</th>\n",
       "      <th>Col Var - Col Dark Var [DN^2]</th>\n",
       "      <th>Row Var - Row Dark Var [DN^2]</th>\n",
       "      <th>Pix Var - Pix Dark Var [DN^2]</th>\n",
       "      <th>Tot Temp Var - Tot Dark Temp Var [DN^2]</th>\n",
       "      <th>Col Temp Var - Col Dark Temp Var [DN^2]</th>\n",
       "      <th>Row Temp Var - Row Dark Temp Var [DN^2]</th>\n",
       "      <th>Pix Temp Var - Pix Dark Temp Var [DN^2]</th>\n",
       "      <th>Signal - Dark [DN]</th>\n",
       "    </tr>\n",
       "  </thead>\n",
       "  <tbody>\n",
       "    <tr>\n",
       "      <th>0</th>\n",
       "      <td>38.400472</td>\n",
       "      <td>5.285434</td>\n",
       "      <td>3.910309</td>\n",
       "      <td>29.253546</td>\n",
       "      <td>119.107657</td>\n",
       "      <td>2.807358</td>\n",
       "      <td>43.385939</td>\n",
       "      <td>73.036240</td>\n",
       "      <td>82.211484</td>\n",
       "      <td>4.747112</td>\n",
       "      <td>...</td>\n",
       "      <td>15</td>\n",
       "      <td>0.000000</td>\n",
       "      <td>0.000000</td>\n",
       "      <td>0.000000</td>\n",
       "      <td>0.000000</td>\n",
       "      <td>0.000000</td>\n",
       "      <td>0.000000</td>\n",
       "      <td>0.000000</td>\n",
       "      <td>0.000000</td>\n",
       "      <td>0.000000</td>\n",
       "    </tr>\n",
       "    <tr>\n",
       "      <th>1</th>\n",
       "      <td>188.508662</td>\n",
       "      <td>12.606995</td>\n",
       "      <td>14.882967</td>\n",
       "      <td>161.287850</td>\n",
       "      <td>605.799526</td>\n",
       "      <td>2.415980</td>\n",
       "      <td>47.770427</td>\n",
       "      <td>556.541850</td>\n",
       "      <td>345.413494</td>\n",
       "      <td>6.932002</td>\n",
       "      <td>...</td>\n",
       "      <td>5</td>\n",
       "      <td>150.108190</td>\n",
       "      <td>7.321561</td>\n",
       "      <td>10.972658</td>\n",
       "      <td>132.034304</td>\n",
       "      <td>486.691869</td>\n",
       "      <td>-0.391378</td>\n",
       "      <td>4.384488</td>\n",
       "      <td>483.505610</td>\n",
       "      <td>263.202010</td>\n",
       "    </tr>\n",
       "    <tr>\n",
       "      <th>2</th>\n",
       "      <td>188.508662</td>\n",
       "      <td>12.606995</td>\n",
       "      <td>14.882967</td>\n",
       "      <td>161.287850</td>\n",
       "      <td>605.799526</td>\n",
       "      <td>2.415980</td>\n",
       "      <td>47.770427</td>\n",
       "      <td>556.541850</td>\n",
       "      <td>345.413494</td>\n",
       "      <td>6.932002</td>\n",
       "      <td>...</td>\n",
       "      <td>5</td>\n",
       "      <td>150.108190</td>\n",
       "      <td>7.321561</td>\n",
       "      <td>10.972658</td>\n",
       "      <td>132.034304</td>\n",
       "      <td>486.691869</td>\n",
       "      <td>-0.391378</td>\n",
       "      <td>4.384488</td>\n",
       "      <td>483.505610</td>\n",
       "      <td>263.202010</td>\n",
       "    </tr>\n",
       "    <tr>\n",
       "      <th>3</th>\n",
       "      <td>222.880363</td>\n",
       "      <td>17.834952</td>\n",
       "      <td>18.620155</td>\n",
       "      <td>186.736874</td>\n",
       "      <td>708.802230</td>\n",
       "      <td>2.210537</td>\n",
       "      <td>52.912058</td>\n",
       "      <td>654.772288</td>\n",
       "      <td>397.261868</td>\n",
       "      <td>6.304150</td>\n",
       "      <td>...</td>\n",
       "      <td>5</td>\n",
       "      <td>184.479891</td>\n",
       "      <td>12.549518</td>\n",
       "      <td>14.709846</td>\n",
       "      <td>157.483328</td>\n",
       "      <td>589.694572</td>\n",
       "      <td>-0.596821</td>\n",
       "      <td>9.526119</td>\n",
       "      <td>581.736048</td>\n",
       "      <td>315.050384</td>\n",
       "    </tr>\n",
       "    <tr>\n",
       "      <th>4</th>\n",
       "      <td>222.880363</td>\n",
       "      <td>17.834952</td>\n",
       "      <td>18.620155</td>\n",
       "      <td>186.736874</td>\n",
       "      <td>708.802230</td>\n",
       "      <td>2.210537</td>\n",
       "      <td>52.912058</td>\n",
       "      <td>654.772288</td>\n",
       "      <td>397.261868</td>\n",
       "      <td>6.304150</td>\n",
       "      <td>...</td>\n",
       "      <td>5</td>\n",
       "      <td>184.479891</td>\n",
       "      <td>12.549518</td>\n",
       "      <td>14.709846</td>\n",
       "      <td>157.483328</td>\n",
       "      <td>589.694572</td>\n",
       "      <td>-0.596821</td>\n",
       "      <td>9.526119</td>\n",
       "      <td>581.736048</td>\n",
       "      <td>315.050384</td>\n",
       "    </tr>\n",
       "    <tr>\n",
       "      <th>...</th>\n",
       "      <td>...</td>\n",
       "      <td>...</td>\n",
       "      <td>...</td>\n",
       "      <td>...</td>\n",
       "      <td>...</td>\n",
       "      <td>...</td>\n",
       "      <td>...</td>\n",
       "      <td>...</td>\n",
       "      <td>...</td>\n",
       "      <td>...</td>\n",
       "      <td>...</td>\n",
       "      <td>...</td>\n",
       "      <td>...</td>\n",
       "      <td>...</td>\n",
       "      <td>...</td>\n",
       "      <td>...</td>\n",
       "      <td>...</td>\n",
       "      <td>...</td>\n",
       "      <td>...</td>\n",
       "      <td>...</td>\n",
       "      <td>...</td>\n",
       "    </tr>\n",
       "    <tr>\n",
       "      <th>66</th>\n",
       "      <td>0.000000</td>\n",
       "      <td>0.000000</td>\n",
       "      <td>0.000000</td>\n",
       "      <td>0.000000</td>\n",
       "      <td>0.000000</td>\n",
       "      <td>0.000000</td>\n",
       "      <td>0.000000</td>\n",
       "      <td>0.000000</td>\n",
       "      <td>1023.000000</td>\n",
       "      <td>NaN</td>\n",
       "      <td>...</td>\n",
       "      <td>5</td>\n",
       "      <td>-38.400472</td>\n",
       "      <td>-5.285434</td>\n",
       "      <td>-3.910309</td>\n",
       "      <td>-29.253546</td>\n",
       "      <td>-119.107657</td>\n",
       "      <td>-2.807358</td>\n",
       "      <td>-43.385939</td>\n",
       "      <td>-73.036240</td>\n",
       "      <td>940.788516</td>\n",
       "    </tr>\n",
       "    <tr>\n",
       "      <th>67</th>\n",
       "      <td>0.000000</td>\n",
       "      <td>0.000000</td>\n",
       "      <td>0.000000</td>\n",
       "      <td>0.000000</td>\n",
       "      <td>0.000000</td>\n",
       "      <td>0.000000</td>\n",
       "      <td>0.000000</td>\n",
       "      <td>0.000000</td>\n",
       "      <td>1023.000000</td>\n",
       "      <td>NaN</td>\n",
       "      <td>...</td>\n",
       "      <td>5</td>\n",
       "      <td>-38.400472</td>\n",
       "      <td>-5.285434</td>\n",
       "      <td>-3.910309</td>\n",
       "      <td>-29.253546</td>\n",
       "      <td>-119.107657</td>\n",
       "      <td>-2.807358</td>\n",
       "      <td>-43.385939</td>\n",
       "      <td>-73.036240</td>\n",
       "      <td>940.788516</td>\n",
       "    </tr>\n",
       "    <tr>\n",
       "      <th>68</th>\n",
       "      <td>0.000000</td>\n",
       "      <td>0.000000</td>\n",
       "      <td>0.000000</td>\n",
       "      <td>0.000000</td>\n",
       "      <td>0.000000</td>\n",
       "      <td>0.000000</td>\n",
       "      <td>0.000000</td>\n",
       "      <td>0.000000</td>\n",
       "      <td>1023.000000</td>\n",
       "      <td>NaN</td>\n",
       "      <td>...</td>\n",
       "      <td>5</td>\n",
       "      <td>-38.400472</td>\n",
       "      <td>-5.285434</td>\n",
       "      <td>-3.910309</td>\n",
       "      <td>-29.253546</td>\n",
       "      <td>-119.107657</td>\n",
       "      <td>-2.807358</td>\n",
       "      <td>-43.385939</td>\n",
       "      <td>-73.036240</td>\n",
       "      <td>940.788516</td>\n",
       "    </tr>\n",
       "    <tr>\n",
       "      <th>69</th>\n",
       "      <td>0.000000</td>\n",
       "      <td>0.000000</td>\n",
       "      <td>0.000000</td>\n",
       "      <td>0.000000</td>\n",
       "      <td>0.000000</td>\n",
       "      <td>0.000000</td>\n",
       "      <td>0.000000</td>\n",
       "      <td>0.000000</td>\n",
       "      <td>1023.000000</td>\n",
       "      <td>NaN</td>\n",
       "      <td>...</td>\n",
       "      <td>5</td>\n",
       "      <td>-38.400472</td>\n",
       "      <td>-5.285434</td>\n",
       "      <td>-3.910309</td>\n",
       "      <td>-29.253546</td>\n",
       "      <td>-119.107657</td>\n",
       "      <td>-2.807358</td>\n",
       "      <td>-43.385939</td>\n",
       "      <td>-73.036240</td>\n",
       "      <td>940.788516</td>\n",
       "    </tr>\n",
       "    <tr>\n",
       "      <th>70</th>\n",
       "      <td>0.000000</td>\n",
       "      <td>0.000000</td>\n",
       "      <td>0.000000</td>\n",
       "      <td>0.000000</td>\n",
       "      <td>0.000000</td>\n",
       "      <td>0.000000</td>\n",
       "      <td>0.000000</td>\n",
       "      <td>0.000000</td>\n",
       "      <td>1023.000000</td>\n",
       "      <td>NaN</td>\n",
       "      <td>...</td>\n",
       "      <td>5</td>\n",
       "      <td>-38.400472</td>\n",
       "      <td>-5.285434</td>\n",
       "      <td>-3.910309</td>\n",
       "      <td>-29.253546</td>\n",
       "      <td>-119.107657</td>\n",
       "      <td>-2.807358</td>\n",
       "      <td>-43.385939</td>\n",
       "      <td>-73.036240</td>\n",
       "      <td>940.788516</td>\n",
       "    </tr>\n",
       "  </tbody>\n",
       "</table>\n",
       "<p>71 rows × 35 columns</p>\n",
       "</div>"
      ],
      "text/plain": [
       "    Tot Var [DN^2]  Col Var [DN^2]  Row Var [DN^2]  Pix Var [DN^2]  \\\n",
       "0        38.400472        5.285434        3.910309       29.253546   \n",
       "1       188.508662       12.606995       14.882967      161.287850   \n",
       "2       188.508662       12.606995       14.882967      161.287850   \n",
       "3       222.880363       17.834952       18.620155      186.736874   \n",
       "4       222.880363       17.834952       18.620155      186.736874   \n",
       "..             ...             ...             ...             ...   \n",
       "66        0.000000        0.000000        0.000000        0.000000   \n",
       "67        0.000000        0.000000        0.000000        0.000000   \n",
       "68        0.000000        0.000000        0.000000        0.000000   \n",
       "69        0.000000        0.000000        0.000000        0.000000   \n",
       "70        0.000000        0.000000        0.000000        0.000000   \n",
       "\n",
       "    Tot Temp Var [DN^2]  Col Temp Var [DN^2]  Row Temp Var [DN^2]  \\\n",
       "0            119.107657             2.807358            43.385939   \n",
       "1            605.799526             2.415980            47.770427   \n",
       "2            605.799526             2.415980            47.770427   \n",
       "3            708.802230             2.210537            52.912058   \n",
       "4            708.802230             2.210537            52.912058   \n",
       "..                  ...                  ...                  ...   \n",
       "66             0.000000             0.000000             0.000000   \n",
       "67             0.000000             0.000000             0.000000   \n",
       "68             0.000000             0.000000             0.000000   \n",
       "69             0.000000             0.000000             0.000000   \n",
       "70             0.000000             0.000000             0.000000   \n",
       "\n",
       "    Pix Temp Var [DN^2]  Mean Signal [DN]  CFPN Ratio  ...  amount  \\\n",
       "0             73.036240         82.211484    4.747112  ...      15   \n",
       "1            556.541850        345.413494    6.932002  ...       5   \n",
       "2            556.541850        345.413494    6.932002  ...       5   \n",
       "3            654.772288        397.261868    6.304150  ...       5   \n",
       "4            654.772288        397.261868    6.304150  ...       5   \n",
       "..                  ...               ...         ...  ...     ...   \n",
       "66             0.000000       1023.000000         NaN  ...       5   \n",
       "67             0.000000       1023.000000         NaN  ...       5   \n",
       "68             0.000000       1023.000000         NaN  ...       5   \n",
       "69             0.000000       1023.000000         NaN  ...       5   \n",
       "70             0.000000       1023.000000         NaN  ...       5   \n",
       "\n",
       "    Tot Var - Tot Dark Var [DN^2]  Col Var - Col Dark Var [DN^2]  \\\n",
       "0                        0.000000                       0.000000   \n",
       "1                      150.108190                       7.321561   \n",
       "2                      150.108190                       7.321561   \n",
       "3                      184.479891                      12.549518   \n",
       "4                      184.479891                      12.549518   \n",
       "..                            ...                            ...   \n",
       "66                     -38.400472                      -5.285434   \n",
       "67                     -38.400472                      -5.285434   \n",
       "68                     -38.400472                      -5.285434   \n",
       "69                     -38.400472                      -5.285434   \n",
       "70                     -38.400472                      -5.285434   \n",
       "\n",
       "    Row Var - Row Dark Var [DN^2]  Pix Var - Pix Dark Var [DN^2]  \\\n",
       "0                        0.000000                       0.000000   \n",
       "1                       10.972658                     132.034304   \n",
       "2                       10.972658                     132.034304   \n",
       "3                       14.709846                     157.483328   \n",
       "4                       14.709846                     157.483328   \n",
       "..                            ...                            ...   \n",
       "66                      -3.910309                     -29.253546   \n",
       "67                      -3.910309                     -29.253546   \n",
       "68                      -3.910309                     -29.253546   \n",
       "69                      -3.910309                     -29.253546   \n",
       "70                      -3.910309                     -29.253546   \n",
       "\n",
       "    Tot Temp Var - Tot Dark Temp Var [DN^2]  \\\n",
       "0                                  0.000000   \n",
       "1                                486.691869   \n",
       "2                                486.691869   \n",
       "3                                589.694572   \n",
       "4                                589.694572   \n",
       "..                                      ...   \n",
       "66                              -119.107657   \n",
       "67                              -119.107657   \n",
       "68                              -119.107657   \n",
       "69                              -119.107657   \n",
       "70                              -119.107657   \n",
       "\n",
       "    Col Temp Var - Col Dark Temp Var [DN^2]  \\\n",
       "0                                  0.000000   \n",
       "1                                 -0.391378   \n",
       "2                                 -0.391378   \n",
       "3                                 -0.596821   \n",
       "4                                 -0.596821   \n",
       "..                                      ...   \n",
       "66                                -2.807358   \n",
       "67                                -2.807358   \n",
       "68                                -2.807358   \n",
       "69                                -2.807358   \n",
       "70                                -2.807358   \n",
       "\n",
       "    Row Temp Var - Row Dark Temp Var [DN^2]  \\\n",
       "0                                  0.000000   \n",
       "1                                  4.384488   \n",
       "2                                  4.384488   \n",
       "3                                  9.526119   \n",
       "4                                  9.526119   \n",
       "..                                      ...   \n",
       "66                               -43.385939   \n",
       "67                               -43.385939   \n",
       "68                               -43.385939   \n",
       "69                               -43.385939   \n",
       "70                               -43.385939   \n",
       "\n",
       "   Pix Temp Var - Pix Dark Temp Var [DN^2]  Signal - Dark [DN]  \n",
       "0                                 0.000000            0.000000  \n",
       "1                               483.505610          263.202010  \n",
       "2                               483.505610          263.202010  \n",
       "3                               581.736048          315.050384  \n",
       "4                               581.736048          315.050384  \n",
       "..                                     ...                 ...  \n",
       "66                              -73.036240          940.788516  \n",
       "67                              -73.036240          940.788516  \n",
       "68                              -73.036240          940.788516  \n",
       "69                              -73.036240          940.788516  \n",
       "70                              -73.036240          940.788516  \n",
       "\n",
       "[71 rows x 35 columns]"
      ]
     },
     "execution_count": 19,
     "metadata": {},
     "output_type": "execute_result"
    }
   ],
   "source": [
    "stats_df"
   ]
  },
  {
   "cell_type": "code",
   "execution_count": 21,
   "id": "89539b63",
   "metadata": {},
   "outputs": [
    {
     "data": {
      "text/plain": [
       "array([[[1023., 1023., 1023., ..., 1023., 1023., 1023.],\n",
       "        [1023., 1023., 1023., ..., 1023., 1023., 1023.],\n",
       "        [1023., 1023., 1023., ..., 1023., 1023., 1023.],\n",
       "        ...,\n",
       "        [1023., 1023., 1023., ..., 1023., 1023., 1023.],\n",
       "        [1023., 1023., 1023., ..., 1023., 1023., 1023.],\n",
       "        [1023., 1023., 1023., ..., 1023., 1023., 1023.]],\n",
       "\n",
       "       [[1023., 1023., 1023., ..., 1023., 1023., 1023.],\n",
       "        [1023., 1023., 1023., ..., 1023., 1023., 1023.],\n",
       "        [1023., 1023., 1023., ..., 1023., 1023., 1023.],\n",
       "        ...,\n",
       "        [1023., 1023., 1023., ..., 1023., 1023., 1023.],\n",
       "        [1023., 1023., 1023., ..., 1023., 1023., 1023.],\n",
       "        [1023., 1023., 1023., ..., 1023., 1023., 1023.]],\n",
       "\n",
       "       [[1023., 1023., 1023., ..., 1023., 1023., 1023.],\n",
       "        [1023., 1023., 1023., ..., 1023., 1023., 1023.],\n",
       "        [1023., 1023., 1023., ..., 1023., 1023., 1023.],\n",
       "        ...,\n",
       "        [1023., 1023., 1023., ..., 1023., 1023., 1023.],\n",
       "        [1023., 1023., 1023., ..., 1023., 1023., 1023.],\n",
       "        [1023., 1023., 1023., ..., 1023., 1023., 1023.]],\n",
       "\n",
       "       [[1023., 1023., 1023., ..., 1023., 1023., 1023.],\n",
       "        [1023., 1023., 1023., ..., 1023., 1023., 1023.],\n",
       "        [1023., 1023., 1023., ..., 1023., 1023., 1023.],\n",
       "        ...,\n",
       "        [1023., 1023., 1023., ..., 1023., 1023., 1023.],\n",
       "        [1023., 1023., 1023., ..., 1023., 1023., 1023.],\n",
       "        [1023., 1023., 1023., ..., 1023., 1023., 1023.]],\n",
       "\n",
       "       [[1023., 1023., 1023., ..., 1023., 1023., 1023.],\n",
       "        [1023., 1023., 1023., ..., 1023., 1023., 1023.],\n",
       "        [1023., 1023., 1023., ..., 1023., 1023., 1023.],\n",
       "        ...,\n",
       "        [1023., 1023., 1023., ..., 1023., 1023., 1023.],\n",
       "        [1023., 1023., 1023., ..., 1023., 1023., 1023.],\n",
       "        [1023., 1023., 1023., ..., 1023., 1023., 1023.]]])"
      ]
     },
     "execution_count": 21,
     "metadata": {},
     "output_type": "execute_result"
    }
   ],
   "source": [
    "ptclist[69]"
   ]
  }
 ],
 "metadata": {
  "kernelspec": {
   "display_name": "Python 3 (ipykernel)",
   "language": "python",
   "name": "python3"
  },
  "language_info": {
   "codemirror_mode": {
    "name": "ipython",
    "version": 3
   },
   "file_extension": ".py",
   "mimetype": "text/x-python",
   "name": "python",
   "nbconvert_exporter": "python",
   "pygments_lexer": "ipython3",
   "version": "3.7.9"
  }
 },
 "nbformat": 4,
 "nbformat_minor": 5
}
